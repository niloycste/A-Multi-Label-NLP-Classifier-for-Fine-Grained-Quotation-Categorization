{
  "cells": [
    {
      "cell_type": "markdown",
      "metadata": {
        "id": "qoPBQWwII1vI"
      },
      "source": [
        "# Multilabel Classification"
      ]
    },
    {
      "cell_type": "markdown",
      "metadata": {
        "id": "RV9e7OVKI_LA"
      },
      "source": [
        "In multi-label classification, each sample can have multiple labels associated with it, as opposed to the traditional single-label classification where each sample can have only one label associated with it. <br/>\n",
        "\n",
        "This means that the output of a multi-label classifier is an array of probabilities, one for each label, indicating the probability of the input sample belonging to each label."
      ]
    },
    {
      "cell_type": "code",
      "execution_count": null,
      "metadata": {
        "colab": {
          "base_uri": "https://localhost:8080/"
        },
        "id": "t87nmBsAI2wD",
        "outputId": "a0082e72-9b38-4bd5-8dcc-c395441deb26"
      },
      "outputs": [
        {
          "name": "stdout",
          "output_type": "stream",
          "text": [
            "Tue Jan  9 12:59:17 2024       \n",
            "+---------------------------------------------------------------------------------------+\n",
            "| NVIDIA-SMI 535.104.05             Driver Version: 535.104.05   CUDA Version: 12.2     |\n",
            "|-----------------------------------------+----------------------+----------------------+\n",
            "| GPU  Name                 Persistence-M | Bus-Id        Disp.A | Volatile Uncorr. ECC |\n",
            "| Fan  Temp   Perf          Pwr:Usage/Cap |         Memory-Usage | GPU-Util  Compute M. |\n",
            "|                                         |                      |               MIG M. |\n",
            "|=========================================+======================+======================|\n",
            "|   0  Tesla T4                       Off | 00000000:00:04.0 Off |                    0 |\n",
            "| N/A   42C    P8               9W /  70W |      0MiB / 15360MiB |      0%      Default |\n",
            "|                                         |                      |                  N/A |\n",
            "+-----------------------------------------+----------------------+----------------------+\n",
            "                                                                                         \n",
            "+---------------------------------------------------------------------------------------+\n",
            "| Processes:                                                                            |\n",
            "|  GPU   GI   CI        PID   Type   Process name                            GPU Memory |\n",
            "|        ID   ID                                                             Usage      |\n",
            "|=======================================================================================|\n",
            "|  No running processes found                                                           |\n",
            "+---------------------------------------------------------------------------------------+\n"
          ]
        }
      ],
      "source": [
        "!nvidia-smi "
      ]
    },
    {
      "cell_type": "code",
      "execution_count": null,
      "metadata": {
        "colab": {
          "base_uri": "https://localhost:8080/"
        },
        "id": "csejLsACKjQ1",
        "outputId": "9c09fb68-8dea-4500-cf33-c59618aa72d7"
      },
      "outputs": [
        {
          "name": "stdout",
          "output_type": "stream",
          "text": [
            "Requirement already satisfied: torchaudio in /usr/local/lib/python3.10/dist-packages (2.1.0+cu121)\n",
            "Requirement already satisfied: torchdata in /usr/local/lib/python3.10/dist-packages (0.7.0)\n",
            "Requirement already satisfied: torchtext in /usr/local/lib/python3.10/dist-packages (0.16.0)\n",
            "Collecting torch==2.1.0 (from torchaudio)\n",
            "  Downloading torch-2.1.0-cp310-cp310-manylinux1_x86_64.whl (670.2 MB)\n",
            "\u001b[2K     \u001b[90m━━━━━━━━━━━━━━━━━━━━━━━━━━━━━━━━━━━━━━━━\u001b[0m \u001b[32m670.2/670.2 MB\u001b[0m \u001b[31m1.1 MB/s\u001b[0m eta \u001b[36m0:00:00\u001b[0m\n",
            "\u001b[?25hRequirement already satisfied: filelock in /usr/local/lib/python3.10/dist-packages (from torch==2.1.0->torchaudio) (3.13.1)\n",
            "Requirement already satisfied: typing-extensions in /usr/local/lib/python3.10/dist-packages (from torch==2.1.0->torchaudio) (4.5.0)\n",
            "Requirement already satisfied: sympy in /usr/local/lib/python3.10/dist-packages (from torch==2.1.0->torchaudio) (1.12)\n",
            "Requirement already satisfied: networkx in /usr/local/lib/python3.10/dist-packages (from torch==2.1.0->torchaudio) (3.2.1)\n",
            "Requirement already satisfied: jinja2 in /usr/local/lib/python3.10/dist-packages (from torch==2.1.0->torchaudio) (3.1.2)\n",
            "Requirement already satisfied: fsspec in /usr/local/lib/python3.10/dist-packages (from torch==2.1.0->torchaudio) (2023.6.0)\n",
            "Requirement already satisfied: nvidia-cuda-nvrtc-cu12==12.1.105 in /usr/local/lib/python3.10/dist-packages (from torch==2.1.0->torchaudio) (12.1.105)\n",
            "Requirement already satisfied: nvidia-cuda-runtime-cu12==12.1.105 in /usr/local/lib/python3.10/dist-packages (from torch==2.1.0->torchaudio) (12.1.105)\n",
            "Requirement already satisfied: nvidia-cuda-cupti-cu12==12.1.105 in /usr/local/lib/python3.10/dist-packages (from torch==2.1.0->torchaudio) (12.1.105)\n",
            "Requirement already satisfied: nvidia-cudnn-cu12==8.9.2.26 in /usr/local/lib/python3.10/dist-packages (from torch==2.1.0->torchaudio) (8.9.2.26)\n",
            "Requirement already satisfied: nvidia-cublas-cu12==12.1.3.1 in /usr/local/lib/python3.10/dist-packages (from torch==2.1.0->torchaudio) (12.1.3.1)\n",
            "Requirement already satisfied: nvidia-cufft-cu12==11.0.2.54 in /usr/local/lib/python3.10/dist-packages (from torch==2.1.0->torchaudio) (11.0.2.54)\n",
            "Requirement already satisfied: nvidia-curand-cu12==10.3.2.106 in /usr/local/lib/python3.10/dist-packages (from torch==2.1.0->torchaudio) (10.3.2.106)\n",
            "Requirement already satisfied: nvidia-cusolver-cu12==11.4.5.107 in /usr/local/lib/python3.10/dist-packages (from torch==2.1.0->torchaudio) (11.4.5.107)\n",
            "Requirement already satisfied: nvidia-cusparse-cu12==12.1.0.106 in /usr/local/lib/python3.10/dist-packages (from torch==2.1.0->torchaudio) (12.1.0.106)\n",
            "Requirement already satisfied: nvidia-nccl-cu12==2.18.1 in /usr/local/lib/python3.10/dist-packages (from torch==2.1.0->torchaudio) (2.18.1)\n",
            "Requirement already satisfied: nvidia-nvtx-cu12==12.1.105 in /usr/local/lib/python3.10/dist-packages (from torch==2.1.0->torchaudio) (12.1.105)\n",
            "Requirement already satisfied: triton==2.1.0 in /usr/local/lib/python3.10/dist-packages (from torch==2.1.0->torchaudio) (2.1.0)\n",
            "Requirement already satisfied: nvidia-nvjitlink-cu12 in /usr/local/lib/python3.10/dist-packages (from nvidia-cusolver-cu12==11.4.5.107->torch==2.1.0->torchaudio) (12.3.101)\n",
            "Requirement already satisfied: urllib3>=1.25 in /usr/local/lib/python3.10/dist-packages (from torchdata) (2.0.7)\n",
            "Requirement already satisfied: requests in /usr/local/lib/python3.10/dist-packages (from torchdata) (2.31.0)\n",
            "Requirement already satisfied: tqdm in /usr/local/lib/python3.10/dist-packages (from torchtext) (4.66.1)\n",
            "Requirement already satisfied: numpy in /usr/local/lib/python3.10/dist-packages (from torchtext) (1.23.5)\n",
            "Requirement already satisfied: charset-normalizer<4,>=2 in /usr/local/lib/python3.10/dist-packages (from requests->torchdata) (3.3.2)\n",
            "Requirement already satisfied: idna<4,>=2.5 in /usr/local/lib/python3.10/dist-packages (from requests->torchdata) (3.6)\n",
            "Requirement already satisfied: certifi>=2017.4.17 in /usr/local/lib/python3.10/dist-packages (from requests->torchdata) (2023.11.17)\n",
            "Requirement already satisfied: MarkupSafe>=2.0 in /usr/local/lib/python3.10/dist-packages (from jinja2->torch==2.1.0->torchaudio) (2.1.3)\n",
            "Requirement already satisfied: mpmath>=0.19 in /usr/local/lib/python3.10/dist-packages (from sympy->torch==2.1.0->torchaudio) (1.3.0)\n",
            "Installing collected packages: torch\n",
            "  Attempting uninstall: torch\n",
            "    Found existing installation: torch 2.1.2\n",
            "    Uninstalling torch-2.1.2:\n",
            "      Successfully uninstalled torch-2.1.2\n",
            "Successfully installed torch-2.1.0\n"
          ]
        }
      ],
      "source": [
        "!pip install torchaudio torchdata torchtext\n"
      ]
    },
    {
      "cell_type": "code",
      "execution_count": null,
      "metadata": {
        "id": "pTxoNh5HJLmZ"
      },
      "outputs": [],
      "source": [
        "%reload_ext autoreload\n",
        "%autoreload 2\n",
        "%matplotlib inline"
      ]
    },
    {
      "cell_type": "code",
      "execution_count": null,
      "metadata": {
        "colab": {
          "base_uri": "https://localhost:8080/"
        },
        "id": "DKwyb0JEJZy3",
        "outputId": "5c702810-c3f4-41c6-f6ac-1f687c87b984"
      },
      "outputs": [
        {
          "name": "stdout",
          "output_type": "stream",
          "text": [
            "\u001b[2K     \u001b[90m━━━━━━━━━━━━━━━━━━━━━━━━━━━━━━━━━━━━━━━━\u001b[0m \u001b[32m719.8/719.8 kB\u001b[0m \u001b[31m4.7 MB/s\u001b[0m eta \u001b[36m0:00:00\u001b[0m\n",
            "\u001b[2K     \u001b[90m━━━━━━━━━━━━━━━━━━━━━━━━━━━━━━━━━━━━━━━━\u001b[0m \u001b[32m81.1/81.1 kB\u001b[0m \u001b[31m10.4 MB/s\u001b[0m eta \u001b[36m0:00:00\u001b[0m\n",
            "\u001b[2K     \u001b[90m━━━━━━━━━━━━━━━━━━━━━━━━━━━━━━━━━━━━━━━━\u001b[0m \u001b[32m66.1/66.1 kB\u001b[0m \u001b[31m9.3 MB/s\u001b[0m eta \u001b[36m0:00:00\u001b[0m\n",
            "\u001b[2K     \u001b[90m━━━━━━━━━━━━━━━━━━━━━━━━━━━━━━━━━━━━━━━━\u001b[0m \u001b[32m1.3/1.3 MB\u001b[0m \u001b[31m26.3 MB/s\u001b[0m eta \u001b[36m0:00:00\u001b[0m\n",
            "\u001b[2K     \u001b[90m━━━━━━━━━━━━━━━━━━━━━━━━━━━━━━━━━━━━━━━━\u001b[0m \u001b[32m507.1/507.1 kB\u001b[0m \u001b[31m48.4 MB/s\u001b[0m eta \u001b[36m0:00:00\u001b[0m\n",
            "\u001b[2K     \u001b[90m━━━━━━━━━━━━━━━━━━━━━━━━━━━━━━━━━━━━━━━━\u001b[0m \u001b[32m887.5/887.5 MB\u001b[0m \u001b[31m1.5 MB/s\u001b[0m eta \u001b[36m0:00:00\u001b[0m\n",
            "\u001b[2K     \u001b[90m━━━━━━━━━━━━━━━━━━━━━━━━━━━━━━━━━━━━━━━━\u001b[0m \u001b[32m43.6/43.6 kB\u001b[0m \u001b[31m6.0 MB/s\u001b[0m eta \u001b[36m0:00:00\u001b[0m\n",
            "\u001b[?25h  Preparing metadata (setup.py) ... \u001b[?25l\u001b[?25hdone\n",
            "  Preparing metadata (setup.py) ... \u001b[?25l\u001b[?25hdone\n",
            "\u001b[2K     \u001b[90m━━━━━━━━━━━━━━━━━━━━━━━━━━━━━━━━━━━━━━━━\u001b[0m \u001b[32m58.7/58.7 kB\u001b[0m \u001b[31m7.7 MB/s\u001b[0m eta \u001b[36m0:00:00\u001b[0m\n",
            "\u001b[2K     \u001b[90m━━━━━━━━━━━━━━━━━━━━━━━━━━━━━━━━━━━━━━━━\u001b[0m \u001b[32m82.1/82.1 kB\u001b[0m \u001b[31m12.5 MB/s\u001b[0m eta \u001b[36m0:00:00\u001b[0m\n",
            "\u001b[2K     \u001b[90m━━━━━━━━━━━━━━━━━━━━━━━━━━━━━━━━━━━━━━━━\u001b[0m \u001b[32m849.3/849.3 kB\u001b[0m \u001b[31m33.7 MB/s\u001b[0m eta \u001b[36m0:00:00\u001b[0m\n",
            "\u001b[2K     \u001b[90m━━━━━━━━━━━━━━━━━━━━━━━━━━━━━━━━━━━━━━━━\u001b[0m \u001b[32m557.1/557.1 MB\u001b[0m \u001b[31m2.6 MB/s\u001b[0m eta \u001b[36m0:00:00\u001b[0m\n",
            "\u001b[2K     \u001b[90m━━━━━━━━━━━━━━━━━━━━━━━━━━━━━━━━━━━━━━━━\u001b[0m \u001b[32m317.1/317.1 MB\u001b[0m \u001b[31m3.2 MB/s\u001b[0m eta \u001b[36m0:00:00\u001b[0m\n",
            "\u001b[2K     \u001b[90m━━━━━━━━━━━━━━━━━━━━━━━━━━━━━━━━━━━━━━━━\u001b[0m \u001b[32m21.0/21.0 MB\u001b[0m \u001b[31m14.9 MB/s\u001b[0m eta \u001b[36m0:00:00\u001b[0m\n",
            "\u001b[2K     \u001b[90m━━━━━━━━━━━━━━━━━━━━━━━━━━━━━━━━━━━━━━━━\u001b[0m \u001b[32m6.8/6.8 MB\u001b[0m \u001b[31m16.3 MB/s\u001b[0m eta \u001b[36m0:00:00\u001b[0m\n",
            "\u001b[2K     \u001b[90m━━━━━━━━━━━━━━━━━━━━━━━━━━━━━━━━━━━━━━━━\u001b[0m \u001b[32m6.8/6.8 MB\u001b[0m \u001b[31m16.6 MB/s\u001b[0m eta \u001b[36m0:00:00\u001b[0m\n",
            "\u001b[2K     \u001b[90m━━━━━━━━━━━━━━━━━━━━━━━━━━━━━━━━━━━━━━━━\u001b[0m \u001b[32m6.9/6.9 MB\u001b[0m \u001b[31m16.9 MB/s\u001b[0m eta \u001b[36m0:00:00\u001b[0m\n",
            "\u001b[2K     \u001b[90m━━━━━━━━━━━━━━━━━━━━━━━━━━━━━━━━━━━━━━━━\u001b[0m \u001b[32m6.0/6.0 MB\u001b[0m \u001b[31m17.1 MB/s\u001b[0m eta \u001b[36m0:00:00\u001b[0m\n",
            "\u001b[2K     \u001b[90m━━━━━━━━━━━━━━━━━━━━━━━━━━━━━━━━━━━━━━━━\u001b[0m \u001b[32m6.0/6.0 MB\u001b[0m \u001b[31m17.2 MB/s\u001b[0m eta \u001b[36m0:00:00\u001b[0m\n",
            "\u001b[2K     \u001b[90m━━━━━━━━━━━━━━━━━━━━━━━━━━━━━━━━━━━━━━━━\u001b[0m \u001b[32m24.2/24.2 MB\u001b[0m \u001b[31m8.4 MB/s\u001b[0m eta \u001b[36m0:00:00\u001b[0m\n",
            "\u001b[2K     \u001b[90m━━━━━━━━━━━━━━━━━━━━━━━━━━━━━━━━━━━━━━━━\u001b[0m \u001b[32m115.3/115.3 kB\u001b[0m \u001b[31m16.2 MB/s\u001b[0m eta \u001b[36m0:00:00\u001b[0m\n",
            "\u001b[2K     \u001b[90m━━━━━━━━━━━━━━━━━━━━━━━━━━━━━━━━━━━━━━━━\u001b[0m \u001b[32m134.8/134.8 kB\u001b[0m \u001b[31m14.1 MB/s\u001b[0m eta \u001b[36m0:00:00\u001b[0m\n",
            "\u001b[2K     \u001b[90m━━━━━━━━━━━━━━━━━━━━━━━━━━━━━━━━━━━━━━━━\u001b[0m \u001b[32m1.6/1.6 MB\u001b[0m \u001b[31m18.3 MB/s\u001b[0m eta \u001b[36m0:00:00\u001b[0m\n",
            "\u001b[?25h  Building wheel for rouge-score (setup.py) ... \u001b[?25l\u001b[?25hdone\n",
            "  Building wheel for seqeval (setup.py) ... \u001b[?25l\u001b[?25hdone\n",
            "\u001b[31mERROR: pip's dependency resolver does not currently take into account all the packages that are installed. This behaviour is the source of the following dependency conflicts.\n",
            "torchaudio 2.1.0+cu121 requires torch==2.1.0, but you have torch 1.13.1 which is incompatible.\n",
            "torchdata 0.7.0 requires torch==2.1.0, but you have torch 1.13.1 which is incompatible.\n",
            "torchtext 0.16.0 requires torch==2.1.0, but you have torch 1.13.1 which is incompatible.\u001b[0m\u001b[31m\n",
            "\u001b[0m"
          ]
        }
      ],
      "source": [
        "! pip install -q transformers[sentencepiece] fastbook fastai ohmeow-blurr nbdev"
      ]
    },
    {
      "cell_type": "code",
      "execution_count": null,
      "metadata": {
        "colab": {
          "base_uri": "https://localhost:8080/",
          "height": 205,
          "referenced_widgets": [
            "d4585cd2497a4e988e934f03e8621f9e",
            "4e8d5fa9dbb74b05bd839819bdd2874c",
            "d78d8c87474e4573a38eeb8b4ee1a8b2",
            "20898f1a83714dd8923bba61e64a5b7d",
            "e41447c0c51f46ea8dc9288af51e1b04",
            "4b7617be9c1044de9e62af2ead7a35ef",
            "51333f1af6444cf99c45e1ef53843dd3",
            "13dee956d83f49c18ab40cf4f62dfeb5",
            "7960c59c144045af8936f6ad59375d41",
            "9086e397095243a2aef4f373fd3f48a6",
            "a2c3216c14094d41ba17be47bf22159e",
            "326790f1ced044bfb7f0998759f4283e",
            "38fd443b257a443aa7a458bc6834231b",
            "45da02f1b5f14c5f82295733f89b7edd",
            "7acedfc8d53e4066b512a960996a0c52",
            "a5a449fab3dd4027ada6449e10203cf7",
            "6d69eee9ae764683a64af1a7c9c3b359",
            "17b9191bee4645749d17791140f8cccc",
            "7e4639e77b5c4ad898629c70fbde87d2",
            "72c73ea9b3a743e280db2dc3ca6847f6",
            "ec50b4c2371c4e9097b417f313c352de",
            "1ad10e20059a4a29b81189c4608871c8"
          ]
        },
        "id": "IowXK_9lJejj",
        "outputId": "56298146-31ed-4c8b-8005-db13b05aaf87"
      },
      "outputs": [
        {
          "name": "stderr",
          "output_type": "stream",
          "text": [
            "/usr/local/lib/python3.10/dist-packages/blurr/text/modeling/question_answering.py:31: FutureWarning: load_metric is deprecated and will be removed in the next major version of datasets. Use 'evaluate.load' instead, from the new library 🤗 Evaluate: https://huggingface.co/docs/evaluate\n",
            "  squad_metric = load_metric(\"squad\")\n",
            "/usr/local/lib/python3.10/dist-packages/datasets/load.py:752: FutureWarning: The repository for squad contains custom code which must be executed to correctly load the metric. You can inspect the repository content at https://raw.githubusercontent.com/huggingface/datasets/2.16.1/metrics/squad/squad.py\n",
            "You can avoid this message in future by passing the argument `trust_remote_code=True`.\n",
            "Passing `trust_remote_code=True` will be mandatory to load this metric from the next major release of `datasets`.\n",
            "  warnings.warn(\n"
          ]
        },
        {
          "data": {
            "application/vnd.jupyter.widget-view+json": {
              "model_id": "d4585cd2497a4e988e934f03e8621f9e",
              "version_major": 2,
              "version_minor": 0
            },
            "text/plain": [
              "Downloading builder script:   0%|          | 0.00/1.72k [00:00<?, ?B/s]"
            ]
          },
          "metadata": {},
          "output_type": "display_data"
        },
        {
          "data": {
            "application/vnd.jupyter.widget-view+json": {
              "model_id": "326790f1ced044bfb7f0998759f4283e",
              "version_major": 2,
              "version_minor": 0
            },
            "text/plain": [
              "Downloading extra modules:   0%|          | 0.00/1.11k [00:00<?, ?B/s]"
            ]
          },
          "metadata": {},
          "output_type": "display_data"
        }
      ],
      "source": [
        "import torch\n",
        "from transformers import AutoModelForSequenceClassification, AutoConfig\n",
        "from fastai.text.all import *\n",
        "from blurr.text.data.all import *\n",
        "from blurr.text.modeling.all import *"
      ]
    },
    {
      "cell_type": "code",
      "execution_count": null,
      "metadata": {
        "colab": {
          "base_uri": "https://localhost:8080/"
        },
        "id": "fOSxqtldN9dL",
        "outputId": "3eceaa84-8633-4a3e-9114-b6887091dc42"
      },
      "outputs": [
        {
          "name": "stdout",
          "output_type": "stream",
          "text": [
            "Mounted at /content/drive\n"
          ]
        }
      ],
      "source": [
        "from google.colab import drive\n",
        "drive.mount('/content/drive')"
      ]
    },
    {
      "cell_type": "code",
      "execution_count": null,
      "metadata": {
        "colab": {
          "base_uri": "https://localhost:8080/"
        },
        "id": "ME1-QrtLOC8r",
        "outputId": "bed41334-1536-4c57-cbf0-0b406f14eaeb"
      },
      "outputs": [
        {
          "name": "stdout",
          "output_type": "stream",
          "text": [
            "/content/drive/MyDrive/NLP Project-Quotes\n"
          ]
        }
      ],
      "source": [
        "%cd /content/drive/MyDrive/NLP Project-Quotes"
      ]
    },
    {
      "cell_type": "code",
      "execution_count": null,
      "metadata": {
        "colab": {
          "base_uri": "https://localhost:8080/",
          "height": 258
        },
        "id": "t8TUSvlfOPtL",
        "outputId": "bac2a088-e1ac-46de-a02b-56875b60cfbb"
      },
      "outputs": [
        {
          "data": {
            "text/html": [
              "\n",
              "  <div id=\"df-b5340110-0a45-4ea5-a7f7-99358efbb1b5\" class=\"colab-df-container\">\n",
              "    <div>\n",
              "<style scoped>\n",
              "    .dataframe tbody tr th:only-of-type {\n",
              "        vertical-align: middle;\n",
              "    }\n",
              "\n",
              "    .dataframe tbody tr th {\n",
              "        vertical-align: top;\n",
              "    }\n",
              "\n",
              "    .dataframe thead th {\n",
              "        text-align: right;\n",
              "    }\n",
              "</style>\n",
              "<table border=\"1\" class=\"dataframe\">\n",
              "  <thead>\n",
              "    <tr style=\"text-align: right;\">\n",
              "      <th></th>\n",
              "      <th>author</th>\n",
              "      <th>quotes</th>\n",
              "      <th>tags</th>\n",
              "    </tr>\n",
              "  </thead>\n",
              "  <tbody>\n",
              "    <tr>\n",
              "      <th>0</th>\n",
              "      <td>Marilyn Monroe</td>\n",
              "      <td>I'm selfish, impatient and a little insecure. I make mistakes, I am out of control and at times hard to handle. But if you can't handle me at my worst, then you sure as hell don't deserve me at my best.</td>\n",
              "      <td>['attributed-no-source', 'best', 'life', 'love', 'misattributed-marilyn-monroe', 'mistakes', 'out-of-control', 'truth', 'worst']</td>\n",
              "    </tr>\n",
              "    <tr>\n",
              "      <th>1</th>\n",
              "      <td>William W. Purkey</td>\n",
              "      <td>You've gotta dance like there's nobody watching,\\nLove like you'll never be hurt,\\nSing like there's nobody listening,\\nAnd live like it's heaven on earth.</td>\n",
              "      <td>['dance', 'heaven', 'hurt', 'inspirational', 'life', 'love', 'sing']</td>\n",
              "    </tr>\n",
              "    <tr>\n",
              "      <th>2</th>\n",
              "      <td>Dr. Seuss</td>\n",
              "      <td>You know you're in love when you can't fall asleep because reality is finally better than your dreams.</td>\n",
              "      <td>['attributed-no-source', 'dreams', 'love', 'reality', 'sleep']</td>\n",
              "    </tr>\n",
              "    <tr>\n",
              "      <th>3</th>\n",
              "      <td>Elbert Hubbard</td>\n",
              "      <td>A friend is someone who knows all about you and still loves you.</td>\n",
              "      <td>['friend', 'friendship', 'knowledge', 'love']</td>\n",
              "    </tr>\n",
              "    <tr>\n",
              "      <th>4</th>\n",
              "      <td>Martin Luther King Jr.</td>\n",
              "      <td>Darkness cannot drive out darkness: only light can do that. Hate cannot drive out hate: only love can do that.</td>\n",
              "      <td>['darkness', 'drive-out', 'hate', 'inspirational', 'light', 'love', 'peace']</td>\n",
              "    </tr>\n",
              "  </tbody>\n",
              "</table>\n",
              "</div>\n",
              "    <div class=\"colab-df-buttons\">\n",
              "\n",
              "  <div class=\"colab-df-container\">\n",
              "    <button class=\"colab-df-convert\" onclick=\"convertToInteractive('df-b5340110-0a45-4ea5-a7f7-99358efbb1b5')\"\n",
              "            title=\"Convert this dataframe to an interactive table.\"\n",
              "            style=\"display:none;\">\n",
              "\n",
              "  <svg xmlns=\"http://www.w3.org/2000/svg\" height=\"24px\" viewBox=\"0 -960 960 960\">\n",
              "    <path d=\"M120-120v-720h720v720H120Zm60-500h600v-160H180v160Zm220 220h160v-160H400v160Zm0 220h160v-160H400v160ZM180-400h160v-160H180v160Zm440 0h160v-160H620v160ZM180-180h160v-160H180v160Zm440 0h160v-160H620v160Z\"/>\n",
              "  </svg>\n",
              "    </button>\n",
              "\n",
              "  <style>\n",
              "    .colab-df-container {\n",
              "      display:flex;\n",
              "      gap: 12px;\n",
              "    }\n",
              "\n",
              "    .colab-df-convert {\n",
              "      background-color: #E8F0FE;\n",
              "      border: none;\n",
              "      border-radius: 50%;\n",
              "      cursor: pointer;\n",
              "      display: none;\n",
              "      fill: #1967D2;\n",
              "      height: 32px;\n",
              "      padding: 0 0 0 0;\n",
              "      width: 32px;\n",
              "    }\n",
              "\n",
              "    .colab-df-convert:hover {\n",
              "      background-color: #E2EBFA;\n",
              "      box-shadow: 0px 1px 2px rgba(60, 64, 67, 0.3), 0px 1px 3px 1px rgba(60, 64, 67, 0.15);\n",
              "      fill: #174EA6;\n",
              "    }\n",
              "\n",
              "    .colab-df-buttons div {\n",
              "      margin-bottom: 4px;\n",
              "    }\n",
              "\n",
              "    [theme=dark] .colab-df-convert {\n",
              "      background-color: #3B4455;\n",
              "      fill: #D2E3FC;\n",
              "    }\n",
              "\n",
              "    [theme=dark] .colab-df-convert:hover {\n",
              "      background-color: #434B5C;\n",
              "      box-shadow: 0px 1px 3px 1px rgba(0, 0, 0, 0.15);\n",
              "      filter: drop-shadow(0px 1px 2px rgba(0, 0, 0, 0.3));\n",
              "      fill: #FFFFFF;\n",
              "    }\n",
              "  </style>\n",
              "\n",
              "    <script>\n",
              "      const buttonEl =\n",
              "        document.querySelector('#df-b5340110-0a45-4ea5-a7f7-99358efbb1b5 button.colab-df-convert');\n",
              "      buttonEl.style.display =\n",
              "        google.colab.kernel.accessAllowed ? 'block' : 'none';\n",
              "\n",
              "      async function convertToInteractive(key) {\n",
              "        const element = document.querySelector('#df-b5340110-0a45-4ea5-a7f7-99358efbb1b5');\n",
              "        const dataTable =\n",
              "          await google.colab.kernel.invokeFunction('convertToInteractive',\n",
              "                                                    [key], {});\n",
              "        if (!dataTable) return;\n",
              "\n",
              "        const docLinkHtml = 'Like what you see? Visit the ' +\n",
              "          '<a target=\"_blank\" href=https://colab.research.google.com/notebooks/data_table.ipynb>data table notebook</a>'\n",
              "          + ' to learn more about interactive tables.';\n",
              "        element.innerHTML = '';\n",
              "        dataTable['output_type'] = 'display_data';\n",
              "        await google.colab.output.renderOutput(dataTable, element);\n",
              "        const docLink = document.createElement('div');\n",
              "        docLink.innerHTML = docLinkHtml;\n",
              "        element.appendChild(docLink);\n",
              "      }\n",
              "    </script>\n",
              "  </div>\n",
              "\n",
              "\n",
              "<div id=\"df-e2548d4a-2e5f-4808-a0e1-bf62a93a3b71\">\n",
              "  <button class=\"colab-df-quickchart\" onclick=\"quickchart('df-e2548d4a-2e5f-4808-a0e1-bf62a93a3b71')\"\n",
              "            title=\"Suggest charts\"\n",
              "            style=\"display:none;\">\n",
              "\n",
              "<svg xmlns=\"http://www.w3.org/2000/svg\" height=\"24px\"viewBox=\"0 0 24 24\"\n",
              "     width=\"24px\">\n",
              "    <g>\n",
              "        <path d=\"M19 3H5c-1.1 0-2 .9-2 2v14c0 1.1.9 2 2 2h14c1.1 0 2-.9 2-2V5c0-1.1-.9-2-2-2zM9 17H7v-7h2v7zm4 0h-2V7h2v10zm4 0h-2v-4h2v4z\"/>\n",
              "    </g>\n",
              "</svg>\n",
              "  </button>\n",
              "\n",
              "<style>\n",
              "  .colab-df-quickchart {\n",
              "      --bg-color: #E8F0FE;\n",
              "      --fill-color: #1967D2;\n",
              "      --hover-bg-color: #E2EBFA;\n",
              "      --hover-fill-color: #174EA6;\n",
              "      --disabled-fill-color: #AAA;\n",
              "      --disabled-bg-color: #DDD;\n",
              "  }\n",
              "\n",
              "  [theme=dark] .colab-df-quickchart {\n",
              "      --bg-color: #3B4455;\n",
              "      --fill-color: #D2E3FC;\n",
              "      --hover-bg-color: #434B5C;\n",
              "      --hover-fill-color: #FFFFFF;\n",
              "      --disabled-bg-color: #3B4455;\n",
              "      --disabled-fill-color: #666;\n",
              "  }\n",
              "\n",
              "  .colab-df-quickchart {\n",
              "    background-color: var(--bg-color);\n",
              "    border: none;\n",
              "    border-radius: 50%;\n",
              "    cursor: pointer;\n",
              "    display: none;\n",
              "    fill: var(--fill-color);\n",
              "    height: 32px;\n",
              "    padding: 0;\n",
              "    width: 32px;\n",
              "  }\n",
              "\n",
              "  .colab-df-quickchart:hover {\n",
              "    background-color: var(--hover-bg-color);\n",
              "    box-shadow: 0 1px 2px rgba(60, 64, 67, 0.3), 0 1px 3px 1px rgba(60, 64, 67, 0.15);\n",
              "    fill: var(--button-hover-fill-color);\n",
              "  }\n",
              "\n",
              "  .colab-df-quickchart-complete:disabled,\n",
              "  .colab-df-quickchart-complete:disabled:hover {\n",
              "    background-color: var(--disabled-bg-color);\n",
              "    fill: var(--disabled-fill-color);\n",
              "    box-shadow: none;\n",
              "  }\n",
              "\n",
              "  .colab-df-spinner {\n",
              "    border: 2px solid var(--fill-color);\n",
              "    border-color: transparent;\n",
              "    border-bottom-color: var(--fill-color);\n",
              "    animation:\n",
              "      spin 1s steps(1) infinite;\n",
              "  }\n",
              "\n",
              "  @keyframes spin {\n",
              "    0% {\n",
              "      border-color: transparent;\n",
              "      border-bottom-color: var(--fill-color);\n",
              "      border-left-color: var(--fill-color);\n",
              "    }\n",
              "    20% {\n",
              "      border-color: transparent;\n",
              "      border-left-color: var(--fill-color);\n",
              "      border-top-color: var(--fill-color);\n",
              "    }\n",
              "    30% {\n",
              "      border-color: transparent;\n",
              "      border-left-color: var(--fill-color);\n",
              "      border-top-color: var(--fill-color);\n",
              "      border-right-color: var(--fill-color);\n",
              "    }\n",
              "    40% {\n",
              "      border-color: transparent;\n",
              "      border-right-color: var(--fill-color);\n",
              "      border-top-color: var(--fill-color);\n",
              "    }\n",
              "    60% {\n",
              "      border-color: transparent;\n",
              "      border-right-color: var(--fill-color);\n",
              "    }\n",
              "    80% {\n",
              "      border-color: transparent;\n",
              "      border-right-color: var(--fill-color);\n",
              "      border-bottom-color: var(--fill-color);\n",
              "    }\n",
              "    90% {\n",
              "      border-color: transparent;\n",
              "      border-bottom-color: var(--fill-color);\n",
              "    }\n",
              "  }\n",
              "</style>\n",
              "\n",
              "  <script>\n",
              "    async function quickchart(key) {\n",
              "      const quickchartButtonEl =\n",
              "        document.querySelector('#' + key + ' button');\n",
              "      quickchartButtonEl.disabled = true;  // To prevent multiple clicks.\n",
              "      quickchartButtonEl.classList.add('colab-df-spinner');\n",
              "      try {\n",
              "        const charts = await google.colab.kernel.invokeFunction(\n",
              "            'suggestCharts', [key], {});\n",
              "      } catch (error) {\n",
              "        console.error('Error during call to suggestCharts:', error);\n",
              "      }\n",
              "      quickchartButtonEl.classList.remove('colab-df-spinner');\n",
              "      quickchartButtonEl.classList.add('colab-df-quickchart-complete');\n",
              "    }\n",
              "    (() => {\n",
              "      let quickchartButtonEl =\n",
              "        document.querySelector('#df-e2548d4a-2e5f-4808-a0e1-bf62a93a3b71 button');\n",
              "      quickchartButtonEl.style.display =\n",
              "        google.colab.kernel.accessAllowed ? 'block' : 'none';\n",
              "    })();\n",
              "  </script>\n",
              "</div>\n",
              "\n",
              "    </div>\n",
              "  </div>\n"
            ],
            "text/plain": [
              "                   author  \\\n",
              "0          Marilyn Monroe   \n",
              "1       William W. Purkey   \n",
              "2               Dr. Seuss   \n",
              "3          Elbert Hubbard   \n",
              "4  Martin Luther King Jr.   \n",
              "\n",
              "                                                                                                                                                                                                       quotes  \\\n",
              "0  I'm selfish, impatient and a little insecure. I make mistakes, I am out of control and at times hard to handle. But if you can't handle me at my worst, then you sure as hell don't deserve me at my best.   \n",
              "1                                                 You've gotta dance like there's nobody watching,\\nLove like you'll never be hurt,\\nSing like there's nobody listening,\\nAnd live like it's heaven on earth.   \n",
              "2                                                                                                      You know you're in love when you can't fall asleep because reality is finally better than your dreams.   \n",
              "3                                                                                                                                            A friend is someone who knows all about you and still loves you.   \n",
              "4                                                                                              Darkness cannot drive out darkness: only light can do that. Hate cannot drive out hate: only love can do that.   \n",
              "\n",
              "                                                                                                                               tags  \n",
              "0  ['attributed-no-source', 'best', 'life', 'love', 'misattributed-marilyn-monroe', 'mistakes', 'out-of-control', 'truth', 'worst']  \n",
              "1                                                              ['dance', 'heaven', 'hurt', 'inspirational', 'life', 'love', 'sing']  \n",
              "2                                                                    ['attributed-no-source', 'dreams', 'love', 'reality', 'sleep']  \n",
              "3                                                                                     ['friend', 'friendship', 'knowledge', 'love']  \n",
              "4                                                      ['darkness', 'drive-out', 'hate', 'inspirational', 'light', 'love', 'peace']  "
            ]
          },
          "execution_count": 9,
          "metadata": {},
          "output_type": "execute_result"
        }
      ],
      "source": [
        "import pandas as pd\n",
        "\n",
        "df = pd.read_csv(\"dataquotes.csv\")\n",
        "df.head(5)"
      ]
    },
    {
      "cell_type": "code",
      "execution_count": null,
      "metadata": {
        "colab": {
          "base_uri": "https://localhost:8080/"
        },
        "id": "wWh1PW2QX_8g",
        "outputId": "2ec118db-6012-477e-99ff-2d38c4a78adb"
      },
      "outputs": [
        {
          "data": {
            "text/plain": [
              "(38607, 3)"
            ]
          },
          "execution_count": 10,
          "metadata": {},
          "output_type": "execute_result"
        }
      ],
      "source": [
        "df = df.dropna().reset_index(drop=True)\n",
        "df.shape"
      ]
    },
    {
      "cell_type": "code",
      "execution_count": null,
      "metadata": {
        "colab": {
          "base_uri": "https://localhost:8080/"
        },
        "id": "dC9nf-AAYKdP",
        "outputId": "dec3b605-61b1-4692-fad8-a4dc7230357c"
      },
      "outputs": [
        {
          "name": "stdout",
          "output_type": "stream",
          "text": [
            "Number of tag: 23415\n",
            "{'attributed-no-source': 315, 'best': 19, 'life': 8250, 'love': 6362, 'misattributed-marilyn-monroe': 3, 'mistakes': 111, 'out-of-control': 4, 'truth': 4562, 'worst': 9, 'dance': 64, 'heaven': 111, 'hurt': 129, 'inspirational': 7077, 'sing': 11, 'dreams': 574, 'reality': 389, 'sleep': 63, 'friend': 39, 'friendship': 433, 'knowledge': 773, 'darkness': 109, 'drive-out': 2, 'hate': 138, 'light': 284, 'peace': 540, 'lack-of-friendship': 1, 'lack-of-love': 2, 'marriage': 233, 'unhappy-marriage': 4, 'activism': 71, 'apathy': 20, 'indifference': 11, 'opposite': 8, 'philosophy': 4349, 'poetry': 3643, 'do-wrong': 1, 'trust': 284, 'wrong': 39, 'courage': 468, 'deeply-loved': 1, 'strength': 361, 'widely-misattributed': 7, 'friends': 173, 'heartbreak': 178, 'sisters': 19, 'essential': 8, 'happiness': 3931, 'katniss': 9, 'peeta': 7, 'suzanne-collins': 2, 'the-hunger-games': 5, 'doomed': 1, 'inevitable': 6, 'oblivion': 3, 'pleasure': 67, 'simple': 24, 'simile': 18, 'imperfect': 8, 'death': 834, 'girls': 71, 'weirdness': 9, 'desire': 235, 'emotion': 110, 'honesty': 291, 'imagination': 185, 'individuality': 111, 'passion': 398, 'relationships': 768, 'romance': 636, 'wisdom': 4273, 'wise-words': 77, 'dumbledore': 14, 'snape': 6, 'dying': 46, 'facts': 76, 'fame': 67, 'knowing': 37, 'poverty': 39, 'school': 59, 'teach': 16, 'wealth': 111, 'humor': 3946, 'romantic': 72, 'women': 281, 'adventure': 184, 'paraphrase-of-congreve': 1, 'hope': 4007, 'inspiration': 1641, 'santiago': 2, 'mr-darcy': 6, 'despair': 140, 'evil': 119, 'goodness': 124, 'sadness': 253, 'victory': 74, 'ordinary': 15, 'people': 338, 'bible': 105, 'boys': 21, 'lies': 276, 'respect': 217, 'self-deception': 15, 'pride': 150, 'optimism': 625, 'cassandra-clare': 29, 'city-of-glass': 5, 'clary': 10, 'jace': 19, 'mortal-instruments': 24, 'song': 64, 'breakup': 72, 'infidelity': 15, 'pain': 371, 'work': 204, 'nicholas-sparks': 21, 'the-notebook': 6, 'beatles': 24, 'fear': 442, 'silence': 97, 'soul': 325, 'zen': 88, 'logic': 114, 'art': 462, 'bella': 8, 'edward': 9, 'heartache': 59, 'requirements': 5, 'dave-matthews': 1, 'letters': 28, 'love-at-first-sight': 20, 'power-of-words': 35, 'writing': 629, 'joy': 513, 'wishing': 14, 'fate': 185, 'being-human': 11, 'human': 173, 'human-nature': 123, 'humanism': 86, 'humanity': 405, 'inspirational-attitude': 389, 'inspirational-life': 459, 'inspirational-quote': 60, 'inspirational-quotes': 1097, 'inspire': 569, 'inspiring': 606, 'kindness': 277, 'life-and-living': 474, 'life-lessons': 986, 'life-philosophy': 136, 'life-quotes': 679, 'living': 824, 'optimistic': 481, 'positive': 549, 'positive-affirmation': 466, 'positive-life': 467, 'positive-thinking': 785, 'smile': 152, 'smiles': 26, 'food': 87, 'music': 304, 'loss': 214, 'disappointment': 53, 'home': 64, 'touching': 2, '1-corinthians-13': 4, 'madness': 34, 'dear-john': 2, 'faith': 3884, 'clary-fray': 45, 'jace-wayland': 49, 'best-friends': 4, '1997': 2, 'annie-clark-tanner-lecture': 2, 'nicholas': 5, 'sparks': 6, 'humbert-humbert': 1, 'live': 118, 'busy': 13, 'call': 11, 'dating': 68, 'dating-advice': 11, 'greg-behrendt': 4, 'guys': 9, 'he-s-not-just-into-you': 9, 'true': 81, 'appreciate': 11, 'change': 556, 'laugh': 66, 'relationship': 206, 'value': 97, 'authentic-living': 35, 'being-positive': 26, 'blessed': 12, 'compassion': 273, 'judgment': 37, 'less-more': 3, 'life-purpose': 33, 'mind': 256, 'motivation': 1219, 'spirituality': 945, 'stress': 32, 'stressed': 4, 'worry': 60, 'worrying': 12, 'god': 1238, 'being-loved': 19, 'completion': 8, 'forgetting': 18, 'suffering': 160, 'waiting': 42, 'care': 65, 'diversity': 19, 'heart': 349, 'seduction': 13, 'beatrice': 2, 'divergent': 9, 'tobias': 9, 'self': 191, 'good-day': 2, 'how-many': 2, 'how-much': 2, 'live-well': 6, 'hell': 64, 'men': 142, 'empathy': 77, 'loneliness': 121, 'caring': 41, 'roses': 15, 'time': 454, 'beauty': 443, 'cry': 19, 'joke': 17, 'enemies': 32, 'hatred': 73, 'intelligence': 222, 'amor-deliria-nervosa': 1, 'heroes': 39, 'mythology': 36, 'oaths': 3, 'hippy': 1, 'misattributed': 18, 'william-gladstone': 1, 'حب': 14, 'stars': 138, 'moving-on': 83, 'religion': 1129, 'sin': 65, 'sinners': 4, 'growing': 88, 'inspirational-love': 35, 'learning': 366, 'real-love': 22, 'reality-of-life': 17, 'those-who-love-us': 2, 'to-be-loved': 2, 'true-love': 106, 'what-matters': 6, 'kissing': 24, 'poets': 144, 'bob-marley': 5, 'destiny': 259, 'war': 242, 'character': 105, 'class': 18, 'common-sense': 51, 'dignity': 53, 'health': 112, 'inner-peace': 65, 'integrity': 104, 'manners': 22, 'money': 249, 'morals': 49, 'patience': 144, 'redemption': 26, 'alone': 74, 'birth': 50, 'growing-up': 102, 'growth': 336, 'lonely': 41, 'self-respect': 51, 'box': 8, 'gift': 41, 'inner-beauty': 85, 'sad': 111, 'longing': 67, 'missing': 14, 'obsession': 32, 'fearless': 178, 'sex': 172, 'self-discovery': 54, 'affection': 38, 'amity': 7, 'autonomy': 9, 'bachelorhood': 2, 'empowerment': 106, 'freedom': 530, 'independence': 43, 'matrimony': 14, 'self-determination': 48, 'self-sufficiency': 7, 'singles': 2, 'twilight-saga': 1, 'bestseller': 62, 'north-carolina': 1, 'novel': 66, 'jealousy': 52, 'infatuation': 17, 'family': 228, 'devotion': 55, 'acceptance': 183, 'worth': 55, 'piglet': 3, 'pooh-bear': 1, 'winnie-the-pooh': 5, 'hunger-games': 5, 'katniss-everdeen': 3, 'peeta-mellark': 3, 'reason': 214, 'grief': 183, 'grieving': 23, 'tears': 49, 'letting-go': 138, 'mercy': 48, 'children': 139, 'profound': 36, 'death-of-a-loved-one': 13, 'sensation': 2, 'thoughts': 188, 'kiss': 61, 'beautiful': 130, 'couples': 29, 'metaphor': 40, 'need': 38, 'ya': 45, 'goodbyes': 12, 'sentimentality': 6, 'self-acceptance': 64, 'self-esteem': 155, 'the-book-thief': 1, 'responsibility': 73, 'blood': 28, 'mouth': 5, 'museums': 3, 'parks': 2, 'answers': 36, 'universe': 233, 'books': 349, 'reading': 231, 'the-choice': 3, 'agency': 3, 'choices': 153, 'annabeth-chase': 18, 'percy-jackson': 50, 'safe': 13, 'lost-love': 28, 'parting': 7, 'babies': 11, 'parents': 38, 'die': 22, 'circe': 2, 'constellations': 39, 'daedalus': 1, 'greek-mythology': 10, 'catching-fire': 2, 'katniss-and-peeta': 2, 'quip': 3, 'inconvenient': 1, 'aloneness': 15, 'common-ground': 2, 'loved-ones': 9, 'solitude': 77, 'poem': 325, 'deep': 33, 'sharing': 41, 'desperate': 9, 'losing': 12, 'nostalgia': 52, 'regret': 85, 'goodbye': 23, 'story-people': 10, 'decisions': 64, 'taking-chances': 5, 'serenity': 37, 'aciman': 1, 'call-me-by-your-name': 1, 'italy': 8, 'at-first-sight': 1, 'emotions': 106, 'healing': 228, 'separation': 29, 'mothers': 31, 'mothers-day': 4, 'adoration': 20, 'give': 12, 'sacrifice': 87, 'high-school': 11, 'sweet': 37, 'teenage-love': 5, 'sky': 41, 'sun': 59, 'dissapointment': 6, 'attraction': 32, 'fighting': 39, 'funny': 392, 'humour': 284, 'husband': 20, 'lover': 30, 'spiritual': 290, 'wife': 27, 'catherine': 1, 'haunting': 5, 'heathcliff': 5, 'malediction': 5, 'restlessness': 6, 'individuals': 6, 'mankind': 184, 'crying': 34, 'action': 308, 'intellect': 45, 'humility': 183, 'openness': 10, 'society': 178, 'sonnet': 4, 'self-sacrifice': 15, 'nature': 462, 'crescendo': 4, 'patch': 10, 'mormont': 1, 'love-quotes': 150, 'ardor': 3, 'classic': 7, 'bridge': 6, 'dhampir': 1, 'dimitri': 9, 'magic': 134, 'promise': 28, 'rose': 17, 'stake': 1, 'strigoi': 1, 'flaws': 17, 'gender': 22, 'ideal-woman': 1, 'identity': 93, 'image': 6, 'realism': 22, 'self-awareness': 129, 'lust': 61, 'romeo-and-juliet': 3, 'values': 164, 'waste': 13, 'connecting': 3, 'grief-inspirational': 4, 'love-hurts': 16, 'love-story': 36, 'price-of-love': 2, 'prices': 2, 'sad-but-true': 10, 'inequality': 10, 'enemy': 19, 'epiphany': 8, 'understanding': 268, 'moon': 63, 'clockwork-princess': 2, 'marriage-proposal': 8, 'tessa-gray': 14, 'will-herondale': 14, 'cheating': 15, 'charlotte-bronte': 3, 'jane-eyre': 4, 'misconceptions': 6, 'obscurity': 8, 'plainness': 1, 'ernest-hemingway': 4, 'feminism': 99, 'married-life': 7, 'psychology': 248, 'sons': 2, 'behrendt': 5, 'greg': 5, 'absence': 17, 'existence': 135, 'risk': 77, 'decision': 36, 'feeling': 57, 'fromm': 1, 'shopaholic': 2, 'sophie': 6, 'endurance': 55, 'mourning': 35, 'childhood': 57, 'laughter': 61, 'oblivious': 1, '1897': 1, 'betrayal': 52, 'bravery': 117, 'remorse': 3, 'butterflies': 14, 'days': 7, 'fanny-brawne': 1, 'fifty-common-years': 1, 'letter': 11, 'summer': 46, 'three': 4, 'be-yourself': 188, 'broken-heart': 51, 'd-h-lawrence': 1, 'pomegranate': 1, 'essence': 13, 'important': 19, 'possibility': 44, 'thought': 100, 'mockingjay': 3, 'uniqueness': 20, 'cardan-greenbriar': 5, 'adaptation': 8, 'pleasing': 3, 'truthfulness': 17, 'youth': 164, 'age': 69, 'confidence': 259, 'discipline': 43, 'effort': 35, 'excuses': 22, 'failure': 454, 'isnpiration': 3, 'olympics': 57, 'opportunities': 56, 'opportunity': 244, 'president': 56, 'success': 3594, 'seperation': 4, 'self-actualization': 17, 'awareness': 98, 'bella-swan': 2, 'broken-hearted': 22, 'monogamy': 5, 'polygamy': 4, 'immortality': 48, 'grace-brisbane': 2, 'sam-roth': 2, 'shiver': 2, 'achilles': 7, 'afterlife': 34, 'patroclus': 5, 'anxiety': 110, 'saveing': 1, 'belief': 520, 'depression': 211, 'eating': 11, 'exercise': 17, 'future': 346, 'medication': 2, 'memories': 118, 'fire': 61, 'matches': 2, 'climax': 1, 'ecstasy': 14, 'fulfillment': 64, 'sensuality': 15, 'sexuality': 33, 'jem-carstairs': 7, 'memory': 139, 'shadowhunters': 9, 'the-infernal-devices': 4, 'bellys': 1, 'missed-chances': 4, 'cute': 33, 'isaiat': 1, 'mart': 1, 'underwater': 1, 'do': 18, 'doing': 32, 'motivational': 1355, 'charity': 34, 'giving': 53, 'being-left': 1, 'hideous': 3, 'hideous-beauty': 1, 'angels': 29, 'saviour': 3, 'soulmate': 23, 'words': 216, 'paulo-coelho': 7, 'hugs': 10, 'lovable': 2, 'courtship': 6, 'cynicism': 42, 'lying': 64, 'christian': 275, 'unconditional-love': 35, 'shakespeare': 34, 'ageing': 24, 'authenticity': 56, 'becoming': 16, 'being-real': 4, 'famous': 12, 'marely': 1, 'belonging': 17, 'vulnerability': 40, 'abuse': 53, 'commitment': 48, 'bitterness': 28, 'disability': 10, 'emptiness': 32, 'feelings': 149, 'potential': 83, 'suicide': 79, 'secrets': 42, 'chances': 85, 'faithfulness': 34, 'mates': 5, 'risk-taking': 72, 'soulmates': 41, 'waiting-for-true-love': 1, 'the-meaning-of-love': 1, 'cats': 33, 'gifts': 23, 'fidelity': 7, 'james': 2, 'nightworld': 1, 'forgiveness': 186, 'gratefulness': 9, 'julia-romano': 1, 'unrequited': 17, 'pretense': 11, 'self-image': 15, 'clary-and-jace': 2, 'jace-and-clary': 4, 'idealizations': 1, 'augustus-waters': 8, 'bittersweet': 8, 'hazel-grace': 4, 'the-fault-in-our-stars': 10, 'absurd': 37, 'conceit': 3, 'realization': 24, 'anger': 116, 'battles': 21, 'consequences': 26, 'divorce': 31, 'fights': 6, 'judgement': 111, 'justice': 139, 'low-self-esteem': 5, 'revenge': 41, 'self-worth': 63, 'vindication': 2, 'collapse': 2, 'curiosity': 75, 'flowers': 47, 'friendly': 8, 'fangirling': 3, 'juliette-miller': 1, 'warner': 9, 'heroes-of-olympus': 22, 'percy-jackson-and-the-olympians': 21, 'the-mark-of-athena': 20, 'exes': 2, 'companionship': 18, 'happily-ever-after': 8, 'insanity': 46, 'intimacy': 30, 'odysseus': 1, 'scars': 28, 'medicine': 67, 'uncaring': 3, 'power': 327, 'powerful': 39, 'inspirtational': 4, 'if-i-stay': 3, 'harry-potter': 51, 'ron-weasley': 19, 'greek': 18, 'lgbt': 21, 'lgbtq': 14, 'trojan-war': 1, 'the-love-of-a-man': 2, 'blame': 14, 'connection': 52, 'disrespect': 5, 'shame': 31, 'camaraderie': 8, 'caring-for-others': 6, 'closeness': 5, 'connectedness': 17, 'disconnection': 1, 'estrangement': 1, 'fellowship': 4, 'friendship-quotes': 6, 'hug': 3, 'isolation': 22, 'kindred-spirits': 10, 'lovers': 124, 'loving': 62, 'loving-someone': 7, 'mirror': 9, 'mutuality': 1, 'partnership': 3, 'reciprocal': 1, 'reciprocity': 4, 'reflected-in-you': 1, 'relationship-quotes': 36, 'self-belief': 59, 'self-hatred': 6, 'self-realization': 95, 'self-worthiness': 1, 'soul-mate': 25, 'togetherness': 12, 'touch': 20, 'twin-flames': 12, 'jimi-hendrix': 2, 'mahatma-gandhi': 4, 'burning': 8, 'flames': 4, 'inspirational-love-quotes': 6, 'running': 27, 'classics': 15, 'kill-me-softly': 1, 'sarah-cross': 1, 'unrequited-love': 56, 'recollection': 3, 'remembrance': 11, 'heartfelt': 8, 'honor': 38, 'breathing': 13, 'tease': 4, 'outlander': 1, 'day': 25, 'june': 5, 'discovery': 89, 'discovery-of-oneself': 2, 'happy-endings': 15, 'boyfriend': 29, 'girlfriend': 19, 'jealous': 9, 'distance': 24, 'anna-karenina': 4, 'tolstoy': 3, 'recognition': 13, 'young': 55, 'young-adult': 68, 'young-adults': 16, 'a-court-of-mist-and-fury': 2, 'acomaf': 1, 'feyre': 13, 'mate': 11, 'rhysand': 7, 'reunion': 5, 'divinity': 23, 'rumi': 32, 'sufi': 17, 'archeron': 1, 'ash': 7, 'kat': 1, 'katra': 1, 'vampire': 43, 'werewolf': 6, '1960s': 3, 'sixties': 1, 'city-of-bones': 10, 'margo-roth-spiegelman': 3, 'life-lesson': 59, 'leaving': 26, 'separating': 1, 'vampire-academy': 13, 'daughters': 8, 'deep-thoughts': 23, 'humans': 120, 'maggie-stiefvater': 2, 'the-raven-boys': 1, 'trees': 52, 'awakening': 121, 'choice': 143, 'name': 13, 'treasure': 35, 'reflection': 270, 'worthiness': 10, 'neighbors': 2, 'aaron-warner': 4, 'juliette-ferrars': 4, 'eat': 10, 'elizabeth-gilbert': 3, 'pray': 88, 'breakups': 22, 'morning': 31, 'wildness': 8, 'dark': 63, 'dark-divine': 4, 'dark-humor': 10, 'dark-lover': 3, 'emotional': 22, 'emotional-plague': 5, 'emotionally-scared': 3, 'envy': 52, 'gothic': 4, 'gothic-fiction': 3, 'gothic-romance': 3, 'incubus': 4, 'paranormal': 23, 'paranormal-fiction': 3, 'paranormal-romance': 21, 'succubus': 4, 'supernatural': 22, 'supernaturalism': 7, 'urban-fantasy': 15, 'awesome': 12, 'we-ll-always-have-summer': 1, 'survival': 90, 'america': 36, 'disgrace': 1, 'poor': 14, 'first': 5, 'sight': 18, 'scarlet': 5, 'wolf': 9, 'abandonment': 10, 'lullaby': 2, 'misattributed-dr-seuss': 1, 'edward-cullen': 1, 'entertainment': 16, 'opera': 4, 'lost': 69, 'affairs': 11, 'abundance': 26, 'balance': 71, 'better': 20, 'book': 122, 'expression': 50, 'fun': 64, 'greater': 13, 'help': 60, 'improvement': 101, 'meditation': 130, 'more': 16, 'perfect': 35, 'relaxation': 19, 'self-expression': 16, 'self-help-book': 69, 'self-improvement-book': 14, 'your': 10, 'brotherly-love': 1, 'trial': 11, 'business': 219, 'hot': 11, 'mara-dyer': 13, 'noah-shaw': 7, 'fragility': 2, 'buttercup': 1, 'garden': 22, 'hidden-treasure': 3, 'secret': 46, 'the-princess-bride': 1, 'walls': 18, 'william-goldman': 1, 'eternity': 52, 'control': 64, 'weakness': 30, 'commit': 5, 'deserve': 12, 'akiva': 2, 'karou': 4, 'affair': 4, 'assurance': 12, 'believe-in-yourself': 72, 'composure': 7, 'detachment': 6, 'development': 48, 'disappearance': 1, 'escape': 24, 'fade': 1, 'hide': 14, 'hideout': 1, 'impression': 15, 'leg-pulling': 1, 'let-go': 37, 'liberty': 51, 'michael-bassey-johnson': 15, 'neutrality': 2, 'out-of-view': 1, 'poise': 2, 'prove': 4, 'self-control': 26, 'self-reliance': 26, 'self-rule': 1, 'single': 20, 'sovereignty': 8, 'test': 10, 'unconventional': 1, 'unconventionality': 1, 'vanish': 3, 'agape': 14, 'cyberpunk': 9, 'elven': 4, 'elves': 7, 'human-behavior': 8, 'humankind': 17, 'inside-ourselves': 3, 'insight': 48, 'insightful': 30, 'meaning': 175, 'meaning-of-life': 89, 'nq-mobile-omar-khan': 3, 'omar-khan-nq-mobile': 3, 'reflective': 9, 'social-commentary': 13, 'social-issues': 3, 'social-science': 5, 'urban-fantasy-series': 4, 'ya-urban-fantasy': 4, 'young-adult-fiction': 24, 'young-adult-literature': 14, 'young-adult-novels': 16, 'young-adult-series': 4, 'gluttony': 6, 'romeo-nad-juliet': 1, 'celebrity': 13, 'belonging-to-someone': 1, 'boy-meets-girl': 1, 'craziness': 6, 'crazy': 43, 'heartwarming': 7, 'wonderful': 12, 'death-and-dying': 32, 'suicide-note': 5, 'ginny-weasley': 4, 'voldemort': 2, 'impossible': 29, 'we-make-our-own-paths': 1, 'creation': 80, 'destruction': 28, 'finality': 1, 'rationality': 37, 'love-struck': 4, 'interdependence': 3, 'share': 23, 'fight': 68, 'four-letter-word': 1, 'torment': 5, 'advice': 147, 'leadership': 269, 'management': 28, 'tamlin': 6, 'thorns': 5, 'sink': 2, 'someday': 1, 'sorrow': 127, 'john-green': 16, 'tfios': 6, 'brick': 3, 'dead': 21, 'house': 5, 'lady-gaga': 5, 'be-brave': 1, 'embrace-change': 1, 'take-the-risk': 1, 'lavender': 2, 'rosemary': 1, 'salt': 6, 'superstition': 48, 'eternal-questions': 1, 'fight-for-love': 2, 'passionate-life': 13, 'passionate-love': 2, 'unbreakable': 3, 'unbreakable-spirit': 3, 'maxon': 2, 'the-elite': 1, 'the-selection': 5, 'baz': 3, 'carry-on': 5, 'bukowski': 35, 'moments': 34, 'nice': 12, 'war-all-the-time': 3, 'gayle-forman': 2, 'god-of-the-underworld': 1, 'hades': 3, 'henry': 3, 'turtles-all-the-way-down': 4, 'searching-and-finding': 2, 'champagne': 8, 'contentment': 99, 'doubt': 127, 'foes': 7, 'idleness': 12, 'inventory': 4, 'sufficienty': 4, 'superfluity': 4, 'unattainable': 5, 'drusilla-blackthorn': 1, 'julian-blackthorn': 6, 'yearning': 18, 'loyalty': 29, 'tris': 11, 'blue': 8, 'gansey': 4, 'worship': 44, 'jewelry': 3, 'nora': 8, 'nora-grey': 8, 'patch-cipriano': 6, 'cough-drops': 1, 'first-love': 14, 'happy': 246, 'adrian-ivashkov': 32, 'angst': 7, 'richelle-mead': 12, 'hearts': 29, 'adam-parrish': 3, 'ronan-lynch': 4, 'greece': 9, 'lochan': 3, 'maya': 4, 'ahhhh': 1, 'ignite': 2, 'ignite-me': 7, 'juliette': 8, 'oh': 1, 'ohgod': 1, 'sexy': 17, 'khalid': 13, 'shahrzard': 1, 'declarations-of-love': 3, 'foibles': 2, 'harry-burns': 2, 'in-love': 29, 'new-year-s-eve': 4, 'sally-albright': 2, 'simple-life': 11, 'simple-pleasures': 4, 'when-harry-met-sally': 2, 'resistance': 19, 'greatest-version': 3, 'helping': 12, 'blessings': 59, 'carpe-diem': 56, 'enthusiasm': 21, 'express': 9, 'talk': 22, 'walk': 13, 'body': 82, 'body-image': 15, 'culture': 96, 'dancer': 12, 'fashion': 50, 'fitness': 14, 'food-for-thought': 65, 'girl': 52, 'healthy': 23, 'hip-hop': 14, 'lust-for-life': 21, 'brother': 6, 'inpirational': 5, 'legend': 10, 'marie-lu': 5, 'break-ups': 22, 'endings': 31, 'forgetting-the-past': 1, 'past': 157, 'fantasy': 149, 'monster': 11, 'threats': 5, 'flirting': 9, 'hands': 8, 'gratitude': 177, 'live-life-to-the-fullest': 6, 'forbidden-love': 7, 'i-love-you': 17, 'mal': 2, 'eyes': 55, 'museum': 4, 'angel-poems': 12, 'classic-books': 4, 'classic-quotes': 5, 'creative-vision': 4, 'famous-quotes': 20, 'gold': 15, 'grace': 109, 'haiku': 49, 'haikus': 16, 'inspiring-authors': 3, 'inspiring-words': 5, 'national-poetry-month': 24, 'personal-growth': 99, 'poem-in-your-pocket-day': 16, 'positive-motivation': 22, 'psychotherapy': 5, 'rainbow': 18, 'rainbows': 7, 'self-love': 164, 'self-motivation': 89, 'attention': 31, 'happy-life': 31, 'oneness': 35, 'perspective': 203, 'positive-attitude': 47, 'positive-living': 11, 'purpose': 269, 'purpose-in-life': 13, 'purpose-of-life': 27, 'purposeful-living': 17, 'revelation': 37, 'spirit': 132, 'searching': 26, 'animals': 101, 'pets': 10, 'sunset': 18, 'breaking-up': 24, 'adorable': 6, 'mess': 7, 'america-singer': 4, 'maxon-schreave': 3, 'house-of-night': 3, 'poison': 28, 'angel': 15, 'fang': 7, 'max': 8, 'maxride': 13, 'happy-people': 5, 'holding-hands': 5, 'short-story': 9, 'smiling': 32, 'beliefs': 67, 'friendships': 53, 'hang-ups': 3, 'obsessions': 3, 'sister-in-laws': 3, 'spouse': 15, 'clichés': 7, 'constancy': 4, 'double-standards': 7, 'education': 388, 'misogyny': 13, 'social-norms': 8, 'stereotypes': 12, 'you': 22, 'holding-out-for-the-best': 4, 'not-settling': 7, 'settling': 8, 'the-single-woman': 17, 'paraphrased': 20, 'allyson-braithwaite-condie': 2, 'church': 57, 'lockup': 2, 'i-love-him': 2, 'jamie-weise': 5, 'love-affair': 5, 'love-and-romance': 4, 'passions': 14, 'unconditional': 11, 'shit-happens': 4, 'suck-it-up': 2, 'misattributed-jm-barrie': 1, 'misattributed-peter-pan': 1, 'falling-in-love': 42, 'safe-haven': 2, 'unexpected-love': 1, 'becca-fitzpatrick': 4, 'fallen-angels': 2, 'hush-hush': 3, 'confessions': 4, 'ecclesiastes': 4, 'scripture': 25, 'ammends': 1, 'atonement': 3, 'amy-march': 1, 'jo-march': 3, 'spoil': 9, 'teddy-lawrence': 1, 'waste-of-life': 2, 'shivers': 1, 'eye': 10, 'hello': 5, 'song-lyrics': 21, 'abolition': 29, 'accomplish': 73, 'great-britain': 4, 'heard': 4, 'slavery': 56, 'try': 23, 'martyrdom': 3, 'cool': 44, 'erotic': 16, 'erotica': 10, 'incest': 5, 'sister': 11, 'taboo': 5, 'space': 73, 'neil-degrasse': 2, 'science': 3457, 'successful-people': 39, 'kids': 28, 'mom': 12, 'mother': 36, 'peter-pan': 3, 'remembering': 9, 'tiger-lily': 2, 'spanish': 16, 'iko': 3, 'lunar-chronicles': 4, 'thorne': 7, 'lovelessness': 5, 'trouble': 21, 'conversation': 21, 'talking': 19, 'beatrice-prior': 4, 'four': 10, 'tris-prior': 5, 'veronica-roth': 6, 'one-direction': 8, 'altruism': 21, 'designer': 22, 'ego': 92, 'nobody': 8, 'selfish': 15, 'tragedy': 55, 'weeping': 11, 'baby-proof': 1, 'claudia': 1, 'emily-giffin': 1, 'freedomain-radio': 2, 'stefan-molyneux': 2, 'flattery': 10, 'secret-love': 14, 'sense': 17, 'unavowed-love': 1, 'weep': 2, 'kafka': 4, 'never': 9, 'patrochilles': 3, 'sharing-love': 2, 'telling-love': 1, 'jellicoe-road': 1, 'melina-marchetta': 2, 'laurell-k-hamilton': 3, 'the-harlequin': 1, 'wicked': 8, 'dream': 186, 'lady-midnight': 7, 'mark-blackthorn': 3, 'physics': 152, 'missing-you': 13, 'build': 4, 'find': 12, 'forgiving': 20, 'nurture': 8, 'understand': 40, 'bhie': 12, 'jodi-picoult': 10, 'my-sister-s-keeper': 1, 'dogs': 27, 'forest': 16, 'blindness': 22, 'vanity': 18, 'soldier-s-pay': 1, 'denny-harris': 1, 'poems': 298, 'sonnet-xlii': 1, 'fellatio': 2, 'oral-sex': 3, 'penis-sucking': 1, 'meaningful': 9, 'iron-fey-trilogy': 1, 'julie-kagawa': 3, 'awe': 34, 'boyfriends': 7, 'girlfriends': 1, 'ponderings': 1, 'senseless': 1, 'aedion-ashryver': 1, 'aelin-ashryver-galathynius': 3, 'queen-of-shadows': 2, 'rowan-whitethorn': 3, 'throne-of-glass': 3, 'self-confidence': 88, 'frustration': 27, 'revolution': 111, 'trick': 6, 'comprehension': 21, 'devils': 2, 'earth': 113, 'egypt': 4, 'helen': 2, 'lunatic': 1, 'madmen': 1, 'poet': 96, 'dreamland': 1, 'sarah-dessen': 6, 'hannah-appleton': 1, 'love-letters': 4, 'rafe-bowman': 1, 'dependability': 2, 'correspondence': 2, 'writers': 54, 'angry': 8, 'hush': 1, 'advaita': 9, 'consciouness': 2, 'enlightenment': 130, 'evolution': 206, 'guru': 8, 'satsang': 3, 'teacher': 27, 'frank-iero': 1, 'gerard-way': 4, 'killjoys': 1, 'my-chemical-romance': 5, 'star': 13, 'be-with-me': 1, 'merry-go-round': 1, 'forbidden': 9, 'travel': 145, 'wish': 87, 'echo-and-noah': 1, 'katie-mcgarry': 2, 'pushing-the-limits': 2, 'autumn': 18, 'misery': 46, 'man': 85, 'woman': 54, 'sarcasm': 76, 'bond': 11, 'cruelty': 28, 'kleypas': 2, 'reincarnation': 13, 'diplomacy': 13, 'outrage': 7, 'city-of-lost-souls': 7, 'isabelle-lightwood': 8, 'magnus-bane': 18, 'bridgerton': 3, 'self-fulfilling-prophecy': 1, 'falling-out-of-love': 1, 'i-need-you': 1, 'maybe': 2, 'move-on': 19, 'over': 4, 'when': 2, 'when-it-s-over': 1, 'daemon-black': 2, 'daemon-black-pov': 1, 'katy-and-daemon': 1, 'katy-swartz': 2, 'only-forward': 2, 'broken': 51, 'broken-hearted-quotes': 16, 'heartbroken': 38, 'hurt-feelings': 17, 'hurting': 22, 'hurting-heart': 14, 'emma-carstairs': 7, 'admiration': 29, 'hermann-hesse': 2, 'world': 210, 'lyrics': 53, 'beach': 42, 'born-ready': 36, 'cape-cod': 36, 'coming-of-age': 86, 'jennifer-elisabeth': 36, 'ocean': 87, 'prayer': 291, 'red-thread': 36, 'red-thread-of-destiny': 36, 'red-thread-of-fate': 36, 'self-reflection': 46, 'soul-mates': 50, 'teenagers': 48, 'teens': 50, 'wealth-of-soul': 2, 'thwarted': 1, 'sea': 52, 'storms': 7, 'college-romance': 4, 'fangirl': 6, 'levi': 3, 'rainbow-rowell': 1, 'teen': 26, 'butterfly': 12, 'india': 21, 'ruskin-bond': 5, 'catholic-author': 21, 'i-love-you-always': 2, 'i-love-you-no-matter-what': 2, 'idealism': 23, 'heart-stopping': 1, 'decency': 8, 'fiction': 196, 'always-yours': 13, 'amour': 6, 'beautiful-quote': 15, 'break-up-quote': 12, 'breakup-quote': 14, 'breakup-quotes': 14, 'deep-love': 21, 'deep-love-quotes': 13, 'distance-relationship': 4, 'feelings-and-emotions': 16, 'feelings-of-love': 13, 'from-a-distance': 4, 'grief-and-loss': 32, 'grief-quotes': 15, 'heartbreak-quotes': 16, 'heartbroken-quotes': 13, 'i-miss-you': 14, 'loss-of-love': 15, 'loss-quote': 13, 'loss-quotes': 13, 'lost-love-quotes': 13, 'love-quotations': 13, 'love-quote': 27, 'love-quotes-and-sayings': 23, 'memories-quotes': 8, 'memory-quote': 7, 'missing-someone': 19, 'missing-you-quotes': 14, 'paramour': 2, 'quote': 267, 'quotes': 984, 'ranata-suzuki': 13, 'ranata-suzuki-quote': 13, 'reminders': 7, 'reminisce': 7, 'reminiscence': 10, 'reminiscing': 8, 'romanticism': 13, 'sad-quote': 13, 'sad-quotes': 22, 'the-one-that-got-away': 13, 'the-only-one': 13, 'the-past': 15, 'without-you': 13, 'medieval': 2, 'mysticism': 27, 'religious-experience': 1, 'seeing': 38, 'vision': 113, 'richard-gansey': 2, 'the-raven-king': 1, 'awarness': 1, 'giving-others-space': 1, 'self-care': 17, 'chaplin': 1, 'charlie-chaplin': 1, 'naked': 9, 'vip': 1, 'forever': 43, 'stabbed': 2, 'helpless-love': 1, 'fair-play': 1, 'codes': 2, 'ignorance': 151, 'garbage': 2, 'jay-gatsby': 1, 'movies': 21, 'prince-charming': 4, 'rochester': 1, 'romeo': 1, 'fair': 13, 'christianity': 393, 'denial': 30, 'morality': 164, 'well-said': 1, 'lee': 2, 'liam': 1, 'ruby': 3, 'duty': 17, 'ann-druyan': 6, 'atheism': 207, 'carl-sagan': 21, 'cosmos': 27, 'sagan': 11, 'confession': 18, 'shahrzad': 9, 'brokenness': 10, 'drunk': 11, 'misattributed-f-scott-fitzgerald': 1, 'melancholy': 24, 'christ': 70, 'christmas': 39, 'clothe': 3, 'feed': 5, 'forgive': 82, 'golden-rule': 7, 'guilty': 11, 'hungry': 5, 'ill': 5, 'jesus': 201, 'service': 49, 'unwanted': 3, 'welcome': 3, 'alix': 1, 'incurable': 1, 'retaliation': 2, 'wounds': 13, 'contradiction': 20, 'adultery': 3, 'statistics': 10, 'suspicion': 18, 'technology': 94, 'moment': 31, 'narrative': 7, 'drug': 2, 'genuine': 12, 'otp': 7, 'cruel': 15, 'not-letting-go': 2, 'persistence': 95, 'strong': 43, 'jericho-barrons': 1, 'distraction': 10, 'apart': 4, 'demon-cynster': 1, 'norfolk': 1, 'celebrities': 6, 'vows': 4, 'fierce': 4, 'forever-love': 7, 'undying-love': 1, 'dystopia': 9, 'shatter-me': 4, 'community': 46, 'goethe': 4, 'definition': 17, 'belikov': 1, 'hathaway': 5, 'andrew-parrish': 2, 'time-passing': 7, 'time-quote': 1, 'time-quotes': 5, 'actions': 63, 'confusion': 46, 'disbelief': 15, 'evidence': 56, 'hoping': 14, 'mixed-signals': 7, 'obvious': 11, 'proof': 33, 'timing': 16, 'vegan': 4, 'vegetarian': 5, 'violence': 37, 'possessiveness': 3, 'incidental': 2, 'freedom-of-choice': 16, 'heterosexuality': 2, 'homosexuality': 16, 'acting': 18, 'in-the-seven-woods': 1, 'never-give-all-the-heart': 1, 'play': 25, 'w-b-yeats': 1, 'william-butler-yeats': 1, 'yeats': 4, 'broken-hearts': 3, 'possibilities': 42, 'rosemarie': 1, 'spirit-bound': 2, 'meghan': 2, 'being-single': 6, 'goals': 407, 'hard-to-get': 2, 'loving-yourself': 17, 'playing-hard-to-get': 1, 'single-life': 7, 'single-woman': 8, 'singleness': 8, 'standards': 3, 'validation': 4, 'niall-horan': 2, 'courtesy': 4, 'gentleman': 4, 'ladies': 6, 'leading-a-woman-on': 1, 'manning-up': 1, 'players': 1, 'respecting-others': 12, 'respecting-women': 1, 'true-gentlemen': 1, 'best-friend': 3, 'gentlemen': 8, 'godly-man': 2, 'quality': 24, 'making-love': 7, 'creativity': 166, 'monotony': 4, 'variety': 7, 'okay': 9, 'unappreciated': 1, 'vain': 2, 'lessons': 67, 'bigotry': 20, 'bridges': 6, 'culture-wars': 3, 'cultures': 5, 'intolerance': 22, 'misattributed-to-isaac-newton': 2, 'racism': 49, 'sympathy': 24, 'tolerance': 41, 'history': 283, 'tangled': 1, 'herondales': 2, 'jace-herondale': 1, 'pg-234': 2, 'city-of-fallen-angels': 14, 'elizabeth-bennett': 1, 'calypso': 5, 'fates': 1, 'punishment': 10, 'belong': 4, 'changing': 13, 'learning-the-truth': 9, 'life-and-learning': 7, 'person': 19, 'adrian-ivashkovn': 1, 'finding-love': 6, 'living-life-to-the-fullest': 33, 'living-your-best-life': 5, 'praying-for-love': 1, 'glove': 1, 'hand-in-glove': 1, 'carlos': 4, 'engagement': 8, 'kiara': 3, 'proposal': 9, 'crappy-boyfriends': 1, 'taylor-swift': 9, 'segregation': 4, 'finally': 2, 'want': 26, 'gay': 25, 'm-m': 1, 'male-male': 1, 'cradle': 2, 'enjoy': 15, 'humiliate': 1, 'sculpt': 1, 'soft': 11, 'tiring': 1, 'use': 6, 'memorable': 3, 'sickness': 24, 'cecelia-ahernt': 1, 'if-you-could-see-me-now': 1, 'long-distance-love': 3, 'coffee': 21, 'search': 17, 'path': 55, 'teresa': 2, 'experiences': 28, 'generosity': 20, 'beauty-in-nature': 9, 'self-help': 334, 'survivor': 23, 'calling': 16, 'pop': 11, 'singer': 10, 'songwriter': 9, 'facade': 6, 'motherhood': 19, 'alina-starkov': 1, 'feels': 3, 'malyen-oretsev': 1, 'human-spirit': 6, 'coelho': 6, 'eric': 2, 'keep': 10, 'promises': 16, 'grandness': 1, 'friendship-and-love': 5, 'driving-forces': 1, 'impulses': 1, 'breathe': 15, 'left-behind': 2, 'curelty': 1, 'harm': 9, 'unkindness': 2, 'amor': 3, 'lady-croom': 1, 'appreciation': 60, 'attitude': 263, 'believe': 247, 'counting-your-blessings': 4, 'dancing': 35, 'faith-in-yourself': 22, 'journey-of-life': 15, 'live-in-the-moment': 20, 'living-a-happy-life': 4, 'seizing-the-day': 6, 'the-here-and-now': 4, 'the-present': 8, 'your-journey': 9, 'husbands': 5, 'laws': 19, 'quietness': 8, 'prejudice': 36, 'yours': 2, 'neil-gaiman': 5, 'personality': 60, 'the-graveyard-book': 2, 'looks': 7, 'just-friends': 1, 'lock-and-key': 2, 'aliens': 13, 'bullying': 30, 'christina-westover': 2, 'lily-sauvage': 2, 'muse': 10, 'past-relationships': 2, 'alina': 1, 'the-best-of-me': 1, 'depressing': 6, 'wonder': 92, 'estella': 3, 'irresistibility': 1, 'perfection': 85, 'pip': 2, 'lonliness': 14, 'seize-the-day': 45, 'gardening': 10, 'weeds': 1, 'questions': 52, 'peacekeeping': 3, 'anaïs-nin': 1, 'polyamory': 5, 'appearances': 13, 'bill-weasley': 1, 'fleur-delacour': 1, 'clace': 1, 'herondale': 1, 'sanity': 26, 'bisexuality': 8, 'gender-bending': 2, 'gender-equality': 22, 'marilyn-monroe': 3, 'my-story': 3, 'mindfulness': 126, 'nature-s-beauty': 5, 'pure-awareness': 2, 'purifying': 2, 'lesbian': 17, 'queer': 8, 'a-farewell-to-arms': 1, 'done': 8, 'ending': 12, 'complaining': 11, 'folly': 16, 'refusal': 5, 'aura': 2, 'bloodlines': 7, 'sydney-sage': 25, 'sydrian': 10, 'the-indigo-spell': 5, 'intstalove-done-right': 1, 'protection': 26, 'miss-you': 3, 'tomorrow': 35, 'literature': 257, 'finding-yourself': 31, 'fresh-starts': 3, 'new-beginnings': 31, 'self-improvement': 142, 'the-end': 4, 'hill': 1, 'jane': 4, 'lantern': 4, 'infinity': 19, 'paradox': 35, 'chasing': 4, 'knowing-your-worth': 2, 'stop-the-chase': 2, 'true-friends': 8, 'atticus': 74, 'atticus-poetry': 81, 'atticuspoetry': 76, 'her': 78, 'instagram': 83, 'love-her-wild': 80, 'wild': 94, 'lovers-love-story': 3, 'lovers-quarrels-lovers': 1, 'lovers-sadness': 6, 'stories': 60, 'truths': 35, 'four-and-tris': 1, 'together': 22, 'halo': 2, 'human-language': 1, 'liane': 1, 'word': 23, 'gods-power': 10, 'guidance': 66, 'religion-and-philoshophy': 25, 'spirtitual-growth': 6, 'accountability': 21, 'sonnet-xi': 2, 'hard': 20, 'scary': 12, 'someone': 4, 'learn': 91, 'heretic': 2, 'rebel': 11, 'wit': 74, 'denna': 1, 'le-petit-prince': 3, 'jace-hammond': 2, 'colin-bridgerton': 1, 'definitions': 12, 'leo-valdez': 16, 'geisha': 3, 'memoirs': 1, 'encourage': 18, 'fall': 22, 'adventures': 8, 'adventures-in-love': 2, 'life-changing': 134, 'life-experience': 44, 'release': 7, 'pg-24': 1, 'equality': 58, 'carrie-underwood': 1, 'colors': 14, 'communication': 85, 'disapproval': 5, 'expressing-yourself': 2, 'no-regrets': 71, 'openess': 6, 'permission': 4, 'regrets': 25, 'rejection': 31, 'speaking-your-mind': 4, 'voice': 26, 'from': 1, 'comedian': 4, 'louis-ck': 1, 'madly-in-love': 2, 'an': 1, 'augustus': 4, 'can-t': 2, 'have': 5, 'i': 5, 'why': 8, 'modern-society': 8, 'bad-fathers': 1, 'compatibility': 1, 'hypocrisy': 26, 'tact': 2, 'truth-telling': 38, 'pronouncements-of-love': 1, 'parenting': 52, 'perfect-fit': 1, 'rain': 38, 'transcendence': 18, 'lindsay': 1, 'remember': 21, 'story': 101, 'blind': 20, 'contemplation': 220, 'shallowness': 2, 'thought-provoking': 31, 'emily-bronte': 2, 'wuthering-heights': 1, 'selfishness': 26, 'huntress': 1, 'thief': 3, 'suitors': 1, 'arriving': 1, 'cities': 7, 'city': 12, 'destination': 18, 'empty': 17, 'leave': 6, 'left': 4, 'lose': 27, 'new': 19, 'streets': 4, 'touring': 1, 'traveller': 8, 'travelling': 13, 'vagabond': 1, 'wanderer': 17, 'wanderlust': 77, 'complex': 14, 'dimension': 4, 'dimensions': 6, 'love-triangle': 2, 'measure': 6, 'properties': 3, 'property': 3, 'qualities': 3, 'three-dimensional': 1, 'triangle': 1, 'trinity': 6, 'two': 2, 'two-dimensional': 1, 'unconditional-acceptance': 5, 'whole': 11, 'struggle': 216, 'message-in-a-bottle': 2, 'wondering': 6, 'snow': 10, 'selfish-love': 1, 'issa': 1, 'italian': 3, 'medieval-literature': 2, 'carlos-fuentes': 2, 'rules-of-attraction': 1, 'parabatai': 2, 'priorities': 14, 'annabeth': 2, 'aphrodite': 3, 'awww': 3, 'percabeth': 5, 'piper-mclean': 4, 'end': 23, 'gone': 8, 'writer': 230, 'time-travel': 22, 'crush': 15, 'shiver-maggie-stiefvater-space': 1, 'holly-black': 8, 'jude': 5, 'the-cruel-prince': 2, 'names': 21, 'cold-soul': 1, 'jaime-lannister': 5, 'delusion': 28, 'worth-it': 3, 'compromise': 21, 'motivational-quotes': 203, 'respectable': 7, 'respected': 6, 'respectful': 8, 'respecting': 6, 'respecting-yourself': 12, 'wisdom-quotes': 158, 'cities-and-countries': 1, 'enmity': 2, 'glory': 31, 'novel-quote': 2, 'personalities': 3, 'roman-payne': 15, 'traveler': 5, 'urban': 2, 'voyage': 7, 'carswell': 3, 'cress': 5, 'maturity': 45, 'jodi-lynn-anderson': 1, 'valentine': 7, 'oath': 2, 'madeline-miller': 1, 'the-song-of-achilles': 1, 'storm': 12, 'turmoil': 5, 'night': 36, 'pathology': 6, 'right': 54, 'chaos': 42, 'present': 59, 'lover-awakened': 1, 'z': 1, 'zsadist': 2, 'acceptance-of-oneself': 14, 'forgive-yourself': 10, 'accepting-love': 1, 'tree': 17, 'self-knowledge': 58, 'abe-mazur': 2, 'monique-duval': 1, 'deserve-love': 1, 'love-worth': 1, 'astronomy': 87, 'brahe': 4, 'calculations': 4, 'goddess': 14, 'humble': 25, 'mars': 13, 'math': 58, 'mathematics': 74, 'strife': 9, 'taint': 4, 'tycho-brahe': 4, 'venus': 5, 'jason-mraz': 4, 'submission': 7, 'lust-for-everything': 4, 'lustful': 9, 'lusting': 3, 'lusts': 3, 'lusty': 6, 'passionate-living': 16, 'cummings': 2, 'oscar-wilde': 14, 'wound': 6, 'contempt': 2, 'extreme': 5, 'lukewarm': 1, 'scorn': 3, 'alltheyoungdudes': 1, 'atyd': 1, 'grantchapman': 1, 'remuslupin': 1, 'mania': 1, 'taste': 22, 'calipha': 1, 'proposals': 2, 'gender-roles': 7, 'last-love': 1, 'men-and-women': 12, 'men-mars-women-venus': 1, 'callie-and-kayden': 1, 'jessica-sorensen': 1, 'nayyirah-waheed': 1, 'omg': 1, 'expect': 10, 'expectations': 59, 'fahrenheit-451': 3, 'motivational-quote': 12, 'working': 8, 'bitten': 1, 'destroyed': 4, 'entwine': 1, 'federico-garcia-lorca': 2, 'sonnet-of-the-garland-of-roses': 1, 'attractiveness': 6, 'male-beauty': 2, 'sex-appeal': 6, 'boy': 23, 'listening': 38, 'poignant': 6, 'disillusion': 3, 'ideas': 68, 'insecurity': 31, 'physical-beauty': 3, 'romantic-love': 3, 'cupid': 4, 'simplicity': 74, 'importance': 19, 'sheep': 10, 'harry-styles': 2, 'fucking': 2, 'aging': 37, 'communism': 46, 'democracy': 68, 'liberation': 12, 'marxism': 12, 'radicalism': 4, 'socialism': 35, 'theology': 143, 'holy': 13, 'unearned-blessings': 1, 'worthy': 11, 'bob-dylan': 4, 'nico-di-angelo': 10, 'reyna': 3, 'charlotte-eriksson': 7, 'heart-break': 4, 'impressed': 4, 'places': 8, 'prose': 43, 'the-glass-child': 12, 'retribution-of-mara-dyer': 3, 'blush': 4, 'ficbookreview-s-fave': 1, 'satisfaction': 117, 'narcissism': 17, 'narcissistic': 2, 'objective': 16, 'objectivity': 19, 'subjective': 5, 'understanding-oneself-and-others': 7, 'double-negatives': 1, 'gender-stereotypes': 8, 'dysfunctional-love': 1, 'manipulation': 13, 'marriage-advice': 4, 'narcissists': 1, 'passive-aggressive': 2, 'passive-aggressiveness': 1, 'juliette-cai': 2, 'roma-montagov': 2, 'genius': 61, 'the-rosie-project': 1, 'brevity': 3, 'romantic-advice': 1, 'perception': 81, 'i-d-lie': 1, 'songs': 11, 'unknown-love': 1, 'london': 12, 'simple-living': 2, 'wander': 82, 'adversity': 137, 'child': 29, 'dad': 10, 'dumped': 2, 'illness': 34, 'mental-disorders': 5, 'misunderstood-fights': 1, 'support': 25, 'support-system': 1, 'tough-times': 6, 'trials': 45, 'true-friendship': 1, 'cath': 4, 'brain': 62, 'vp-shunt': 1, 'chemistry': 19, 'jane-austen': 8, 'northanger-abbey': 1, 'problem': 24, 'linger': 3, 'realtionship': 2, 'brian-tracy': 3, 'evolve': 9, 'maximu-ride': 1, 'lasting': 2, 'too-small': 1, 'too-tight': 1, 'wait': 10, 'patch-and-nora': 3, 'tabitha-suzuma': 2, 'simpsons': 3, 'art-of-dying': 4, 'art-of-living': 6, 'hang-man': 4, 'know-thyself': 19, 'knowing-oneself': 10, 'knowledge-education': 8, 'knowledge-of-self': 15, 'knowledge-teaching': 8, 'master': 13, 'master-key': 4, 'master-of-love': 4, 'masters': 7, 'mastery': 13, 'mind-body-spirit': 113, 'mind-power': 82, 'personal-development': 92, 'positive-mindset': 20, 'positive-outlook': 29, 'positive-quotes': 16, 'positive-thoughts': 60, 'power-of-love': 10, 'power-of-thoughts': 12, 'powerful-story': 9, 'sacred': 25, 'sacred-teachings': 7, 'sacred-wisdom': 4, 'sage': 4, 'sage-advice': 4, 'soul-searching': 21, 'spiritual-development': 15, 'spiritual-growth': 51, 'spiritual-wisdom': 22, 'spiritualism': 24, 'suicidal-thoughts': 5, 'teachings': 29, 'wise-man': 9, 'give-up': 14, 'warrior': 33, 'one-day': 4, 'holocaust': 16, 'tear-jerker': 4, 'wwii-fiction': 3, '1956': 4, 'gun': 3, 'my-way-home-is-through-you': 1, 'legacy': 31, 'life-story': 9, 'lit': 4, 'lit-quote': 2, 'literature-quote': 2, 'falling': 12, 'levin': 1, 'damnation': 3, 'eternal-suffering': 2, 'infinite-love': 2, 'lord': 7, 'message': 8, 'options': 5, 'question': 23, 'deciet': 2, 'interview-with-the-vampire': 2, 'lestat': 3, 'lie': 74, 'vampires': 37, 'save': 20, 'wolves': 11, 'cross': 10, 'luther': 2, 'amazeballs': 1, 'corporeal-punishment': 1, 'love-is-like-a-lawsuit': 1, 'couple': 13, 'nicknames': 3, 'sweet-talk': 4, 'bite': 2, 'consumed': 1, 'distractions': 4, 'counsel': 1, 'counsellor': 1, 'counselor': 1, 'psychological': 20, 'self-talk': 1, 'spiritual-indwelling': 1, 'spiritual-life': 16, 'starvation': 2, 'misha': 1, 'misha-and-ryen': 1, 'na': 1, 'new-adult': 7, 'new-adult-contemporary-romance': 3, 'new-adult-romance': 4, 'penelope-douglas': 1, 'punk': 3, 'punk-57': 1, 'ryen': 1, 'ryen-and-misha': 1, 'christian-behavior': 6, 'helping-others': 25, 'bridget': 3, 'defy-me': 1, 'ella-sommers': 1, 'shatter-me-series': 1, 'spoilers': 2, 'tahereh-mafi': 1, 'warnette': 1, 'positivity': 484, 'stoicism': 61, 'helena': 1, 'contemporary': 7, 'lara-jean': 2, 'brothers': 14, 'chaol': 1, 'chaol-westfall': 1, 'dorian': 1, 'dorian-havilliard': 2, 'heir-of-fire': 1, 'sarah-j-maas': 12, 'gavril': 1, 'oreder-of-the-phoenix': 1, 'sirius-black': 4, 'time-heals': 1, 'successful-woman': 1, 'thekissquotient': 1, 'benediction': 4, 'blessing': 43, 'interaction': 4, 'authors': 34, 'coaching': 26, 'competition': 99, 'connect': 12, 'counseling': 12, 'dare': 16, 'daring': 19, 'determination': 227, 'idea': 27, 'judge': 15, 'motivator': 6, 'never-give-up': 84, 'promo': 6, 'publishing': 12, 'speaking': 21, 'successful': 77, 'triumph': 20, 'willpower': 31, 'you-can-do-it': 16, 'circumstance': 13, 'endure': 14, 'sorry': 11, 'hopelessness': 73, 'grishaverse': 1, 'king-of-scars': 4, 'leigh-bardugo': 6, 'zoya-nazyalensky': 4, 'accepting': 4, 'embracing': 2, 'delirium': 6, 'merripen': 4, 'danger': 35, 'good': 100, 'win': 41, 'yes': 6, 'evajacks': 2, 'evangeline-fox': 4, 'jacks': 5, 'break-up': 14, 'artists': 22, 'exposing': 3, 'insurgent': 2, 'tobias-and-tris': 2, 'tobias-eaton': 5, 'caleb': 2, 'dirty-red': 1, 'leah': 1, 'love-me-with-lies': 1, 'olivia': 2, 'heartless': 4, 'jest': 2, 'joker': 1, 'wonderland': 1, 'holding-a-candle': 1, 'letting-go-quotes': 6, 'dominance': 4, 'match': 2, 'proposition': 1, 'realizations': 2, 'bisexual': 7, 'bisexuals': 5, 'gay-men': 5, 'gay-rights': 7, 'glbt': 8, 'guy': 5, 'society-s-increasing-stupidity': 5, 'aslan': 5, 'araby': 2, 'irish_short_stories': 1, 'brigan': 1, 'activist': 12, 'administering': 3, 'animal-rights': 9, 'brand': 8, 'bright-light': 3, 'chasity': 3, 'christian-missions': 3, 'communicator': 3, 'compassionate': 7, 'concern-for-others': 3, 'confident': 14, 'daughter-of-god': 7, 'defending-oceans': 3, 'empowering-women': 10, 'example': 6, 'god-s-plan': 30, 'god-s-protection': 3, 'god-s-warrior': 3, 'good-heart': 6, 'good-hearted': 16, 'good-hearts': 3, 'helping-patients': 3, 'helping-the-poor': 3, 'homeless': 7, 'honest': 25, 'inspire-others': 3, 'inspiring-youth': 3, 'loves-children': 3, 'medical-missions': 6, 'medical-needs': 3, 'merciful': 7, 'mexico': 4, 'motto': 7, 'nicaragua': 3, 'not-hackers': 3, 'not-illegal': 3, 'oceans': 4, 'partners': 10, 'peaceful-warriors': 6, 'protected': 3, 'protecting-animals': 3, 'protects-children': 3, 'pure': 14, 'rescuers': 6, 'rescuing-others': 3, 'rise-higher': 3, 'rising-higher': 3, 'ruth': 3, 'sar': 3, 'saving-lives': 3, 'selective': 4, 'serving-homeless': 3, 'shelters': 3, 'shine': 23, 'shine-your-light': 12, 'spouses': 4, 'staying-positive': 18, 'stayingpositiveuniversity-com': 7, 'the-light-to-others': 3, 'the-one': 11, 'the-queen': 3, 'the-sun': 5, 'to-be-respeted': 3, 'true-beauty': 13, 'vocal': 5, 'warrior-women': 4, 'words-to-live-by': 42, 'worth-the-fight': 3, 'countries': 6, 'nationality': 4, 'politics': 344, 'abnegation': 2, 'dauntless': 4, 'faction': 1, 'meaningless': 3, 'meaninglessness': 3, 'meaninglessness-of-life': 1, 'cordelia-carstairs': 4, 'gossip-girl': 2, 'serena': 1, 'capacity-to-be-alone': 2, 'fey': 1, 'feyrhys': 1, 'feysand': 1, 'the-suriel': 1, 'finding-strength': 1, 'searching-for-answers': 1, 'searching-for-truth': 6, 'achievement': 159, 'great': 20, 'trivial': 10, 'power-of-music': 10, 'immaturity': 2, 'cedric-diggory': 1, 'hermione-granger': 5, 'order-of-the-phoenix': 2, 'unloving': 1, 'vulnerability-selfishness': 1, 'gallagher-girls': 3, 'elizabeth-chandler': 1, 'kissed-by-an-angel': 1, 'jazz': 2, 'amazement': 3, 'amazing': 21, 'commas': 3, 'editing': 2, 'sex-god': 2, 'transform': 17, 'transformation': 83, 'word-junkies': 32, 'bereavement': 9, 'casket': 3, 'funeral': 12, 'beloved': 21, 'abarat': 1, 'absolute-midnight': 1, 'clive-barker': 1, 'black-holes': 4, 'lia': 1, 'prince': 8, 'princess': 7, 'rafe': 1, 'cristina-rosales': 1, 'cinder': 8, 'marissa-meyer': 3, 'prince-kai': 1, 'poe': 6, 'rules': 27, 'alpha': 4, 'alpha-male': 4, 'comedy': 55, 'daydream': 5, 'daydreams': 4, 'deceipt': 2, 'deception': 46, 'drama': 62, 'e-book': 4, 'everlasting': 7, 'exotic': 6, 'guns': 10, 'hot-intrigue': 4, 'killer': 4, 'king': 17, 'murder': 41, 'palace': 5, 'passionate': 16, 'psychotic': 4, 'queen': 15, 'rescue': 12, 'royal': 4, 'royalty': 7, 'terror': 10, 'timeless': 11, 'guilt': 31, 'forget': 22, 'finale': 1, 'autotune': 1, 'bandwagon': 1, 'fads': 1, 'gossip': 35, 'news': 20, 'pity': 6, 'pop-culture': 7, 'pop-music': 1, 'popular': 4, 'popular-culture': 7, 'popular-music': 1, 'propaganda': 9, 'singing': 10, 'tension': 6, 'trends': 3, 'simon-lewis': 28, 'the-mortal-instruments': 9, 'break-up-quotes': 2, 'agony': 3, 'introspection': 31, 'fault': 6, 'like': 10, 'vulnerable': 23, 'gay-romance': 2, 'affirmation': 18, 'todd': 1, 'viola': 2, 'science-fiction': 71, 'force': 25, 'practice': 33, 'saftey': 1, 'security': 40, 'sandman': 1, 'cut': 6, 'self-harm': 3, 'speak': 31, 'die-adam-please': 1, 'so-ignited': 1, 'empty-roads-broken-bottles': 2, 'in-search-for-the-great-perhaps': 2, 'the-great-perhaps': 4, 'young-love': 9, 'good-and-evil': 21, 'sabriel': 1, 'crossed': 2, 'ky': 3, 'celibate': 1, 'rake': 1, 'hidden-messages': 1, 'otp-of-otps': 1, 'parting-words': 1, 'sobbing-sobbing': 1, 'the-center-will-hold': 1, 'dreamers': 13, 'insecure': 4, 'introverts': 6, 'like-minded': 1, 'overthinkers': 2, 'romantics': 5, 'sensitive': 11, 'souls': 26, 'landline': 1, 'jesus-christ': 40, 'phantom': 1, 'believed': 2, 'father': 16, 'buddha': 18, 'proactive': 3, 'alex': 5, 'lauren-oliver': 6, 'lena': 1, 'fatalism': 5, 'lucian-greymark': 1, 'luke-garroway': 1, 'jennifer-l-armentrout': 3, 'onyx': 1, 'maria-v-snyder': 1, 'poison-study': 1, 'valek': 3, 'language': 116, 'tragic': 6, 'keller': 1, 'likeness': 1, 'solaris': 2, 'sentiment': 4, 'your-name': 1, 'future-past': 1, 'phylosophy': 6, 'mrs-coulter': 2, 'fascination': 3, 'scorned': 1, 'abby-abernathy': 2, 'travis-maddox': 2, 'chance': 48, 'addie': 2, 'ashamed': 2, 'unhappy': 16, 'dmitri': 1, 'nalini-singh': 4, 'idolatry': 6, 'masterpiece': 2, 'quest': 54, 'craving': 5, 'heartbreaker': 1, 'sue-bridehead': 1, 'homosexual': 2, 'fighting-for-love': 1, 'problems': 64, 'inej-ghafa': 3, 'kaz-brekker': 3, 'ship': 10, 'six-of-crows': 2, 'adhd': 2, 'bipolar': 2, 'disorders': 2, 'extremes': 1, 'ocd': 6, 'out-of-balance': 1, 'sensitiveness': 2, 'bullies': 7, 'tumblr': 3, 'lisa-kleypas': 2, 'karl-lagerfeld': 10, 'heroin': 2, 'fact': 51, 'surface': 7, 'knowledge-wisdom': 23, 'living-life': 73, 'reason-emotion': 1, 'madeline': 1, 'olly': 1, 'alice-oseman': 1, 'loveless': 1, 'child-abuse': 12, 'innocence': 33, 'repressed-feelings': 1, 'factory': 5, 'son': 8, 'beginnings': 34, 'doors': 11, 'giving-up': 24, 'plans': 35, 'love-and-relationships': 1, 'wyn-connor': 1, 'consolation': 7, 'carelessness': 2, 'hea': 1, 'behaviour': 20, 'declaration': 2, 'gentlemanlike': 1, 'humiliation': 8, 'propriety': 1, 'novels': 26, 'trying': 30, 'cold': 10, 'focus': 173, 'intense': 2, 'intensity': 5, 'make-love': 3, 'not-romantic': 2, 'reserve': 3, 'sleeping': 25, 'giving-your-best': 2, 'malfunction': 2, 'noble': 7, 'quitter': 2, 'solution': 12, 'step-away': 2, 'working-it-out': 3, 'carol': 1, 'impossible-love': 1, 'patricia-highsmith': 3, 'starcrossed-lovers': 1, 'the-price-of-salt': 1, 'americans': 12, 'frontier': 3, 'gaze': 4, 'explanation': 11, 'mystery': 112, 'wangxian': 1, 'ache': 5, 'albert-camus': 6, 'camus': 2, 'comfort': 53, 'community-service': 3, 'encouragement': 112, 'helping-out': 4, 'letting-them-in': 1, 'lonelyness': 1, 'missions': 5, 'reaching-out': 3, 'selflessness': 19, 'tears-together': 1, 'transparency': 13, 'chain-gold': 2, 'chord': 2, 'lyric': 1, 'maltreatment': 1, 'mistreatment': 1, 'sherlock-holmes': 9, 'eden-ahbez': 1, 'adrian-and-sydney': 1, 'otp-foreva': 2, 'otp-in-love': 1, 'rochelle-mead': 1, 'star-crossed-lovers': 1, 'the-fiery-heart': 7, 'where-she-went': 3, 'kiss-of-snow': 1, 'helpless': 4, 'terrible-feeling': 1, 'worst-thing': 2, 'delilah-bard': 2, 'imperfection': 31, 'mothers-and-sons': 3, 'sons-and-mothers': 2, 'the-best-gift': 2, 'the-greatest-gift': 2, 'the-love-of-a-son': 2, 'alibi': 3, 'insane': 16, 'justification': 15, 'justify': 4, 'necessity': 11, 'yearn': 2, 'defenseless': 2, 'first-kiss': 2, 'kisses': 5, 'quiet': 6, 'ari': 1, 'aristotle-and-dante': 1, 'dante': 1, 'sweethearts': 4, 'vow': 1, 'personal-papers': 1, 'hopeful': 82, 'plain-truth': 2, 'daddies': 1, 'fathers': 16, 'dejan-stojanovic': 115, 'feel': 26, 'literature-quotes': 117, 'poetry-quotes': 230, 'quotes-to-live-by': 92, 'plato': 26, 'symposium': 1, 'adulthood': 15, 'one-day-david-nicholls': 1, 'made-me-cry': 2, 'nobility': 7, 'good-enough': 5, 'cristina-marrero': 6, 'cristy-anne': 1, 'queer-youth': 1, 'the-river': 1, 'the-unsung-love-story': 1, 'les-miserables': 3, 'strangers': 15, 'victor-hugo': 2, 'roots': 9, 'stains': 1, 'willem': 2, 'pg418': 1, 'productivity': 33, 'tattoo': 110, 'colleen-hoover': 4, 'slammed': 2, 'last-time': 2, 'butterly-in-a-bottle': 1, 'glean': 1, 'liraz': 1, 'ziri': 1, 'azaleas': 1, 'korean-poetry': 1, 'absolute-love': 1, 'cost': 6, 'monsters': 13, 'stealing': 2, 'wine': 19, 'leo-tolstoy': 1, 'jodi-picoult-sing-you-home': 1, 'lesbians': 1, 'sing-you-home': 1, 'lord-of-shadows': 3, 'miscommunication': 1, 'great-writers': 2, 'gordon-edgley': 1, 'skulduggery-pleasant': 3, 'kev': 2, 'dinner': 10, 'collecting': 2, 'irony': 53, 'choose': 31, 'color': 21, 'lipstick': 1, 'package': 2, 'pick': 4, 'patriarchy': 10, 'crow-s-row': 1, 'love-songs': 1, 'paris': 5, 'rooftop-soliloquy': 2, 'rooftops': 1, 'twilight': 8, 'meghan-chase': 2, 'the-iron-fey': 1, 'attolia': 1, 'eugenides': 2, 'politeness': 9, 'alcohol': 31, 'alone-forever': 1, 'average': 1, 'drink': 6, 'fine': 5, 'mediocre': 6, 'not-good-enough': 1, 'stuck-in-a-rut': 2, 'thinking': 142, 'try-too-hard': 1, 'kiera-cass': 3, 'melody': 5, 'paint': 5, 'parent': 3, 'picture': 8, 'domination': 6, 'flavor': 3, 'meatloaf': 2, 'poetry-life': 10, 'bleach': 5, 'manga': 17, 'orihime-inoue': 1, 'tessa': 2, 'deja-vu': 2, 'catelyn-stark': 2, 'brutal': 2, 'descriptive': 2, 'captive': 1, 'childhood-trauma': 5, 'emotional-abuse': 3, 'healing-the-emotional-self': 2, 'invalidate': 1, 'love-heals': 1, 'marginalized': 1, 'ptsd': 13, 'screams': 1, 'screams-of-agony': 1, 'silent-pain': 1, 'trauma': 32, 'illusion': 45, 'catelyn-starks': 2, 'knight': 4, 'obey': 4, 'protect': 10, 'ruined': 1, 'bickering': 5, 'commonsense': 10, 'letting-go-of-past': 1, 'moving-past-pain': 1, 'archeangels': 3, 'being-unique': 3, 'believing-in-others': 3, 'big-dreams': 10, 'caring-too-much': 3, 'chains': 8, 'courageous': 19, 'crossroads': 68, 'dante-s-inferno': 4, 'faithful': 16, 'family-in-heaven': 3, 'gideon': 3, 'guardian-angel': 3, 'guardian-angels': 7, 'harry-potter-related': 3, 'harry-potter-s-family': 3, 'having-a-conscience': 3, 'having-faith': 4, 'hell-on-earth': 3, 'hold-onto-god': 5, 'holy-ghost': 5, 'humane': 7, 'jedi-warrior': 3, 'journeys': 15, 'kindness-of-strangers': 3, 'loving-one-another': 7, 'moral-conscience': 3, 'no-coincidences': 8, 'obstacles': 50, 'onlyness': 3, 'prayers': 19, 'praying-for-others': 3, 'preexistence': 3, 'preordination': 3, 'qreat-quotes': 3, 'removing-chains': 3, 'rise-up': 7, 'see': 29, 'self-insight': 3, 'sending-angels': 3, 'softening-your-heart': 3, 'spirits': 9, 'stalkers': 5, 'stay-positive': 7, 'the-rainbow-path': 3, 'the-red-path': 3, 'the-white-path': 3, 'vengeful': 4, 'zion': 3, 'vlad': 2, 'hurts': 4, 'refection': 1, 'celia': 2, 'marco': 1, 'handle-with-care': 1, 'picoult': 1, 'bronze': 3, 'medal': 3, 'silver-medal': 2, 'addiction': 24, 'coco-j-ginger': 1, 'the-way-i-loved-you': 1, 'mental-health': 47, 'freyre': 1, 'taking-care': 1, 'fascism': 7, 'harry-dresden': 52, 'thomas-raith': 7, 'eva-tramell': 1, 'sylvia-day': 1, 'anti-christian': 1, 'opposites': 7, 'being-in-love': 1, 'divorcing': 2, 'ending-it': 2, 'sacrifices': 4, 'sonnet-xxx': 2, 'past-lives': 1, 'comradeship': 1, 'anti-marriage': 1, 'sex-positive': 1, 'upliftment': 2, 'langleav': 2, 'humorous': 39, 'lucas': 1, 'pursue': 11, 'shyness': 5, 'sexual': 3, 'desires': 34, 'wants': 10, 'famous-author': 3, 'famous-poet': 3, 'hope-and-despair': 17, 'intellectualism': 13, 'intuition': 43, 'valentine-s-day': 16, 'aching-heart': 3, 'billy-holiday': 1, 'central-features': 1, 'circumstances': 22, 'comeback': 3, 'desperation': 19, 'dwelling': 1, 'edna-st-vincent-millay': 1, 'ex-lovers': 1, 'hole-in-the-world': 1, 'impressive-comeback': 1, 'intense-desire': 1, 'mental-environment': 1, 'negative-experiences': 1, 'phenomenon': 1, 'romantic-life': 1, 'st-vincent-millay': 1, 'sylvia-plath': 7, 'warmth': 10, 'hiding': 7, 'trip': 1, 'understanding-others': 14, 'other-half-of-your-soul': 1, 'your-other-half': 1, 'trade': 3, 'trading': 3, 'cognizant': 3, 'jude-sweetwine': 3, 'oscar-ralph': 1, 'blood-promise': 2, 'dimitri-belikov': 5, 'gentleness': 6, 'rose-hathaway': 7, 'roza': 1, 'demon': 5, 'fly': 26, 'sufism': 21, 'gandhi': 14, 'alex-sheathes': 1, 'lena-holoway': 1, 'joshua-harris': 1, 'apologetics': 57, 'materialism': 54, 'salvation': 62, 'santa-claus': 4, 'stuff': 5, 'superhero': 4, 'author': 110, 'heroine': 2, 'sexual-preference': 1, 'weetzie-bat': 1, 'relationships-love': 3, 'authentic': 16, 'dreamer': 72, 'empath': 2, 'energy': 147, 'feminine': 7, 'free-spirit': 14, 'free-spirit-quotes': 4, 'gypsy': 10, 'gypsy-heart': 2, 'love-yourself': 80, 'untameable': 3, 'wild-and-free': 8, 'wild-child': 3, 'wild-flower': 2, 'wild-quotes': 2, 'wildflower': 5, 'anna': 6, 'flower': 24, 'gemma': 2, 'malley': 2, 'peter': 3, 'the-declaration': 2, 'gaara': 1, 'heal': 55, 'naruto': 7, 'one': 13, 'italian-medieval-poetry': 1, 'alzheimer-s': 1, 'the-wedding': 1, 'fail': 43, 'push': 5, 'succeed': 24, 'survive': 20, 'atlas-shrugged': 16, 'objectivism': 43, 'arin': 2, 'dreaming': 49, 'kestrel': 2, 'sunshine': 27, 'winter': 39, 'gadfly': 21, 'adian-ivashkov': 1, 'rainer-maria-rilke': 2, 'amorous': 4, 'consummation': 2, 'context': 3, 'embrace': 10, 'experience': 186, 'fortune': 18, 'gesture': 2, 'union': 20, 'real-beauty': 2, 'kazuo-ishiguro': 1, 'never-let-me-go': 1, 'poker-face': 1, 'deceit': 27, 'deny': 8, 'illogical': 5, 'lie-detector': 3, 'machine': 5, 'unseen': 5, 'arthurian': 3, 'arthurian-collection': 1, 'camelot': 1, 'fairy-tales': 22, 'merlin': 5, 'mermaid': 6, 'poseidon': 7, 'retellings': 1, 'sea-creatures': 1, 'sword': 3, 'sword-and-sorcery': 2, 'wizards': 3, 'women-s-fiction': 6, 'ya-fantasy': 2, 'ya-paranormal': 1, 'ya-romance': 2, 'homes': 3, 'battle': 34, 'strength-through-adversity': 16, 'stronger': 5, 'champion': 6, 'john-matthew': 1, 'bursting': 1, 'changes': 32, 'complicated': 6, 'creatures': 9, 'flexible': 1, 'flowing': 2, 'multitudes': 1, 'open': 9, 'pull': 2, 'serene': 3, 'shy': 3, 'silent': 16, 'steady': 1, 'tides': 5, 'water': 50, 'waves': 8, 'arzum-uzun': 2, 'arzum-uzun-quotes': 2, 'arzum-uzun-sözleri': 2, 'conflict': 27, 'egocentrism': 4, 'egoism': 12, 'egotistical': 2, 'end-of-the-summer': 1, 'jokes': 8, 'laughing': 5, 'love-poems': 10, 'making-jokes': 1, 'poetry-love': 7, 'crowd': 6, 'doing-fine': 3, 'going-on': 3, 'life-advice': 14, 'open-streets': 3, 'progress': 374, 'recovery': 52, 'spring': 53, 'tired': 12, 'windows': 3, 'worries': 14, 'say-i-love-you': 1, 'tell-them-that-you-love-them': 1, 'bias': 20, 'discernment': 28, 'judgmentality': 1, 'roma-juliette': 1, 'he-s-just-not-that-into-you': 1, 'proving-love': 1, 'quality-person': 1, 'red-path': 1, 'spiritual-path': 4, 'blandness': 2, 'lack-of-feeling': 2, 'irvine-welsh': 1, 'trainspotting': 1, 'oliver-sacks': 3, 'moderation': 11, 'purity': 21, 'virtue': 77, 'manon-blackbeak': 1, 'witch': 11, 'the-purpose-driven-life': 2, 'bloodlines-series': 4, 'rosie': 3, 'the-silence': 1, 'uncertainty': 49, 'weather': 10, 'eros': 7, 'house-of-hades': 2, 'jason-grace': 9, 'rick-riordan': 5, 'never-let-go': 1, 'always': 18, 'cancer': 25, 'green': 11, 'hazel-grace-lancaster': 2, 'john': 3, 'lovely-quote': 2, 'thefaultinourstars': 2, 'boundaries': 20, 'jace-lightwood': 12, 'angeline-dawes': 3, 'hunter': 4, 'boo': 1, 'bring-back': 2, 'buddy': 1, 'companion': 5, 'consideration': 11, 'don-t-go-away': 1, 'good-times': 7, 'impressive': 2, 'looking-back': 2, 'season': 5, 'seasons': 29, 'the-old-good-days': 1, 'trustworthy': 17, 'unforgettable': 1, 'walk-in': 1, 'walk-out': 1, 'an-abundance-of-katherines': 1, 'civilization': 52, 'completeness': 1, 'mcr': 2, 'real': 44, 'too-much': 5, 'haunted': 7, 'kendricks': 1, 'love-dare': 1, 'little-women': 9, 'a-moveable-feast': 1, 'dependence': 8, 'bridgerton-series': 1, 'ending-bad-relationships': 2, 'ending-unhealthy-relationships': 2, 'confirmation': 8, 'alive': 20, 'ghosts': 21, 'lips': 4, 'ends': 3, 'heart-s-strength': 3, 'fever': 1, 'comedy-romance': 2, 'serntiment': 2, 'airport': 2, 'pretention': 1, 'dexter': 1, 'existance': 4, 'prozac': 1, 'mature-ya': 2, 'dog': 13, 'horan': 1, 'lady': 2, 'niall': 1, 'onedirection': 1, 'honestly': 4, 'dress': 4, 'grocery-list': 1, 'drawing': 4, 'siblings': 16, 'whiskey': 3, 'curran': 4, 'kate': 7, 'air': 12, 'relations': 8, 'gale': 1, 'filipino': 3, 'passage': 3, 'divine-mother': 4, 'divine-strength': 4, 'do-the-work': 3, 'doing-the-work': 3, 'emerging': 4, 'god-is-with-you': 3, 'god-is-working-in-your-life': 3, 'inner-strength': 138, 'journey': 179, 'lalah-delia': 4, 'life-path': 11, 'minimalism': 22, 'rebirth': 30, 'reemerging': 3, 'sacred-feminine': 3, 'self-mastery': 10, 'trust-the-journey': 4, 'trust-the-process': 7, 'love-letter': 3, 'assassin-s-blade': 1, 'celaena-sardothien': 3, 'sam-cortland': 1, 'ink': 13, 'islamic': 6, 'martyr': 5, 'muhammad-pbuh': 1, 'prophet': 31, 'study': 40, 'صلى-الله-عليه-و-سلم': 1, 'bts': 4, 'kim-taehyung': 1, 'special': 8, 'taehyung': 1, 'v': 1, 'arc': 1, 'aurora-rising': 1, 'scifi-romance': 1, 'bryce-loski': 1, 'flipped': 1, 'julie-baker': 1, 'there-had-only-been-you': 1, 'flirt': 3, 'game': 21, 'heart-broken': 5, 'photo': 2, 'player': 4, 'closure': 2, 'stranger': 6, 'dream-big': 80, 'nikitagill': 2, 'perspectives': 9, 'bad': 38, 'bad-people': 3, 'bait': 1, 'cheat': 9, 'cheaters': 4, 'corrosive': 1, 'devil': 31, 'devilish': 1, 'fake-friends': 4, 'false-colour': 1, 'fools': 25, 'haters': 22, 'negative': 25, 'negative-people': 10, 'negativity': 29, 'pretence': 1, 'pretension': 3, 'sycophants': 1, 'trickish': 1, 'tricky': 1, 'overcoming': 12, 'paranoia': 10, 'suspician': 1, 'who-you-are': 8, 'villains': 3, 'tragedies': 3, 'ryan-and-beth': 1, 'brokeness': 1, 'perfectionism': 14, 'seeing-people': 1, 'midnight-sun': 1, 'falling-out': 1, 'love-to-hate': 1, 'questioning': 16, 'children-s-feelings': 1, 'christlike': 1, 'christlike-behavior': 1, 'coparenting': 1, 'families-are-forever': 1, 'honorable': 4, 'positive-choices': 1, 'positive-outlooks': 1, 'thoughtful': 19, 'thoughtlessness': 1, 'afraid': 20, 'dear-friend': 1, 'freak': 3, 'reader': 10, 'modesty': 11, 'jon-snow': 2, 'ygritte': 1, 'alec-lightwood': 11, 'alexander-lightwood': 2, 'infernal-devices': 3, 'malec': 3, 'shadowhunter': 2, 'old': 23, 'cake': 10, 'jalal': 1, 'louisa': 3, 'gravity': 8, 'generousity': 1, 'clockwork-angel': 2, 'brett': 1, 'count': 3, 'fall-in-love': 6, 'jake': 1, 'stupidly-stupidly-adorably-otp': 1, 'hex-hall': 5, 'beautiful-disaster': 1, 'forgiven': 1, 'jamie-mcguire': 1, 'allie': 3, 'jackal': 3, 'page-213': 2, 'zeke': 2, 'bitter': 18, 'in-the-end': 6, 'maggie': 1, 'return-to-paradise': 1, 'simone-elkeles': 1, 'friends-to-lovers': 1, 'elizabeth-scott': 1, 'hate-you': 1, 'love-you': 3, 'accusations': 3, 'allies': 3, 'believing': 26, 'friendships-and-love': 2, 'love-and-friendship': 2, 'misunderstood': 23, 'opposition': 8, 'sincerity': 31, 'skepticism': 105, 'trusting': 13, 'gays': 1, 'liam-stewart': 2, 'never-fade': 2, 'ruby-daly': 2, 'famous-quotes-from-classic-books': 14, 'poets-of-the-angels': 2, 'spiritual-empowerment': 3, 'valentine-love': 2, 'world-suicide-prevention-day': 22, 'varen-nethers': 1, 'last-page': 2, 'the-threshold': 1, 'consciousness': 252, 'foundation': 18, 'archangel-consort': 1, 'elena': 2, 'guild-hunter': 1, 'raphael': 1, 'evelyn-hugo': 1, 'hayley-williams': 2, 'horror-films': 2, 'paramore': 5, 'faeries': 5, 'adults': 5, 'distrust': 4, 'erotism': 1, 'answer': 17, 'cole-and-isabel': 1, 'cole-st-clair': 1, 'isabel': 1, 'isabel-culpeper': 1, 'phone': 3, 'voicemail': 1, 'anne-of-windy-poplars': 1, 'anne-shirley': 1, 'gilbert-blythe': 1, 'misattributed-elie-wiesel': 1, 'elena-gilbert': 2, 'stefan-salvatore': 2, 'character-building': 8, 'learning-by-doing': 6, 'quiver': 1, 'lolita': 3, 'nabokov': 5, 'vladimir-nabokov': 1, 'dystopian': 18, 'dystopian-fiction': 1, 'dystopian-future': 1, 'love-humor': 1, 'love-punch': 1, 'punch': 1, 'sad-love': 5, 'teen-love': 1, 'torture': 15, 'tragic-love': 1, 'young-lovers': 1, 'gabriel': 1, 'cordelia-kenn': 2, 'pillow-book': 2, 'correct-love': 1, 'great-love': 1, 'pag-ibig': 1, 'fake': 35, 'haymitch': 1, 'stalking-jack-the-ripper': 1, 'thomas-cresswell': 1, 'nothing-compares': 1, 'nothing-compares-to-you': 1, 'endless-love': 3, 'phury': 2, 'ruin': 2, 'fairy-tale': 9, 'stability': 8, 'boy-trouble': 1, 'connection-with-people': 3, 'diving-timing': 1, 'euphoria': 6, 'la-bella-vita': 1, 'synchronicity': 35, 'twin-flame': 2, 'two-soul': 1, 'universe-messages': 1, 'isaac': 3, 'famous-quotations': 2, 'quotes-about-love': 2, 'thanks': 5, 'thanksgiving': 7, 'half-blood-prince': 1, 'hermione': 2, 'j-k-rowling': 2, 'ron': 2, 'naomi-novik': 1, 'uprooted': 1, 'breathtaking': 1, 'dictionary': 6, 'playing-it-safe': 1, 'taking-a-chance': 1, 'taking-a-risk': 2, 'awkward': 7, 'gorgeous': 3, 'hazel': 3, 'looking-at-me': 2, 'natalie-portman': 2, 'real-life': 14, 'turn-me-on': 2, 'vendetta': 2, 'erotic-romance': 2, 'movement': 27, 'everlasting-love': 4, 'divine': 18, 'divine-love': 7, 'drift': 5, 'evening': 7, 'scent': 8, 'sea-quotes': 3, 'self-empowerment': 34, 'couples-heartbreak': 1, 'artist': 53, 'artistic': 11, 'comparison': 12, 'different': 37, 'gifted': 3, 'jobs': 11, 'on-the-edge': 3, 'radical': 5, 'reach-higher': 2, 'rise-above': 4, 'road-less-traveled': 4, 'screenplay': 2, 'talents': 18, 'television': 17, 'unique': 30, 'ideal': 5, 'falcon': 5, 'love-quotes-for-him': 1, 'islam': 78, 'anne-eliot': 1, 'captain-wentworth': 1, 'surrender': 45, 'cinderella': 9, 'disney': 3, 'being': 44, 'homer': 8, 'place': 15, 'faythe-sanders': 3, 'dimples': 1, 'jeans': 3, 'liam-payne': 1, 'little-things': 9, 'louis-tomlinson': 2, 'zayn-malik': 1, 'cassia': 1, 'disagreement': 13, 'foolishness': 34, 'interconnectedness': 5, 'reveal': 13, 'the-fayz': 2, 'maybe-not': 2, 'maybe-someday': 2, 'stubbornness': 9, 'warren': 1, 'simple-love': 1, 'among-his-own-kind': 2, 'cole': 2, 'psychiatry': 5, 'psychoanalysis': 6, 'advocacy': 8, 'aggression': 8, 'aim': 22, 'animosity': 5, 'annihilate': 4, 'annihilation': 6, 'antagonism': 5, 'arms': 6, 'barricade': 4, 'bleed': 5, 'bomb': 4, 'bombs': 6, 'burn': 10, 'bury': 8, 'corrupt': 12, 'corruption': 39, 'defeat': 33, 'disapprove': 4, 'divide': 12, 'division': 13, 'donald-trump': 6, 'door': 15, 'execute': 4, 'execution': 10, 'extortion': 4, 'famine': 4, 'futile': 4, 'genocide': 10, 'government': 69, 'hope-poems': 4, 'hopeless': 29, 'hostility': 4, 'houses': 4, 'humanness': 6, 'hunger': 15, 'ignorant': 17, 'inhuman': 6, 'inhumane': 4, 'kamand': 37, 'kamand-kojouri': 37, 'kill': 22, 'kind': 36, 'kojouri': 37, 'life-poems': 5, 'love-revolution': 4, 'love-trumps-war': 4, 'love-wins': 6, 'massacre': 5, 'media': 40, 'no-wall': 4, 'object': 8, 'objection': 4, 'obliterate': 4, 'one-earth': 4, 'one-love': 6, 'one-nation': 4, 'otherness': 7, 'outcry': 6, 'politicians': 16, 'protest': 15, 'rebellious': 7, 'revolt': 6, 'scar': 13, 'scared': 15, 'separate': 7, 'solidarity': 5, 'solidarity-poems': 4, 'solidarity-quotes': 4, 'trump': 6, 'unity': 85, 'unity-poems': 4, 'unity-quotes': 4, 'war-poems': 4, 'war-quotes': 6, 'wholeness': 13, 'upset': 4, 'shadow-and-bone': 2, 'africa': 11, 'africans': 4, 'apartheid': 4, 'black-people': 4, 'face': 12, 'fancy': 2, 'human-beings': 9, 'liking': 2, 'nigerians': 2, 'race': 37, 'wise': 125, 'wise-men': 3, 'wise-people': 5, 'diaz': 2, 'essays': 3, 'junot': 1, 'this-is-how-you-lose-her': 1, 'ignore': 8, 'pretend': 9, 'alexandre-dumas': 1, 'marrieds-tbh': 2, 'likeability': 1, 'alexandra-bracken': 3, 'the-darkest-minds': 3, 'rebellion': 17, 'beast-lord': 1, 'ilona-andrews': 2, 'magic-slays': 1, 'reasons': 9, 'cleo-bellos': 1, 'magnus-damora': 1, 'misattributed-to-mother-teresa': 1, 'misattributed-john-lennon': 2, 'procrastination': 22, 'sweetness': 5, 'commerce': 11, 'conscience': 65, 'misattributed-to-gandhi': 5, 'principle': 7, 'sins': 11, 'coldness': 8, 'timelessness': 4, 'puppies': 2, 'grudge': 7, 'letting-go-of-the-past': 7, 'living-in-the-present': 11, 'living-now': 14, 'new-year': 26, 'goal': 66, 'leader': 69, 'contrast': 7, 'unhappiness': 48, 'acts-of-kindness': 6, 'seeds': 19, 'forgetfulness': 3, 'gonzo': 2, 'wisedom': 2, 'misattributed-to-chalmers': 2, 'misattributed-to-joseph-addison': 2, 'misattributed-to-kant': 4, 'misattributed-tom-bodett': 2, 'rightness': 2, 'nursery-rhymes': 1, 'bad-memory': 1, 'mindset': 88, 'ability': 32, 'moving-forward': 28, 'demons': 12, 'kronofobi': 2, 'birthday': 10, 'conduct-of-life': 5, 'country': 23, 'neighborliness': 2, 'rest': 17, 'usefulness': 6, 'comfortable': 4, 'rare': 7, 'all-the-bright-places': 5, 'bailey': 1, 'loser': 14, 'sisterhood': 10, 'being-yourself': 15, 'boldness': 23, 'breaking-the-rules': 1, 'fitting-in': 16, 'getting-older': 1, 'go-against-the-grain': 1, 'lessons-learned': 8, 'living-life-on-your-own-terms': 1, 'non-conformity': 3, 'overcoming-adversity': 8, 'standing-out': 7, 'a-game-of-thrones': 1, 'george-r-r-martin': 3, 'buddhism': 93, 'mathematical': 4, 'mistake': 28, 'philosophical': 106, 'ambivalence': 4, 'ideals': 17, 'backwards': 1, 'brilliance': 11, 'contests': 1, 'data': 10, 'information': 27, 'motion': 13, 'taxation': 2, 'plight': 2, 'catholicism': 78, 'relationship-with-god': 3, 'law-of-attraction': 90, 'manifestation': 86, 'millionaire-mindset': 46, 'new-age': 80, 'stephen-richards': 60, 'visualization': 64, 'wealth-creation': 63, 'bollywood': 2, 'way-to-be': 7, 'karma': 125, 'self-reformation': 10, 'temporary': 13, 'feelings-of-weakness': 2, 'movie': 48, 'depression-humor': 1, 'self-pity': 2, 'the-key-to-happiness': 1, 'vice': 4, 'don-juan': 2, 'twin': 1, 'inspirational-poem': 3, 'chocolate': 12, 'live-in-the-present': 4, 'goal-setting': 141, 'cars': 6, 'happy-heart': 3, 'define': 10, 'strengthen': 5, 'nature-art': 3, 'training': 28, 'elements-of-style': 1, 'favors': 4, 'grammar': 9, 'writing-process': 6, 'tranquility': 24, 'morella': 1, 'prestige': 3, 'illusions': 19, 'irreligion': 3, 'religious-criticism': 1, 'sigh': 3, 'cosmic-ordering': 62, 'dalai-lama': 4, 'harm-reduction': 1, 'intrigue': 4, 'mazer-rackham': 1, 'orthodoxy': 10, 'puritanism': 1, 'strictness': 1, 'eulogy': 6, 'frienship': 8, 'fun-loving': 1, 'joyful': 19, 'stayingpositiveu-com': 12, 'upbeat': 1, 'intothewild': 1, 'supertramp': 1, 'delusions': 6, 'moment-of-being': 1, 'tom-stoppard': 1, 'utopias': 1, 'misfortune': 6, 'pretending': 14, 'noah': 4, 'desert': 10, 'heat': 3, 'importance-of-existence': 1, 'quotes-from-books': 1, 'quotes-from-modern-writers': 1, 'riches': 10, 'short-quote': 1, 'short-quotes': 1, 'sun-worship': 1, 'sunlight': 13, 'sunny': 2, 'sunrise': 14, 'tropical': 1, 'happy-ending': 3, 'little': 6, 'ethics': 103, 'singing-in-the-rain': 2, 'stupidity': 57, 'ittha-sutta': 1, 'long-life': 1, 'pleasant': 1, 'status': 7, 'sutta': 1, 'wishes': 39, 'abundant-thinking': 4, 'acceptance-quotes': 5, 'accepting-yourself': 5, 'affirmation-and-attitude': 7, 'attitude-of-gratitude': 4, 'award-winning-authors': 8, 'be-grateful-for-being-alive': 4, 'be-grateful-for-what-you-have': 4, 'be-grateful-for-your-blessings': 4, 'be-grateful-for-your-life': 4, 'be-grateful-in-life': 4, 'be-grateful-with-your-life': 4, 'be-thankful': 4, 'be-thankful-for-each-day': 4, 'be-thankful-for-what-you-have': 4, 'be-thankful-to-be-alive': 4, 'be-you': 10, 'be-yourself-inspirational': 8, 'be-yourself-original': 4, 'be-yourself-quotes': 8, 'begin-to-take-note': 4, 'best-selling-authors': 9, 'body-mind-spirit': 4, 'content': 79, 'contentment-and-attitude': 7, 'contentment-quotes': 5, 'correct-path': 4, 'correct-your-errors': 4, 'correct-your-mistakes': 4, 'enough': 8, 'enough-said': 4, 'facts-of-life': 8, 'facts-wisdom': 5, 'find-yourself': 74, 'finding-oneself': 4, 'finding-your-way': 7, 'funny-thing-about-life': 4, 'germany-kent': 22, 'germany-kent-quote': 21, 'germany-kent-quotes': 22, 'grateful-attitude': 4, 'grateful-heart': 4, 'grateful-outlook': 4, 'grateful-person': 4, 'grateful-quotes': 4, 'grateful-soul': 4, 'grateful-thinking': 4, 'gratefulness-quotes': 6, 'gratitude-happiness-inner-peace': 4, 'gratitude-is-a-choice': 4, 'gratitude-life-happiness-success': 4, 'gratitude-mind': 4, 'gratitude-quotes': 8, 'gratitude-works': 4, 'gratitudes': 4, 'having-enough': 4, 'healing-the-past': 10, 'healthy-habits': 7, 'healthy-lifestyle': 6, 'healthy-living': 13, 'hope-guru': 20, 'keys-to-success': 4, 'life-and-living-insight': 5, 'life-and-living-life-philosophy': 8, 'life-choices': 7, 'life-lessons-quotes': 12, 'life-quotes-and-sayings': 18, 'love-your-life': 4, 'love-yourself-deeply': 4, 'love-yourself-first': 7, 'love-yourself-quote': 4, 'love-yourself-quotes': 4, 'love-yourself-unconditionally': 4, 'mentality': 13, 'mind-body-soul': 4, 'mind-body-spirit-authors': 4, 'mindset-change': 4, 'mindset-positive': 4, 'motivate': 14, 'motivational-guru': 4, 'motivational-inspirational': 38, 'motivational-speaker': 36, 'motivational-speakers': 12, 'not-enough': 4, 'point-taken': 4, 'positive-attitude-quotes': 4, 'positive-energy': 5, 'power-of-positive-thinking': 4, 'power-of-positivity': 4, 'real-talk': 13, 'reality-of-things': 4, 'reality-quotes': 5, 'resilience': 64, 'respect-quotes': 6, 'respect-yourself': 4, 'self-help-authors': 11, 'success-self-improvement': 30, 'success-tips': 7, 'take-note': 6, 'thankful': 8, 'thankful-attitude': 4, 'the-hope-guru': 20, 'thinking-for-change': 4, 'thinking-process': 4, 'thinking-quotes': 4, 'transformation-quotes': 5, 'transformational': 4, 'transformational-authors': 4, 'transformational-speakers': 7, 'trust-yourself': 13, 'truth-of-life': 61, 'truth-quotes-honesty-quotes': 4, 'wise-sayings-inspiration': 5, 'wise-words-inner-strength': 4, 'word-to-the-wise': 4, 'chaos-of-life': 3, 'stained-glass-window': 3, 'relationship-advice': 10, '55': 1, 'impermanence': 11, 'giddy': 1, 'analogy': 12, 'narnia': 2, 'curses': 3, 'solemnity': 2, 'ourselves': 3, 'belief-quotes': 15, 'dan-howell': 3, 'danisnotonfire': 6, 'youtube': 5, 'alienating': 2, 'bad-memories': 2, 'blaming-others': 3, 'broken-records': 2, 'brutal-truth': 2, 'burying': 2, 'degrading-yourself': 2, 'distancing': 2, 'drowning-others': 2, 'family-conflict': 2, 'find-joy': 2, 'finding-focus': 2, 'focus-on-positive': 3, 'forget-it': 2, 'funeral-director': 2, 'give-it-up': 2, 'hating-others': 2, 'hurting-others': 2, 'issues': 5, 'joyful-living': 14, 'let-it-go': 8, 'life-coach': 11, 'life-coaching': 43, 'love-one-another': 4, 'obnoxious': 4, 'over-thinking': 5, 'rotted-corpse': 2, 'calpurnia': 1, 'diary': 10, 'journal': 14, 'habit': 12, 'mormonism': 5, '618': 1, 'oromis-to-eragon': 1, 'capacity': 6, 'enjoyment': 27, 'fool': 28, 'imperfections': 8, 'socrates': 16, 'drugs': 18, 'huxley': 5, 'faking-it': 2, '100-days-drive': 61, '100daysdrive': 61, 'ambition': 186, 'be-happy': 68, 'be-proud': 64, 'bohemian': 35, 'break-barriers': 61, 'carmaker': 31, 'chase-dreams': 61, 'cherish': 65, 'conquer': 70, 'conquer-fear': 61, 'control-you-life': 31, 'dig-deep': 66, 'don-t-give-up': 81, 'don-t-worry-be-happy': 62, 'empower': 68, 'enjoy-life': 52, 'explore': 93, 'follow-your-dreams': 71, 'follow-your-heart': 65, 'follow-your-own-path': 61, 'free': 80, 'fresh-start': 66, 'goals-in-life': 78, 'good-soul': 61, 'liberate': 62, 'liberating': 67, 'limitless': 37, 'live-life-quotes': 61, 'love-thy-neighbor': 62, 'love-thyself': 61, 'luck': 95, 'memoir': 89, 'never-quit': 65, 'nomad': 61, 'one-life': 62, 'parenthood': 67, 'push-limits': 61, 'reflections': 67, 'resiliency': 64, 'road-trip': 63, 'service-to-others': 61, 'soar': 67, 'soul-food': 61, 'start-all-over': 61, 'thick-skin': 61, 'think-outside-the-box': 63, 'cheater': 3, 'closet': 3, 'consent': 4, 'depressed': 15, 'dirty': 4, 'divorced': 3, 'empowering': 15, 'ended': 3, 'horny': 3, 'jerk': 6, 'keeper': 4, 'keepers': 3, 'nasty': 5, 'nonmonogamy': 3, 'plural': 3, 'polyandry': 3, 'polycule': 3, 'polygyny': 3, 'possessive': 3, 'quad': 3, 'slut': 3, 'sluts': 4, 'spice': 3, 'stay': 8, 'swinging': 3, 'team': 8, 'threesome': 3, 'triad': 3, 'undercover': 3, 'unfaithful': 3, 'unicorn': 7, 'valentines': 3, 'yolo': 4, 'thich-nhat-hanh': 2, 'good-will': 1, 'pursuit-of-happiness': 26, 'egotism': 12, 'opinion': 48, 'precondition': 2, 'regard': 2, 'sef': 2, 'self-destruction': 8, 'challenges': 59, 'blog': 43, 'classes': 3, 'hanging-on': 5, 'pinterest': 4, 'relationships-101': 5, 'starting-over': 16, 'staying-positive-university': 3, 'website': 3, 'be-true': 3, 'comiccon': 3, 'doctor-who': 9, 'geeks': 3, 'nerds': 11, 'words-of-wisdom': 64, 'quality-of-life': 3, 'absurdity': 15, 'pleaure': 3, 'ender': 1, 'dissatisfaction': 5, 'apocalypse': 16, 'apocalyptic': 5, 'brains': 9, 'head': 7, 'innocent': 8, 'integrating': 1, 'integration': 1, 'little-nibble': 1, 'mean': 4, 'mean-people': 4, 'mental-illness': 30, 'nasty-people': 1, 'nibble': 1, 'nibbling': 1, 'post-apocalyptic': 5, 'realize': 9, 'yourself': 32, 'zombie': 3, 'zombie-apocalypse': 4, 'zombies': 8, 'zompoc': 1, 'auschwitz': 1, 'shoah': 1, 'elizabeth': 2, 'immortals-after-dark': 2, 'kresley-cole': 3, 'lothaire': 1, 'secular-morality': 2, 'rat-race': 11, 'fuel': 7, 'gas': 6, 'apothegm': 5, 'kurt-cobian': 1, 'personal-responsibility': 12, 'victim': 16, 'helpfulness': 2, 'pleasures': 4, 'preparation': 14, 'spontaneity': 11, 'rights': 45, 'activity': 3, 'anthem': 1, 'intrisic-motivation': 1, 'planet': 13, 'advantage': 11, 'frank-zhang': 6, 'surprise': 10, 'tides-have-turned': 1, 'turning-point': 2, 'geography': 5, 'awakened': 13, 'self-fulfillment': 5, 'hard-times': 19, 'enjoying': 1, 'chekhov': 1, 'siberia': 1, 'accomplishment': 50, 'becoming-better': 1, 'expansion': 6, 'flow': 17, 'reaching-your-goals': 2, 'stretching-oneself': 1, 'call-to-action': 2, 'call-to-adventure': 1, 'lives': 11, 'time-war': 1, 'astronomy-vs-gastronomy': 1, 'jailbird': 1, 'happiness-life': 13, 'comparing': 1, 'bestrong': 30, 'carma': 30, 'control-your-life': 30, 'don-t-judge': 18, 'high-road': 30, 'open-road': 30, 'quote-of-the-day': 154, 'staystrong': 30, 'teamwork': 36, 'walk-a-mile': 15, 'wateroffaducksback': 30, 'inner-being': 3, 'inner-happiness': 3, 'like-the-sun': 2, 'wild-woman': 6, 'wild-women': 3, 'woman-hood': 2, 'woman-quotes': 4, 'findig-something-to-believe': 5, 'fitting': 5, 'pastors': 7, 'seeking': 24, 'adversity-quotes': 5, 'communication-is-key': 1, 'conflict-resolution': 8, 'discussing': 1, 'discussions': 2, 'explaining': 2, 'honesty-love': 1, 'leaders': 49, 'loving-everyone': 1, 'misunderstandings': 2, 'resolutions': 4, 'self-centeredness': 2, 'solutions': 13, 'solving-problems': 3, 'speech': 61, 'stubborness': 3, 'taking-action': 6, 'teaching': 58, 'self-loathing': 8, 'advertisements': 1, 'infp': 1, 'material': 13, 'adventuress': 3, 'dreameress': 5, 'europa': 3, 'exploration': 35, 'explorer': 9, 'female': 13, 'female-beauty': 4, 'female-characters': 5, 'female-empowerment': 4, 'female-hero': 4, 'female-liberation': 4, 'females': 4, 'femininity': 16, 'girl-power': 6, 'girl-quotes': 5, 'imaginative': 5, 'life-change': 5, 'literary': 8, 'loving-life': 8, 'revitalize': 3, 'revitalizing': 3, 'self-value': 5, 'the-value-of-life': 3, 'the-wanderess': 7, 'wanderess': 5, 'wandering': 17, 'wayfaring': 5, 'woman-empowerment': 2, 'woman-s-strength': 8, 'womanhood': 21, 'women-s-inspirational': 10, 'women-s-liberation': 7, 'women-s-motivational': 3, 'women-s-power': 2, 'heaven-made': 1, 'lightning': 5, 'quarrel': 4, 'thunder': 2, 'worldliness': 2, 'boast': 2, 'constitution': 7, 'perfect-government': 1, 'hero': 39, 'true-to-yourself': 3, 'puppy': 1, 'forward': 6, 'innovation': 22, 'best-version': 4, 'version': 4, 'discontentment': 5, 'achieve': 55, 'crushed': 1, 'enamored': 1, 'hard-work': 45, 'ordinariness': 2, 'ordinary-looking': 1, 'ordinary-looks': 1, 'ordinary-people': 2, 'pretty': 5, 'pretty-girls': 1, 'pretty-people': 1, 'superior': 3, 'superiority': 7, 'work-hard': 18, 'encouraging': 18, 'excitement': 33, 'prosperity': 22, 'universal-law': 4, 'universal-law-of-attraction': 3, 'uplifting': 49, 'vitality': 6, 'cheated': 2, 'shonda-rhimes': 3, 'bees': 10, 'clover': 1, 'lightheartedness': 2, 'prairie': 1, 'revery': 1, 'higher-consciousness': 4, 'non-violence': 2, 'nonviolence': 30, 'world-peace': 18, 'expectation': 31, 'halcyon': 1, 'lana-del-rey': 7, 'social-justice': 13, 'military': 23, 'eckhart-tolle': 1, 'slowly': 4, 'ernst-jünger': 5, 'job': 47, 'something': 3, 'artificiality': 2, 'dishonesty': 13, 'phony': 1, 'social-pressure': 1, 'social-role': 1, 'taoism': 10, 'cognitive-distortions': 1, 'situation': 10, 'books-reading': 6, 'reading-books': 9, 'lifestyle': 39, 'silly': 7, 'unique-purpose': 2, 'greetings': 4, 'loved': 9, 'irene-nemirovsky': 1, 'jezebel': 1, 'moveable-feast': 1, 'overthinking': 8, 'blessings-in-disguise': 4, 'curse': 12, 'dark-night-of-the-soul': 4, 'dualism': 2, 'duality': 12, 'life-journey': 18, 'light-and-darkness': 12, 'pearls': 10, 'yin-and-yang': 2, 'self-indulgence': 3, 'antidote': 5, 'awaken': 17, 'cure': 8, 'destroy': 6, 'fearfulness': 1, 'illumination': 16, 'manifest': 22, 'solace': 8, 'virus': 4, 'escapism': 4, 'paradise': 18, 'daffodils': 3, 'indian-authors': 36, 'perception-of-reality': 6, 'perceptions': 3, 'outsider': 4, 'september': 2, 'judgmental-people': 4, 'beneficial': 1, 'agreement': 5, 'contingent': 1, 'do-s-and-don-ts': 1, 'order': 15, 'surrounding': 1, 'cheerful': 5, 'convey': 2, 'dynamic': 5, 'eruption': 2, 'eventuality': 2, 'external': 2, 'fleeting': 7, 'give-voice-to': 2, 'grass': 6, 'instant': 6, 'internal': 3, 'sensitivity': 11, 'shout-out': 2, 'stillness': 11, 'surreptitious': 2, 'to-stand': 2, 'undercurrent': 3, 'blow': 3, 'fill': 1, 'million': 9, 'shoot-for-the-moon': 1, 'wind': 26, 'keep-it-light': 1, 'live-life-happy': 3, 'jane-austen-literature-humor': 1, 'السعادة': 2, 'bells': 2, 'horror': 26, 'consumption': 3, 'frugality': 5, 'consumerism': 7, 'process': 16, 'galaxies': 6, 'abundance-creation': 51, 'author-stephen-richards': 44, 'manifesting': 43, 'architecture': 7, 'display': 2, 'emtional': 2, 'fair-weather-relationship': 2, 'features': 3, 'outcasts': 2, 'potemkin': 2, 'prefer': 4, 'reject': 4, 'set-up': 2, 'window-dressing': 2, 'hinge-on': 1, 'intricate': 2, 'meandering': 1, 'social-success': 1, 'tangible': 3, 'warrant': 1, 'wellbeing': 8, 'the-good-life': 3, 'dichotomy': 5, 'abide-by': 1, 'blowing-in-the-wind': 5, 'discontent': 2, 'exertion': 2, 'houses-of-cards': 1, 'knock-down': 1, 'roll-up': 1, 'sleeves': 1, 'appealing': 2, 'endear': 1, 'fairy': 1, 'frail': 1, 'the-unexpected': 2, 'wheedle': 1, 'being-happy': 8, 'genuineness': 1, 'inspirational-happiness': 1, 'true-happiness': 6, 'life-less': 2, 'affirmations': 15, 'awake': 9, 'dedication': 32, 'divine-guidance': 5, 'evil-people': 5, 'godliness': 7, 'holy-spirit': 12, 'independent': 7, 'liars': 14, 'loving-you': 6, 'lying-to-yourself': 5, 'peace-of-mind': 55, 'peaceful': 15, 'peacemaker': 12, 'thankfulness': 19, 'trash': 6, 'trusting-god': 24, 'carriage': 1, 'lily': 1, 'heroism': 28, 'patriotism': 25, 'role-models': 5, 'founding': 1, 'founding-father': 1, 'george-washington': 1, 'philosophers': 22, 'research': 47, 'sages': 4, 'antidepressants': 2, 'assistance': 3, 'bupropion': 1, 'hays-office': 1, 'horoscopes': 1, 'measurement': 5, 'mentorship': 4, 'publicity': 1, 'self-delusion': 2, 'smoking': 4, 'soothsaying': 1, 'uncertainty-principle': 4, 'virtues': 3, 'werner-heisenberg': 5, 'anchored': 2, 'bay': 2, 'gently': 3, 'good-luck': 2, 'inveigle': 3, 'soothing': 7, 'tenderness': 14, 'thistledown': 2, 'metaphysical': 60, 'millionaire': 9, 'positive-thought': 36, 'self-growth': 300, 'miss-marple': 3, 'counterfeit': 1, 'fake-smiling': 1, 'hardwired': 1, 'temptations': 3, 'unvarnished': 1, 'attachment': 22, 'fleeting-moments': 2, 'not-belonging': 2, 'toll-the-bell': 2, 'vacant': 2, 'basics': 1, 'green-grass': 1, 'mood': 13, 'mum-s-lap': 1, 'bonheur': 1, 'lucky': 2, 'spread-the-wings': 1, 'crumbs': 1, 'insidious': 2, 'intrusion': 2, 'lease': 1, 'twinkle': 7, 'unattended': 1, 'casting': 1, 'forbearing': 1, 'jackpot': 1, 'monolithic': 1, 'unexpected': 12, 'angle': 1, 'harmony': 57, 'peace-with-yourself': 2, 'poste-restante': 1, 'vagaries-of-life': 1, 'wings': 39, 'queen-song': 1, 'victoria-aveyard': 2, 'pointing-fingers': 2, 'existential': 7, 'ride': 7, 'cutting-your-self': 1, 'emo': 3, 'helplessness': 7, 'hopeless-romantic': 4, 'lfe-essons': 1, 'phases': 2, 'trapped': 4, 'dream-quotes': 6, 'celebration': 9, 'cheer': 3, 'mortality': 33, 'way-of-thinking': 1, 'born-to-die': 5, 'long': 1, 'cakes': 1, 'looking-no-further': 1, 'the-way-of-the-cake': 1, 'the-way-to-happiness': 1, 'understanding-happiness': 1, 'understanding-joy': 1, 'back-again': 1, 'deafen': 1, 'happy-days': 1, 'inattention': 1, 'killing-silence': 1, 'slam': 1, 'tunefulness': 1, 'career': 49, 'career-counseling': 1, 'find-your-passion': 1, 'happiness-fulfillment-desire': 3, 'job-search': 1, 'pursue-your-passion': 1, 'pursuit': 14, 'ralph-waldo-emerson': 2, 'construction': 4, 'deconstruction': 14, 'new-york': 20, 'the-now': 2, 'twists-and-turns': 1, 'care-and-concern': 1, 'droopiness': 1, 'epitome': 1, 'mobile': 1, 'smartphone': 1, 'criminal-minds': 1, 'dust-and-bones': 1, 'reflecting-you': 1, 'remedy': 6, 'remember-me': 2, 'you-had-the-power-all-along': 1, 'nietzsche': 22, 'quiteness': 1, 'artifice': 3, 'divine-right': 3, 'holy-water': 3, 'influence': 36, 'invention': 26, 'jefferson': 5, 'paine': 4, 'secular': 10, 'secular-government': 3, 'thomas-jefferson': 4, 'thomas-paine': 4, 'inspiracional': 1, 'tea': 17, 'deliberate': 4, 'delight': 13, 'envy-and-spite': 1, 'envy-is-evil': 1, 'evilness': 1, 'foul': 2, 'slow-paced': 1, 'spoils': 1, 'bad-company': 1, 'bad-friends': 1, 'company': 6, 'disturbance': 3, 'enigma': 2, 'enigmatic': 1, 'once': 2, 'privacy': 6, 'private-life': 1, 'rememberance': 4, 'today': 55, 'toxic-people': 7, 'unecessary': 1, 'yesterday': 10, 'holy-trinity': 3, 'observation': 31, 'depression-quotes': 4, 'trials-of-life': 3, 'perseverance': 177, 'progression': 10, 'rational': 23, 'safety': 30, 'agreement-with-reality': 10, 'interest': 14, 'american-gods': 1, 'moonlight': 13, 'acknowledging': 1, 'nothingness': 11, 'sound-haven': 1, 'splendor': 3, 'burgeon': 1, 'curve': 1, 'foliage': 1, 'letting-loose': 1, 'rustling': 2, 'vibe': 2, 'mia': 4, 'page-225': 1, 'every': 1, 'happiness-quotes': 53, 'optimism-quotes': 4, 'optimismo': 1, 'reset': 1, 'restart': 1, 'rework': 1, 'adlerian-psychology': 1, 'bliss': 36, 'lifesytle': 1, 'chocolat': 1, 'joanne-harris': 1, 'shadow-puppets': 1, 'erin': 2, 'fireheart': 2, 'firepaw': 2, 'firestar': 3, 'greystripe': 1, 'warriors': 12, 'exit-ghost': 1, 'jack-johnson': 1, '276-277': 1, 'acne': 3, 'body-and-mind': 5, 'calm': 21, 'calmness': 8, 'emotional-freedom': 3, 'emotional-health': 5, 'emotional-intelligence': 6, 'emotional-scars': 3, 'facebook': 3, 'skin': 9, 'skin-care': 3, 'buoyancy': 2, 'exhilarating': 2, 'inspiriting': 1, 'cascade': 2, 'conjure-up': 1, 'enchantment': 3, 'flap': 1, 'out-placer': 1, 'spell': 7, 'splashing': 1, 'critical': 9, 'omelas': 1, 'unknown': 14, 'walk-away': 4, '2014': 2, 'purpose-driven-life': 11, 'secret-of-happiness': 1, 'ted-talks': 1, 'by-your-side': 1, 'dax': 1, 'kasie-west': 1, 'beautiful-women': 3, 'bounty': 2, 'classical-music': 1, 'feasts': 1, 'parties': 2, 'payne': 15, 'boredom': 30, 'disdain': 1, 'disease': 30, 'disgust': 4, 'fondness': 2, 'knowlege': 1, 'thirst': 2, 'achieve-your-dreams': 3, 'achievement-and-attitude': 4, 'achievements': 28, 'achievements-success': 4, 'attitude-inspiration': 4, 'attitude-toward-life': 9, 'authentic-self': 9, 'author-quotes': 3, 'authority': 23, 'be-honest-with-yourself': 2, 'challenge-and-attitude': 2, 'challenge-inspiration-motivation': 3, 'challenges-in-life': 2, 'challenges-of-life': 2, 'changing-your-life': 2, 'changing-yourself': 3, 'comfort-zones': 2, 'complain': 4, 'complaining-about-your-struggles': 2, 'complaining-quotes': 2, 'complaints': 6, 'complete': 14, 'direction': 24, 'don-t-settle': 2, 'everyone': 14, 'evolving': 9, 'grow': 31, 'habits': 185, 'habits-of-action': 3, 'habits-of-mind': 3, 'happy-soul': 3, 'have-faith': 11, 'how-to': 4, 'joyful-life': 2, 'know-your-worth': 4, 'know-yourself': 6, 'knowledge-of-oneself': 2, 'lifetime': 5, 'listen': 27, 'live-each-moment': 2, 'live-truly': 2, 'motivational-authors': 2, 'motivational-speaker-quotes': 7, 'motivational-writers': 2, 'no-excuse': 2, 'no-excuses': 3, 'no-excuses-mindset': 2, 'no-filter': 2, 'no-limit': 2, 'no-limit-people': 2, 'pay-attention': 4, 'pay-attention-to-your-thoughts': 2, 'perfect-timing': 2, 'personal-power': 3, 'principles': 23, 'sacrifice-for-gain': 5, 'sacrifice-in-life': 2, 'significant': 4, 'significant-life': 2, 'step-out': 2, 'step-out-of-your-comfort-zone': 5, 'trying-hard': 7, 'trying-new-things': 3, 'win-in-life': 2, 'winners': 23, 'worth-the-wait': 2, 'disagreeable': 2, 'eccentric': 2, 'ridiculous': 4, 'ashes-of-the-past': 1, 'reborn-from-ourselves': 1, 'dead-level': 1, 'depths': 1, 'keystones': 2, 'reawakening': 1, 'uncharted': 1, 'zest-for-life': 1, 'aims': 13, 'ambitions': 15, 'ambitious': 10, 'motive': 9, 'self-development': 21, 'workaholic': 4, 'anguish': 6, 'hornet-s-nest': 1, 'pessimism': 44, 'prescription': 3, 'reliable': 3, 'stepping-stones': 2, 'wrong-tool': 1, 'waking': 1, 'favor': 15, 'clouds': 23, 'dont-quit': 19, 'quitting-lasts-forever': 5, 'stay-the-course': 5, 'victim-mentality': 10, 'april': 4, 'ending-a-chapter': 1, 'october': 2, 'tale': 8, 'turning-a-page': 1, 'quotient': 1, 'organization': 3, 'flourishing': 6, 'plants': 9, 'greatness': 109, 'puddle-jumping': 1, 'grudges': 6, 'simplify': 3, 'absurdism': 7, 'commute': 1, 'conspicuous-consumption': 1, 'vacation': 5, 'criticism': 62, 'critique': 4, 'first-sentence': 4, 'american-history': 1, 'selling-out': 3, 'brighten': 5, 'others': 30, 'settle': 4, 'standard': 8, 'cloud-nine': 2, 'life-management': 2, 'easy': 7, 'steve-maraboli': 2, 'satyagraha': 3, 'harm-principle': 1, 'law': 48, 'obligation': 2, 'prevention': 3, 'accomplishments': 73, 'connections': 11, 'involvement': 1, 'self-consciousness': 2, 'arguing': 11, 'break': 13, 'dads': 7, 'labeling': 8, 'praise': 31, 'yelling': 7, 'after-you': 1, 'frightened': 2, 'jojo-moyes': 1, 'me-before-you': 1, 'saturday': 1, 'saturday-night': 1, 'weekend': 1, 'affairs-of-the-heart': 4, 'black-american-romance': 1, 'romantic-fiction': 3, 'suspense': 11, 'aphorism': 15, 'aphorisms': 12, 'aphorist': 1, 'aphorists': 1, 'as-happy-as-a-clam': 1, 'beaming': 1, 'beatific': 1, 'blissful': 3, 'blissfulness': 1, 'blithe': 1, 'buoyant': 1, 'carefree': 2, 'chagrin': 1, 'cheerfulness': 3, 'cheerless': 1, 'cheery': 1, 'chirpy': 1, 'contented': 2, 'dejected': 3, 'dejection': 2, 'delighted': 1, 'desolation': 4, 'despairing': 3, 'despondency': 1, 'despondent': 1, 'disconsolate': 1, 'dispirited': 1, 'distress': 3, 'doleful': 1, 'dolefulness': 1, 'down': 3, 'down-at-the-mouth': 1, 'down-in-the-dumps': 1, 'down-in-the-mouth': 1, 'downcast': 1, 'downhearted': 1, 'ecstatic': 1, 'elated': 1, 'elation': 1, 'euphoric': 2, 'exhilarated': 1, 'exhilaration': 2, 'exuberance': 3, 'exultant': 5, 'faces': 8, 'forlorn': 1, 'gaiety': 1, 'glee': 2, 'gleeful': 1, 'gloom': 3, 'gloominess': 1, 'gloomy': 2, 'glum': 1, 'glumness': 1, 'good-spirits': 1, 'gratified': 2, 'grinning': 2, 'hilarious': 4, 'hole': 4, 'holes': 5, 'impressions': 3, 'in-a-good-mood': 1, 'in-good-spirits': 1, 'in-seventh-heaven': 1, 'jocular': 1, 'jocund': 1, 'jollity': 1, 'jolly': 2, 'jovial': 1, 'joviality': 1, 'joyfulness': 12, 'joyless': 1, 'joyous': 1, 'jubilant': 1, 'jubilation': 1, 'jumping-for-joy': 1, 'lighthearted': 1, 'long-faced': 1, 'low-spirits': 1, 'lugubrious': 1, 'malaise': 1, 'merriment': 2, 'merry': 2, 'miserable': 9, 'morose': 2, 'mournful': 1, 'mournfulness': 1, 'on-a-high': 1, 'on-cloud-nine': 1, 'on-top-of-the-world': 2, 'opinions': 40, 'over-the-moon': 1, 'overjoyed': 1, 'pit': 3, 'pits': 1, 'pleased': 1, 'quotations': 14, 'radiant': 1, 'rapture': 2, 'rapturous': 1, 'satire': 38, 'satisfied': 1, 'sorrowful': 1, 'the-blues': 1, 'thrilled': 1, 'tickled-pink': 1, 'transports-of-delight': 1, 'tribulation': 4, 'untroubled': 1, 'walking-on-air': 1, 'well-being': 21, 'woe': 2, 'woebegone': 1, 'woeful': 1, 'wretchedness': 1, 'autobiography': 11, 'utilitarianism': 8, 'insperational': 2, 'vipassana': 1, 'vipassana-meditation': 2, 'stress-relief': 8, 'birds': 24, 'imagery': 10, 'lessons-in-life': 9, 'second-chances': 8, 'brenda-farrar-ejemai': 2, 'library': 16, 'hitchhikers-guide-to-the-galaxy': 5, 'rock-stars': 1, 'charlaine-harris': 1, 'conscious': 29, 'mental-peace': 4, 'middele-way': 4, 'neglect': 9, 'neglected': 4, 'outlook': 8, 'reasoning': 31, 'state-of-mind': 9, 'suzy-kassem': 73, 'synergy': 5, 'british': 7, 'happiness-choices': 6, 'guilty-pleasure': 1, 'penny-reid': 1, 'science-of-happiness': 1, 'secrets-of-happiness': 1, 'puritan': 3, 'reformed': 2, 'umbrellas': 2, 'alex-elle': 1, 'owl-city': 1, 'rainbow-veins': 1, 'deserving-respect': 1, 'ending-relationships': 1, 'finding-joy': 7, 'finding-peace': 4, 'great-value': 1, 'painful-situations': 1, 'putting-up': 1, 'self-imposed': 1, 'self-imposed-pain': 1, 'struggles': 22, 'too-little': 1, 'too-long': 1, 'walking': 25, 'considerate': 2, 'holiness': 20, 'inconsiderate': 2, 'obedience': 21, 'righteous': 12, 'righteousness': 15, 'indecision': 3, 'compelling': 10, 'consciousness-quotes': 6, 'consciousness-raising': 1, 'divine-grace': 3, 'donna-goddard': 7, 'growth-quotes': 6, 'healing-insights': 4, 'soul-quotes': 6, 'spiritual-healing': 3, 'spiritual-quotes': 51, 'the-love-of-devotion': 3, 'motivating': 7, '1000-quotes': 1, 'excellence': 28, 'inspirational-women': 1, 'joan-of-arc': 1, 'powerful-women': 4, 'queen-elizabeth-i': 2, 'death-is-the-road-to-awe': 1, 'death-note': 6, 'life-and-death': 25, 'power-of-now': 3, 'road-to-awe': 1, 'existentialism': 91, 'adventure-quotes': 1, 'soul-connection': 1, 'women-quotes': 2, 'childhood-memory': 4, 'time-traveling': 1, 'louisa-may-alcott': 7, 'smart-people': 1, 'shme': 1, 'vices': 3, 'fighting-battles': 4, 'greater-glory': 51, 'greater-good': 7, 'value-of-work': 2, 'fulfilment': 3, 'happyness': 3, 'inspirirational-quotes': 2, 'rasheed-ogunlaru': 7, 'rushing': 2, 'stepping-back': 2, 'time-out': 2, 'hell-to-well': 1, 'identities': 1, 'knowing-yourself': 3, 'now': 18, 'organizing': 1, 'planning': 34, 'road-to-recovery': 1, 'true-self': 3, 'wellness': 23, 'gastronomy': 2, 'hardship': 38, 'lines': 3, 'geek': 3, 'labels': 9, 'mother-and-daughter': 1, 'natural': 15, 'paganism': 42, 'pantheism': 37, 'mitch-albom': 3, 'blaze': 4, 'enrapture': 1, 'lucky-moment': 1, 'observant': 2, 'patient': 7, 'sparkle': 1, 'vibration': 6, 'inferiority': 7, 'women-s-rights': 5, 'legends': 7, 'wicked-king': 1, 'follow': 5, 'incendentally': 1, 'wild-goose-chase': 1, 'doing-your-best': 1, 'new-relationship': 1, 'franklin-bean': 1, 'amends': 2, 'nonfiction': 37, 'go': 5, 'freedom-of-thought': 23, 'fairytales': 2, 'happily-single': 1, 'standing-alone': 3, 'write-your-own-fairytale': 1, 'existing': 4, 'surviving': 6, 'death-of-a-mother': 2, 'geese': 2, 'oppression': 19, 'shooting': 2, 'ogwo-david-emenike': 1, 'clarity': 47, 'sublime': 3, 'band': 6, 'priority': 7, 'milkweed': 1, 'warsaw': 1, 'past-love': 3, 'profession': 6, 'needs': 21, 'having-guts': 1, 'freud': 17, 'chinese-philosopher': 2, 'philosophy-of-life': 98, 'contentness': 6, 'disposition': 3, 'light-disposition': 1, 'exciting': 9, 'assets': 2, 'being-content': 2, 'belongings': 2, 'controlling': 1, 'forfeit': 1, 'goods': 1, 'junk': 1, 'less': 4, 'needless': 2, 'nonessential': 1, 'owning': 1, 'possessions': 4, 'superfluous': 2, 'things': 11, 'throw-away': 2, 'useless': 7, 'yeild': 1, 'refinement': 2, 'sabotage': 4, 'certainty': 41, 'cowardice': 14, 'critics': 15, 'ridicule': 18, 'satan': 16, 'scrutiny': 3, 'standing-your-ground': 2, 'looking-for': 1, 'hearts-in-atlantis': 1, 'stephen-king': 5, 'taking-risks': 8, 'popularity': 17, 'emblem': 1, 'rising': 1, 'richelle': 43, 'richelle-goodrich': 48, 'bird-kids': 1, 'dolphin': 1, 'flying': 38, 'i-approve-too': 1, 'shipping': 1, 'kathy-lette': 1, 'nip-tuck': 1, 'shop': 1, 'being-your-best': 1, 'mouloud-benzadi': 2, 'solutide': 1, 'egoist': 1, 'egotist': 1, 'envious': 3, 'hater': 3, 'pangs': 1, 'prying': 1, 'relate': 5, 'show': 4, 'surprises': 6, 'villian': 2, 'witchcraft': 4, 'prom': 2, 'deepak-chopra': 6, 'this-moment': 1, 'human-condition': 16, 'bitch': 6, 'think': 42, 'giving-love': 3, 'neediness': 1, 'choosing-happiness': 1, 'children-books': 1, 'crete': 2, 'jack-r-kearns': 1, 'mrs-sjostrom': 1, 'third-grade': 1, 'absence-of-suffering': 1, 'relief': 3, 'wooing': 1, 'should': 2, 'page-177': 1, 'السعادة-الإيمان': 1, 'unhealthy': 5, 'the-purpose-of-life': 3, 'create': 21, 'creating': 9, 'creative-act': 1, 'creative-genius': 1, 'creative-mind': 1, 'creative-process': 10, 'creative-work': 1, 'creative-writing': 48, 'creatives': 1, 'creativity-quotes': 2, 'creator': 34, 'joy-of-life': 15, 'joy-quotes': 2, 'make-stuff': 1, 'motivators': 4, 'passion-project': 1, 'passion-projects': 1, 'what-do-i-want': 1, 'what-do-we-want': 1, 'what-matters-most': 1, 'what-to-do': 1, 'what-to-live-for': 2, 'what-you-want': 1, 'why-are-we-here': 1, 'why-are-you-alive': 1, 'why-are-you-here': 1, 'why-do-you-want-it': 1, 'why-i-write': 2, 'why-we-are-alive': 1, 'why-we-are-here': 1, 'why-we-do-what-we-do': 1, 'why-we-live': 2, 'why-we-live-on-earth': 1, 'why-we-wake-up': 1, 'why-we-write': 2, 'how-to-be-happy': 3, 'affliction': 3, 'ashes': 3, 'assassinations': 1, 'credit': 3, 'detestable': 1, 'dishonourable': 1, 'doctrine': 14, 'europe': 7, 'horrid': 1, 'impostor': 2, 'joshua': 3, 'moses': 3, 'origin': 9, 'persecutions': 1, 'prophets': 4, 'religious-wars': 1, 'revealed-religion': 1, 'samuel': 1, 'testament': 1, 'the-bible': 5, 'wickedness': 4, 'word-of-god': 7, 'nurturing': 3, 'beauty-of-life': 7, 'beauty-quotes': 4, 'blissful-feeling': 2, 'blissful-journey': 2, 'focus-your-energy': 2, 'focusing': 5, 'gods-grace': 12, 'life-energy': 3, 'nonduality': 16, 'vedanta': 10, 'godconsciousness': 1, 'moksha': 1, 'freemason': 1, 'freemasonry': 2, 'masonic': 1, 'sleepless': 3, 'childhood-memories': 4, 'arnold-lobel': 1, 'frog-and-toad': 1, 'richelle-e-goodrich': 15, 'simple-acts': 2, 'visiting': 2, 'cause': 8, 'cause-and-effect': 5, 'point-of-view': 6, 'always-believe': 6, 'feeling-down': 6, 'humanity-and-reality': 3, 'burden': 12, 'map': 2, 'double-life': 1, 'negation': 1, 'therapist': 2, 'blame-game': 1, 'blaming': 2, 'choices-and-consequences': 7, 'choosing-your-path-in-life': 1, 'wasting-time': 5, 'simulation': 1, 'finding': 7, 'finding-your-path-in-life': 1, 'joy-for-life': 1, 'letting-go-of-expectations': 1, 'letting-go-of-stuff': 1, 'living-life-to-the-full': 3, 'agitation': 1, 'contribution': 4, 'difference': 19, 'overrated': 1, 'advice-for-writers': 3, 'aleph': 2, 'art-of-literature': 6, 'authorship': 6, 'born-again': 7, 'characterization': 2, 'cohen': 4, 'craft': 10, 'craftsmanship': 5, 'critique-of-modernity': 2, 'dialogue': 9, 'educational': 21, 'fame-and-fortune': 2, 'famous-authors': 11, 'faults': 6, 'grammatical': 2, 'happiness-positive-outlook': 3, 'human-potential': 3, 'humaneness': 2, 'inspiring-quotes': 27, 'islamic-quotes': 4, 'koran': 5, 'leonard-cohen': 3, 'literary-criticism': 10, 'literary-theory': 2, 'narration': 3, 'novelist': 7, 'phrasing': 2, 'roman': 15, 'sentence-structure': 2, 'writing-advice': 9, 'writing-and-art': 2, 'writing-art': 2, 'writing-as-a-profession': 2, 'writing-craft': 4, 'writing-from-the-heart': 3, 'goldberg': 1, 'monk': 5, 'mr-monk': 1, 'natalie': 3, 'unconsciousness': 2, 'never-lose-hope': 6, 'hobby': 6, 'cynical-humor': 1, 'employment': 26, 'happiness-at-workplace': 1, 'destiny-quotes': 9, 'fate-quotes': 5, 'common-people': 1, 'caligula': 1, 'eternal': 9, 'elephant': 3, 'haidt': 2, 'jon': 2, 'jonathan': 2, 'mindfuckery': 2, 'raise-your-awareness': 1, 'share-your-uniqueness': 1, 'your-uniqueness': 1, 'bad-days': 1, 'good-days': 1, 'rock-bottom': 8, 'ups-and-downs': 1, 'americanism': 2, 'fruits-basket': 5, 'tohru-honda': 1, 'protector': 2, 'chase': 4, 'extraordinary': 16, 'beginnings-and-endings': 4, 'controlling-others': 3, 'games': 27, 'mantra': 9, 'rescued': 2, 'saved': 8, 'tests': 4, 'trips': 2, 'vacations': 2, 'emotions-and-attitude': 2, 'impulse': 9, 'impulse-control': 2, 'intention': 24, 'releasing-the-past': 2, 'self-discipline': 5, 'inspiriational': 1, 'lds': 16, 'mormon': 12, 'grow-the-mindset': 3, 'life-changes': 2, 'lifecoach': 2, 'quality-management': 3, 'selfcare': 4, 'epicureanism': 4, 'pythocles': 2, 'amanda-colier': 1, 'dawson-cole': 1, 'dharma': 4, 'contact': 8, 'selfhood': 2, 'siddartha': 1, 'careers': 5, 'do-overs': 1, 'living-for-gods-best': 1, 'modes': 1, 'relentless': 2, 'sequels': 1, 'signs': 9, 'symbols': 4, 'tenacious': 3, 'tomorrow-s-wave': 1, 'gintama': 1, 'truth-will-set-you-free': 4, 'contentedness': 1, 'material-wealth': 1, 'g-d': 1, 'holidays': 5, 'callum-mcgregor': 1, 'adage': 55, 'advertisement': 42, 'alliterations': 42, 'amit-kalantri': 78, 'amit-kalantri-quotes': 77, 'amit-kalantri-writer': 51, 'application': 6, 'assiduity': 3, 'blogging': 39, 'book-writing': 42, 'catch-lines': 42, 'catchphrases': 43, 'characters': 53, 'citizen': 4, 'civilian': 3, 'common-man': 5, 'consideration-rarelonganimity': 3, 'diligence': 7, 'doggedness': 3, 'endurance-calmness': 3, 'equanimity': 8, 'equilibrium': 6, 'essay': 50, 'even-temper': 3, 'even-temperedness': 3, 'forbearance': 3, 'fortitude': 23, 'imperturbability': 3, 'indefatigability': 3, 'indulgence': 5, 'inexcitability': 3, 'insistence': 4, 'lenience': 3, 'movie-dialogue': 46, 'novel-writing': 43, 'obstinacy': 4, 'pertinacity': 3, 'proverbs': 57, 'public-speaking': 44, 'punchline': 35, 'purposefulness': 3, 'resignation': 11, 'resoluteness': 3, 'resolution': 10, 'resolve': 11, 'restraint': 4, 'rhetoric': 50, 'script': 43, 'script-writing': 42, 'scriptwriting': 42, 'self-restraint': 3, 'singleness-of-purpose': 3, 'slogans': 26, 'social-networking': 40, 'speechwriting': 42, 'staying-power': 3, 'sufferance': 3, 'tag-lines': 42, 'tenacity': 12, 'tranquillity': 3, 'unexcitability': 3, 'voter': 5, 'nella-larsen': 1, 'quicksand': 1, 'love-is-boring': 1, 'don-t-be-afraid': 2, 'benign': 2, 'proactively': 2, 'learning-to-love-yourself': 1, 'leisure': 15, 'unemployment': 3, 'rich': 23, 'alikkais': 1, 'auliq-ice': 4, 'poughkeepsie': 2, 'expectation-s': 1, 'disguised': 4, 'hidden': 8, 'masks': 11, 'snakes': 4, 'words-of-inspiration': 4, 'nourishment': 5, 'reward': 11, 'one-liner': 13, 've-attitude': 7, 'wisdom-wise': 7, 'witty': 52, 'obliviousness': 1, 'ray-bradbury': 3, 'fan': 2, 'breath': 14, 'energy-healing': 9, 'sand': 5, 'screenwriters': 3, 'the-beach': 3, 'women-wisdom': 3, 'writers-life': 8, 'flight': 29, 'mental': 18, 'open-your-heart': 6, 'skills': 23, 'times': 8, 'dawn': 13, 'seashore': 1, 'grateful': 15, 'influences': 4, 'negative-influence': 6, 'negative-thoughts': 4, 'opinions-of-others': 5, 'connection-with-the-infinity': 1, 'enlightenment-quotes': 1, 'free-will': 41, 'free-will-quotes': 2, 'vedanta-remembrance': 1, 'limitations': 24, 'play-it-safe': 1, 'diseases': 5, 'doctors': 18, 'eating-habits': 3, 'fruits': 11, 'health-is-wealth': 3, 'hearty': 3, 'physical-health': 3, 'well': 7, 'work-out': 4, 'annoying-people': 2, 'conflict-management': 2, 'learning-from-mistakes': 12, 'learning-from-others': 2, 'fix': 7, 'jim-mcdonald': 1, 'student-of-experience': 1, 'andrew-landon': 1, 'bed': 9, 'intimate': 4, 'm-m-romance': 1, 'mm-romance': 1, 'spencer-cohen': 1, 'youthfulness': 4, 'basis': 6, 'daily': 17, 'saying': 8, 'wanting': 14, 'inspirational-books': 1, 'epicurus': 5, 'atheist': 35, 'dialectical-materialism': 4, 'irreconcilable-atheism': 2, 'irreconcilable-atheist': 2, 'magnanimity': 2, 'materialist': 2, 'proletarian': 2, 'red-army': 2, 'revolutionist': 2, 'soviet': 2, 'seek': 15, 'philosophy-of-religion': 11, 'coffe': 1, 'donuts': 2, 'enthusiastic': 9, 'luxury': 12, 'oriented': 5, 'being-alone': 3, 'enjoying-life': 2, 'enjoying-solitude': 2, 'enjoying-the-little-things': 2, 'happily-alone': 2, 'strive': 6, 'funny-but-true': 14, 'sense-of-humor': 8, 'debasish': 9, 'freshness': 2, 'mridha': 19, 'a-different-perspective': 1, 'inspirational-living': 101, 'attainment': 1, 'the-way-of-happiness': 3, 'ani-difranco': 1, 'older': 2, 'pathetic': 3, 'images': 4, 'moral-decay': 1, 'david-gilmour': 1, 'the-film-club': 1, 'point-of-origin': 4, 'detour': 1, 'scenery': 1, 'tom-robbins': 1, 'seriousness': 5, 'helen-keller': 2, 'law-of-generosity': 2, 'law-of-love': 2, 'general-truth': 1, 'intent': 27, 'move': 8, 'this-day': 2, 'recipe': 2, 'claws': 2, 'crash': 4, 'legs': 2, 'love-making': 4, 'poetry-book': 3, 'sensual': 9, 'new-age-movement': 34, 'new-thought': 93, 'self-limiting-beliefs': 34, 'kenyon': 1, 'william-blake': 1, 'self-satisfaction': 1, 'hiroshima-mon-amour': 1, 'longing-for-love': 1, 'marguerite-duras': 1, 'john-galt': 14, 'extinction': 16, 'fleeting-thoughts': 1, 'law-of-attraction-books': 3, 'motivational-books': 1, 'thrive': 7, 'carnival': 2, 'genuine-love': 1, 'pure-heart': 12, 'admit': 1, 'beyond': 7, 'black': 10, 'distracted': 1, 'fused': 1, 'grab': 2, 'grabbing': 1, 'lights': 1, 'scratch': 1, 'spider': 2, 'web': 1, 'make-peace': 1, 'making-peace': 1, 'present-moment': 14, 'encounters': 3, 'fell-de-se': 1, 'robert-shelton': 1, 'van-gogh': 2, 'vincent-van-gogh': 2, 'childlikeness': 7, 'cynic': 5, 'fearful': 13, 'fearlessness': 29, 'naive': 10, 'optimist': 9, 'reliability': 6, 'skeptic': 11, 'trustful': 6, 'trustworthiness': 7, 'zeal': 5, 'buying-a-cake': 1, 'howl-at-the-moon': 1, 'noel-fielding': 1, 'ponchos': 1, 'the-mighty-boosh': 1, 'patterns': 6, 'party': 13, 'toast': 1, 'awakenings': 6, 'aware': 14, 'clarification': 7, 'complacent': 6, 'encouraging-words': 5, 'inspirational-words': 11, 'inspiring-word': 5, 'motions': 5, 'sleepwalking': 5, 'understandings': 5, 'words-of-encouragement': 6, 'words-of-god': 5, 'words-that-inspire': 5, 'known': 4, 'simplicity-happiness-joy': 1, 'street': 4, 'self-sabotage': 2, 'blindness-of-man': 1, 'complexity': 28, 'complication': 1, 'depravity': 4, 'fallen': 6, 'omnipotence': 4, 'omnipresence': 2, 'omniscience': 5, 'scam': 1, 'stupidity-of-man': 4, 'ultimate': 7, 'page-178': 1, 'statue-of-liberty': 2, 'felicidade': 2, 'pleasures-of-life': 2, 'ungratefulness': 1, 'demand': 3, 'drunkenness': 1, 'sobriety': 3, 'wakefulness': 1, 'familial-love': 1, 'lesson': 17, 'weapon': 5, 'l-m-montgomery': 4, 'tell': 5, 'golden-cards': 1, 'inspirational-spirit': 1, 'paper-roses': 1, 'red-ribbon': 1, 'search-of-truth': 2, 'ego-defence': 1, 'talent': 32, 'acceptance-of-others': 3, 'ascension': 6, 'bell-hooks': 5, 'embodiment': 5, 'fetters': 4, 'matrix': 6, 'mental-power': 4, 'mohadesa': 4, 'mohadesa-najumi': 4, 'najumi': 4, 'neuroscience': 20, 'normal': 10, 'norms': 2, 'osho': 5, 'psycology': 5, 'sociology': 38, 'third-eye': 7, 'songwriting': 11, 'anticipation': 13, 'skill': 25, 'earned': 1, 'given': 1, 'suddenly': 2, 'goodness-quotes': 2, 'happy-birthday': 2, 'cycling': 3, 'physical-activity': 1, 'compassionate-grateful': 2, 'generous': 5, 'good-vibes': 1, 'jack': 5, 'may': 3, 'twice-upon-a-time': 1, 'self-enquiry': 1, 'blogger': 7, 'happy-positivity': 5, 'law-of-attraction-quotes': 9, 'law-of-attraction-the-secret': 5, 'concern': 11, 'magnificent': 3, 'dyer': 1, 'edward-dyer': 1, 'sir-edward-dyer': 1, 'anti-religious': 1, 'imoral': 1, 'conflicts': 2, 'hardships': 11, 'act': 33, 'happiness-quote': 3, 'many-selves': 1, 'doubts': 7, 'drive': 23, 'energies': 2, 'notes': 5, 'stumbling-blocks': 2, 'vibes': 3, 'vibrations': 7, 'subsistence': 2, 'negative-thinking': 2, 'city-life': 4, 'blessings-quotes': 9, 'expressions': 6, 'fruits-of-spirit': 6, 'happenings': 6, 'incredible': 7, 'incredible-quotes': 6, 'notable-quotes': 6, 'philosophy-of-god': 6, 'remarkable-quotes': 6, 'transform-life': 6, 'words-of-truth': 6, 'england': 4, 'change-your-life': 41, 'embrace-life': 1, 'fulfilling-purpose': 7, 'life-goals': 34, 'achieving-vs-desiring': 1, 'attainable-goals': 1, 'being-in-the-game': 1, 'defining-your-life': 1, 'focus-on-your-dreams': 3, 'forming-life-goals': 1, 'knowing-what-you-want': 2, 'knowing-why-you-want-it': 1, 'organizing-your-life': 1, 'participating': 1, 'realistic-goals': 1, 'self-assessment': 7, 'setting-goals': 1, 'striving': 12, 'wanting-something': 1, 'run': 9, 'lethal': 2, 'sandra-brown': 2, 'brave': 42, 'inpirational-quotes': 5, 'happiness-in-life': 8, 'joy-in-abundance': 1, 'online-dating': 1, 'leaf': 4, 'childbirth': 4, 'family-planning': 3, 'joy-of-marriage': 2, 'pro-life': 3, 'the-art-of-life': 2, 'equal': 3, 'humor-inspirational': 8, 'self-interest': 2, 'gawad-kalinga': 1, 'gk': 1, 'nelson-dy': 1, 'tony-meloto': 1, 'your-first-job': 1, 'life-direction': 3, 'thisuri-wanniarachchi': 1, 'knife': 1, 'neuroscience-of-free-will': 1, 'buddhahood': 2, 'samsara': 2, 'catholic': 44, 'family-life': 2, 'exile': 4, 'firefly': 1, 'friendship-quote': 1, 'historical': 16, 'childhoods': 1, 'cornelia': 1, 'teo': 1, 'irionic': 1, 'anthony-t-hincks': 114, 'fruit': 16, 'orchard': 1, 'strawberries': 1, 'strawberry': 2, 'france': 5, 'french-revolution': 2, 'life-and-times': 2, 'heart-of-a-man': 1, 'healing-physical-pain-spells': 1, 'prayers-answered': 2, 'prayers-of-the-heart': 3, 'prosperity-consciousness': 1, 'soulmates-by-chance': 1, 'soulmates-love': 1, 'wealth-accumulation': 3, 'wealth-building': 3, 'people-quotes': 2, 'knowledge-religion': 9, 'burial': 6, 'celebrate': 11, 'ceremony': 3, 'coffin': 2, 'different-people': 2, 'psyche': 2, 'psychic': 8, 're-incarnation': 2, 'rituals': 3, 'ups-and-down': 2, 'delights': 2, 'contraries': 1, 'contrary': 2, 'endless': 6, 'nonjudgmental': 5, 'hunky-dory': 1, 'meal': 3, 'happiness-quotations': 7, 'ildan-wisdom': 2, 'ildan-wise-sayings': 2, 'ildan-words': 2, 'mehmet-murat-ildan-quotations': 2, 'mehmet-murat-ildan-quotes': 20, 'purpose-of-life-quotes': 1, 'purpose-of-living': 1, 'purpose-quotations': 1, 'purpose-quotes': 6, 'turkish-authors': 2, 'turkish-literature': 3, 'turkish-playwrights': 2, 'turkish-quotations': 2, 'turkish-quotes': 3, 'turkish-wisdom-words': 2, 'turkish-writers': 3, 'dots': 1, 'night-stars': 1, 'clinging': 3, 'mitigation': 1, 'monkey-mind': 1, 'voice-in-my-head': 1, 'ratchet': 1, 'acceptan': 1, 'approachable': 1, 'broad-minded': 1, 'interested': 1, 'leading': 3, 'open-minded': 9, 'open-to-suggestions': 1, 'perceptives': 1, 'teachable': 6, 'suicidal': 4, 'fulfill': 2, 'fulfilled-life': 1, 'israelmore-ayivor': 44, 'rejoice': 9, 'sinful': 2, 'mind-body-connection': 1, 'mother-teresa': 3, 'fears': 24, 'hopes': 13, 'nourish': 4, 'paralysis': 4, 'plan': 11, 'alysha': 1, 'sharden': 1, 'speer': 1, 'taxes': 4, 'adornment': 1, 'brides': 1, 'brightness': 4, 'jewels': 1, 'metaphors': 4, 'phoenix': 3, 'radiance': 2, 'wedding': 7, 'strangers-on-a-train': 2, 'terribly': 2, 'train': 8, 'frankenstein': 4, 'the-way-of-peace': 1, 'true-peace': 2, 'green-thumb': 1, 'belief-confidence': 2, 'japan': 9, 'jo-s-boys': 1, 'temperature': 3, 'embarassment': 1, 'freiheit': 1, 'glück': 1, 'dreaming-big': 4, 'hafiz': 5, 'rhonda-byrne': 3, 'tony-robbins': 3, 'live-your-life': 10, 'pleasing-people': 1, 'voyage-to-happiness': 1, 'classification': 2, 'harmonic': 2, 'income': 7, 'justive': 2, 'occupy': 2, 'pulse': 2, 'segegation': 2, 'darkness-quotes': 2, 'fighting-spirit': 18, 'happy-life-secrets': 1, 'qotd': 4, 'thought-of-the-day': 2, 'olivia-sudjic': 1, 'important-quotes': 1, 'labelling': 1, 'communal': 1, 'supportive': 1, 'succumb': 2, 'tips': 2, 'numbness': 8, 'spain': 3, '19': 1, 'neck': 1, 'thighs': 4, 'bloom': 13, 'bud': 1, 'river': 13, 'choosing': 9, 'julian': 1, 'lena-haloway': 1, 'requiem': 1, 'author-stephanie-lahart': 3, 'peace-within': 3, 'superman': 1, '21st-century-quotes': 4, 'modern': 11, 'modern-quotes': 3, 'permanent': 7, 'real-happiness': 5, 'recreation': 7, 'time-pass': 3, 'the-sign-and-its-children': 3, 'ultimate-knowledge': 1, 'choices-and-attitude': 2, 'nurture-or-nature': 1, 'proactive-proactivity': 1, 'happy-man': 1, 'within': 10, 'without': 3, 'irrationality': 9, 'perfectionist': 10, 'pursuit-of-happyness': 3, 'pursuits': 4, 'bullshit': 22, 'empowering-women-101': 1, 'establish': 1, 'violin': 5, 'awesomeness': 6, 'different-lives': 1, 'sheppherd': 1, 'something-wrong': 1, 'amusement': 2, 'find-happiness': 1, 'happy-feelings': 1, 'happy-person': 1, 'happy-thoughts': 1, 'stephen-richards-self-help': 1, 'sources': 2, 'aftershock': 1, 'complacency': 9, 'attitudes': 4, 'design': 21, 'craig-silvey': 4, 'jasper-jones': 4, 'hypnotherapist': 1, 'hypnotherapy': 1, 'psychotherapist': 1, 'resolve-problems': 1, 'resolving-problems': 1, 'sally-stubbs': 1, 'trance-states': 1, 'between': 2, 'lag-pleasure': 1, 'aquinas': 3, 'bartolome-de-medina': 1, 'st-thomas': 2, 'carpenter': 1, 'esteem': 4, 'firelight': 2, 'fireplace': 3, 'refresh': 3, 'shelf-life': 3, 'deunov': 1, 'plenty': 3, 'product': 5, 'selling': 7, 'strategy': 33, 'leasure': 1, 'capitalism': 27, 'true-to-life': 9, 'wealthy': 7, 'felicidad': 3, 'salud': 2, 'éxito': 3, '2022': 3, 'all-the-best': 2, 'point-cook': 2, 'veitch': 4, 'appreciation-quotes': 3, 'disappointment-quotes': 2, 'expectations-illusions': 2, 'expectations-quotes': 4, 'inspriational-quotes': 3, 'mindfulness-practice': 4, 'mindfulness-quotes': 2, 'rasheed-ogunlaru-quotes': 5, 'self-acceptance-quotes': 2, 'self-realisation': 3, 'temporal': 1, 'will': 33, 'will-power': 3, 'willingly': 2, 'daily-life': 16, 'new-day': 39, 'count-your-blessings': 1, 'counting-blessings': 1, 'adages': 4, 'axiom': 6, 'axioms': 5, 'consistency': 16, 'consistent': 6, 'dictum': 4, 'dictums': 4, 'epigram': 11, 'epigrams': 4, 'gnome': 4, 'gnomes': 4, 'mad': 5, 'made-me-think': 4, 'make-you-think': 4, 'maxim': 11, 'maxims': 9, 'proverb': 16, 'provoke-thought': 4, 'quotation': 6, 'sane': 7, 'satirical': 6, 'sayings': 121, 'sincere': 3, 'sincerely': 1, 'changes-in-life': 2, 'choice-and-attitude': 1, 'life-changing-events': 2, 'life-changing-inspirational': 1, 'move-forward': 2, 'move-out': 1, 'overcoming-challenges': 6, 'overcoming-obstacles': 8, 'living-life-today': 1, 'present-moment-life-and-living': 1, 'present-moment-living': 3, 'present-moment-quotes': 2, 'quotes-on-acceptance': 1, 'quotes-on-life': 2, 'quotes-on-life-and-purpose': 1, 'tomorrow-quotes': 2, 'childlike-innocence': 1, 'enjoyment-of-life': 2, 'sat-chit-ananda': 1, 'mystic-wisdom': 1, 'yoga': 36, 'love-fool': 1, 'miracle': 30, 'miracles-in-life': 1, 'money-not-happiness': 1, 'penniless': 1, 'shanghai': 1, 'shanghai-nobody': 1, 'sugar-mama': 1, 'false-happiness': 2, 'orgasm': 2, 'adult': 6, 'chick-flick': 3, 'date': 5, 'de-philosopher-dj-kyos': 3, 'dj-kyos': 3, 'dump': 3, 'kyos-magupe': 3, 'philosopher': 41, 'qoutes': 8, 'catherine-morland': 1, 'henry-tilney': 1, 'bodhi': 1, 'giggles': 2, 'loves-longing': 1, 'alexandra-kleeman': 1, 'shangri-la': 1, 'mental-health-stigma': 1, 'entrepreneurship': 115, 'millionaire-focus': 4, 'whine': 2, 'interpret': 4, 'interpretation': 13, 'millionaire-mind': 2, 'results': 18, 'time-management': 19, 'time-waster': 2, 'adjust': 3, 'adjustment': 4, 'both': 5, 'bring': 3, 'bringing': 3, 'compromises': 3, 'harmonious': 3, 'middle-road': 3, 'truce': 3, 'honesty-love-honesty': 3, 'inspiraion': 3, 'injustice': 26, 'it-is-what-it-is': 20, 'feel-good': 18, 'think-pink': 1, 'atheists': 11, 'detrimental': 1, 'interference': 2, 'theological': 2, 'welfare': 4, 'cotrina': 1, 'glorious': 6, 'gloriously': 3, 'natural-abilities': 3, 'natural-ability': 3, 'link': 3, 'live-life': 7, 'live-life-so-well': 3, 'make-people-happy': 1, 'matter': 17, 'other-also-matter': 1, 'total': 1, 'you-matter': 2, 'admirable': 4, 'aid': 4, 'different-perspective': 7, 'invincible': 8, 'invincible-will': 4, 'mistaken': 5, 'seeing-things-in-a-different-way': 6, 'strong-willed': 4, 'unstoppable': 7, 'unstoppable-force': 5, 'anne-frank': 7, 'fifteen': 1, 'fifty': 1, 'action-speaking': 1, 'schooling': 7, 'manliness': 3, 'bird': 15, 'cows': 4, 'ancestors': 6, 'the-boat-that-rocked': 2, 'writing-life': 3, 'individualism': 41, 'religious': 80, 'texts': 2, 'power-of-losing-control': 1, 'success-strategies': 26, 'censorship': 15, 'a-season-in-hell': 1, 'arthur-rimbaud': 1, 'ravings-ii-alchemy-of-the-word': 1, 'insensitivity': 1, 'fit': 3, 'portuguese': 2, 'das-glück': 1, 'love-each-other': 1, 'success-books': 1, 'attitude-is-everything': 3, 'being-present': 4, 'presence': 18, 'lightness': 1, 'strain': 4, 'divine-place': 1, 'adolescents': 1, 'resentment': 14, 'astrology': 13, 'astrology-quotes': 3, 'laziness': 11, 'artofliving': 5, 'peace-quotes': 5, 'poems-on-life': 1, 'smile-quotes': 3, 'happy-face': 1, 'happy-faces': 1, 'smile-quotations': 2, 'smiling-quotes': 1, 'symbol': 7, 'banking': 8, 'be-positive': 6, 'building-relationship': 5, 'career-development': 13, 'coach': 13, 'college': 21, 'commercial': 5, 'confidence-quotes': 7, 'corporate': 16, 'economics': 35, 'excellencemind': 5, 'fashionable': 5, 'finance': 28, 'industry': 7, 'international': 8, 'lesions': 5, 'life-style': 5, 'luxury-life-style': 5, 'personal-branding': 14, 'personal-skills-development': 5, 'personal-transformation': 11, 'podcast': 5, 'programs': 8, 'read-books': 6, 'smart': 25, 'social-media': 17, 'think-big': 6, 'trainer': 5, 'university': 18, 'video': 5, 'woman-s-character': 8, 'women-s-strength': 9, 'betrayal-trauma': 1, 'misery-and-sadness': 1, 'unrequitted-love': 1, 'feeling-good': 4, 'feeling-guilty': 2, 'technology-addiction': 1, 'angie-karan-quotes': 1, 'eternal-and-perfect': 1, 'goddesses': 1, 'gods': 48, 'honour': 9, 'we-are-souls': 1, 'conditioning': 2, 'fullfillment': 3, 'reprogram-subconscious-mind': 2, 'cause-of-pain': 1, 'sustainability': 24, 'bibliomania': 1, 'people-relations': 3, 'everybody': 2, 'frigid': 1, 'irritation': 2, 'perturbation': 1, 'please': 3, 'tryhard': 1, 'wannabe': 1, 'creat': 1, 'manking': 1, 'resources': 7, 'best-inspirational-quotes': 3, 'best-motivational-quotes': 2, 'dealing-with-people': 2, 'inspi-rational-quotes-of-the-day': 2, 'inspirational-quotes-about-life': 4, 'inspirational-quotes-for-work': 2, 'inspirational-quotes-of-the-day': 2, 'inspiring-leaders': 2, 'life-quotes-inspirational-quotes': 3, 'quotes-of-the-day-motivational': 2, 'short-inspira-tional-quotes': 2, 'brainy-quotes': 17, 'strength-of-character': 8, 'high-performance-teams': 1, 'life-masters': 1, 'mindsets': 3, 'speakers': 3, 'tony-dovale': 1, 'the-secret': 2, 'god-s-will': 8, 'marriage-life': 1, 'way': 20, 'human-heart': 3, 'being-focused': 2, 'christian-unity': 2, 'mind-of-christ': 2, 'karmic': 9, 'sated': 10, 'truth-devour': 8, 'wantin': 10, 'today-is-your-day': 3, 'human-relations': 1, 'suffer': 7, 'behavior': 12, 'imposition': 1, 'improper': 1, 'meanness': 3, 'the-world': 6, 'assist': 2, 'at-peace-with-all': 1, 'feel-happy': 1, 'good-life': 7, 'helping-hands': 2, 'live-for-others': 2, 'be-happy-with-what-you-got': 2, 'change-of-heart': 3, 'change-of-mind': 3, 'success-in-life': 29, 'successful-living-living': 2, 'concentrate': 3, 'concentration': 6, 'glad': 3, 'description': 2, 'drain': 1, 'false': 16, 'foundation-cream': 1, 'moist': 2, 'moisture': 1, 'деньги': 1, 'счастье': 1, 'andrew-matthews': 1, 'happiness-in-hard-times': 1, 'benevolent': 1, 'detain': 1, 'personal-joy': 1, 'prison': 19, 'felicità': 1, 'infelicità': 1, 'leopardi': 1, 'klosophy': 3, 'reiki': 4, 'eve-evergold': 1, 'girl-problems': 1, 'wistful': 4, 'long-lasting': 1, 'short-lived': 1, 'bondage': 2, 'common': 8, 'maugham': 1, 'epiphanic-moment': 1, 'misantropy': 1, 'john-steinbeck': 3, 'kebahagiaan': 1, 'masa-kecil': 1, 'tortilla-flat': 1, 'pleasure-of-recognition': 1, 'life-changin': 1, 'mind-powers': 1, 'california': 4, 'environment': 52, 'los-angeles': 3, 'mountains': 11, 'self-responsibility': 8, 'fortunate': 5, 'underdogs': 2, 'insecurities': 5, 'charter': 1, 'equation': 3, 'the-house-of-mirth': 1, 'nowhere': 5, 'when-life-gives-you-lemons': 3, 'partying': 2, 'random': 11, 'sober': 5, 'false-arches': 1, 'creed': 10, 'disempowered': 2, 'poorness': 1, 'presume': 2, 'remarriage': 2, 'romantic-comedy': 5, 'problem-solving': 13, 'ultimate-answer': 1, 'working-together': 5, 'students': 10, 'teachers': 22, 'arts': 9, 'busyness': 2, '35mm': 1, 'lucy-snowe': 1, 'paulina-bassompierre': 1, 'providnece': 1, 'villette': 2, 'farmers': 3, 'hunting': 8, 'wilderness': 10, 'anarch': 1, 'beatitude': 1, 'heaven-on-earth': 3, 'living-true': 1, 'happiness-advice': 8, 'healthy-quotes': 1, 'new-year-quotes': 5, 'new-years-eve': 1, 'twobuckhowie': 1, 'wealthy-quotes': 1, 'inequity': 2, 'hapiness-quotes': 1, 'avis-viswanathan': 44, 'fall-like-a-rose-petal': 35, 'the-happynesswalas': 20, 'beestings': 1, 'nehi': 1, 'soda': 1, 'peace-of-mind-quotes': 2, 'happy-quotes': 4, 'advaita-vedanta-quotes': 1, 'bhakti-yoga': 1, 'satsang-quotes': 1, 'swami-premodaya': 1, 'dushawn-banks': 31, 'dushawn-banks-quotes': 31, 'true-blue': 32, 'hardwork': 13, 'vishesh': 11, 'being-satisfied': 1, 'goodwill': 8, 'holiday': 2, 'music-lover': 1, 'august': 3, 'calendar': 1, 'summertime': 1, 'traveling': 2, 'bootstraps': 1, 'curious': 9, 'wonders': 3, 'avis-on-happyness': 41, 'cosmic-design': 2, 'late-bloomers-club': 2, 'a-lot-of-money': 1, 'free-time': 1, 'generally': 1, 'healthy-life': 1, 'live-happy': 1, 'mental-wellness': 1, 'retirement': 5, 'love-all': 5, 'earldom': 1, 'fell-in-love': 1, 'wish-to-marry': 1, 'justine-castellon': 1, 'the-last-snowfall': 1, 'good-listener': 1, 'cozy': 4, 'based': 3, 'biology': 137, 'conservatism': 5, 'tradition': 20, 'happiness-within': 1, 'living-alone': 1, 'solitary': 4, 'solitary-life': 1, 'solo-life': 1, 'david-sikhosana-book': 2, 'nothing-but-the-truth': 3, 'baby': 5, 'miiph': 22, 'dartmoor': 1, 'lauren-gilley': 1, 'buddhi': 1, 'final-state': 1, 'how-do-you-know-what-you-know': 1, 'intellectual-honesty': 1, 'strength-in-numbers': 1, 'crisis': 14, 'economy': 27, 'foreign-policy': 2, 'gross-national-product': 1, 'peaceful-life': 1, 'peacefulness': 3, 'lyrical-quotes': 1, 'musician': 23, 'my-own-beat': 1, 'arabic-poetry-fear': 1, 'the-end-of-the-world': 1, 'working-class': 1, 'alienation': 7, 'non-linear-life': 1, 'rethink-success': 1, 'rethink-your-mindset': 2, 'life-lessons-poetry': 1, 'port': 1, 'sanctuary': 5, 'shelter': 5, 'championships': 1, 'therapy': 13, 'troubles': 11, 'marvels': 1, 'unexpected-change': 1, 'kristen-ashley': 3, 'spritual': 2, 'forests': 2, 'will-to-power': 3, 'inu-etc': 2, 'mental-health-awareness': 2, 'vaani': 1, 'happy-new-year': 3, 'avoid': 4, 'evolutionary-psychology': 8, 'debt': 4, 'giving-advice': 2, 'entitlement': 2, 'maturity-quotes': 2, 'king-of-words': 2, 'md-ziaul-haque': 2, 'sadness-quotes': 5, 'happiy': 1, 'breaking-idols': 1, 'dream-breaker': 1, 'fear-breaker': 1, 'idols': 1, 'idols-of-the-heart': 1, 'idols-on-spiritual-path': 1, 'pain-healing': 1, 'soul-and-idols': 1, 'and-he-said': 32, 'hincks': 57, 'cocoon': 3, 'comfort-zone': 26, 'inside': 1, 'overcome': 15, 'raining': 2, 'relationships-quotes': 2, 'relationships-quotes0-likes': 1, 'drown': 3, 'blooming-flowers': 1, 'correctness': 3, 'colours': 5, 'grey': 5, 'raindrops': 2, 'raindrop': 1, 'boxes': 3, 'bratty': 1, 'forms': 1, 'heavenly': 4, 'fiancés': 1, 'agleam': 1, 'delightful': 2, 'greed': 47, 'dates': 2, 'dopamine': 4, 'bipolar-disorder': 1, 'mitta-xinindlu': 13, 'city-of-desires': 1, 'extinguishes': 1, 'illuminating-lamps': 1, 'mindset-quotes': 4, 'alec': 2, 'gigi': 1, 'telephone': 5, 'intelligent-living': 6, 'blueprint': 2, 'grace-and-favor': 1, 'right-hearted': 1, 'the-happynesswala': 24, 'states': 2, 'transient': 2, 'living-in-the-moment': 4, 'right-now': 3, 'godsprovisions': 1, 'lifeinsights': 1, 'personalgrowth': 1, 'spiritualjourney': 1, 'travelability': 1, 'hollywood': 5, 'celebrate-yourself': 1, 'pause-and-reflect': 1, 'war-psychology': 2, 'asceticism': 2, 'heracles': 1, 'xenophon': 1, 'living-well': 4, 'art-of-life': 2, 'alive-quotes': 1, 'feel-alive': 1, 'colour': 3, 'abortion': 5, 'filipino-authors': 1, 'breaking-free': 3, 'chinese-diaspora': 1, 'red': 2, 'thinking-positive': 3, 'best-quotes': 6, 'best-quotes-ever': 6, 'ca-garima-soni': 3, 'garima-soni': 5, 'words-world-by-garima': 3, 'money-quotes': 5, 'smiled': 1, 'happy-state': 1, 'strengths': 5, 'winning-mentality': 5, 'euripides': 1, 'farsi': 1, 'persian': 3, 'accumulation': 1, 'material-possessions': 1, 'human-life': 5, 'ultimate-goal': 1, 'existential-crisis': 1, 'russian-literature': 2, 'longing-for-someone': 1, 'love-language': 1, 'hobbies': 5, 'sitting': 1, 'codependency': 3, 'energy-vampires': 1, 'people-pleasing': 3, 'simple-truths': 4, 'hard-life': 1, 'live-out-your-life': 1, 'loyal-and-faithful': 1, 'secret-life': 1, 'secret-lovers': 1, 'seems-like': 1, 'vietnamese': 1, 'vietnamese-authors': 1, 'curosity': 4, 'healing-humour': 5, 'laugh-often': 5, 'apologies': 8, 'care-quotes': 1, 'korea': 2, 'baiting': 2, 'bull': 2, 'bully': 6, 'gaslighting': 3, 'life-is-short': 4, 'worldview': 9, 'viewpoint': 4, 'being-enough': 1, 'self-conscious': 1, 'sevens': 1, 'renewal': 12, 'shine-bright': 3, 'weathered': 1, 'yin-yang': 1, 'hard-work-and-effort': 1, 'hard-work-quotes': 1, 'hard-worker': 1, 'hard-working': 5, 'this-is-the-way': 1, 'a-court-of-silver-flames': 1, 'cant-wait': 1, 'depression-recovery': 4, 'looking-forward-to-the-future': 1, 'nesta': 1, 'nesta-archeron': 1, 'human-relationships': 12, 'inner-guidance': 6, 'life-and-living-life-lessons': 1, 'make-others-happy': 1, 'meaningful-life': 5, 'poets-on-life': 2, 'writers-on-life': 2, 'cagarimasoni': 1, 'feelings-quotes': 1, 'candle': 8, 'seer': 2, 'bouquet': 2, 'gift-gugu-mona-book-club': 9, 'gift-gugu-mona-library': 9, 'gift-gugu-mona-masterclass': 13, 'gift-gugu-mona-philosophy': 25, 'gift-gugu-mona-quotes': 37, 'little-things-in-your-life': 1, 'little-things-that-matter': 1, 'mindful': 9, 'infinite-happiness': 1, 'radical-acceptance': 1, 'romantic-relationships': 3, 'queerness': 1, 'mirage': 5, 'sadness-love': 2, 'decorating': 1, 'home-ownership': 1, 'housing-crisis': 1, 'renting': 2, 'brahma': 3, 'shadow': 14, 'smiling-brahma': 1, 'sorrows': 5, 'vikrmn': 19, 'perfect-imperfection': 1, 'thriving': 10, 'bonds': 3, 'self-accountability': 1, 'self-assurance': 10, 'toxic-relationships': 2, 'instant-gratification': 1, 'regret-quotes': 1, 'regrets-free-life': 1, 'disenchantment': 1, 'mothers-love': 2, 'shreeshambav': 134, 'panic': 8, 'doing-the-right-thing': 4, 'flutter-of-a-butterfly-s-wings': 1, 'desserts': 1, 'autobiography-of-a-yogi': 1, 'yogananda': 1, 'every-ending': 1, 'being-seen': 1, 'walk-into-the-wild': 1, 'shooting-star': 2, 'gentle-glow-of-fireflies': 1, 'seeds-of-transformation': 1, 'everything': 8, 'true-happiness-quotes': 1, 'guard-your-mind': 1, 'vietch': 4, 'wake-up': 4, 'maintenance': 2, 'life-force': 6, 'playful': 1, 'whispered': 1, 'dreams-inspirational': 4, 'depth-of-wisdom': 1, 'depth-of-wound': 1, 'buds-cannot-bloom': 1, 'appreciationtion': 1, 'handsome': 2, 'life-lessons-quotations': 1, 'success-quotes': 133, 'fresh-air': 10, 'darkest-of-the-night': 1, 'wise-thoughts': 3, 'dreaded': 1, 'feyre-archeron': 8, 'a-court-of-frost-and-starlight': 2, 'cassian': 1, 'debts': 1, 'endured': 1, 'pay-the-price': 1, 'rhys': 4, 'exhaustion': 8, 'puddle-wonderful': 1, 'life-s-messiness': 1, 'mud-lusciousness': 1, 'opportunity-window': 1, 'honourable': 1, 'surrounded-by-trees': 1, 'cleverness': 7, 'lateral-thinking': 3, 'theoretical-knowledge': 2, 'theories': 14, 'theory': 44, 'theory-and-practice': 3, 'beautiful-relationship': 1, 'mindful-leader': 1, 'mindful-leadership': 1, 'nature-of-man': 1, 'let-go-of-the-past': 1, 'true-liberation': 1, 'true-humility': 1, 'aversion': 1, 'real-success': 2, 'born-equal': 1, 'positive-difference': 1, 'never-ending': 1, 'ocean-of-grace': 1, 'bhuwanthapaliya': 14, 'live-your-best-life': 5, 'loveyourself': 1, 'successful-living': 81, 'true-action': 1, 'truly-successful': 1, 'miserable-life': 1, 'negative-outlook': 1, 'getting-out-of-bed': 1, 'change-the-world': 10, 'envy-and-attitude': 1, '10-golden-steps-of-life': 12, 'apologise': 1, 'ca-vikram-verma': 14, 'vikram': 12, 'vikram-verma': 12, 'positive-thinking-quotes': 4, 'want-to-fly': 1, 'nihilism': 19, 'worth-living': 1, 'mothers-and-daughters': 5, 'women-empowerment': 3, 'joyful-living-quotes': 1, 'mind-is-like-a-magnet': 1, 'true-freedom': 1, 'the-divine': 1, 'how-to-die-happy': 1, 'martin-o-toole': 1, 'quotes-about-happiness': 1, 'chapter-55': 1, 'glowing': 1, 'value-the-person': 1, 'words-like-seeds': 1, 'moon-appears-alone': 1, 'jane-yolen': 1, 'suffering-quoter': 1, 'beautiful-and-challenging': 1, 'drinking-alcohol': 1, 'drinking-quotes': 1, 'hangover': 2, 'hangovers': 1, 'hungover': 1, 'problems-in-life': 3, 'saddness': 2, 'new-beginning': 8, 'caribbean': 1, 'consciousness-mind-brain': 3, 'david-almond': 1, 'harry-miller-s-run': 1, 'acheivement': 1, 'anupamism': 4, 'indian-philosophy': 1, 'rationaility': 1, 'unfairness-of-life': 4, 'unhapiness': 1, 'enjoylife': 1, 'moments-quotes': 4, 'quotes-about-life': 16, 'brazilian-jiu-jitsu': 1, 'jiu-jitsu': 1, 'martial-arts': 10, 'sports': 22, 'algorithms': 1, 'food-quotes': 3, 'wings-of-time': 1, 'door-on-opportunities': 1, 'elixir-of-life': 1, 'financies': 1, 'planting-a-tree': 1, 'normality': 1, 'pg-171': 1, 'dew-on-leaves': 1, 'storms-of-life-quotes': 1, 'zeal-and-persistence': 1, 'imagine': 15, 'blue-sky': 2, 'passion-and-enthusiasm': 1, 'sayem-sarkar': 3, 'smart-quotes': 1, 'wash-away-pain-and-anger': 1, 'waterfall': 4, 'simple-happiness': 1, 'choices-in-life-choices-you-make': 1, 'neuroscience-poetry': 1, 'psychology-poetry': 1, 'menage-a-trois': 1, 'act-of-kindness': 2, 'situations': 3, 'inconsequential': 1, 'john-locke': 1, 'tongue': 9, 'the-real': 2, 'bad-deeds': 4, 'good-deeds': 9, 'source': 8, 'painful': 12, 'reflect': 9, 'squashed': 1, 'journey-of-self-discovery': 1, 'silence-speaks': 2, 'accept-yourself': 4, 'choose-happiness': 1, 'choose-joy': 1, 'choose-to-be-happy': 1, 'choose-wisely': 4, 'himself': 8, 'your-happiness': 1, 'selfless': 6, 'share-happiness': 1, 'focus-quotes': 2, 'freedom-quotes': 2, 'open-mindedness': 22, 'being-necessary': 1, 'big-things': 1, 'big-things-and-little-things': 1, 'go-outside': 1, 'be-happy-with-yourself': 1, 'morning-thoughts': 1, 'church-of-england': 1, 'cofe': 1, 'life-quotations': 4, 'unhappiness-quotations': 1, 'unhappiness-quotes': 1, 'jesse-blackthorn': 1, 'lucie-herondale': 1, 'during': 1, 'sudden': 3, 'a-court-of-thorns-and-roses': 5, 'green-eyes': 1, 'emotional-energy': 2, 'emotional-thinking': 2, 'massage': 1, 'tantra-sutra': 1, 'tantric-massage': 1, 'apes': 5, 'grin': 1, 'jessica-marie-baumgartner': 37, 'the-magic-of-trees': 35, 'nature-s-language': 1, 'dictator': 3, 'realismo-mágico': 1, 'good-health': 3, 'moonlit': 2, 'mystic-smile': 1, 'darkest-nights': 1, 'moonlight-falls': 1, 'regency': 1, 'regency-romance': 1, 'joking': 1, 'inner-voice-and-strength': 1, 'profound-silence': 1, 'abide': 3, 'longer': 1, 'remain': 7, '14th-february': 2, 'net-worth': 1, 'amazon': 3, 'ayahuasca': 1, 'kindness-compassion': 3, 'mentalhealth': 5, 'pursue-dreams': 1, 'stronger-and-braver': 1, 'great-good': 1, 'reminder': 7, 'blacks': 10, 'colonialism': 6, 'people-of-color': 1, 'whites': 6, 'hold-on-to-some-people': 1, 'stay-connected': 1, 'warm-vibes': 1, 'cardan': 3, 'jude-duarte': 3, 'the-folk-of-the-air': 5, 'the-queen-of-nothing': 1, 'vivi-duarte': 1, 'addiction-and-recovery': 4, 'child-development': 1, 'hedonism': 3, 'human-brain': 3, 'pleasure-and-pain': 2, 'subjectivity': 9, 'nature-serene': 1, 'physical-appearance': 1, 'deep-dive': 1, 'everything-colourful': 1, 'nature-quest': 1, 'boredom-quotes': 1, 'unconscious': 5, 'inside-of-you': 1, 'massive-wall': 1, 'a-happy-ghost': 1, 'pov': 2, 'embrace-unknown': 1, 'change-is-constant': 2, 'soil': 3, 'loss-of-a-child': 6, 'loss-of-family': 6, 'natures-beauty': 4, 'meditation-for-beginners': 1, 'rent': 2, 'subscription': 1, 'il-racconto-dell-ancella': 2, 'margaret-atwood': 3, 'the-handmaid-s-tale': 2, 'be-the-change': 9, 'dark-times': 4, 'good-times-and-bad-times': 2, 'light-within': 4, 'pearls-of-wisdom': 15, 'poems-on-pain': 2, 'sadness-and-happiness': 3, 'aspiration': 69, 'african-americans': 14, 'race-relations': 7, 'rainbow-quotes': 1, 'the-prophet-avocatorium': 61, 'fall-like-a-rose-petal-let-go': 1, 'go-with-the-flow': 7, 'agnostic': 21, 'meditations': 5, 'look-deep': 1, 'decisive-action': 1, 'self-deceived': 1, 'maya-and-illusion': 1, 'illogical-behavior': 1, 'self-centered': 2, 'meadows': 1, 'woods-and-stream': 1, 'eight-perfect-hours': 1, 'initiative': 4, 'nature-beauty': 1, 'glimmer-of-hope': 1, 'lost-in-the-dark': 1, 'life-quote': 18, 'mental-health-quotes': 3, 'prosperity-quotes': 3, 'prosperous': 2, 'listen-to-your-heart': 5, 'inmortality': 1, 'the-path': 1, 'natures-secret': 1, 'simplicity-and-patience': 2, 'follow-your-bliss': 7, 'the-blisscatchers': 2, 'nature-s-stillness': 1, 'true-bliss': 1, 'concerns': 1, 'nicasia': 1, 'the-wicked-king': 3, 'triviality': 2, 'seeking-happiness': 1, 'quote-of-the-year': 1, 'cozy-mystery': 3, 'dark-fantasy': 5, 'dark-romance': 1, 'nature-s-secrets': 1, 'singledom': 1, 'amily': 1, 'argument': 27, 'outcome': 9, 'celebrate-life': 1, 'madoc': 1, 'stand-in-front': 1, 'personal-success': 4, 'unmoved': 1, 'ultrasocial': 1, 'love-and-compassion': 1, 'tangles-and-knots': 1, 'perfect-friend': 1, 'peaks': 2, 'the-bliss-catchers': 1, 'fall-like-rose-petal': 1, 'rocks': 2, 'forest-and-wind': 1, 'river-and-mountains': 1, 'magical': 12, 'gems': 2, 'point': 5, 'rush': 4, 'stop': 12, 'supreme': 2, 'keep-walking': 1, 'swimming': 4, 'glittering-stone': 1, 'shining-metal': 1, 'accept-situation': 1, 'blessed-mindset': 1, 'blessings-quote': 1, 'focus-not': 1, 'gift-gugu-mona-books': 31, 'gift-gugu-mona-master-class': 9, 'every-day-plan': 1, 'make-it-happen': 6, 'give-away': 1, 'giver': 1, 'self-preservation': 2, 'search-within': 1, 'dear-daughter': 2, 'hell-and-heaven': 1, 'fortune-and-misfortune': 1, 'james-bond': 2, 'finding-your-voice': 1, 'as-you-like-it': 2, 'blossoms': 5, 'cherry-blossoms': 2, 'excerpt-from-in-blackwater-woods': 1, 'painting': 8, 'drinking': 30, 'liquor': 2, 'dwarves': 1, 'old-age': 21, 'ee-cummings': 1, 'act-of-creation': 2, 'anonymous': 2, 'fairies': 7, 'loss-of-innocence': 3, 'lyricism': 1, '1875': 1, 'invictus': 4, 'nelson-mandela': 1, 'american-writers': 2, 'i-shall-not-be-moved': 2, 'maya-angelou': 3, 'when-great-trees-fall': 2, 'ulysses': 3, 'contemplating': 2, 'vicarious': 2, 'pablo-neruda': 5, 'burdens': 5, 'drowning': 4, 'solipsism': 8, 'indelibility': 1, 'minutes': 2, 'consolatory': 1, 'atmosphere': 1, 'love-poetry': 9, 'perpetual': 2, 'soulful': 4, 'observing': 2, 'watching': 8, 'rhythm': 2, 'happyquotes': 105, 'inspirationalquotes': 104, 'inspired': 110, 'instadaily': 104, 'instaquote': 108, 'lovequotes': 104, 'pinquotes': 104, 'quoteoftheday': 104, 'rmdrake': 104, 'sadquotes': 104, 'spokenword': 104, 'typewriter': 104, 'vsco': 104, 'muhammad': 9, 'muslim': 4, 'cage': 5, 'moving': 6, 'caesar': 2, 'colossus': 1, 'dishonor': 1, 'giant': 9, 'grave': 9, 'julius-caesar': 1, 'persona': 2, 'petty': 1, 'robert-frost': 2, 'misquote': 2, 'transience': 10, 'bedtime-story': 3, 'depressed-quotes': 3, 'fear-quotes': 14, 'insomnia': 8, 'monsters-quotes': 3, 'story-telling': 5, 'persian-poetry': 7, 'rumi-poetry': 5, 'choir': 1, 'invisible': 7, 'minds': 4, 'rectitude': 1, 'dragons': 14, 'eagle': 10, 'ethereal': 3, 'face-of-a-woman': 1, 'imperceptible': 3, 'know': 17, 'leaves': 3, 'mountain': 10, 'pedestrian': 1, 'read': 24, 'shapes': 2, 'sounds': 10, 'stormy-day': 1, 'substances': 2, 'task-of-a-poet': 1, 'umbrella': 3, 'wave': 2, 'whisper': 3, 'verses': 5, 'shining': 3, 'childrens': 6, 'strange': 22, 'equations': 2, 'churches': 6, 'credulous': 2, 'fable': 13, 'fossil': 4, 'instructive': 4, 'mythic': 3, 'primitive': 3, 'schools': 6, 'science-vs-religion': 28, 'spectacle': 2, 'superstitious': 7, 'testing': 8, 'untaught': 2, 'sophomoric': 1, 'banter': 10, 'i-sing-the-body-electric': 1, 'richard-siken': 4, 'elegy': 2, 'speaking-out': 7, 'depth': 17, 'romancing': 1, 'splendid': 3, 'heaven-and-hell': 7, 'beasts': 3, 'charles-baudelaire': 2, 'conversations': 7, 'eaten': 1, 'les-fleurs-du-mal': 1, 'the-flowers-of-evil': 1, 'appearance': 10, 'superficial': 14, 'superficial-beauty': 1, 'superficiality': 9, 'ugly': 15, 'devotional-art': 2, 'nonmind-yoga': 2, 'perfect-masters': 2, 'truth-process': 2, 'aberjhani': 7, 'metaphysics': 80, 'abusers': 2, 'perpetrators': 2, 'survivors': 7, 'victims': 5, 'giving-in': 2, 'beautiful-mind': 3, 'beautiful-minds': 1, 'beautiful-quotes': 5, 'beautiful-soul': 4, 'boho': 1, 'boho-girl': 1, 'boho-quotes': 1, 'deep-soul': 1, 'gypsy-soul': 2, 'nicole-lyons': 2, 'nicole-lyons-poetry': 1, 'nicole-lyons-quotes': 1, 'old-soul': 1, 'old-soul-quotes': 1, 'she-quote': 1, 'she-quotes': 1, 'she-walks-in-beauty': 1, 'she-will-rise': 1, 'strong-women': 4, 'vintage': 1, 'word-porn': 9, 'deep-feelings': 3, 'sensitive-souls': 1, 'sweden': 2, 'apology': 9, 'dorothy-parker': 4, 'ehri': 1, 'isaak': 1, 'shu': 1, 'vodka': 2, 'open-eyes': 3, 'leonard': 1, 'shore': 7, 'courtesan': 1, 'accidents': 5, 'craftiness': 1, 'crafty': 6, 'disaster': 5, 'beguile': 1, 'beguiling': 2, 'cannot': 3, 'cloud': 5, 'cloudy': 2, 'darkness-and-light': 3, 'night-sky': 6, 'oceanic': 1, 'poetry-quote': 2, 'rhyming': 4, 'rhyming-verse': 3, 'shadows': 7, 'still': 1, 'tide': 1, 'saints': 9, 'little-gidding': 1, 'visit': 1, 'prufrock': 2, 'allen-ginsberg': 1, 'beat': 7, 'discover': 7, 'instill-peace': 2, 'mind-state': 2, 'peace-of-self': 2, 'wars': 12, 'eroticism': 1, 'sexual-tension': 1, 'spirtual': 14, 'buddhist': 6, 'hermit': 4, 'japanese': 10, 'ryokan': 2, 'seers': 2, 'zen-monk': 2, 'cate': 1, 'tiernan': 1, 'pound': 4, 'exploitation': 37, 'an-eastern-ballad': 1, 'autism': 9, 'details': 10, 'nerd': 9, 'nerdiness': 4, 'wisdom-vs-nerds': 2, 'on-writing': 6, 'opening-lines': 3, 'agatha-christie': 2, 'frank': 3, 'o-hara': 1, 'betterment': 7, 'indian-education': 9, 'personal-identity': 13, 'aspirations': 24, 'letters-to-monica': 6, 'epic-poetry': 1, 'verse': 17, '4-203': 1, 'forsan': 1, 'meminisse': 1, 'perhaps': 1, 'anais-nin': 3, 'beautiful-words': 3, 'hire': 5, 'wages': 3, 'keats': 4, 'international-yoga-day': 1, 'yoga-inspiration': 1, 'yoga-postures': 1, 'yoga-practice': 1, 'bones': 16, 'hallowed': 1, 'heir': 1, 'labor': 9, 'pyramid': 1, 'relics': 1, 'william-shakespeare': 6, 'aching': 3, 'afterglow': 2, 'tender': 7, 'adam-and-eve': 5, 'blushing': 3, 'childlike': 6, 'courting': 5, 'desiring-someone': 2, 'eden': 4, 'garden-of-eden': 5, 'intoxication': 4, 'nocturne': 4, 'opium': 3, 'parisian-reverie': 2, 'poetry-quotations': 6, 'quotes-from-poems': 3, 'secretive': 2, 'seductive': 2, 'sexual-quote': 3, 'short-love-quote': 2, 'storybook': 2, 'summer-rain': 2, 'summer-showers': 2, 'wet-hair': 2, 'fables': 4, 'ridge-lawson': 1, '9-11': 8, 'dictatorship': 5, 'tyranny': 15, 'world-war-ii': 4, 'grey-havens': 1, 'legolas': 2, 'amanda-lovelace': 2, 'little-beast': 2, 'poetry-books': 2, 'arabic': 9, 'arabic-poetry': 5, 'surrealism': 4, 'beast': 2, 'blossom': 6, 'blossoming': 6, 'delusional': 1, 'dissect': 1, 'hour': 2, 'love-poem': 20, 'petals': 2, 'romantic-poem': 1, 'sting': 1, 'sweetest-scent': 1, 'unconditonal-love': 1, 'uncontrollable': 1, 'wilting': 1, 'frost': 7, 'preservation': 5, 'mestiza': 2, 'far-away': 2, 'myself': 12, 'returning': 3, 'visits': 3, 'big': 7, 'born': 23, 'egg': 9, 'living-achievement': 5, 'odds': 7, 'pains': 8, 'small': 16, 'sperm': 8, 'winner': 23, 'winning': 62, 'kings': 6, 'pomp': 1, 'tomb': 3, 'feminist': 6, 'oliver': 2, 'philip-larkin': 4, 'apple': 5, 'apples': 2, 'auden': 3, 'burns': 2, 'byron': 1, 'de-la-mare': 1, 'hart-crane': 2, 'longfellow': 1, 'milton': 2, 'morris': 1, 'nocturnal': 2, 'pope': 4, 'schiller': 2, 'shelley': 3, 'spender': 1, 'tennyson': 4, 'wordsworth': 1, 'hair': 6, 'insult': 13, 'myself-quatation': 2, 'boring': 7, 'dull': 2, 'rilke': 2, 'journals': 3, 'plath': 3, 'aliveness': 3, 'approval': 6, 'asking-questions': 6, 'be': 8, 'changing-the-world': 4, 'comfortable-with-yourself': 3, 'egoismo': 3, 'immaterial': 4, 'reborn': 6, 'reflections-on-life': 4, 'state-of-being': 3, 'superficial-culture': 3, 'thoughts-on-life': 6, 'to-be': 3, 'what-if': 5, 'what-is': 4, 'what-was': 3, 'world-citizen': 9, 'a-monstrous-manifesto': 1, 'meetings': 8, 'booknerds': 1, 'bookworms': 1, 'fandom': 1, 'fandom-talk': 1, 'literarature': 1, 'the-clockwork-angel': 1, 'tid': 1, 'william-herondale': 5, 'russian-poetry': 3, 'dark-poetry': 1, 'primal-scene': 1, 'persephone': 1, 'examination': 4, 'german-social-democracy': 1, 'rosa-luxemburg': 1, 'canadian': 1, 'stop-signs': 1, 'tumblr-writer': 4, 'antipathy': 1, 'afternoon': 2, 'meat': 5, 'robert-burns': 2, 'sappho': 1, 'find-oneself': 9, 'philosoph': 1, 'political-history': 11, 'come-in': 1, 'adolescent': 1, 'beatnik': 1, 'poetic': 20, 'prose-poetry': 4, 'compulsion': 3, 'breezes': 1, 'sunsets': 3, 'a-mother-s-love': 2, 'anoint': 2, 'chalice': 2, 'daughter': 9, 'fragrance': 7, 'loss-of-a-mother': 2, 'loving-mother': 2, 'madre': 2, 'maman': 2, 'mer': 2, 'mere': 2, 'mommy': 3, 'mother-poem': 3, 'mother-s-day': 2, 'mother-s-love': 3, 'mothering': 4, 'motherly-love': 4, 'mothers-poem': 3, 'shower-your-head-with-flowers': 2, 'thirsty': 2, 'nonsense': 15, 'arjun-avasarala': 1, 'chrisjen-avasarala': 1, 'life-after-death': 5, 'slam-poetry': 3, 'universal-values': 5, 'conceal': 2, 'doolittle': 1, 'h-d': 1, 'hilda': 1, 'modernism': 6, 'plays': 7, 'confessional-poetry': 1, 'alphabet': 3, 'another': 2, 'rivers': 4, 'shimmering': 2, 'whispering': 2, 'breeze': 7, 'wrench': 1, 'jabberwocky': 1, 'lewis-carroll': 2, 'anew': 1, 'bath': 2, 'clothes': 10, 'creative-arts': 3, 'emerge': 3, 'immerse': 1, 'metamorphosis': 8, 'poesia': 5, 'poetess': 3, 'reading-quotes': 2, 'soak': 1, 'transcend': 2, 'undress': 1, 'wet': 1, 'write': 22, 'missed-opportunities': 2, 'empty-spaces': 1, 'affectionate': 3, 'dish': 2, 'favorite': 4, 'favourite': 3, 'last': 4, 'me-and-you': 6, 'partner': 11, 'plate': 2, 'savour': 2, 'you-and-i': 6, 'you-and-me': 6, 'kerouac': 2, 'gentle': 7, 'modern-greece': 1, 'writers-quotes': 6, 'love-and-loss': 3, 'archtecture': 1, 'free-verse': 3, 'free-verse-poetry': 1, 'the-layers': 1, 'ezra-pound': 1, 'prosody': 3, 'ironic': 11, 'self-gratification': 1, 'single-mandatory': 1, 'subside': 1, 'bamf': 2, 'burning-bright': 2, 'riddle': 4, 'wordplay': 14, 'delicious': 1, 'rainy-day': 1, 'shattered-mirror': 1, 'sonnet-xxix': 1, 'conformity': 19, 'almost': 2, 'the-addict': 1, 'distortion': 5, 'spoken-word': 4, 'the-sun-watches-the-sun': 44, 'seraphim': 1, 'trumpets': 1, 'rhymes': 3, 'tunes': 1, 'rage': 4, 'commonplace': 1, 'humdrum': 1, 'trodden-path': 1, 'excess': 3, 'rampant': 1, 'volatile': 2, 'eating-disorders': 2, 'empty-plate': 1, 'moonlight-quotes': 1, 'orchids': 1, 'women-writers': 7, 'glazier': 2, 'isobel': 2, 'varen': 2, 'golden': 3, 'adrienne-rich': 2, 'boot-theory': 1, 'bread': 2, 'sufficiency': 2, 'charles-bukowski': 5, 'freeze': 2, 'melt': 2, 'ahmatova': 1, 'anna-akhmatova': 1, 'enlightment': 1, 'hymn': 4, 'peace-movement': 35, 'war-in-the-21st-century': 1, 'warfare': 6, 'bookworm': 1, 'bookworm-problems': 1, 'marlowe': 3, 'immensity': 3, 'forgotten': 7, 'valiant': 3, 'nerdfighters': 4, 'point-of-retreat': 1, 'bruised': 2, 'bruises': 1, 'descendants': 3, 'alchemy': 13, 'def-poetry': 1, 'store': 5, 'window': 5, 'a-poem-about-my-rights': 1, 'restless': 3, 'stream': 5, 'streams': 2, 'poems-by-aberjhani': 2, 'world-poetry-day': 8, 'audio': 1, 'detached': 1, 'disorder': 4, 'disordered': 1, 'distorted': 1, 'eq': 1, 'painted': 1, 'push-aside': 1, 'recognize': 6, 'send': 1, 'unsteady': 1, 'weary': 4, 'worn-out': 1, 'pacifism': 2, 'poetry-love-spirituality': 1, 'war-and-peace': 2, 'icarus': 1, 'milk-and-honey': 1, 'continuous': 2, 'sense-of-wonder': 8, 'abyss': 6, 'mist': 3, 'glance': 2, 'glimpse': 1, 'trance': 1, 'kinship': 1, 'bruise': 1, 'circling': 11, 'rap': 1, 'homecoming': 3, 'apathetic': 3, 'bored': 3, 'let-in': 1, 'numb': 2, 'they': 1, 'tumblr-poetry': 1, 'tumblr-writers': 1, 'unimpressed': 1, 'sonnet-43': 1, 'sonnet-xliii': 1, 'error': 24, 'fallibility': 6, 'lotr': 3, 'bright-star': 1, 'john-keats': 2, 'korean': 2, 'korean-dramas': 1, 'let-s-eat': 1, 'rice': 1, 'rough': 3, 'stubble': 1, 'incidents': 2, 'lingering': 2, 'trigger': 7, 'weeks': 2, 'middle-east': 4, 'poetic-regulations': 1, 'canon': 1, 'weight': 8, 'colors-of-life': 4, 'pine': 2, 'pink': 2, 'purple': 1, 'emerson': 5, 'kara-skye-smith': 1, 'fireflies': 3, 'robert': 2, 'hand': 3, 'patti-smith': 1, 'moon-gypsy-book': 2, 'wildflowers': 3, 'don-marquis': 1, 'grand-canyon': 1, 'petal': 1, 'soliloquy-for-cassandra': 1, 'szymborska': 1, 'anatomy': 3, 'composition': 4, 'zen-monks': 3, 'famous-poets': 9, 'global-village': 5, 'international-relations': 1, 'nations': 6, 'tagore': 3, 'repeat': 3, 'fleeting-life': 2, 'hollow': 1, 'nights': 2, 'nothing-lasts-forever': 1, 'vast': 2, 'vastness': 5, 'epistemology': 44, 'warm': 2, 'gardens': 5, 'take-care-of-yourself': 1, 'dance-quotes': 9, 'gypsy-quotes': 2, 'wildfire': 1, 'languages': 7, 'holding': 1, 'horizon': 5, 'russian': 4, 'dark-sonnet': 1, 'anne-sexton': 1, 'acid': 2, 'battery': 1, 'bottled-up': 1, 'animal-cruelty': 4, 'vegetarianism': 8, 'generations': 8, 'studying': 7, 'witch-wife': 1, 'anti-war': 3, 'seclusion': 3, 'ancient': 17, 'emerald': 1, 'hindustan': 1, 'hymns': 4, 'hypnotic': 1, 'indian': 6, 'indian-culture': 1, 'kaleidoscope': 1, 'miracles': 70, 'most-high': 1, 'peacock': 1, 'perfume': 3, 'stone': 4, 'storesacred': 1, 'greek-verse': 4, 'anotnius-and-calypia': 1, 'december': 1, 'february': 1, 'freezing': 1, 'january': 1, 'maidens': 1, 'sylvan': 1, 'theatre': 5, 'white-supremacy': 3, 'clever': 23, 'lit-on-literature': 1, 'leave-a-footprint': 2, 'leave-a-legacy': 2, 'leave-behind': 2, 'love-me': 2, 'poetry-in-motion': 2, 'poets-on-poetry': 4, 'quote-of-all-times': 2, 'quote-of-the-month': 2, 'quote-of-the-week': 3, 'when-i-am-gone': 2, 'writers-on-writing': 11, 'the-first-straw': 1, 'atticus-quotes': 1, 'howling': 1, 'awesome-women': 1, 'amiens': 1, 'phil-kaye': 1, 'second-world-war': 1, 'teeth': 1, 'sodomy': 1, 'killing': 21, 'ration': 1, 'silk': 5, 'sleeping-pill': 1, 'american-literature': 3, 'edgar-allan-poe': 5, 'fake-quote': 2, 'mistranslation': 1, 'being-lost': 1, 'lustra': 1, 'personae': 2, 'world-war-i': 1, 'digging': 1, 'lonley': 1, 'old-money': 1, 'unknow': 1, 'andrea-gibson': 2, 'maybe-i-need-you': 1, 'annoying': 3, 'forks': 1, 'rude': 2, 'rudeness': 2, 'scream': 1, 'shut-up': 1, 'skulls': 1, 'spoken': 4, 'family-relationships': 13, 'those-winter-sundays': 1, 'lemon': 3, 'chivalry': 6, 'risk-life': 2, 'dreamed': 2, 'kismet': 1, 'life-partner': 5, 'married': 4, 'marry': 2, 'meant-to-be': 6, 'needed': 1, 'muriel-rukeyser': 2, 'poetcast': 1, 'poets-org': 1, 'sharon-olds': 1, 'chess': 8, 'lord-peter-wimsey': 1, 'd-antoinette-foy': 2, 'how-to-be-a-poet': 1, 'lang-leav': 1, 'misadventure': 1, 'end-of-night': 1, 'r-h-sin': 3, 'rh-sin': 2, 'return': 9, 'koan': 5, 'popular-poems': 1, 'shooting-stars': 2, 'pen': 2, 'poets-and-poetry': 2, 'chilean': 1, 'full-moon': 1, 'the-odyssey': 2, 'space-exploration': 12, 'midnight': 3, 'savor-the-moment': 1, 'starry-night': 1, 'twirl': 2, 'the-future': 8, 'cocoa': 1, 'ogres': 1, 'mysterious': 8, 'animals-love': 2, 'inpsirational': 1, 'religious-faith': 6, 'czeslaw-milosz': 1, 'vasko-popa': 1, 'annabel-lee': 1, 'hallucinations': 5, 'infectious': 1, 'toxic': 5, 'toxic-friends': 1, 'forgetfullness': 1, 'iraq': 2, 'line': 3, 'prodigal': 1, 'brandi-bates': 2, 'deeds': 13, 'knighthood': 2, 'knights': 5, 'delhi': 1, 'mir-taqi-mir': 1, 'urdu': 1, 'rupture': 1, 'rape': 19, 'hermetic': 1, 'corner': 3, 'expensive': 4, 'squander': 3, 'squandering': 3, 'ugliness': 7, 'toil': 1, 'continuing': 1, 'nothing': 17, 'outside': 10, 'sides': 6, 'through': 3, 'worthless': 3, 'radio': 5, 'seaport': 2, 'book-buying': 1, 'book-collecting': 1, 'hanuman': 1, 'hinduism': 11, 'grow-up': 6, 'gulley-jimson': 2, 'jacinths': 1, 'mud': 5, 'pebbles': 2, 'rubies': 1, 'sleepless-nights': 1, 'adore': 3, 'khalil-gibran': 3, 'spill': 2, 'puisi': 2, 'jeanette-leblanc': 2, 'seen': 2, 'stardust': 5, 'wild-heart': 2, 'another-birth': 1, 'forugh-farrokhzad': 1, 'iran': 8, 'persia': 1, 'american': 9, 'louise-glück': 1, 'aristocracy': 2, 'civil-guillotine': 1, 'sunflower': 1, 'lost-souls': 2, 'resurrection': 35, 'eastern-thought': 1, 'macrobiotics': 1, 'individual': 15, 'masturbation': 2, 'chanting': 1, 'flame': 5, 'high-tide': 1, 'mystical': 5, 'columbus': 2, 'needle': 2, 'vintage-books': 1, 'russian-author': 2, 'grotesque': 1, 'brotherhood': 13, 'ferlinghetti': 1, 'if-you-don-t-mind': 1, 'the-world-is-a-beautiful-place': 1, 'accuracy': 6, 'alarming': 1, 'connubial': 1, 'identifying': 2, 'undersand': 1, 'lost-opportunities': 2, 'cherished-memories': 1, 'cherishing': 6, 'fond': 1, 'holding-on': 6, 'kittens': 1, 'nostalgic': 2, 'film': 13, 'inertia': 5, 'atticus-finch': 2, 'whiskey-words-and-a-shovel-iii': 1, 'drew': 1, 'swoon': 1, 'loquacity': 1, 'christina-rossetti': 1, 'gabriel-rossetti': 1, 'lizzie-siddal': 1, 'pre-raphaelite': 1, 'artists-quotes': 6, 'bachata': 6, 'baila': 6, 'bailando': 6, 'ballerina': 7, 'ballet': 6, 'ballet-dancer': 6, 'ballroom': 6, 'ballroom-dance': 6, 'ballroom-dancing': 6, 'belly-dance': 6, 'belly-dancer': 6, 'belly-dancing': 6, 'bhangra': 6, 'boogie-woogie': 6, 'choreographer': 8, 'choreography': 8, 'contemporary-dance': 6, 'dance-academy': 8, 'dance-class': 8, 'dance-costume': 6, 'dance-festival': 6, 'dance-floor': 6, 'dance-life': 6, 'dance-photography': 6, 'dance-quote': 6, 'dance-shoes': 6, 'dance-show': 6, 'dance-studio': 8, 'dance-wear': 6, 'dancehall-dance': 6, 'dancing-with-the-stars': 2, 'danza': 6, 'disco-dance': 6, 'disco-dancing': 6, 'electronic-dance': 6, 'figure-skater': 6, 'figure-skating': 6, 'flamenco': 6, 'folk-dance': 6, 'freestyle': 6, 'gymnastics': 6, 'ice-skating': 7, 'jazz-dance': 6, 'kathak': 6, 'kizomba': 6, 'latin-dance': 6, 'mambo': 6, 'modern-dance': 6, 'movements': 7, 'raqs-sharqi': 6, 'reggae-dance': 6, 'reggaeton': 6, 'salsa': 10, 'salsa-dance': 10, 'samba': 6, 'shah-asad-rizvi': 6, 'street-dance': 8, 'sway': 9, 'swing-dance': 6, 'tango': 6, 'tap-dance': 6, 'zouk': 6, 'zumba-dance': 6, 'bast': 2, 'fae': 4, 'kvothe': 3, 'maple-maypole': 1, 'name-of-the-wind': 3, 'sorting-hat': 1, 'heartache-quotes': 1, 'contradictions': 4, 'myth': 29, 'quran': 4, 'spiders': 3, 'spiderweb': 1, 'the-maternal': 1, 'anonymity': 5, 'imperceptibility': 2, 'the-dark-between-stars': 4, 'abnormal': 3, 'porphyria': 1, 'strangle': 1, 'philistine': 1, 'stage': 5, 'black-hole': 5, 'emptyness': 4, 'madeleine-l-engle': 1, 'right-time': 1, 'great-men': 2, 'hubris': 4, 'melting': 2, 'layover': 1, 'philosophy-of-love': 1, 'spiritual-psychology': 1, 'the-higher-self': 1, 'the-soul': 5, 'love-for-animals': 1, 'chanel': 11, 'surreal': 1, 'thunderstorm': 2, 'coming-of-spring': 1, 'nymphs': 4, 'graceful': 2, 'underdog': 7, 'arab': 1, 'children-of-celebrities': 1, 'class-struggle': 2, 'dolls': 1, 'epilepsy': 1, 'gay-and-lesbian': 1, 'goth-lifestyle': 1, 'jocks': 1, 'progeria': 1, 'screenplays': 2, 'alice-walker': 1, 'moon-palace': 1, 'peom': 1, 'smelling': 1, 'glass': 5, 'anniversary': 1, 'afghanistan': 2, 'refugees': 5, 'syria': 3, 'portmanteau': 1, 'annotation': 1, 'erudition': 1, 'scholars': 9, 'posture': 1, 'self-cruelty': 1, 'the-glass-essay': 1, 'guatemala': 1, 'new-york-city': 11, 'too-good': 2, 'too-hard': 2, 'daisies': 1, 'words-have-power': 3, 'matched': 1, 'bookshops': 1, 'frank-o-hara': 1, 'walt-whitman': 4, 'william-carlos-williams': 1, 'free-soul': 1, 'go-on': 1, 'tear-apart': 1, 'tumblr-writing': 1, 'octavio-paz': 1, 'cohesiveness': 1, 'feathers': 6, 'french': 16, 'african-american-poets': 1, 'whitman': 2, 'hunted': 5, 'the-death-of-the-phoenix': 1, 'nightingale': 2, 'sound': 10, 'rivalry': 4, 'sonnet-104': 1, 'lyrics-of-the-heart': 1, 'novellas': 1, 'real-life-struggle': 1, 'ya-fiction': 1, 'cheap': 6, 'effects': 2, 'findinglostsouls': 3, 'forher': 3, 'forhim': 3, 'he': 3, 'quotes-of-life': 3, 'sapiosexual': 3, 'she': 4, 'truelove': 3, 'bone': 2, 'pagan': 6, 'silver': 4, 'bharathi': 3, 'epic': 2, 'evergreen': 2, 'surrendering': 1, 'tamil': 4, 'கண-ணம-ம': 1, 'romanian-language': 1, 'art-and-life': 1, 'mid-life-crisis': 1, 'middle-age': 1, 'cynicisim': 1, 'difficulty': 21, 'ireland': 5, 'blackbeard': 1, 'hanging': 1, 'pirates': 4, 'james-herondale': 1, 'first-place': 1, 'horses': 8, 'swagger': 1, 'the-late-hour': 1, 'the-monument': 1, 'the-story-of-our-lives': 1, 'jump': 7, 'david-thewlis': 1, 'descent': 3, 'fortress': 1, 'exchange': 2, 't-s-eliot': 3, 'the-wasteland': 1, 'get-outside': 8, 'hikes': 8, 'hiking': 15, 'our-planet': 8, 'outdoors': 11, 'outdoors-church': 8, 'pilgrim': 8, 'pilgrimage': 11, 'visual-poetry': 8, 'walks': 8, 'emily-dickinson': 5, 'bad-luck': 7, 'unlucky': 3, 'شعر': 18, 'عربي': 1, 'creative': 32, 'lungs': 2, 'original-poem': 2, 'chemical': 3, 'chemical-reactions': 3, 'cures': 8, 'doctor': 12, 'elements': 8, 'healthcare': 30, 'incomplete-science': 3, 'medical': 16, 'philosophy-of-science': 32, 'physician': 9, 'treatement': 3, 'aviation': 1, 'spitfire': 1, 'nonconformity': 6, 'filhos-da-neve': 1, 'mary': 3, 'o-neill': 1, 'pillar': 2, 'immune': 2, 'senses': 9, 'breton': 1, 'fresh': 2, 'start': 19, 'majesty': 3, 'truthful': 17, 'breathless': 1, 'brenna-twohy': 1, 'forgive-me-my-salt': 1, 'ant-fascism': 1, 'ant-fascist': 1, 'underdogs-unite': 1, 'falseness': 1, 'poesía': 1, 'true-stories': 1, 'relatable': 6, 'justice-system': 9, 'cryptography': 1, 'cs': 1, 'turing': 3, 'uk': 1, 'wwii': 4, 'high-notes': 2, 'messages': 6, 'turkish': 4, 'be-bop-bo-peep': 1, 'dirby-mcdonald': 1, 'dirk-mcdonald': 1, 'arrival': 2, 'departure': 2, 'departures': 2, 'before': 5, 'old-place': 3, 'side': 4, 'letters-to-lorca': 2, 'poets-laureate': 1, 'the-way-to-the-river': 1, 'daphnaida': 1, 'correction': 4, 'corrections': 5, 'palm': 1, 'cinnamon': 1, 'loveliness': 1, 'lovely': 5, 'loves': 3, 'me': 7, 'traverse': 1, 'valleys': 1, 'maternal': 2, 'nation': 8, 'naturalism': 38, 'paternal': 2, 'youthful': 4, 'disappear': 7, 'mean-something': 1, 'realise': 8, 'cliche': 2, 'rhyme': 5, 'bereft': 1, 'vacate': 1, 'vagueness': 1, 'void': 2, 'voidness': 1, 'epitaph': 7, 'cecily-von-ziegesar': 1, 'dan-humphrey': 1, 'don-t-you-forget-about-me': 1, 'eiffel': 1, 'eiffel-tower': 1, 'eiffel-tower-poem': 1, 'eiffel-tower-poems': 1, 'french-history': 1, 'hitler': 4, 'i-love-france': 1, 'i-love-paris': 1, 'la-dame-de-fer': 1, 'resistance-movement': 1, 'towers': 1, 'world-war-2': 2, 'world-war-two': 1, 'tearstain': 1, 'dickinson': 2, 'emily': 1, 'secrecy': 9, 'peoms': 2, 'sphere-of-intellect': 4, 'transcreation': 2, 'translation': 12, 'translation-of-poetry': 1, 'translator': 2, 'sphere-of-iint': 1, 'assimilation': 2, 'understanding-poetry': 3, 'cleaning': 2, 'amen': 5, 'enoughness': 4, 'gaps': 4, 'hallelujah': 5, 'intricacy': 4, 'living-in-the-present-moment': 4, 'multiplicity': 4, 'philosopher-s-stone': 4, 'praying': 22, 'religious-diversity': 4, 'stalking-the-gaps': 4, 'the-tree-with-the-lights-in-it': 4, 'songs-to-survive-the-summer': 1, 'calculating': 1, 'calculative': 1, 'manipulating': 1, 'manipulative': 1, 'relation': 2, 'score': 2, 'entirety': 1, 'translation-theory': 1, 'longevity': 3, 'paper': 1, 'table': 6, 'fatigued': 1, 'unsuccessful': 1, 'vagueness-life': 1, 'malpractice': 1, 'mellow-age': 1, 'showers': 1, 'dancing-age': 1, 'full-of-life': 1, 'raptures': 1, 'writing-poetry': 1, 'beauties': 1, 'global-warming': 17, 'vanishing': 2, 'poet-s-mind': 1, 'range-of-consciousness': 1, 'reading-poetry': 2, 'readers': 7, 'moral': 17, 'subtle': 5, 'heart-ache': 1, 'abandoned': 2, 'spilled-ink': 4, '26-11': 1, 'mumbai': 1, 'terrorism': 8, 'cyprus': 1, 'audre-lorde': 2, '1966': 1, 'tarantula': 1, 'waters': 1, 'children-s-literature': 4, 'bodies': 4, 'nests': 2, 'the-creator': 4, 'reentry-problems': 1, 'public-opinion': 5, 'contemporary-poetry': 1, 'modern-poetry': 3, 'spanish-literature': 1, 'whirlwind': 3, 'asylum': 4, 'fleeing': 2, 'the-other': 1, 'sight-quotes': 1, 'fine-dining': 1, 'handbags': 1, 'haute-cuisine': 1, 'luxuries': 1, 'necessities': 1, 'restaurants': 3, 'mad-farmer': 1, 'exquisite': 1, 'substance': 10, 'pillow': 1, 'gifford': 1, 'burst': 3, 'galaxy': 8, 'scatter': 1, 'coward': 4, 'mine': 2, 'poetry-quotes-love': 2, 'appreciate-life': 3, 'giggle': 3, 'life-is-beautiful': 1, 'teach-me': 1, 'rumpole': 1, 'poetic-faith': 2, 'suspension-of-disbelief': 2, 'unbelievable': 5, 'seasonal': 1, 'pippin': 1, 'tristeza': 1, 'algernon-charles-swinburne': 2, 'algernon-swinburne': 1, 'heidegger': 2, 'landor': 1, 'martin-heidegger': 1, 'walter-landor': 1, 'walter-savage-landor': 1, 'chick-lit': 11, 'spilling-a-secret': 1, 'verse-novels': 1, 'womens-fiction': 1, 'final': 2, 'final-vctory': 2, 'overpowering': 2, 'directions': 3, 'paths': 4, 'early-age': 2, 'mixed-race': 1, 'nationhood': 1, 'objectification': 1, 'poesie': 2, 'rooftop': 1, 'soliloquy': 1, 'springtime': 5, 'bride': 2, 'picnic': 1, 'satyrs': 1, 'weddings': 1, 'cuba': 2, 'fireworks': 3, 'airplanes': 1, 'shopping': 1, 'liberal-arts': 2, 'magi': 2, 'slamming-open-the-door': 1, 'boat': 2, 'bridge-quotes': 1, 'canoe': 1, 'island': 3, 'kayak': 1, 'lifeboat': 1, 'limerick': 2, 'poetry-poem': 1, 'stanza': 1, 'swim': 3, 'swimmer': 1, 'vessel': 1, 'water-is-life': 3, 'water-quotes': 2, 'what-is-poetry': 1, 'writing-quotes': 5, 'written': 3, 'yacht': 1, 'love-lost': 1, 'miss': 1, 'short-poem': 2, 'wrote': 3, 'rhyme-and-rebellion': 1, 'american-poets': 1, 'hera': 2, 'zeus': 4, 'aztec': 1, 'utopia': 7, 'world-to-come': 2, 'gothic-horror': 1, 'finery': 1, 'insights': 8, 'cognitive-dissonance': 1, 'diamond': 5, 'kintsukuroi': 1, 'charlie-parker': 1, 'diamonds': 4, 'jazz-appreciation-month': 1, 'jazz-music': 1, 'saxophone-players': 1, 'nonviolent-conflict-resolution': 5, 'beautifiers': 2, 'destroyers': 2, 'ideologues': 2, 'positive-quote': 2, 'self-love-quotes': 3, 'centuries': 2, 'century': 2, 'high': 5, 'one-step': 2, 'step': 6, 'too-far': 3, 'too-high': 2, 'too-late': 3, 'airavata': 1, 'henna': 1, 'hindi': 1, 'hindi-poem': 1, 'indra': 2, 'pachyderm': 1, 'romantic-poetry': 1, 'saraswati': 1, 'memorizing': 1, 'paul-celan': 1, 'classic-literature': 4, 'modern-authors': 1, 'parapsychology': 2, 'suppression': 5, 'dragon': 8, 'dorian-gray': 2, 'publication': 1, 'asian-characters': 1, 'bisexual-characters': 1, 'cb-lee': 1, 'coming-out': 2, 'english-class': 1, 'highs-chool': 1, 'lgbtqia-characters': 1, 'not-your-sidekick': 1, 'latino': 4, 'cassandra': 3, 'gabriela-mistral': 2, 'greek-tragedy': 2, 'madwomen': 2, 'unavoidable': 1, 'visions': 13, 'chicano': 1, 'banker': 3, 'clytemnestra': 1, 'electra': 1, 'orestes': 1, 'crazy-love': 4, 'being-fine': 1, 'being-ok': 1, 'ineffable': 3, 'klee': 1, 'psychic-improvisation': 1, 'challenges-to-young-poets': 1, 'complex-regional-pain-syndrome': 1, 'disabled': 1, 'freedom-of-speech': 13, 'injury': 3, 'poem-of-the-day': 1, 'raw': 6, 'saying-goodbye': 1, 'making-the-best-of-situations': 1, 'junkie': 2, 'benevolence': 8, 'iubire': 1, 'nichita-stanescu': 1, 'poezie': 1, 'dio': 1, 'hard-rock': 1, 'heavy-metal': 1, 'ronnie-james-dio': 1, 'tribute': 2, 'tribute-to-ronnie-james-dio': 1, 'buttons': 1, 'pepper': 2, 'collection': 2, 'making': 2, 'the-virgin-suicides': 1, 'naturalist': 5, 'naturism': 1, 'nudist': 1, 'snowflakes': 3, 'dullness': 4, 'biomechanics': 1, 'apollo': 7, 'random-thoughts': 1, 'agape-love': 9, 'angel-of-healing': 3, 'ethics-and-moral-philosophy': 6, 'human-rights': 17, 'middle-east-conflicts': 3, 'iqbal': 3, 'arctic': 1, 'climate-change': 35, 'high-arctic': 1, 'effect': 1, 'the-other-woman': 1, 'reputation': 8, 'machines': 5, 'gertrude-stein': 1, 'peculiar': 2, 'poetry-poet': 2, 'zodiac': 1, 'poetic-prose': 1, 'writing-style': 2, 'landscape': 2, '89': 1, 'phenomenology': 9, 'gibran': 2, 'my-heart-was-full': 1, 'poet-knights': 2, 'provencal': 2, 'scatology': 1, 'ed': 1, 'selfdestruction': 1, 'selfharm': 1, 'magazine': 2, 'eternal-love': 1, 'mystic': 5, 'past-life': 1, 'meter': 2, 'haiku-quotes': 2, 'haikupoetry': 3, 'meeta-ahluwalia': 5, 'meetaahluwalia': 4, 'mountain-quotes': 1, 'humanities': 1, 'next-day': 1, 'suburbia': 1, 'suck': 2, 'altar': 1, 'binding': 1, 'bound': 5, 'irish': 6, 'kingkiller': 1, 'kingkiller-chronicles': 1, 'wayside-inn': 1, 'wise-mans-fear': 1, 'dedicate': 3, 'for-you': 3, 'your-love': 3, 'patricia-robin-woodruff': 1, 'sonnets': 1, 'starstuff': 2, 'excessive': 2, 'over-indulgence': 1, 'overdose': 1, 'pretentiousness': 12, 'stomach': 3, 'bird-quotes': 2, 'eagle-quotes': 1, 'eagles': 2, 'haze': 1, 'ray': 1, 'shroud': 1, 'shrouds': 1, 'sunrays': 1, 'met': 1, 'musings': 5, 'serious': 6, 'solemn': 6, 'somber': 1, 'writing-poems': 1, 'live-fully': 2, 'reinventing-yourself': 4, 'duffy': 1, 'nostalgie': 1, 'vertigo': 1, 'accept': 7, 'bank': 2, 'boxed': 1, 'cheque': 1, 'currency': 3, 'deposit': 1, 'donation': 1, 'notebooks': 1, 'russian-verse': 2, 'memorability': 1, 'conditions': 6, 'empowered': 5, 'floated': 2, 'standing': 3, 'transcending': 2, 'transformed': 2, 'wholeheartedly': 2, 'eloquent': 2, 'dirac': 5, 'all-ways': 1, 'love-and-light': 3, 'magick': 13, 'tales-of-love-and-light': 1, 'love-poems-poetry-romance': 1, 'temptation': 14, '1840': 1, 'alberto-caeiro': 9, 'anti-spiritual': 3, 'directness': 3, 'elan': 3, 'vacuum': 6, 'vitalism': 3, 'derrida': 3, 'adonais': 1, 'a-blue-so-dark': 1, 'dylan-thomas': 1, 'baseness': 1, 'embroidery': 1, 'platitudes': 1, 'servant': 3, 'servants': 2, 'hellhound': 1, 'loosing': 1, 'vandals': 3, 'rainer-maria-rilke-poet': 1, 'poetry-of-life': 2, 'ashbery': 1, 'year': 4, 'american-primitive': 1, 'tecumseh': 1, 'juvenilia': 1, 'character-related': 1, 'literary-inspiration': 4, 'savannah-author-aberjhani': 6, 'spiritual-nourishment': 4, 'english': 7, 'francais': 1, 'the-basement-trains': 1, 'solititude': 1, 'andrew-marvell': 1, '187': 1, 'brion-gysin': 1, 'cut-ups-self-explained': 1, 'highland': 1, 'leaves-of-grass': 1, 'campaigning': 3, 'command': 3, 'frog': 1, 'ode': 1, 'poets-to-come': 1, 'impatience': 6, 'mouse': 2, 'scottish': 1, 'carolyn': 1, 'kizer': 1, 'new-york-times-review': 1, 'cansado': 1, 'girondo': 1, 'nuyorican': 1, 'decline': 4, 'moon-quotes': 1, 'pale-fire': 1, 'figs': 1, 'tidying': 1, 'hawk': 3, 'mask': 7, 'aphrodisiac': 1, 'unusual': 3, 'altruistic': 1, 'sticky-thoughts': 1, 'velvet': 1, 'heart-and-mind': 1, 'abusive': 1, 'childish': 8, 'dust': 4, 'eulogy-mother': 1, 'feather': 7, 'fertility': 5, 'grandmother': 3, 'kingdom': 7, 'loss-of-mother': 1, 'matriarch': 1, 'mother-earth': 10, 'mother-poetry': 1, 'pregnancy': 5, 'seaweed': 1, 'seed': 8, 'treatment': 3, 'woman-power': 1, 'woman-rights': 1, 'leaving-a-relationship': 1, 'quote-about-life': 2, 'adrian-g-sahlean': 2, 'aloof': 3, 'glossa': 2, 'mihai-eminescu': 2, 'poezii': 2, 'breathing-words': 1, 'magical-realism': 6, 'palestine': 4, 'refugee': 3, 'warsan-shire': 1, 'freeverse': 1, 'woods': 2, 'ambiguity': 4, '1970s': 1, 'finland': 1, 'modernity': 21, 'henrik-ibsen': 1, 'elderly': 1, 'begin': 5, 'fatal': 2, 'unborn': 1, 'vanishing-point': 1, 'dream-man': 1, 'dreams-quotes': 23, 'love-sayings': 1, 'keep-strong': 1, 'wishes-quotes': 3, 'bathroom': 2, 'getting-dressed': 2, 'him': 2, 'kitchen': 5, 'observe': 11, 'us': 4, 'gazing': 1, 'sweater': 1, 'assassin': 4, 'litterature': 1, 'أدب': 1, 'not-giving-up': 4, 'rules-of-the-road': 1, 'sonnet-65': 1, 'lady-laura': 1, 'the-amorous-shepherd': 3, 'contar-conmigo': 1, 'conficence': 1, 'langston-hughes': 1, 'analysis': 3, 'chosen': 4, 'ph-d': 1, '221b': 1, 'holmes': 1, 'sherlock': 3, 'watson': 6, 'at-the-fishouses': 1, 'writer-s-block': 2, 'bacchus': 3, 'wallace-stevens': 1, 'hunting-for-cherubs': 1, 'affectations': 1, 'mimicry': 2, 'poseurs': 1, 'barbara': 1, 'jacques': 1, 'prevert': 1, 'improvidence': 1, 'berkeley': 1, 'fiction-novel': 10, 'oxford': 3, 'redemptive': 2, 'tiger-tiger': 1, '21st-century-authors': 2, 'orion': 3, 'ada-limon': 1, 'lucky-wreck': 1, 'form': 5, 'cranch': 1, 'margarita-engle': 1, 'the-surrender-tree': 1, 'the-walk': 1, 'carol-guess': 1, 'nate-spears': 1, 'beethoven': 4, 'goya': 1, 'ordeals': 1, 'titian': 1, 'debauchery': 2, 'decadence': 3, 'bookstores': 4, 'jungle': 3, 'flamingo': 1, 'whimsy': 4, 'scottish-poetry': 1, 'human-rights-day': 7, 'universality': 2, 'what-not-to-say': 1, 'arrow': 2, 'tangle': 1, 'target': 7, 'conviction': 22, 'great-war': 1, 'sassoon': 1, 'world-war-one': 1, 'wwi': 1, '49': 1, 'confessor': 1, 'inauguration': 1, 'obama': 6, 'buildings': 2, 'the-ribs-of-the-dragonfly': 1, 'tennessee': 1, 'award-winning': 1, 'hawaiian-poet': 1, 'prose-poem': 1, 'journalism': 12, 'writer-s-advice': 1, 'writer-s-philosophy': 1, 'cosmic': 10, 'creation-myth': 1, 'gaia': 4, 'greek-myth': 1, 'aesthetic': 2, 'dark-academia': 1, 'deep-quotes': 2, 'nature-quotes': 3, 'mysteries': 11, 'blooming': 5, 'repression': 4, 'new-zealand-author': 1, 'analicia-sotelo': 1, 'dramatic': 3, 'figurative-language': 1, 'virgin': 1, 'elvis-presley': 4, 'platonic-love': 2, 'unapologetic': 1, 'mystic-poet': 1, 'sufi-wisdom': 1, 'sufism-quotes': 1, 'knocking': 1, 'fantasy-literature': 2, 'valhalla': 1, 'valkyrie': 3, 'stupid': 17, 'swan': 4, 'swine': 4, 'poetics': 1, 'wounded': 5, 'renaissance': 6, 'karen-tei-yamashita': 1, 'tropic-of-orange': 1, 'book-quotes': 4, 'frequency': 5, 'magic-carpet': 1, 'realistic-fiction': 1, 'teen-fiction': 2, 'fragments': 3, 'afternnon': 1, 'ljubav': 1, 'rhyming-poems': 1, 'fog': 2, 'hills': 1, 'senryu': 1, 'shirt': 2, 'fucked': 1, 'fucked-up-love': 1, 'doorway': 2, 'lose-yourself': 1, 'mathematics-and-poetry': 2, 'spiritual-poetry': 2, 'the-waves': 1, 'virginia-woolf': 2, 'history-of-mankind': 5, 'chained': 2, 'tethered': 2, 'tied': 2, 'unified': 5, 'bull-fighters': 1, 'bull-fights': 1, 'bulls': 1, 'carnaval': 1, 'carnivals': 1, 'death-dream': 1, 'dying-at-home': 1, 'husband-and-wife': 4, 'husband-and-wife-relationship': 1, 'torredor': 1, 'whore': 1, 'whores': 1, 'misattributed-to-emerson': 2, 'misattributed-bill-cosby': 2, 'dare-to-be': 3, 'albert': 2, 'einstein': 36, 'lesson-on-living': 3, 'stand': 11, 'misattributed-to-confucius': 1, 'decisiveness': 3, 'inaction': 7, 'timidity': 5, 'scientific-process': 8, 'assumption': 5, 'judging': 12, 'enterprise': 9, 'mind-quotes': 5, 'obstacle': 7, 'never-stop-believing': 5, 'never-stop-dreaming': 3, 'never-stop-learning': 5, 'never-stop-trying': 3, 'arrogance': 42, 'compliment': 8, 'challenge': 54, 'just-do-it': 12, 'spiritual-warfare': 9, 'live-now': 8, 'self-criticism': 2, 'entrepreneur': 20, 'ben-carson': 2, 'gifted-hands': 2, 'hurdles': 5, 'false-standards': 2, 'true-value': 2, 'underestimate': 3, 'healthy-striving': 2, 'life-paralysis': 2, 'joyce-meyer': 2, 'schedule': 3, 'african-american-authors': 4, 'african-authors': 9, 'agu-jaachynam-n-e': 4, 'amazom': 46, 'anyaele-sam-chiyson': 4, 'be-different': 55, 'chiysonovelty-bookclub': 4, 'elections': 7, 'forbes': 8, 'higher-living': 65, 'international-authors': 4, 'it-is-time-to-get-very-rich': 4, 'jaachynma': 55, 'niche': 51, 'nigerian-authors': 4, 'richest': 9, 'risk-it': 49, 'the-best-option': 65, 'the-prince-and-the-pauper': 58, 'the-sagacity-of-sage': 4, 'risks': 11, 'climbing': 3, 'try-again': 6, 'achieving': 6, 'reason-to-breathe': 3, 'reason-to-live': 3, 'change-management': 9, 'change-management-training': 1, 'developing-self': 4, 'inside-out': 2, 'inside-us': 1, 'personal-development-insights': 4, 'success-coaching': 46, 'success-in-business': 15, 'coaches': 3, 'coaching-best-practices': 3, 'coaching-best-standards': 3, 'coaching-executive': 4, 'coaching-quotes': 3, 'daily-inspiration': 7, 'daily-living': 5, 'daily-motivation': 6, 'daily-quotes': 4, 'develop': 3, 'develop-talents': 3, 'developing-leadership-skills': 3, 'developmental-psychology': 3, 'growth-life': 5, 'growth-process': 7, 'health-and-fitness': 2, 'personal': 13, 'personal-development-goals': 3, 'personal-development-quotes': 4, 'personal-planning': 3, 'transformation-of-consciousness': 3, 'transformations': 5, 'work-ethic': 13, 'work-out-for-your-health': 1, 'self-doubt': 13, 'accomplish-great-things': 2, 'accomplishing-things': 1, 'accomplishments-quotes': 3, 'approach': 11, 'failing': 4, 'failure-and-attitude': 5, 'failure-and-success': 11, 'failure-quotes': 13, 'failures': 31, 'feedback': 2, 'obstacles-quotes': 2, 'business-advice': 7, 'business-culture': 1, 'business-leaders': 3, 'business-management-training': 1, 'business-quotes': 18, 'business-start-up': 1, 'business-success': 9, 'businesslike': 1, 'businessman': 3, 'entrepreneur-quotes': 1, 'entrepreneurial': 3, 'entrepreneurial-quote': 1, 'entrepreneurs-institute': 1, 'entrepreneurship-quotes': 3, 'entrepreneurship-training': 2, 'finance-quote': 1, 'finance-quotes': 1, 'finances': 2, 'income-growth': 1, 'invest': 2, 'investing': 3, 'investment': 5, 'investment-advice': 1, 'investments': 2, 'money-issues': 1, 'money-management': 3, 'money-talks': 1, 'moneymaking': 2, 'steward': 2, 'stewardship': 3, 'wealth-quotes': 2, 'wealth-strategies': 3, 'workplace': 2, 'persist': 3, 'breakthrough': 18, 'breakthroughs': 3, 'quit': 1, 'quitters': 1, 'quitting': 6, 'rich-people': 3, 'wealth-plan': 1, 'noblesse-oblige': 1, 'sacrifice-quotes': 3, 'sacrificial-mentality': 1, 'poverty-alleviation': 1, 'luffy': 1, 'one-piece': 2, 'usopp': 1, 'nerve': 6, 'abilities': 15, 'affirmation-quotes': 2, 'affirmational': 1, 'experience-inspiration': 3, 'experience-mistakes-wisdom': 1, 'experience-quotes': 1, 'experienced': 3, 'experiences-and-adventures': 1, 'waste-of-time': 1, 'wasted-time': 5, 'orgone': 2, 'projection': 2, 'self-perception': 2, 'misattributed-to-leonard-cohen': 1, 'free-thought': 6, 'merit': 4, 'believe-and-achieve': 10, 'dare-to-win': 2, 'excus': 1, 'instal': 1, 'installment': 1, 'installments': 1, 'potentials': 4, 'procrastinate': 2, 'page': 3, 'seceret': 2, 'improvisation': 1, 'achieving-dreams': 3, 'struggle-of-life': 1, 'good-name': 2, 'inspirational-success-failure': 2, 'anime': 8, 'bakuman': 1, 'excuse': 12, 'rockefeller': 1, 'barefoot-in-november': 1, 'benjamin-j-carey': 1, 'aristotle': 9, 'awe-inspiring': 1, 'quality-over-quantity': 1, 'a-torch-against-the-night': 1, 'disasters': 1, 'elias-veturius': 1, 'laia-of-serra': 1, 'worried': 1, 'bee': 2, 'honey': 1, 'cooperation': 4, 'conspiracy': 8, 'crime': 36, 'espionage': 6, 'thriller': 11, 'heroic': 7, 'soldier': 7, 'stand-out': 4, 'actor': 8, 'athlete': 5, 'just-do-something': 4, 'pursue-your-dreams': 4, 'take-action': 7, 'achieving-success': 2, 'champ': 1, 'efforts': 4, 'victor': 1, 'good-governance': 2, 'reign': 1, 'somebody': 1, 'martina-boone': 2, 'shoes': 5, 'achievments': 2, 'graduation-speech': 3, 'difficulties': 16, 'to-read': 16, 'صام': 16, 'قلب': 16, 'كتاب': 16, 'kung-fu-panda': 3, 'near-hits': 1, 'near-misses': 1, 'nearly': 1, 'change-is-good': 6, 'hope-and-healing': 5, 'inspirational-motivational': 6, 'motivational-quote-of-the-day': 5, 'new-beginning-quotes': 6, 'new-beginnings-quotes': 5, 'new-day-is-coming': 5, 'self-improvement-quotes': 6, 'truth-quotes': 26, 'triumphs': 3, 'indian-fiction': 3, 'christian-spiritual-growth': 2, 'justifications': 1, 'your-life': 6, 'effectiveness': 7, 'to-kill-a-mockingbird': 1, 'can-do-spirit': 1, 'die-for-it': 1, 'live-for-it': 1, 'shell': 1, 'success-principle': 1, 'betty-friedan': 1, 'making-it': 2, 'condemn': 2, 'criticize': 9, 'deplore': 1, 'successes': 3, 'swear': 1, 'preparedness': 4, 'fatigue': 3, 'participate': 4, 'advancement': 4, 'butterfly-effect': 1, 'change-your-mind': 1, 'many-worlds-interpretation': 2, 'paradigm-shift': 14, 'quantum-physics': 17, 'obsessed': 1, 'progess': 1, 'insults': 9, 'opportunity-knocks': 1, 'be-happy-in-the-moment': 1, 'be-here-now': 1, 'believe-you-can': 1, 'believe-you-can-do-it': 1, 'breath-of-life': 1, 'breathe-in': 1, 'chill': 1, 'do-it': 3, 'do-it-now': 1, 'do-it-now-and-not-later': 1, 'do-you': 1, 'driven': 10, 'driven-by-purpose': 2, 'forgive-others': 1, 'free-your-mind': 1, 'get-back-up': 2, 'get-up': 2, 'give-it-your-best': 1, 'go-for-it': 1, 'happening-now': 1, 'ignore-critics': 1, 'inspirational-life-guidance': 2, 'keep-going': 16, 'lighten-up': 2, 'live-for-now': 1, 'mentality-quotes': 1, 'motivated': 4, 'motivational-quotes-for-women': 5, 'no-stress': 1, 'no-worry': 1, 'relax': 3, 'relax-quotes': 1, 'release-the-past': 1, 'restoration': 10, 'start-where-you-are': 1, 'try-and-try-again': 3, 'you-are-enough': 2, 'intentional-living': 2, 'working-with-people': 1, 'working-with-your-strengths': 1, 'watermelon': 1, 'accolades': 1, 'conquering': 2, 'handling': 1, 'prosper': 3, 'soaring': 4, 'intentions': 10, 'mission': 16, 'dissent': 16, 'golf': 3, 'ideology': 24, 'system': 9, 'isobelle-carmody': 1, 'obernewtyn': 1, 'swallow': 3, 'task': 4, 'chris-wright': 1, 'football': 7, 'tim-tebow': 1, 'anthony-robbins': 2, 'business-tools': 9, 'foundational': 8, 'new-opportunities': 10, 'climb': 3, 'keep-climbing': 1, 'stretch': 1, 'top': 2, 'award': 1, 'praised': 1, 'worshiped': 1, 'broken-harbor': 1, 'mythbusters': 1, 'earning': 3, 'rewards': 5, 'gospel': 19, 'aim-high': 2, 'frequent': 2, 'heavy': 5, 'perserverance': 11, 'favorites': 7, 'illicit': 1, 'suspense-thriller': 3, 'appear': 2, 'attire': 1, 'be-nice-be-nicer': 1, 'clothing': 4, 'deceive': 7, 'families': 8, 'family-member': 1, 'family-members': 2, 'foolish': 22, 'intelligent': 18, 'looks-can-be-deceiving': 1, 'made-it': 1, 'make-it': 2, 'degree': 2, 'diploma': 1, 'plan-b': 2, 'qualifications': 2, 'a-book': 1, 'inch-by-inch': 1, 'millimeter': 1, 'millimetre': 1, 'millions': 3, 'pages': 1, 'possible': 32, 'take-the-cross': 1, 'are': 1, 'serve': 3, 'explanations': 6, 'motives': 5, 'sprinting': 1, 'chiyson': 48, 'believing-vs-knowing': 1, 'levels': 1, 'naysayers': 2, 'gene-simmons': 1, 'growth-of-awareness': 1, 'style': 9, 'confience': 1, 'inexerienced': 1, 'achiever': 2, 'be-patience': 1, 'bear-fruits': 1, 'don-t-rush': 1, 'dry-season': 1, 'fruts': 1, 'impact': 24, 'impact-web': 1, 'instantly': 1, 'overnight': 1, 'take-time': 2, 'take-your-time': 1, 'wet-season': 1, 'chic': 1, 'fabulous': 1, 'frivolity': 1, 'inteligence': 1, 'alpinism': 4, 'alpinist': 4, 'amit-kalantri-proverb': 8, 'bus': 4, 'car': 6, 'catch-line': 4, 'catchphrase': 4, 'experiment': 19, 'google': 5, 'hiker': 4, 'information-technology': 4, 'mount-everest': 4, 'mountaineering': 7, 'practical': 16, 'road': 22, 'search-engine': 6, 'staircase': 4, 'student': 16, 'tagline': 4, 'taglines': 4, 'tour': 4, 'tourist': 4, 'trek': 4, 'trekking': 4, 'truth-finding': 4, 'walking-the-road': 4, 'option': 3, 'achievement-quotes': 1, 'achievers': 4, 'all-is-yours': 1, 'bangambiki-habyarimana': 1, 'believe-in-yourself-quotes': 1, 'create-your-future': 1, 'create-your-life': 4, 'create-your-reality': 4, 'create-your-world': 1, 'entrepreneur-quote': 1, 'focus-on-success': 1, 'focus-on-the-prize-ahead': 1, 'focus-on-your-life': 1, 'focused': 1, 'goals-and-dreams': 2, 'goals-and-plans': 3, 'goals-quotes': 3, 'inspired-life': 1, 'inspired-living': 2, 'inspired-mind': 1, 'inspired-quotes': 1, 'inspired-soul': 2, 'motivate-myself': 1, 'motivate-yourself': 1, 'motivational-enlightenment': 4, 'running-quotes': 1, 'succeeded': 1, 'succeeding': 3, 'succeeding-in-life': 1, 'succeeds': 1, 'success-quote': 1, 'the-great-pearl-of-wisdom': 3, 'winners-and-losers': 1, 'winners-mentality': 6, 'winning-and-losing': 2, 'winning-attitude': 3, 'winning-from-with-in': 1, 'winning-from-within': 1, 'winning-goal': 1, 'winning-in-life': 3, 'winning-the-game': 1, 'words-of-revelation': 1, 'words-of-wisdom-inspirational': 2, 'words-to-inspire-you': 1, 'words-to-ponder': 1, 'you-are-a-god': 1, 'you-are-great': 1, 'you-are-powerful': 1, 'you-are-the-universe': 1, 'you-create-things-by-your-mouth': 1, 'riding': 2, 'riding-dragon': 2, 'way-to-live': 2, 'vocation': 2, 'bicycle': 2, 'don-t-stop': 1, 'fall-down': 1, 'keep-it-up': 1, 'paddle': 1, 'paddle-on': 1, 'mentor': 9, 'servant-leader': 4, 'helping-yourself': 1, 'financial-freedom': 3, 'consequence': 6, 'gimmick': 2, 'originality': 25, 'significance': 6, 'trend': 7, 'status-quo': 4, 'blake': 1, 'eve': 3, 'lotus-flower': 2, 'surroundings': 3, 'lights-bokan': 1, 'lights-poxleitner': 1, 'good-morning': 2, 'morning-motivation': 1, 'morning-motivations': 1, 'gitomer': 1, 'jeffrey-gitomer': 1, 'networking': 7, 'sales': 18, 'name-dropping': 2, 'show-off': 2, 'amelia-shepherd': 1, 'grey-s-anatomy': 1, 'tv': 6, 'advice-for-daily-living': 19, 'four-dead-queens': 1, 'keralie': 1, 'disempowerment': 1, 'collaborations': 1, 'maximum': 2, 'organisations': 4, 'skill-set': 4, 'entrepreneurs': 22, 'profit': 13, 'limits': 16, 'one-thing-leads-to-another': 1, 'project': 6, 'stupid-idea': 1, 'tiny': 2, 'harmon-okinyo': 1, 'be-strong-quotes': 2, 'hope-quotes': 66, 'life-goes-on': 7, 'move-on-quotes': 1, 'pain-quotes': 1, 'seed-quotes': 1, 'dilute': 3, 'life-success': 1, 'bounce-back': 4, 'setback': 4, 'private-lives': 3, 'funny-and-random': 2, 'jonathon-trooper': 1, 'end-goals': 3, 'visionaire': 2, 'latin': 16, 'occupation': 4, 'bad-woman': 1, 'female-protagonist': 2, 'feminine-power': 1, 'feminism-identity': 1, 'feminismo': 1, 'feminist-quotes': 1, 'feminists': 1, 'good-woman': 2, 'great-woman': 1, 'great-women': 1, 'inspiring-women': 1, 'leadership-development': 5, 'man-and-woman': 1, 'man-and-woman-quote': 1, 'neuropsychology': 6, 'patriarchal': 1, 'patriarchal-culture': 1, 'patriarchal-paradigm': 1, 'patriarchal-society': 1, 'woman-quotations': 1, 'women-and-men': 4, 'womens-rights': 2, 'efficient': 1, 'hard-work-pays-off': 1, 'portia-de-rossi': 1, 'pressure': 9, 'unbearable-lightness': 1, 'controlling-your-future': 1, 'future-plans': 6, 'reaching-for-your-dreams': 1, 'striving-for-success': 1, 'taking-fate-into-your-own-hands': 1, 'manage': 2, 'hockey': 1, 'life-balance': 5, 'positive-psychology': 5, 'replace': 1, 'speaker-susan-young': 5, 'stress-management': 5, 'thrive-in-times-of-change': 5, 'www-susanspeaks-com': 5, 'allegory': 22, 'bloody': 2, 'buzzard': 2, 'iceberg': 2, 'owl': 2, 'popinjay': 2, 'better-you': 4, 'irrigate': 1, 'irrigation': 3, 'little-beginning': 1, 'little-beginnings': 1, 'plant-your-seed': 1, 'sow-your-seeds': 1, 'watering': 1, 'decision-making': 33, 'decision-quotes': 3, 'intuition-quotes': 1, 'leadership-quotes': 11, 'visionary-quotes': 1, 'going': 2, 'involves': 1, 'where': 2, 'blooms': 2, 'comparing-to-others': 1, 'comparison-to-others': 1, 'excel': 3, 'excellent': 2, 'waste-time': 1, 'lotus': 1, 'against-the-odds': 1, 'barriers': 13, 'conceive': 1, 'margins': 1, 'number': 2, 'probability': 10, 'sperms': 1, 'womb': 1, 'empowered-woman': 1, 'beginner': 2, 'beginner-s-guide': 2, 'christian-life': 54, 'courses': 2, 'dont-give-up': 9, 'expert': 6, 'mentoring': 9, 'self-education': 11, 'self-study': 3, 'try-your-best': 2, 'you-can': 20, 'don-t-quit': 4, 'dreams-come-true': 7, 'educational-philosophy': 15, 'learner': 6, 'spiritual-sayings': 2, 'strength-of-spirit': 7, 'do-the-best': 1, 'proud': 6, 'refraction': 1, 'witness': 5, 'entreprenurship': 1, 'getting-things-done': 1, 'capable': 5, 'determined-spirit': 4, 'difficulties-of-life': 4, 'overcomer': 16, 'strength-and-courage': 6, 'strong-woman': 4, 'many-worlds': 1, 'parallel-universe': 2, 'parallel-universes': 1, 'quantum-mechanics': 15, 'quantum-theory': 2, 'superposition': 1, 'failure-is-important': 1, 'failures-quotes': 2, 'subconscious-mind': 3, 'grit': 19, 'sequel': 2, 'confront-fears': 2, 'face-fear': 2, 'face-fears': 2, 'being-different': 10, 'queen-bee': 1, 'three-bees': 1, 'aptitude': 2, 'level': 1, 'pace': 2, 'speed': 7, 'beautiful-day': 1, 'errors': 8, 'making-mistakes': 4, 'diamonds-in-the-rough': 3, 'hopeful-and-encouraging': 18, 'patience-and-timing': 3, 'patience-quotes': 5, 'shine-your-light-quotes': 3, 'harvest': 6, 'noise': 2, 'notoriety': 2, 'providence': 10, 'sisyphus': 2, 'rule': 10, 'inevitability': 5, 'artist-quotes': 1, 'artists-life': 1, 'create-quotes': 1, 'routines': 1, 'greatest-self': 1, 'peer-pressure': 4, 'marketing': 30, 'simon-zingerman': 13, 'we-all-need-heroes': 13, 'zingerman': 13, 'fear-of-failure': 2, 'fear-of-unknown': 1, 'mastery-of-skills': 2, 'bench': 1, 'dress-up': 1, 'extra': 3, 'extra-mile': 4, 'awards': 1, 'beware': 4, 'add-value': 1, 'be-social': 1, 'bloggers': 4, 'brand-image': 1, 'building': 4, 'change-agent': 1, 'content-curators': 1, 'content-is-key': 1, 'digital': 3, 'digital-age': 1, 'digital-footprint': 1, 'digital-marketing': 3, 'digital-strategy': 1, 'digital-transformation': 1, 'digital-trends': 1, 'global-impact': 1, 'higher-ed': 1, 'higher-education': 4, 'increase-engagement': 1, 'influencers': 1, 'internet': 16, 'internet-marketing': 2, 'lead-generation': 1, 'logistics': 1, 'marketing-strategy': 2, 'marketing-tips': 1, 'network-marketers': 1, 'online': 4, 'online-branding': 1, 'online-promotion': 1, 'online-visibility': 1, 'power-of-twitter': 1, 'resource': 5, 'resourceful': 2, 'seo': 1, 'social': 14, 'social-behavior': 2, 'social-change': 9, 'social-content': 1, 'social-correct': 1, 'social-impact': 1, 'social-media-advice': 3, 'social-media-audiences': 2, 'social-media-authors': 1, 'social-media-behavior': 3, 'social-media-branding': 4, 'social-media-experts': 1, 'social-media-for-authors': 2, 'social-media-influencers': 1, 'social-media-marketing': 3, 'social-media-tips': 1, 'social-selling': 1, 'storytellers': 5, 'tech-for-good': 1, 'think-before-you-post': 1, 'thought-leaders': 1, 'twitter': 3, 'twitter-addiction': 1, 'twitter-advice': 1, 'twitter-audiences': 1, 'twitter-mind': 1, 'twitter-nation': 1, 'twitter-quote': 1, 'twitter-quotes': 3, 'twitter-tips': 1, 'what-you-tweet': 1, 'you-are-what-you-post': 1, 'you-are-what-you-tweet': 2, 'course': 5, 'ifeanyi-enoch-onuoha': 4, 'boost': 1, 'boost-your-self-esteem': 1, 'discouragement': 5, 'here-and-now': 4, 'now-is-the-time': 3, 'reverse': 2, 'started-from-the-bottom': 1, 'keep-moving': 2, 'keep-moving-forward': 14, 'small-steps': 2, 'sticky-thinking': 1, 'nerdist': 1, 'elegance': 5, 'implementation': 2, 'performance': 5, 'result': 4, 'team-work': 2, 'under-pressure': 1, 'exist': 5, 'hesitation': 8, 'resist': 2, 'resistence': 1, 'ready': 4, 'failure-success': 1, 'guidance-in-love-and-giving': 1, 'successful-mind': 5, 'self-power': 1, 'fascinated': 1, 'dear': 1, 'jaszgill': 1, 'selflove': 3, 'southern-california': 1, 'fruition': 1, 'do-your-best': 3, 'inspiarational': 1, 'mediocrity': 7, 'quantity': 1, 'succes-quotes': 1, 'caution': 7, 'dangerous': 10, 'meritocracy': 1, 'systematic-oppression': 1, 'bach': 2, 'enrichment': 1, 'personal-satisfaction': 1, 'blunders': 1, 'beautiful-people': 1, 'economy-bankrupt': 1, 'eloise-ristad': 1, 'being-good': 5, 'being-lucky': 1, 'being-successful': 3, 'better-to-be-lucky-than-good': 1, 'diet': 9, 'gains': 4, 'steps': 9, 'babe-ruth': 1, 'baseball': 6, 'cinderella-story': 1, 'capabilities-quotes': 1, 'christian-quotes': 3, 'determination-quotes': 3, 'dreams-and-reality': 2, 'dreams-do-come-true': 2, 'encouragement-quotes': 19, 'faith-quotes': 56, 'inner-strength-quotes': 2, 'reach-out': 3, 'self-confidence-quotes': 1, 'self-determination-quotes': 1, 'self-help-quotes': 3, 'shine-your-star': 2, 'shinning-your-light': 1, 'uplifting-quotes': 3, 'wanting-to-win': 1, 'your-destiny': 1, 'choosing-your-life': 1, 'choosing-your-path': 1, 'intersection': 1, 'learning-quotes': 6, 'startups': 26, 'hurry': 1, 'slow-down': 4, 'competitors': 2, 'commitment-and-attitude': 2, 'committed': 2, 'delayed-gratification': 3, 'requisite': 1, 'steadfast': 1, 'steadfast-mind': 1, 'steadfastness': 3, 'the-fortune-in-failing': 2, 'credentials': 3, 'kinetic-energy': 2, 'potential-energy': 2, 'resume': 3, 'jewish-wealth': 2, 'actor-quotes': 1, 'wsj': 1, 'malevolence': 3, 'believing-in-yourself': 3, 'divine-sparks': 2, 'reconnect': 4, 'reconnection': 2, 'dedicated': 1, 'speeches': 5, 'down-to-earth': 3, 'humbleness': 6, 'choice-quotes': 1, 'choices-choice': 1, 'choose-our-own-destiny': 1, 'future-inspirational': 4, 'future-prediction': 3, 'future-quotations': 3, 'future-quotes': 7, 'goals-priorities': 2, 'goalsetting': 2, 'have-faith-in-your-future': 2, 'have-faith-in-yourself': 2, 'live-on-purpose': 3, 'purpose-driven': 1, 'purposeful-life': 1, 'stay-focused-quote': 1, 'stay-focussed': 1, 'stay-on-guard-against-negativity': 1, 'staying-on-track': 1, 'verb': 3, 'odd': 6, 'affect': 2, 'academic': 9, 'grades': 3, 'great-expectations': 2, 'greate-glory': 2, 'lailah-gifty-akita-affirmations': 11, 'learning-process': 9, 'willing-spirit': 2, 'designin365days': 1, 'right-people': 1, 'networks': 1, 'conditioned': 1, 'make-things-happen': 3, 'advance': 5, 'championship': 1, 'prepare': 4, '12-rules-for-success': 49, 'allegorical': 54, 'enhanced-performance': 40, 'olympic': 54, 'olympic-story': 54, 'spiritual-story': 54, 'steve-backley': 54, 'the-champion-in-all-of-us': 55, 'realising': 1, 'parents-and-children': 2, 'power-of-goal-setting': 1, 'bosses': 1, 'careerism': 1, 'company-culture': 1, 'corporate-culture': 1, 'ladder-of-success': 1, 'promotion': 2, 'agu': 6, 'higher-life': 2, 'kingstreasurehouse': 1, 'ashok': 1, 'flexibility': 3, 'kallarakkal': 1, 'we': 3, 'eena': 3, 'treasures': 1, 'accommodate': 1, 'accommodation': 1, 'be-kind': 8, 'each-others-keepers': 1, 'give-freely': 1, 'give-from-your-heart': 1, 'love-your-neighbour': 1, 'residence': 1, 'firmness': 1, 'overcome-obstacles': 1, 'true-to-self': 3, 'abraham-lincoln': 7, 'knownledge': 2, 'castles': 2, 'life-coaching-advice': 1, 'neglecting': 1, 'building-success': 1, 'momentum': 6, 'thickness': 1, 'richarddenney': 1, 'lorii-myers': 1, 'pastor-john-paul-warren': 1, 'attention-to-detail': 1, 'outstanding': 1, 'weaknesses': 5, 'civility': 5, 'etiquette': 6, 'business-quote': 1, 'consumer': 1, 'lifting': 2, 'manufacture': 1, 'mediocre-minds': 1, 'mediocre-people': 1, 'original': 5, 'replicate': 2, 'replication': 1, 'treadmill': 2, 'weight-training': 1, 'weightlifting': 1, 'weights': 1, 'companions': 1, 'envelope': 1, 'go-extra-mile': 1, 'good-friends': 1, 'postage-stamp': 1, 'stamp': 1, 'chicago': 8, 'beggar': 1, 'emperor': 1, 'grand': 1, 'achievement-attitude': 2, 'chamber': 2, 'chamber-of-decision': 2, 'chamber-of-indecision': 2, 'decide': 8, 'decide-to-be': 2, 'deliberately': 2, 'hall': 2, 'hall-of-failure': 2, 'intentionally': 2, 'make-a-choice': 3, 'make-a-plan': 2, 'make-good-choice': 2, 'no-choice': 2, 'pass': 3, 'won': 3, 'curiosity-wisdom': 2, 'new-year-resolution': 2, 'interesting': 13, 'interview': 9, 'introduction': 7, 'recruit': 1, 'scout': 1, 'useful': 8, 'discomfort': 4, 'further': 1, 'too-easy': 1, 'tugging': 1, 'above-all-else': 1, 'imspirational': 1, 'lessons-learnt': 4, 'lifelong-education': 2, 'lifelong-learner': 2, 'readers-life': 2, 'seekers': 6, 'phylosophical': 1, 'prophecy': 10, 'keep-trying': 6, 'taking-advantage': 2, 'life-plans': 2, 'self-trust': 8, 'reconsideration': 2, 'aspire': 4, 'the-winter-of-our-discontent': 2, 'lydon': 1, 'simonsen': 1, 'selp-imrovement': 1, 'solange': 4, 'jaa': 1, 'success-improvemnet': 1, 'knees': 2, 'impudence': 3, 'theroneshellman': 1, 'life-improvement': 1, 'purification': 2, 'retire': 1, 'customer-service': 2, 'flattering': 1, 'storytelling': 23, 'motvational': 2, 'encouragment': 1, 'father-s-day': 1, 'man-of-words': 1, 'success-position': 1, 'unmask': 1, 'eternal-happiness': 1, 'philisophy': 3, 'earn': 1, 'attitude-quotes': 21, 'communication-skills': 20, 'preparation-quotes': 2, 'quotes-by-susan-c-young': 17, 'susan-young': 17, 'branding': 18, 'dress-for-success': 8, 'how-to-live': 2, 'polish': 2, 'aim-higher': 1, 'apex': 2, 'coming': 2, 'higher': 3, 'ladder': 2, 'microscope': 1, 'on-top': 1, 'reach': 3, 'undefeatable': 1, 'up': 2, 'attack': 5, 'defence': 4, 'hating': 2, 'illustrate': 4, 'illustration': 2, 'limitation': 6, 'prosperity-gospel': 1, 'remembered': 1, 'rob-liano': 1, 'rock-star': 2, 'almighty': 3, 'believe-in-god': 4, 'believe-in-what-you-do': 1, 'drop': 6, 'mighty': 1, 'mighty-people': 1, 'trust-god': 4, 'brandi-l-bates-quotes': 1, 'brendon-burchard': 1, 'ceo': 4, 'ownership': 6, 'self-help-inspirational': 2, 'born-great': 1, 'do-some-thing': 1, 'eggs': 1, 'fowl': 2, 'hatch': 1, 'hatch-egg': 1, 'hatch-your-eggs': 1, 'hen': 1, 'make-an-impact': 1, 'inner-life': 4, 'team-building': 4, 'team-spirit': 4, 'wise-sayings': 15, 'blasphemy': 11, 'fly-high': 2, 'inform': 3, 'learners': 3, 'elders': 4, 'enock': 2, 'failure-is-not-an-option': 2, 'foreign': 3, 'foreign-language': 2, 'hardworking': 3, 'maregesi': 2, 'no': 5, 'pushing-the-envelope': 2, 'say': 6, 'criticise': 2, 'do-something': 3, 'intentional': 1, 'knock': 2, 'container': 1, 'corrode': 1, 'corrosion': 1, 'depress': 2, 'fertilize': 1, 'fertilizer': 1, 'germinate': 1, 'my-soul': 1, 'plant': 12, 'branding-culture': 1, 'branding-expert': 1, 'branding-marketing': 1, 'branding-quotes': 1, 'david-brier': 1, 'fast-company': 1, 'cultivate': 3, 'monopolize': 1, 'subdue': 2, 'life-design': 5, 'imbalance': 1, 'fatality': 2, 'getting-lost': 3, 'agu-jaachynma-n-e': 3, 'risk-it-be-different': 7, 'buffet': 3, 'driver': 2, 'racing': 3, 'women-in-business': 2, 'builder': 2, 'balls-of-iron': 1, 'people-skills': 1, 'idle': 2, 'infinite-possibilities': 2, 'infinite-potential': 1, 'quantum-tunneling': 1, 'walls-and-barriers': 1, 'lane': 1, 'death-quotes': 5, 'pep-talk-radio': 82, 'peptalkradio': 1, 'odds-and-obstacles': 1, 'uncharted-territory': 2, 'enterpreneurship': 4, 'financial-success': 1, 'social-enterprise-quotes': 1, 'incremental': 1, 'incrementalism': 3, 'super': 5, 'vishesh-panthi': 6, 'disobedience': 6, 'thoughtfulness': 3, 'redesign': 1, 'retrain': 1, 'retrain-the-brain': 1, 'retraining': 1, 'penelope': 1, 'fixed-mindset': 9, 'growth-mindset': 21, 'intuitive-development': 1, 'jobless': 15, 'maximizing-time': 1, 'utilizing-time': 1, 'maximization-of-time': 1, 'utilization-of-time': 1, 'joblessness': 9, 'successful-life': 1, 'commitments': 2, 'feared': 1, 'possession': 10, 'views': 4, 'candles': 1, 'competitive': 1, 'evil-eye': 1, 'guard-your-dreams': 1, 'projects': 4, 'strive-for-success': 1, 'character-quote': 7, 'criticism-and-attitude': 2, 'criticism-quotes': 2, 'criticisms': 2, 'visions-in-life': 3, 'millenials': 1, 'leaders-are-students': 1, 'learn-from-errors': 1, 'student-leaders': 1, 'willingness': 1, 'nonaction': 1, 'distances': 4, 'harvest-time': 1, 'wisdom-of-lailah-gifty-akita': 8, 'faliure': 1, 'overcoming-fear': 8, 'lose-one-s-edge': 1, 'ceiling': 1, 'feet': 6, 'feet-flat-on-the-floor': 1, 'floor': 4, 'lana-wilder': 1, 'out-of-reach': 1, 'wilderwhimsy': 1, 'advcie': 1, 'don-t-give-up-the-fight': 2, 'extra-ordinary': 1, 'fight-the-fight': 1, 'belt': 1, 'boxer': 1, 'fight-for-it': 1, 'trophy': 1, 'win-your-fight': 1, 'beautiful-idea': 2, 'debasish-mridha': 40, 'debasish-mridha-m-d': 11, 'lens': 3, 'necessary': 6, 'practicality': 9, 'predication': 2, 'predictability': 4, 'predictable': 2, 'prerequisite': 2, 'skill-technique': 2, 'unpredictability': 5, 'unpredictable': 4, 'audacity': 4, 'imaginations': 1, 'jehovah': 2, 'spectators': 1, 'visionary': 4, 'floating': 3, 'gloating': 1, 'inspiraional': 1, 'act-right': 1, 'begin-well': 1, 'beginning': 15, 'begins': 1, 'evident': 1, 'go-global': 1, 'have-it': 1, 'how-to-win': 5, 'inadequate': 1, 'let-something-happend': 1, 'practicing': 1, 'start-small': 1, 'take-actions': 3, 'testimony': 8, 'insist': 1, 'persistent': 4, 'celebrating': 1, 'mark': 1, 'kolonia': 1, 'kolonia-santita': 1, 'come': 1, 'nuts': 2, 'honor-harrington': 1, 'ford': 1, 'the-power-of-silence': 1, 'exito': 1, 'lost-generation': 1, 'chasing-dreams': 2, 'lifestyles': 1, 'nothing-to-lose': 1, 'way-of-life': 5, 'predecessor': 3, 'successor': 3, 'book-reading': 1, 'greatnesstness': 1, 'royality': 1, 'zigzag': 1, 'actualization': 2, 'intellectual-property': 3, 'criteria': 2, 'meeting-goals': 1, 'incas': 1, 'self-help-intellectual': 1, 'agu-jaachynma': 1, 'notable-people': 1, 'inspirtional': 1, 'risk-it-b-different': 1, 'reasonin': 1, 'virues': 1, 'morale': 2, 'charm': 1, 'empowerment-of-women': 1, 'fighters': 1, 'indignation': 2, 'endeavor': 5, 'examples': 1, 'donatello': 1, 'henry-moore': 1, 'sculpting': 1, 'sculpture': 2, 'idealistic': 1, 'moral-clarity': 1, 'aspiring': 1, 'the-action-habit': 1, 'victories': 1, 'follow-through': 1, 'instruction': 2, 'hustle': 3, 'major-key': 1, 'blonde': 1, 'blondes': 1, 'popular-girls': 1, '2024': 1, 'god-speed': 2, 'vision-board': 2, 'asuni-ladyzeal': 7, 'carol-dweck': 8, 'student-success': 8, 'asuni-ladyzeal-quotes': 2, 'successful-livings': 1, 'startup': 13, 'startup-life': 2, 'work-life-balance': 4, 'live-purpose': 1, 'making-plans': 1, 'autodidact-scientist': 2, 'inquisitor': 1, 'star-wars': 14, 'star-wars-quote': 6, 'braveheart': 5, 'legendary': 3, 'selfreflection': 1, 'winston-churchill': 1, 's-underachievers': 1, 'life-lesson-quotes': 2, 'business-growth-and-success': 3, 'american-independence': 3, 'character-quotes': 2, 'born-to-be-great': 1, 'live-each-day': 1, 'karma-quotes': 1, 'karmayoga': 1, 'life-questions': 2, 'realizing-who-you-are': 1, 'self-realization-quotes': 1, 'secrets-of-success': 1, 'competitioni': 1, 'artificial-intelligence': 23, 'peace-of-minding': 1, 'personal-growth-investigation': 2, 'spirit-soul-body': 2, 'voices': 2, 'truth-voices': 1, 'man-s-spirit': 1, 'discrimination': 6, 'human-behaviour': 2, 'rivals': 1, 'faith-revival': 1, 'leadership-renewal': 1, 'stress-and-pride': 1, 'fictional-businessmen': 1, 'mind-and-body': 3, 'star-wars-rebels': 1, 'employee': 5, 'work-ethics': 6, 'work-life': 1, 'dry': 3, 'tunnel': 3, 'good-endeavor': 1, 'be-the-best': 1, 'rise-above-the-masses': 1, 'fulfilled': 2, 'change-and-power': 3, 'time-value-of-money': 1, 'anarchic': 13, 'attributed-no-source-quotes': 6, 'ife': 2, 'vocabulary': 3, 'self-correction': 3, 'educators': 3, 'soft-skills': 3, 'education-quotes': 4, 'intellegence': 1, 'apply': 1, 'strategies': 3, 'career-vision': 1, 'apetsi': 3, 'be-scientific': 1, 'embrace-anew': 1, 'emmanuel-apetsi': 3, 'hunt-success': 1, 'fall-over': 1, 'finish': 2, 'ladders': 1, 'stamina': 2, 'woes': 2, 'self-sufficient': 1, 'moving-up': 1, 'success-quotations': 5, 'persistance': 1, 'education-quotations': 2, 'collaboration': 7, 'high-performance': 6, 'journaling': 1, 'hustle-and-grind': 1, 'committment': 1, 'success-mindset': 7, 'bodybuilding': 3, 'gym': 3, 'mahendra-chavan': 1, 'rep': 1, 'rep-by-rep': 1, 'set': 2, 'workout': 6, 'mike-ssendikwanawa': 1, 'short': 3, 'genius-thinkers': 1, 'genius-writers': 2, 'naskareans': 1, 'self-made': 2, 'self-made-man': 1, 'struggles-in-life': 1, 'sweat': 4, 'fame-fortune': 1, 'fame-quotes': 1, 'burnout': 5, 'exhausted': 1, 'challenges-quotes': 1, 'bail': 3, 'audience': 3, 'audience-quotes': 1, 'discretion': 6, 'leader-quotes': 2, 'selfknowledge': 1, 'successquotes': 4, 'gino-norris-quotes': 2, 'discipline-quotes': 1, 'growth-and-development': 1, 'midnight-oil': 1, 'head-held-high': 2, 'tested-faith': 2, 'repitition': 1, 'bakhil': 1, 'immigrants': 1, 'change-quotes': 11, 'self-creation': 6, 'goal-oriented': 1, 'self-awarenes': 1, 'activities': 3, 'skillset': 2, 'objectives': 2, 'cared': 1, 'satisfy': 1, 'unfold': 3, 'resilient': 3, 'setbacks': 6, 'watch': 6, 'becoming-successful': 1, 'destination-quotes': 2, 'destiny-and-attitude': 3, 'execution-quotes': 1, 'planning-for-the-future': 1, 'planning-strategically': 1, 'taking-action-quotes': 1, 'law-quotes': 1, 'lawyers': 3, 'chicken-soup-for-the-soul': 1, 'jack-canfield': 1, 'success-secrets': 1, 'business-inspiration': 1, 'success-stories': 1, 'path-of-life': 3, 'paths-of-life': 1, 'المال': 1, 'النجاح': 1, 'learn-a-language': 16, 'lingua-verse': 16, 'linguaverse': 18, 'polyglot': 16, 'clement': 1, 'student-power': 2, 'attacks': 1, 'defeated': 3, 'shackles': 1, 'chase-your-dreams': 2, 'pursuit-of-dreams': 10, 'success-and-failure': 3, 'life-struggles': 3, 'sufi-poem': 1, 'sufi-poetry': 3, 'adventure-fantasy': 1, 'mindset-matters': 3, 'guide': 11, 'business-plan': 1, 'interpersonal': 1, 'long-term-relationship': 1, 'inspriational': 3, 'result-oriented': 1, 'awais-shaukat': 2, 'awaishaukat': 1, 'be-satisfied': 1, 'overwork': 1, 'life-plan': 3, 'life-poetry': 3, 'moral-character': 1, 'academics': 5, 'late-bloomers': 2, 'constructive-criticism': 6, 'key-to-success': 3, 'stepping-stone': 1, 'marathon': 1, 'sprint': 1, 'experiential-learning': 6, 'hospitality': 9, '114-chakras': 1, 'success-chakras': 1, 'success-experiences': 1, 'success-manifestation': 1, 'springsteen': 1, 'analytical-thinking': 1, 'john-supremo': 2, 'photographer': 5, 'judgmental': 3, 'failure-quote': 1, 'manhattan': 1, 'being-wrong': 4, 'fortune-telling': 2, 'fortunetelling': 1, 'palm-reading': 1, 'palmistry': 1, 'pursuit-of-passion': 2, 'haters-gonna-hate': 2, 'mockery': 6, 'motivational-poetry': 1, 'ridiculed': 1, 'autodidact': 2, 'autodidactism': 3, 'dropout': 2, 'engineering': 18, 'medical-ethics': 2, 'neuroscientist': 1, 'self-taught-scientist': 1, 'university-education': 1, 'perseverance-quotes': 1, 'poverty-quotes': 1, 'being-at-peace': 1, 'shon-mehta': 1, 'lethargy': 1, 'business-woman': 1, 'congratulations': 4, 'milestones': 1, 'creating-a-brighter-future': 1, 'focusing-on-the-present': 1, 'life-transformation': 1, 'living-in-the-now': 4, 'girl-boss': 1, 'coach-or-coaching': 1, 'lie-or-lies': 1, 'psychology-or-mind': 1, 'wires': 2, 'jorney': 1, 'famous-people': 2, 'right-path': 1, 'ignites': 1, 'recipe-of-success': 1, 'nails': 1, 'efficiency': 6, 'standardization': 1, 'academia': 12, 'academic-research': 1, 'pursuit-of-knowledge': 22, 'qualification': 1, 'successful-people-quote': 1, 'wrong-choices': 3, 'price': 6, 'exception': 2, 'loner': 7, 'associates': 1, 'making-difference': 1, 'automobile': 3, 'droom': 1, 'sandeep-aggarwal': 2, 'admire': 3, 'look-up-to': 1, 'gambler': 1, 'niedria': 1, 'niedria-kenny': 1, 'freethinker': 6, 'freethought': 3, 'life-poem': 6, 'viral': 2, 'sustainable-change': 1, 'cryptocurrency': 1, 'scivive': 1, 'internet-visionary': 1, 'succeed-quotes': 2, 'leadership-characteristics': 5, 'addict': 1, 'addicted': 1, 'deadline': 1, 'immediacy': 1, 'impending': 1, 'procrastinator': 1, 'procrastinators': 1, 'productive': 2, 'kemi-sogunle': 1, 'thriving-in-life': 1, 'victory-goal': 1, 'power-mind': 2, 'rising-above': 2, 'challenges-and-obstacles': 1, 'jonathan-anthony-burkett': 3, 'perfection-quotes': 9, 'benefit': 8, 'risk-management': 4, 'positive-influence': 1, 'fasting': 2, 'attitude-to-life': 5, 'toys': 1, 'ritual': 6, 'sovereign': 1, 'massive-success': 1, 'payback': 2, 'sweet-success': 2, 'masculinity': 3, 'inspirations': 3, 'reactions': 5, 'humble-background': 1, 'modi': 1, 'modi-quotes': 1, 'namo': 1, 'narendra-modi': 1, 'prime-minister': 1, 'groundwork': 1, 'decisions-in-life': 3, 'taste-of-success': 1, 'hardwork-quotes': 3, 'secret-of-success': 1, 'success-mantra': 3, 'tiffani-davis': 8, 'sustainable-living': 1, 'toxicity': 1, 'adding': 3, 'seize-the-day-quotes': 1, 'the-matrix': 1, 'wealth-mindset': 1, 'you-are-what-you-think': 1, 'timing-is-everything': 1, 'timing-quotes': 1, 'achieved': 1, 'gain': 3, 'god-quotes': 38, 'prayer-quotes': 18, 'the-perks-of-prayer': 10, 'why-you-should-pray': 11, 'vicstahmilien': 2, 'excellence-quotes': 1, 'greatness-quotes': 2, 'desires-and-dreams': 1, 'priorities-in-prayer': 1, 'prioritization': 1, 'prioritizing-your-goals': 1, 'vision-quotes': 3, 'process-improvement': 2, 'stumbled': 1, 'advice-quotes': 2, 'advices': 1, 'gaming': 1, 'video-games': 4, 'heartaches': 1, 'tremors': 1, 'bhawna-says': 9, 'opportunity-quotes': 4, 'sports-quotes': 1, 'winners-quotes': 2, 'howtowin': 3, 'lifegoals': 4, 'neverquit': 3, 'positivevibes': 4, 'sportslife': 3, 'sportsquotes': 3, 'winninggoals': 3, 'realisation': 7, 'organisational-culture': 1, 'organisation': 8, 'philosophy-quotes': 13, 'honorable-men': 1, 'goal-achievement': 1, 'raise-the-bar': 1, 'raise-up': 1, 'take-the-stairs': 1, 'psychology-quotes-or-mind-quotes': 1, 'quotes-and-philosopher': 1, 'blogger-brajesh': 3, 'brajesh-kumar-singh': 4, 'quotes-by-brajesh': 4, 'heads-up': 1, 'keep-your-head-up': 1, 'good-morals': 1, 'role-model': 6, 'well-to-do-woman': 1, 'gift-gugu-mona-inspirational-hub': 1, 'gift-gugu-mona-motivation': 1, 'precious-stones': 1, 'rise': 9, 'organisational': 2, 'languish': 1, 'sidelines': 3, 'sports-life': 4, 'winning-goals': 2, 'positive-vibes': 2, 'bhawnasays': 1, 'regular-practice': 1, 'fairness': 17, 'chaos-quotes': 1, 'attentional': 1, 'count-your-steps': 1, 'make-steps-count': 1, 'anti-time-management': 8, 'economic-moat': 1, 'hardly-working': 1, 'richie-norton': 7, 'strategic-moat': 1, 'time-tipping': 9, 'celebrity-gossip': 2, 'gossiping': 2, 'thinkers': 8, 'logical-thinking': 16, 'control-quotes': 1, 'human-nature-wisdom': 1, 'giovanniedesadeleer': 1, '2023': 2, 'new-barriers': 1, 'brajesh-blogger': 1, 'nate-hamon': 1, 'differentiation': 1, 'distinction': 1, 'value-quotes': 1, 'oower': 1, 'illiterate': 2, 'moral-failure': 1, 'average-minds': 1, 'mindset-coach': 1, 'mindset-for-business-success': 1, 'godd': 1, 'offering': 2, 'tithe': 3, 'endeavours-mankind': 1, 'manifestation-quotes': 2, 'improve': 2, 'jounery': 1, 'breaking-dawn': 2, 'gates-of-hell': 1, 'sunny-side': 1, 'wall': 2, 'neither': 1, 'richie-norton-quotes': 2, 'list': 1, 'list-of-things-to-do': 1, 'to-do-list': 1, 'fang-runin': 1, 'maturation': 2, 'story-of-your-life': 1, 'enemy-quotes': 2, 'united-states': 12, 'usa': 6, 'boasting': 3, 'economic-disparity': 1, 'luxurious-lifestyle': 1, 'materialistic-society': 1, 'rich-and-poor': 1, 'tax-the-rich': 1, 'education-poem': 1, 'education-system': 3, 'pedagogy': 4, 'the-dog-and-the-dragon': 1, 'success-definition': 1, 'defining-moments': 1, 'slate': 1, 'knocked-down': 2, 'coping': 15, 'funny-but-sad': 2, 'funny-quotes': 13, 'stage-dive': 3, 'stardom': 2, 'life-planning': 1, 'alpha-leaders': 1, 'spending-money': 1, 'believer': 7, 'open-door': 2, 'economic': 19, 'politics-of-the-united-states': 3, 'small-countries': 19, 'indonesia': 4, 'sure': 2, 'dax-bamania': 2, 'don-t-understand': 1, 'boundary': 1, 'fence': 1, 'push-yourself': 1, 'winning-quotes': 4, 'being-a-person': 1, 'not-easy': 1, 'acquire': 4, 'proverbial-wisdom': 3, 'pursuit-of-goals': 5, 'social-development': 1, 'shed': 1, 'snake': 2, 'enlargement': 2, 'praying-in-tongues-quotes': 3, 'applause': 1, 'growth-poetry': 1, 'vic-stah-milien': 5, 'success-quotes-and-sayings': 1, 'work-smart-not-hard': 1, 'politics-quotes': 1, 'career-advice': 3, 'career-quotes': 6, 'rejection-quotes': 1, 'film-industry': 4, 'filmmaking-quotes': 4, 'criminal': 4, 'tense': 3, 'filmmaking': 5, 'helping-others-quotes': 1, 'applaud': 1, 'boss': 5, 'audience-reception': 1, 'the-armageddon-conspiracy': 2, 'robert-greene': 1, 'the-laws-of-human-nature': 1, 'sayings-for-a-good-life': 1, 'cook': 4, 'free-thinking': 2, 'homeschooling': 3, 'used': 2, 'hero-s-journey': 2, 'holy-grail': 2, 'torch': 4, 'illuminism': 1, 'jealous-anger': 1, 'selling-tips': 2, 'working-hard': 1, 'self-management': 2, 'strongest': 2, 'success-quotess-quotess-quotes': 1, 'train-quotations': 1, 'train-quotes': 1, 'trains-quotes': 1, 'smartness': 1, 'ghost-steps': 1, 'life-pass-you-by': 1, 'phantom-living': 1, 'think-different': 2, 'anti-time-management-lifestyle': 1, 'final-cause': 1, 'succes': 4, 'nevergiveup': 3, 'spring-quotes': 4, 'stoic': 21, 'sacrifices-quote': 1, 'pay': 5, 'sage-sayings': 1, 'make-it-big': 1, 'small-things': 1, 'small-things-matter': 1, 'successful-people-quotes': 3, 'subconscious': 4, 'never-give-up-on-your-dreams': 18, 'personal-growth-quotes': 2, 'best-revenge': 1, 'overcoming-challenges-quotes': 2, 'imitation': 5, 'social-standards': 1, 'unlearning': 2, 'little-victories': 1, 'making-progress': 1, 'progress-quotes': 1, 'results-quote': 1, 'small-victories': 1, 'wins': 1, 'rewards-quotes': 1, 'envy-quotes': 1, 'good-fortune': 3, 'jealousy-quotes': 2, 'action-quotes': 3, 'investing-quotes': 1, 'women-leadership': 1, '3-2-1-newsletter': 2, 'broken-friendship': 1, 'work-quotes': 1, 'terrible': 1, 'at-all-costs': 1, 'motivational-quotations': 2, 'reliable-quotes': 1, 'talent-quotes': 1, 'talented-people': 1, 'being-successful-in-life': 1, 'complacency-quotes': 1, 'ego-quotes': 2, 'grow-strong': 2, 'money-quote': 1, 'misfortunes': 2, 'sportsmanship': 1, 'unfairness': 7, 'constructive': 2, 'lion-heart': 3, 'shun-crime': 1, 'improving': 2, 'collaborate': 1, 'cooperate': 1, 'msj': 1, 'msjquotes': 1, 'accounting': 2, 'accounting-quotes': 2, 'ca-quotes': 2, 'chartered-accountant': 2, 'debit-credit': 2, 'golden-equation': 1, 'good-books': 5, 'mensa': 1, 'humanitarian-poetry': 1, 'servant-leaders': 1, 'social-responsibility': 7, 'to-be-human': 1, 'cleanse': 3, 'digestion': 2, 'gastrointestinal': 1, 'intestinal': 1, 'parasite': 1, 'treating': 1, 'annual': 1, 'check': 1, 'routine': 3, 'treatments': 1, 'wane': 2, 'precede': 4, 'proceed': 2, 'life-mission': 5, 'breakfast': 7, 'monday': 1, 'weekday': 1, 'underestimated': 2, 'champions': 4, 'chmpionship': 3, 'course-design': 4, 'individual-training-plans': 4, 'navigation': 5, 'roadmap-to-success': 4, 'response': 5, 'bravery-and-enduring-faith': 1, 'endure-faith': 1, 'manuelapetsi': 1, 'success-and-happiness': 1, 'what-lies-beyond-fear': 1, 'elon-musk': 1, 'footwear': 1, 'balloon': 2, 'mind-set': 2, 'michael-crichton': 5, 'the-lost-world': 1, 'prediction': 6, 'pathways': 1, 'carlos-wallace': 2, 'leadership-training': 1, 'sol-caritas': 1, 'celebrity-quotes': 1, 'methodology': 5, 'runners': 3, 'sport': 8, 'techniques-for-running': 4, 'battles-of-life': 1, 'classy-woman': 3, 'bosnian': 1, 'iron-will': 1, 'hustler': 1, 'came': 1, 'discoveries': 13, 'eureka': 2, 'out': 1, 'aspirational': 2, 'female-leaders': 1, 'anything-is-possible': 3, 'carole-lombard': 1, 'celebrity-quote': 1, 'aerobics': 1, 'jogging': 1, 'personal-trainer': 2, 'non-scientific': 1, 'boxing': 4, 'founders': 1, 'acknowledgement': 2, 'big-picture-thinking': 2, 'creating-reality': 2, 'lucid-dreaming': 1, 'reality-is-relative': 1, 'cindy-ann-peterson': 1, 'laws-of-success': 1, 'own': 1, 'led': 1, 'rethink': 2, 'strengths-and-weaknesses': 1, 'along': 2, 'discarded': 1, 'often': 1, 'outcast': 3, 'pariah': 1, 'phase': 1, 'route': 2, 'making-a-name': 1, 'reputation-management': 1, 'reputation-quotes': 1, 'reputation-repair': 1, 'children-s-books': 5, 'elementary-school': 1, 'first-day-of-school': 1, 'librarians': 5, 'structure': 5, 'duck': 1, 'duck-quote': 1, 'duck-quotes': 1, 'ducks': 2, 'prophetic-dream': 1, 'spicy-chicken-sandwich': 1, 'savor': 1, 'pattern': 4, 'stare': 2, 'helping-people': 2, 'humanist': 20, 'humanitarian': 7, 'pursuit-of-success': 1, 'rise-and-fall': 1, 'service-of-humanity': 6, 'others-cannot-do': 1, 'discrepancy': 1, 'minority': 9, 'qualify': 1, 'threshold': 3, 'selfbelief': 1, 'creative-profession': 1, 'manuscript': 1, 'published-author': 1, 'story-structure': 1, 'lovemaking': 1, 'democracy-quotes': 1, 'edcuation': 1, 'cynical': 6, 'devil-quotes': 1, 'hobbys': 1, 'overburdening': 1, 'buyer': 1, 'language-learning': 1, 'languages-and-culture': 2, 'testosterone': 1, 'salesperson': 1, 'blockchain': 1, 'metaverse': 1, 'tech': 1, 'business-strategy': 1, 'growth-strategy': 1, 'linear': 1, 'ball': 1, 'bat': 6, 'step-up': 1, 'affluence': 1, 'anti-capitalism': 1, 'blinding': 1, 'championship-mindset': 1, 'floyd-mayweather': 1, 'ladder-to-success': 1, 'perceiverance': 3, 'learnin': 1, 'stagnancy': 2, 'trade-off': 1, 'customer': 3, 'book-of-poems': 2, 'tactics': 5, 'adaptability': 7, 'sales-training': 2, 'client-relationship': 2, 'comment': 2, 'network': 4, 'everest': 1, 'himalayas': 1, 'perspectives-on-life': 2, 'expectations-minimalistic': 1, 'hapiness': 2, 'the-pursuit-of-happiness': 1, 'the-pursuit-of-unhappiness': 1, 'mind-control': 3, 'atitude': 1, 'picasso': 1, 'quotinism': 2, 'liability': 5, 'banks': 8, 'elimination': 1, 'frustrations': 1, 'prerequisites': 1, 'premature': 2, 'evaluation': 2, 'humanitarianism': 2, 'sacrifice-for-others': 1, 'selfless-service': 3, 'bad-news': 1, 'don-santo': 1, 'famous-don-santo': 1, 'good-news': 3, 'klassik-nation': 1, 'judgemental': 2, 'statements': 1, 'trasnformation': 9, 'competence': 2, 'buying': 2, 'outbound': 1, 'investors': 1, 'agile': 1, 'continuous-learning': 1, 'goodread': 1, 'success-and-attitude': 1, 'drprem': 1, 'liveagreatlife': 1, 'overpower': 1, 'milestone': 2, 'goal-milestone': 1, 'digital-fire': 1, 'premchand': 1, 'achievemennt': 1, 'lesson-learned': 1, 'quotes-by-famous-people': 1, 'quotes-by-famous-singers': 1, 'quotes-by-scarlet-jei-saoirse': 1, 'minimalistic': 3, 'learnings': 6, 'depend': 1, 'hold-back': 1, 'overnight-success': 1, 'grind': 1, 'anger-management': 9, 'sell': 1, 'secret-to-success': 1, 'standing-up-for-oneself': 1, 'burning-desire': 2, 'degrees': 6, 'colleges': 2, 'tanya-masse': 1, 'tanya-masse-quotes': 1, 'financial-stability': 1, 'listener': 4, 'astronomer': 1, '1955': 1, '1931': 2, 'extraterrestrials': 6, 'intelligent-life': 3, 'dan-brown': 3, 'systems': 14, 'assumptions': 14, 'close-mindedness': 6, 'isaac-asimov': 1, 'open-mind': 6, 'open-minds': 1, 'receptivity': 1, 'science-of-mind': 3, 'principia': 2, 'cybernetics': 10, 'cosmology': 32, 'adaption': 1, 'digital-revolution': 1, 'new-models': 1, 'p2p': 1, 'structural-changes': 1, 'zeitgeist': 1, 'zeitgeist-movement': 1, 'agnosticism': 39, 'cloud-atlas': 4, 'gallows-humor': 4, 'jerks': 2, 'ontology': 14, 'feynman': 4, 'rational-thought': 2, 'hammer': 1, 'instrumentalism': 1, 'guess': 5, 'scientific': 21, 'search-for-meaning': 1, 'non-physical-phenomena': 1, 'willful-ignorance': 6, 'burden-of-proof': 4, 'paraphrasing-herbert-spencer': 2, 'attributed': 10, 'attributed-to-einstein-no-source': 1, 'unsourced': 3, 'paradoxes': 6, 'agriculture': 6, 'ancient-rome': 2, 'central-africa': 1, 'concubine': 1, 'faith-of-islam': 1, 'fanatical': 1, 'hydrophobia': 1, 'militant': 2, 'militant-faith': 1, 'mohammed': 4, 'mohammedan': 2, 'mohammedanism': 1, 'muslims': 1, 'proselytizing': 1, 'religious-fanaticism': 1, 'retrograde': 1, 'rome': 4, 'sharia-law': 1, 'the-prophet': 5, 'dark-age': 3, 'dissociated': 1, 'dissociation': 4, 'human-mind': 4, 'grandeur': 2, 'the-mysterious': 3, 'organized-religion': 6, 'creation-science': 7, 'evolutionary-process': 1, 'disinformation': 7, 'misinformation': 15, 'propoganda': 4, 'civil-rights': 7, 'geometry': 6, 'first-amendment': 2, 'presidents': 4, 'scholarship': 5, 'studty': 1, 'boats': 1, 'sailing': 2, 'childish-beliefs': 1, 'guides': 1, 'invade': 1, 'uneducated': 1, 'unimaginative': 1, 'unthinking': 1, 'computer': 4, 'consolations': 1, 'ethical': 4, 'neurosis': 2, 'wishful-thinking': 10, 'atoms': 16, 'space-travel': 9, 'astronomy-nerd': 1, 'book-of-joshua': 1, 'critical-examination': 3, 'divine-inspiration': 2, 'examine': 5, 'inquiry': 16, 'livy': 1, 'new-testament': 4, 'tacitus': 1, 'ecosystem': 2, 'habitat': 1, 'natural-selection': 12, 'condescension': 2, 'fallacy': 6, 'historian-of-science': 1, 'history-of-science': 14, 'isaac-newton': 12, 'newton': 20, 'particles': 4, 'quantum': 4, 'factory-farming': 2, 'veganism': 32, 'adolf-hitler': 2, 'albert-einstein': 10, 'barbaric': 1, 'charles-darwin': 9, 'darwin': 32, 'darwinism': 42, 'fascistic': 1, 'fuhrer': 1, 'germany': 3, 'jewish': 2, 'mein-kampf': 1, 'nazi': 1, 'nazism': 4, 'separation-of-church-and-state': 2, 'sigmund-freud': 6, 'vatican': 1, 'independent-thought': 12, 'scientific-method': 35, 'religions': 8, 'chick': 1, 'chicks': 1, 'drag': 2, 'iero': 1, 'astronaut': 2, 'blood-sacrifice': 1, 'commemoration': 1, 'denomination': 1, 'monument': 1, 'religious-convictions': 1, 'sermon': 4, 'tenets': 1, 'middle-grade': 10, 'scientist': 34, 'the-great-unknown': 1, 'preconceptions': 2, 'big-bang': 11, 'caucasian': 2, 'ecology': 24, 'misattributed-to-einstein': 5, 'religion-and-science': 9, 'id': 37, 'intelligent-design': 44, 'science-and-religion': 24, 'astrophysics': 16, 'astrophysicist': 1, 'eyewitness': 1, 'jury-duty': 1, 'voir-dire': 1, 'managment': 1, 'truism': 6, 'big-bang-theory': 3, 'church-and-state': 2, 'creationism': 21, 'dinosaurs': 9, 'freedom-of-religion': 6, 'literacy': 5, 'new-jersey': 2, 'new-york-times': 1, 'noah-s-ark': 1, 'scientific-literacy': 1, 'sinister': 4, 'threat': 4, 'classic-insult': 8, 'determinism': 18, 'instinct': 11, 'temperament': 3, 'tendencies': 2, 'urges': 2, 'persuasion': 4, 'physical-laws': 1, 'spirtuality': 4, 'demonstration': 2, 'empirical': 6, '1919': 1, 'poltergeists': 1, 'premonitions': 1, 'scientists': 44, 'falacy': 2, 'fragmented': 1, 'reductionism': 6, 'good-advice': 3, 'nobel-prize': 3, 'suggestion': 2, 'cosmopolitan': 1, 'bullfighting': 1, 'canada': 1, 'seals': 1, 'south-africa': 4, 'south-korea': 1, 'dogmatism': 5, 'pragmatism': 25, 'electricity': 6, 'proportion': 4, 'disguise': 5, 'debate': 20, 'confusing': 1, 'temporary-insanity': 2, 'sierra': 1, 'semantics': 8, 'decomposition': 2, 'entropy': 1, 'fall-apart': 1, 'chimpanzees': 3, 'chimps': 4, 'conservation': 17, 'great-apes': 1, 'treat': 1, 'religion-vs-science': 5, 'creation-myths': 1, 'dawkins': 5, 'false-explanations': 1, 'richard-dawkins': 4, 'forensics': 3, 'sapiens': 2, 'theism': 31, 'space-and-cosmos': 3, 'conservative': 5, 'democrat': 5, 'fundamentalism': 23, 'liberal': 7, 'progressive': 4, 'republican': 5, 'environmentalism': 17, 'experimentation': 8, 'occult': 10, 'freedom-of-opinion': 2, 'light-of-science': 2, 'monkish': 2, 'empiricists': 1, 'zealotry': 4, 'anthropocentrism': 3, 'galileo': 7, 'geocentricism': 1, 'heliocentricism': 1, 'be-patient': 1, 'personality-trait': 1, 'huomor': 6, 'manhatttan-project': 1, 'nuclear-bomb': 3, 'controversy': 13, 'genetics': 17, 'investigation': 12, 'generalist': 1, 'alchemist': 4, 'fullmetal': 2, 'stephen-hawking': 2, 'imperialism': 3, 'nuclear-weapons': 3, 'burned-at-the-stake': 1, 'condemnation': 4, 'heresy': 7, 'heretical': 2, 'inquisition': 3, 'last-words': 8, 'martyr-for-science': 1, 'bohr': 2, 'experiments': 9, 'niels-bohr': 2, 'misattributed-arthur-c-clarke': 1, 'alien': 10, 'nationalism': 14, 'crick': 1, 'francis-crick': 3, 'james-d-watson': 1, 'james-watson': 1, 'max-planck': 1, 'planck': 1, 'polymath': 1, 'meteor': 2, 'burroughs': 3, 'john-burroughs': 2, 'argument-from-design': 2, 'beneficence': 1, 'omnipotent': 1, 'ludwig-van-beethoven': 2, 'ninth-symphony': 1, 'numbers': 4, 'verification': 2, 'stupid-design': 2, 'clergy': 3, 'dread': 2, 'duperies': 1, 'fatal-harbinger': 1, 'presbyterian': 2, 'priests': 2, 'pulpit': 2, 'religious-sects': 1, 'university-of-virginia': 3, 'william-and-mary': 1, 'witches': 8, 'what': 1, 'what-are-you': 1, 'who': 3, 'who-are-you': 3, 'coin': 2, 'quailty': 2, 'solar-power': 2, 'star-stuff': 2, 'circles': 2, 'circles-of-life': 1, 'circuling': 1, 'cycles': 4, 'geometric': 1, 'lucid': 3, 'planetary': 1, 'planets': 8, 'rotates': 2, 'solar-system': 6, 'spins': 1, 'spiral': 2, 'spiraling': 1, 'spirals': 2, 'turning': 1, 'extraterrestrial': 1, 'atomic': 3, 'eschatology': 3, 'dna': 20, 'lem': 2, 'downfall-of-humanity': 1, 'enemies-to-loversi': 1, 'forced-proximity': 1, 'stem': 15, 'evolution-of-morality': 1, 'instincts': 3, 'nobel-laureate': 18, 'falsehood': 22, 'makeshift': 3, 'reddit': 1, 'political': 35, 'spite': 5, 'enlighten': 4, 'speculation': 11, 'diagnose': 2, 'diagnosis': 5, 'prognosis': 3, 'credulity': 8, 'johannes-kepler': 8, 'kepler': 10, 'telescope': 3, 'civilized': 5, 'savagery': 3, 'evolutionary-biology': 8, 'ian-malcolm': 4, 'jurassic-park': 2, 'gravestone': 2, 'royal-road': 1, 'summit': 1, 'ethical-code': 1, 'anything-can-be': 3, 'everything-is-possible': 1, 'sir-isaac-newton': 1, 'equipment': 1, 'behaviorism': 1, 'behaviorists': 1, 'dogma': 19, 'first-cause': 1, 'ivan-pavlov': 2, 'ivan-petrovich-pavlov': 1, 'john-b-watson': 1, 'john-broadus-watson': 1, 'john-watson': 1, 'pavlov': 2, 'stimuli': 1, 'anti-science': 2, 'denialism': 1, 'michael-specter': 1, 'counterintuitive': 2, 'skeptical': 5, 'ali': 3, 'jinnah': 5, 'pakistan': 4, 'quaid-e-azam': 2, 'measurement-units': 1, 'metric-system': 1, 'infidel': 1, 'sentence': 1, 'ak': 4, 'asetian-bible': 4, 'asetianists': 4, 'asetians': 4, 'asetka': 4, 'book-of-orion': 4, 'kemet': 4, 'realitu': 2, 'environmental': 8, 'henry-david-thoreau': 2, 'biography': 23, 'literature-of-science': 2, 'impossibility': 4, 'abiogenesis': 4, 'chemical-evolution': 2, 'coincidence': 10, 'irreducible-complexity': 3, 'living-cells': 3, 'origin-of-life': 10, 'serendipity': 13, 'religion-spirituality': 6, 'mythbuster': 1, 'wittgenstein': 7, 'compatibilism': 1, 'incompatibilism': 1, 'sean-carroll': 1, 'macro-evolution': 30, 'macroevolution': 32, 'dark-matter': 5, 'commanding-nature': 1, 'eternal-recurrence': 1, 'history-repeating-itself': 1, 'concepts': 8, 'confessions-of-faith': 1, 'creeds': 2, 'episcopal': 1, 'europeans': 1, 'flourens': 1, 'herschel': 1, 'jean-pierre-flourens': 1, 'jews': 4, 'judaism': 8, 'liberal-science': 1, 'matter-and-spirit': 1, 'virginia': 1, 'william-herschel': 2, 'chemical-stability': 1, 'hypothesis': 9, 'social-conditions': 1, 'aum': 2, 'om': 3, 'abstraction': 6, 'paintings': 3, 'cognitive': 3, 'neuron': 1, 'neuroplasticity': 1, 'ai': 4, 'machine-intelligence': 1, 'avoidance': 3, 'behavioral': 1, 'fantasy-novel': 3, 'laugh-out-loud': 4, 'science-adventure': 3, 'pornography': 1, 'scifi': 12, 'eclipses': 1, 'fulfilled-prophecies': 1, 'materialistic-science': 1, 'prophecies': 3, 'record': 1, 'ancients': 3, 'benefactor': 2, 'charitable': 2, 'convictions': 10, 'generation': 8, 'reception': 2, 'revision': 2, 'sanctimony': 2, 'scolds': 2, 'wrath': 3, 'iron-man': 1, 'the-martian': 1, 'confessions-of-the-darwinists': 6, 'conjecture': 5, 'darwinist-confessions': 6, 'human-eye': 1, 'neo-darwinism': 17, 'pseudo-science': 4, 'mary-roach': 1, 'illimitable': 1, 'inexplicability': 1, 'infinite': 12, 'intellectual': 11, 'origin-of-species': 1, 'solidity': 1, 'haven': 2, 'repose': 1, 'meaing': 1, 'hi-tech': 2, 'inventions': 8, 'plot-turns': 9, 'twists': 10, 'information-overload': 1, 'not-knowing': 10, 'understanding-the-world': 1, 'genius-quotes': 1, 'althusser': 2, 'interconnection': 3, 'the-universe': 6, 'druyan': 1, 'positivism': 3, 'randomness': 3, 'humanity-and-science': 2, 'religion-and-education': 2, 'science-and-education': 2, 'wisdom-inspirational': 21, 'faery': 2, 'moral-progress': 1, 'rev-dr-martin-luther-king-jr': 1, 'fish': 20, 'ufos': 4, 'unreality': 3, 'educaton': 1, 'copernicus': 9, 'nicolaus-copernicus': 5, 'puzzles': 2, 'species': 2, 'antecedents': 1, 'emergence': 3, 'incomprehension': 2, 'universal': 14, 'sci-fi': 27, 'error-and-truth': 4, 'testability': 1, 'ballard': 1, 'ahteism': 1, 'free-inquiry': 2, 'morbid': 3, 'moriarty': 1, 'skull': 1, 'scepticism': 6, 'conspiracy-theories': 3, 'mentally-disturbed': 1, 'ghandi': 1, 'autistic': 1, 'bacteria': 2, 'belly': 1, 'desensitize': 1, 'desensitized': 1, 'detox': 1, 'detoxifying': 1, 'eczema': 1, 'empathetic': 7, 'five-senses': 1, 'fluoride': 3, 'fungus': 1, 'gut': 4, 'identify': 6, 'immune-system': 1, 'immunity': 2, 'mercury': 1, 'neptune': 2, 'nervous-system': 1, 'neurological': 1, 'neurological-disorder': 1, 'not-caring': 2, 'pineal-gland': 2, 'toxins': 1, 'monkey': 2, 'zoo': 2, 'conclusion-before-evidence': 1, 'ernest-holmes': 2, 'pandemic': 4, 'realistic': 7, 'historical-romance': 3, 'absolute': 6, 'ideologies': 1, 'weapons': 2, 'weapons-of-mass-destruction': 1, 'epoch': 2, 'artemis-fowl': 5, 'eoin-colfer': 1, 'pythagoras': 1, 'pythagorean-theorem': 1, 'literary-fiction': 10, 'travel-adventure': 2, 'general': 5, 'spook': 1, 'double-helix': 2, 'jaws': 1, 'sharks': 3, 'modern-age': 1, 'mad-scientist': 1, 'gaian-mind': 1, 'rationalism': 14, 'scientism': 5, 'ufo': 4, 'western-culture': 5, 'magic-bleeds': 2, '2010': 2, 'britain': 4, 'british-monarchy': 2, 'british-royal-family': 2, 'british-scientists': 2, 'charles-prince-of-wales': 2, 'ernest-rutherford': 3, 'house-of-hanover': 2, 'joseph-priestley': 2, 'monarchy': 4, 'republicanism': 2, 'formula': 2, 'lack-of-free-will': 1, 'machinery': 1, 'leonardo': 1, 'leonardo-da-vinci': 1, 'atomic-science': 2, 'nuclear-physics': 1, 'ancient-greece': 2, 'despicable': 1, 'early-christianity': 1, 'jurisprudence': 1, 'political-science': 14, 'archaeology': 1, 'buddhist-monk': 1, 'mango': 1, 'mango-tree': 1, 'molecular-geneticist': 1, 'molecular-genetics': 1, 'short-temper': 2, 'god-particles': 2, 'matter-and-anti-matter': 2, 'particle-physics': 3, 'vacuums': 2, 'heredity': 1, 'relativity': 13, 'space-time': 1, 'adam': 3, 'terra': 1, '1929': 2, 'hercules': 1, 'calculator': 1, 'labour': 3, 'slaves': 4, 'inventors': 1, 'inoculate': 1, 'polio': 1, 'vaccine': 2, 'pseudoscience': 9, 'skeptics': 1, 'chemicals': 4, 'angels-and-demons': 2, 'impose': 2, 'dominionism': 1, 'dominionists': 1, 'evangelists': 3, 'sceptics': 2, 'god-of-the-gaps': 3, 'incomprehensible': 1, 'maths': 4, 'etc': 7, 'ludwig-wittgenstein': 3, 'metaphilosophy': 2, 'the-blue-book': 2, 'syphyllis': 1, 'auditions': 1, 'first-impressions': 1, 'instrument': 1, 'forgotten-science': 1, 'scientific-theory': 6, 'criticism-of-substance': 2, 'book-learning': 1, 'cultivation': 4, 'dry-facts': 1, 'mental-food': 1, 'pupil': 1, 'tastes': 1, 'napoleon': 2, 'napoleon-bonaparte': 1, 'napoleon-the-great': 1, 'national-security': 1, 'civilisation': 4, 'attributes': 1, 'curie': 3, 'pierre': 1, 'alexander-humboldt': 3, 'alexander-von-humboldt': 3, 'christians': 6, 'des-cartes': 1, 'descartes': 7, 'galileo-galilei': 5, 'geology': 12, 'humboldt': 3, 'inconsistent': 1, 'la-place': 1, 'laplace': 1, 'marquis-de-laplace': 1, 'pierre-simon': 1, 'pierre-simon-laplace': 1, 'rené-descartes': 3, 'wilhelm-humboldt': 1, 'wilhelm-von-humboldt': 1, 'yahweh': 1, 'enquiry': 1, 'medium': 3, 'receding-horizon': 1, 'software-engineering': 1, 'wildlife-conservation': 2, 'bertrand': 1, 'russell': 2, 'anti-intellectualism': 1, 'anti-rationalism': 1, 'begging-the-question': 2, 'circular-reasoning': 2, 'holy-books': 6, 'holy-scriptures': 4, 'john-paul-ii': 2, 'religious-books': 2, 'scriptures': 7, 'discoverers': 1, 'land': 5, 'forbidden-knowledge': 1, 'diversion': 1, 'scapegoating': 3, 'religious-tradition': 1, 'theory-of-relativity': 1, 'intergalactic': 2, 'scientific-ideas': 1, 'watson-and-crick': 1, 'labyrinth': 4, 'nasa': 3, 'extraterrestrial-life': 3, 'agnostic-defined': 1, 'christian-gospels': 1, 'gospels': 2, 'ingersoll': 3, 'argument-from-authority': 1, 'commandments': 2, 'hierarchy': 2, 'primates': 2, 'baron-georges-cuvier': 1, 'cuvier': 1, 'georges-cuvier': 1, 'might': 1, 'policy': 1, 'survival-of-the-fittest': 3, 'rene-descartes': 1, 'voltaire': 2, 'genesis': 6, 'aldous-huxley': 1, 'lsd': 1, 'human-soul': 1, 'medical-reform': 1, 'reform': 4, 'anthropocene': 1, 'cyborg': 2, 'cyborgian': 1, 'historical-wounds': 1, 'human-exceptionalism': 1, 'informatics': 1, 'information-age': 5, 'scientific-age': 1, 'ayurveda': 1, 'modern-science': 1, 'science-education': 8, 'models': 2, 'electrons': 2, 'religious-science-fiction': 3, 'theistic-science-fiction': 3, 'linguistics': 8, 'alfred-bernhard-nobel': 1, 'alfred-nobel': 2, 'nobel': 3, 'repetition': 8, 'wisdom-quote': 24, 'taxonomy': 2, 'g-h-hardy': 2, 'hardy': 2, 'spontaneous': 1, 'holistic': 1, 'quanta': 2, 'stenger': 1, 'advances': 1, 'god-delusion': 1, 'aimless': 1, 'ape': 1, 'discussion': 7, 'obstruction': 1, 'preference': 2, 'religious-prejudice': 1, 'samaritan': 1, 'denounce': 3, 'fatuous': 2, 'morons': 2, 'reconcile': 5, 'tendency': 2, 'novelists': 3, 'psychiatrists': 1, 'tools': 5, 'b-f-skinner': 1, 'burrhus': 1, 'frederic': 1, 'skinner': 1, 'freethinking': 3, 'footnotes': 3, 'falsification': 7, 'treason': 5, 'veracity': 8, 'clemens-vonnegut': 1, 'human-endeavour': 1, 'cadaver': 1, 'dissection': 1, 'yoda': 2, 'anarchy': 26, 'critical-thinking': 27, 'indoctrination': 10, 'voluntaryism': 10, 'ethicists': 2, 'moralists': 2, 'anthropic-principle': 3, 'coincidenc-e': 1, 'fine-tuning': 6, 'allah': 4, 'heisenberg': 4, 'paul-am-dirac': 2, 'paul-dirac': 3, 'religious-views': 1, 'falsifiability': 2, 'falsifiable': 2, 'antoine-lavoisier': 3, 'delambre': 1, 'jean-baptiste-joseph-delambre': 1, 'john-tyndall': 2, 'tyndall': 2, 'imax': 1, 'omnimax': 1, 'science-museums': 1, 'theoretical-physics': 4, 'weak': 15, 'ghost': 4, 'grasp': 3, 'hamlet': 5, 'molecules': 2, 'conservationist': 1, 'bad-attitudes': 1, 'choose-good-attitudes': 1, 'complains': 2, 'good-attitudes': 1, 'make-good-choices': 1, 'scientific-know-how': 1, 'technical': 1, 'technical-knowledge': 1, 'hamr': 2, 'christopher-moore': 3, 'fluke': 2, 'badness': 4, 'spirit-realm': 4, 'general-relativity': 3, 'awareness-and-attitude': 2, 'situational': 1, 'situational-awareness': 1, 'alleviate-suffering': 2, 'prolong-life': 2, 'search-for-truth': 3, 'ellie-arroway': 1, 'mutation': 2, 'govern': 2, 'mass': 3, 'physical': 7, 'properfy': 2, 'realm': 2, 'transcendent': 2, 'the-pointless-universe': 1, 'computer-science': 1, 'edsger-dijkstra': 1, 'edsger-w-dijkstra': 1, 'edsger-wybe-dijkstra': 1, 'maroon-5': 1, 'psychology-spirituality': 3, 'fossil-record': 3, 'fossils': 8, 'paleontology': 9, 'generality': 1, 'natural-science': 2, 'animal': 12, 'equestrian': 1, 'horse': 10, 'show-jumping': 1, 'bars': 2, 'caged': 2, 'charcoal': 2, 'methods-of-rationality': 1, 'difficult': 6, 'good-sense': 4, 'remarkable': 2, 'revelations': 3, 'shocking': 2, 'helpful': 6, 'the-man-who-couldn-t-stop': 1, '194': 1, 'irrational': 2, 'darwinian': 1, 'doctrines': 1, 'biochemist': 2, 'biochemistry': 14, 'blurred': 2, 'manipulation-of-facts': 2, 'pollution': 4, 'uncritical-minds': 2, 'dispute': 3, 'haldane': 1, 'opportunism': 2, 'self-contradiction': 2, 'human-development': 1, 'monsters-in-the-dark': 1, 'friction': 1, 'plausibility': 1, 'aadvantage': 1, 'rocket-science': 1, 'a-priori': 1, 'aeschylus': 1, 'alessandro-volta': 1, 'benjamin-franklin': 2, 'beranger': 1, 'bonaventura-cavalieri': 1, 'bonaventura-francesco-cavalieri': 1, 'cavalieri': 1, 'china': 2, 'euclid': 1, 'franklin': 1, 'fulton': 1, 'galvani': 1, 'gottfried-leibniz': 1, 'gottfried-von-leibniz': 1, 'gottfried-wilhelm-leibniz': 1, 'gottfried-wilhelm-von-leibniz': 1, 'hydrostatics': 1, 'james-watt': 1, 'johann-von-goethe': 1, 'johann-wolfgang-von-goethe': 2, 'laws-of-motion': 1, 'leibniz': 3, 'libraries': 7, 'luigi-aloisio-galvani': 1, 'luigi-galvani': 1, 'morse': 1, 'optics': 1, 'pentateuch': 1, 'pierre-jean-de-béranger': 1, 'pioneers': 1, 'pneumatics': 1, 'richard-trevithick': 1, 'robert-fulton': 1, 'samuel-finley-breese-morse': 1, 'samuel-morse': 1, 'theory-of-gravity': 1, 'theory-of-universal-gravitation': 1, 'trevethick': 1, 'volta': 1, 'watt': 1, 'Æschylus': 1, 'mathematicians': 4, 'atomic-bomb': 2, 'centre': 1, 'copernicans': 1, 'gutenberg': 1, 'johannes-gutenberg': 1, 'paracelsians': 1, 'paracelsus': 1, 'philippus-aureolus-paracelsus': 1, 'printing': 1, 'center': 2, 'sphere': 1, 'human-history': 1, 'verifiable': 3, 'evidence-for-evolution': 2, 'observations': 7, 'physiology': 3, 'precambrian': 2, 'scientific-truth': 2, 'special-creation': 3, 'vestigial-organs': 3, 'votaries': 1, 'inconspicuous': 1, 'plumbers': 2, 'spark': 3, 'malaria': 1, 'mutations': 1, 'genes': 3, 'racsim': 1, 'white-privilege': 1, 'mephistopheles': 1, 'his-master-s-voice': 1, 'caves': 1, 'inheritance': 4, 'survival-of-the-sickest': 1, 'living-with': 1, 'flatland': 1, 'corpses': 1, 'crown': 4, 'desecration': 1, 'patriot': 2, 'pedestal': 1, 'ruins': 3, 'statue': 2, 'psalm': 2, 'theistic-arguments': 1, 'theological-arguments': 1, 'magnetic-field': 2, 'protons': 1, 'prisons': 2, 'anthropology': 7, 'humanization': 1, 'modern-era': 1, '19th-century-philosopher': 1, 'indian-philsophers': 2, 'jainism': 1, 'scientific-principles': 1, 'universal-brotherhood': 1, 'virchand-gandhi': 2, 'theorem': 2, 'immunology': 1, 'inflammation': 1, 'neuropsychoimmunology': 1, 'nrem': 1, 'sleep-medicine': 1, 'capricious': 2, 'edison': 2, 'thomas-alva-edison': 1, 'thomas-edison': 2, 'veneration': 1, 'view': 4, 'mythology-philosophy': 2, 'incredulity': 1, 'meric-casaubon': 1, 'witch-hunts': 1, 'faust': 4, 'forces': 1, 'shoulderblades': 2, 'myths': 9, 'bisphenol-a': 2, 'bpa': 2, 'consensus': 3, 'dr-jack-cohen-podiatrist': 1, 'excitotoxins': 2, 'majority': 7, 'majority-view': 3, 'man-made-global-warming': 2, 'manmade-global-warming': 2, 'minority-view': 2, 'monosodium-glutamate': 2, 'msg': 2, 'scientific-discovery': 23, 'scientific-inquiry': 6, 'scientific-research': 30, 'scientific-revolution': 12, 'september-11-attacks': 2, 'drawing-conclusions': 1, 'informed': 1, 'crime-scene-investigation': 1, 'over-specialization': 1, 'ancestor': 2, 'autocratia': 1, 'iron-heel': 1, 'jack-london': 1, 'oligarch': 1, 'bioethics': 1, 'medicide': 1, 'taboos': 1, 'size': 6, 'beings': 2, 'bold': 13, 'bolder': 2, 'boldness-and-attitude': 2, 'creature': 7, 'critters': 2, 'living-things': 2, 'natural-design': 2, 'wildlife': 5, 'dark-humour': 3, 'crime-scene': 1, 'biographies': 1, 'cultural-history': 1, 'omnipresent': 1, 'فراغ': 2, 'لاشيء': 2, 'posthumanism': 2, 'transhumanism': 3, 'euler': 1, 'leonhard-euler': 1, 'mathematician': 3, 'authoritarianism': 4, 'technics': 1, 'eratosthenes': 1, 'librarian': 2, 'antitheism': 1, 'napoleon-complex': 1, 'discoverie': 1, 'faraday': 2, 'michael-faraday': 1, 'unreason': 3, 'relativity-theory': 1, 'bacon': 5, 'clear': 7, 'francis-bacon': 2, 'intelligible': 2, 'humorous-quotes': 4, 'quantic-love': 1, 'chromosomes': 2, 'buffon': 1, 'comte-de-buffon': 1, 'de-buffon': 1, 'georges-louis-leclerc': 1, 'laboratory': 1, 'monsieur-de-buffon': 1, 'flatulence': 1, 'gresham-s-law': 1, 'bêtise-humaine': 1, 'infini': 1, 'philosophie': 8, 'cognitive-psychology': 10, 'animal-liberation': 1, 'animal-testing': 2, 'ethical-living': 1, 'vivisection': 2, 'cognitive-neuroscience': 1, 'musical-hallucinations': 1, 'owls': 2, 'arabs': 2, 'plane': 1, 'cartoons': 2, 'fred-hoyle': 1, 'saotome': 1, 'tsutsui': 1, 'yasutaka': 1, 'moral-law': 3, 'computer-models': 1, 'richard-feynmann': 1, 'hypertension': 1, 'lowcarb': 1, 'sodium': 1, 'scale': 5, 'biblical-scholarship': 3, 'hard-science': 1, 'scientific-theories': 1, 'speciation': 2, 'time-chain': 3, 'griping': 1, 'thrilling': 1, 'paradigms': 2, 'ciencia': 4, 'dios': 1, 'freaky': 1, 'apparitions': 1, 'catholic-church': 1, 'marian-apparitions': 1, 'roman-catholic-church': 1, 'virgin-mary': 1, 'witch-burnings': 1, 'modern-life': 3, 'anecdote': 1, 'calculation': 2, 'fairytale': 6, 'cogency': 1, 'detectives': 2, 'fallibilism': 1, 'historians': 2, 'biosphere': 1, 'vacuous': 1, 'estimable': 1, 'savage': 2, 'uncultivated': 1, 'liver': 1, 'baron-c-p-snow': 1, 'baron-snow': 1, 'c-p-snow': 1, 'cambridge': 1, 'charles-percy-snow': 1, 'nucleus': 1, 'rutherford': 1, 'volcanism': 1, 'volcanoes': 1, 'joseph-banks': 1, 'lab-testing': 1, 'plague-dogs': 1, 'scientific-debate': 1, 'sprio-agnew': 1, 'antoine-laurent-lavoisier': 2, 'lavoisier': 3, 'antoine-fourcroy': 1, 'antoine-francois-fourcroy': 1, 'fourcroy': 1, 'insufficient': 3, 'mitochondria': 1, 'population': 1, 'magic-vs-nature': 1, 'magic-vs-science': 1, 'amusing': 5, 'sir-julian-huxley': 1, 'bang-on': 1, 'brilliant': 2, 'giraffe': 1, 'richard-rhodes': 2, 'the-making-of-the-atomic-bomb': 2, 'predictions': 1, 'epistemological-anarchism': 1, 'brain-imaging': 1, 'neuroimaging': 1, 'neurology': 7, 'douglas-kern': 1, 'neodarwinism': 1, 'literate': 1, 'the-plague': 1, 'trivia': 1, 'profundity': 1, 'cute-songs': 2, 'metals': 4, 'periodic-table': 6, 'unicorns': 4, 'artifical-intelligence': 2, 'science-quotes': 11, 'grand-inquisitor': 1, 'morality-without-religion': 2, 'biases': 2, 'cognitive-bias': 4, 'tree-of-knowledge': 5, 'erich-fromm': 1, 'no-duality': 3, 'no-mind': 5, 'computers': 9, 'claude-e-shannon': 1, 'claude-elwood-shannon': 1, 'claude-shannon': 1, 'encore': 1, 'information-theory': 1, 'shannon': 1, 'sterilize': 1, 'freire': 1, 'paulo-freire': 1, 'vigour': 1, 'hydrogen': 1, 'pious': 2, 'chimpanzee': 1, 'heritage': 7, 'primate': 1, 'atom-smasher': 1, 'large-hadron-collider': 2, 'public': 6, 'militant-atheism': 4, 'militant-atheist': 1, 'paul-adrien-maurice-dirac': 1, 'blunder': 1, 'cosmological-constant': 1, 'inflation': 1, 'multiverse': 3, 'steam-engine': 1, 'gratification': 1, 'inclination': 2, 'novice': 1, 'david-hilbert': 1, 'gh-hardy': 1, 'godfrey-hardy': 1, 'godfrey-harold-hardy': 1, 'hilbert': 1, 'john-edensor-littlewood': 1, 'john-littlewood': 1, 'littlewood': 1, 'ramanujan': 2, 'srinivasa-ramanujan': 1, 'christopher-columbus': 1, 'constants': 2, 'ferdinand-magellan': 1, 'magellan': 1, 'magnificence': 1, 'national-geographic': 1, 'physicist': 3, 'tedious': 1, 'buchner': 1, 'co2': 1, 'eduard-buchner': 1, 'sugar': 1, 'warning': 5, 'hans-christian-Ørsted': 1, 'oersted': 1, 'Ørsted': 1, 'chemical-changes': 1, 'classical-conditioning': 1, 'dermatology': 1, 'chemical-processes': 1, 'bradley': 1, 'hipparchus': 1, 'james-bradley': 1, 'alfven': 1, 'hannes-alfven': 1, 'hannes-alfvén': 1, 'the-body': 1, 'hungarian': 3, 'am': 1, 'ornithology': 1, 'turtle': 1, 'canal': 1, 'scheme': 1, 'suez-canal': 1, 'peer-review': 5, 'alien-abduction': 1, 'journal-of-medicine': 1, 'sea-lion': 1, 'snail': 3, 'systems-analyst': 1, 'arabic-science': 1, 'qur-an': 2, 'atom': 3, 'democritus': 2, 'science-scientists': 1, 'nature-s-grandeur': 1, 'alexander-fleming': 1, 'hollace-m-metzger': 1, 'literary-quotes': 1, 'earworms': 1, 'hypotheses': 3, 'generalizations': 3, 'alternative-medicne': 1, 'otc': 1, 'harvard-professor-of-psychology': 1, 'before-the-golden-age': 1, 'golden-age-science-fiction': 1, 'golden-age-sf': 1, 'pulp-fiction': 1, 'moral-responsibility': 1, 'multiple-universe': 1, 'multiple-universes': 1, 'new-scientist': 1, 'molecular-machines': 3, 'chemists': 1, 'moons': 1, 'titan': 1, 'teleology': 12, 'african-american': 1, 'genetic-enginering': 1, 'definite': 1, 'ambiguitydefinitions': 1, 'aesthetics': 9, 'symbolism': 7, 'arms-race': 1, 'failed-prediction': 1, 'guessing': 6, 'seti': 1, 'appendix': 2, 'coccyx': 1, 'human-appendix': 1, 'human-coccyx': 1, 'junk-dna': 2, 'scientific-prediction': 1, 'conclusions': 3, 'homology': 1, 'knowldge': 1, 'similarities': 3, 'similarity': 1, 'universal-common-descent': 1, 'optimisation': 1, 'optimization': 1, 'stephen-jay-gould': 1, 'tourette-s': 1, 'george-bernard-shaw': 2, 'gaia-hypothesis': 1, 'cursed': 1, 'cycle': 2, 'presumption': 2, 'established-religion': 1, 'eugenics': 3, 'free-energy': 3, 'resonance': 3, 'current-events': 1, 'locality': 1, 'socio-political': 1, 'aesthetically': 1, 'misunderstanding': 12, 'satisfying': 1, 'undergraduates': 1, 'humanistm': 1, 'instrumentality': 1, 'bernard-shaw': 1, 'craters': 1, 'jesuit': 1, 'naturalism-as-science': 1, 'presuppositions': 1, 'burn-at-the-stake': 1, 'egyptology': 1, 'western-civilization': 8, 'seismology': 1, 'tree-of-death': 1, 'tree-of-life': 3, 'bangtan': 1, 'catholic-history': 1, 'big-picture': 4, 'big-picture-thinking-thinking': 1, 'complex-systems': 1, 'harem': 1, 'presocratics': 1, 'romanovs': 1, 'indonesian-books': 1, 'indonesian-history': 1, 'indonesian-quote': 1, 'fanaticism': 4, 'modern-world': 1, 'filosofía': 5, 'knowlegde': 3, 'autodidacticism': 1, 'credentialism': 1, 'mechanics': 3, 'technique': 2, 'ernest-cline': 1, 'key': 3, 'ready-player-one': 1, 'undead': 1, 'undead-king': 1, 'video-game': 1, 'wade': 1, 'wade-watts': 1, 'illusion-of-free-will': 2, 'laws-of-physics': 2, 'druids': 1, 'geologist': 1, 'geologists': 2, 'age-of-ignorance': 1, 'dark-ages': 1, 'goths': 1, 'polio-vaccine': 1, 'formation-of-dna': 1, 'origin-of-dna': 1, 'magnetism': 4, 'marie-curie': 1, 'marie-sklodowska': 1, 'pierre-curie': 1, 'claire-danvers': 15, 'morganville-vampires': 15, 'unethical': 2, 'astrobiology': 1, 'acronyms': 2, 'weight-loss': 6, 'frédéric-joliot-curie': 1, 'joliot': 1, 'nonreligious': 3, 'raised': 1, '6th-sense': 1, 'acumen': 2, 'apologist': 1, 'demanding': 2, 'existence-of-god': 1, 'sixth-sense': 1, 'spiritual-realm': 1, 'milky-way': 1, 'prequel': 1, 'ian-mcewan': 1, 'global-issues': 1, 'kleelerner': 1, 'graduate-school': 1, 'concealment': 6, 'homeopathy': 1, 'on': 1, 'sarcasm-humor': 1, 'whale': 2, 'chayada-welljaipet': 1, 'science-fiction-fantasy': 1, 'science-fiction-romance': 5, 'short-stories': 3, 'short-story-collection': 1, 'war-between-two-powerful-nations': 1, 'method': 4, 'apollo-11': 1, 'lunar-landing': 1, 'rules-of-evidence': 1, 'deoxyribonucleic-acid': 1, 'renunciation': 2, 'no-god': 1, 'tenet': 1, 'computer-hackers': 1, 'geek-humor': 1, 'nerd-humor': 1, 'redshift': 1, 'nuclear': 1, 'falsities': 1, 'overcoming-mistakes': 1, 'hasidic-judaism': 1, 'human-being': 4, 'quarks': 1, 'cognition': 9, 'build-an-eye': 1, 'spider-jerusalem': 1, 'christian-fundamentalism': 1, 'religious-fundamentalism': 1, 'self-will': 2, 'philosphy': 9, '20th-century': 2, 'macro': 1, 'micro': 1, 'aids': 2, 'philanthropy': 5, 'women-s-issues': 3, 'incompleteness': 1, 'carnivore': 1, 'cat': 15, 'panda': 1, 'thumb': 2, 'scientific-language': 1, 'gaede': 5, 'hawking': 1, 'john-twelve-hawks': 1, 'oracles': 1, 'clocks': 1, 'earth-rotation': 1, 'court': 2, 'scopes-trial': 1, 'economist': 1, 'american-founding-fathers': 1, 'ancient-governments': 1, 'establishment-of-religion': 1, 'non-fiction': 5, 'secular-humanism': 1, 'idiots': 3, 'free-market': 2, 'hypothesizing': 1, 'mathematical-physics': 3, 'conceptualizing': 1, 'cholesterol': 1, 'disparate-interests': 1, 'lack-of-interest': 1, 'married-couples': 1, 'microbiology': 2, 'wives': 3, 'women-scientists': 1, 'amazonia': 1, 'atlantic-forest': 1, 'establishment': 3, 'dutch': 1, 'comedy-humor': 1, 'max-born': 1, 'probability-theory': 1, 'unknowing': 2, 'human-genome': 1, 'origin-of-information': 2, 'scientific-consensus': 1, 'particle-accelerators': 1, 'beer': 1, 'political-reformer': 1, 'personality-testing': 1, 'social-ecology': 1, 'magical-thinking': 2, 'pauli': 2, 'wolfgang-pauli': 2, 'ethology': 2, 'magnets': 1, 'self-oscillation': 1, 'failsafe': 1, 'forschung': 1, 'wissenschaft': 1, 'managed': 1, 'scarcity': 1, 'baha-i': 1, 'bahai': 1, 'quoted-in-descartes-bones': 1, 'golden-mean': 2, 'polarize': 1, 'jet-engine': 1, 'nuclear-fission': 1, 'nuclear-power': 1, 'rolls-royce': 1, 'cow': 1, 'heart-disease': 1, 'kabbalistic': 1, 'felix': 1, 'worlds': 3, 'byzantium': 1, 'folie': 1, 'évolution': 1, 'outer-space': 2, 'western': 3, 'j-h-woodger': 1, 'paul-weiss': 1, 'brian-goodwin': 1, 'edmund-w-sinnott': 1, 'octopus': 1, 'speculative-fiction': 2, 'speculative-science-fiction': 2, 'air-pollution': 1, 'air-quality': 1, 'water-pollution': 1, 'biodiversity': 2, 'ted-education': 1, 'ecosystems': 1, 'hurricane': 1, 'climate-crisis': 3, 'energy-efficiency': 1, 'green-new-deal': 1, 'migration': 1, 'renewable-energy': 2, 'tax': 1, 'rational-thinking': 20, 'carbon-emissions': 1, 'carbon-footprint': 1, 'climate-justice': 1, 'fake-news': 2, 'natural-sciences': 1, 'phobia': 1, 'book-2-of-quintet': 1, 'exploration-of-beauty': 1, 'superheroes': 3, 'superpowers': 4, 'woman-s-rights': 1, 'theft': 5, 'ai-mainframe': 2, 'fast-paced': 10, 'human-evolution': 2, 'trilogy': 4, 'goodness-inspirational': 3, 'inspirational-book': 1, 'meditation-quotes': 1, 'positive-opinion': 2, 'motivacion': 1, 'human-civilization': 2, 'proof-of-god': 2, 'catastrophism': 1, 'culture-war': 1, 'end-times': 1, 'enoch': 2, 'indigenous-wisdom': 1, 'native-american': 11, 'solar-flare': 2, 'amherst': 1, 'commencement': 3, 'antiracist': 1, 'neuroscientist-poet': 1, 'poetic-truth': 2, 'science-poetry': 10, 'scientific-poetry': 2, 'science-nature': 3, 'physicst': 1, 'science-humor': 1, 'brazilian-literature': 1, 'fourth-dimension': 1, 'religion-and-philosophy': 4, 'third-dimension': 1, 'communicationhumor': 1, 'interpersonal-relationships': 1, 'climate': 5, 'ficton': 1, 'under-an-atom': 1, 'explain': 7, 'limited': 2, 'wisdom-of-men': 2, 'teleological-argument': 11, 'planet-earth': 6, 'religious-freedom': 8, 'toleration': 1, 'clear-thinking': 1, 'inquisitive': 1, 'sound-mind': 1, 'paleontologist': 1, 'pure-inquiry': 1, 'catalyst': 4, 'curiosty': 2, 'innovation-quotes': 3, 'biochemistry-a-chemistry-of-life': 4, 'biochemistry-and-life': 6, 'evolution-quotes': 2, 'theodosius-dobzhansky': 1, 'algebra': 2, 'approximate-thinking': 1, 'comunism': 1, 'marxism-leninism': 1, 'prejudices': 6, 'unforgiveness': 1, 'vengeance': 4, 'grad-school': 1, 'weird': 15, 'empiricism': 11, 'perception-of-truth': 6, 'truth-and-reality': 4, 'hunches': 1, 'climate-change-denial': 1, 'agnosia': 3, 'amnesia': 3, 'conspiracy-theory': 1, 'expanse': 4, 'existenial': 1, 'industrial-revolution': 1, 'cinema': 4, 'true-crime': 8, 'paranormal-nonfiction': 1, 'diverse-characters': 1, 'enemies-to-lovers': 2, 'fantasy-quotes': 1, 'fantasy-young-adult': 3, 'found-family': 1, 'witty-banter': 1, 'molecular-biology': 1, 'imagination-quotes': 2, 'knowledge-quotes': 6, 'space-opera': 1, 'central-planning': 1, 'cult-of-expert': 1, 'cult-of-scientific-knowledge': 1, 'avijeet-das': 2, 'virat-kohli': 1, 'spirituality-quotes': 20, 'poetic-cognition': 1, 'mycology': 2, 'religious-naturalism': 1, 'milk': 1, 'solar-energy': 1, 'beginning-of-time': 2, 'recycling': 1, 'cells': 1, 'materialism-versus-spiritualism': 2, 'fortean': 1, 'george-knapp': 1, 'uap': 1, 'unidentified-aerial-phenomena': 1, 'unidentified-anomalous-phenomena': 1, 'unidentified-flying-objects': 1, 'life-is-a-dream': 1, 'moral-relativism': 1, 'progressivism': 1, 'wokeness': 1, 'evolutionism': 1, 'male': 7, 'sex-differences': 2, 'classical-mechanics': 1, 'steam': 1, 'thermodynamics': 3, 'technology-quotes': 2, 'the-gasp': 9, 'the-power-of-science': 1, 'the-power-of-technology': 1, 'age-of-technology': 1, 'death-of-culture': 1, 'dehumanization': 3, 'fermi': 3, 'oppenheimer': 3, 'technological-civilization': 1, 'ethics-of-science': 2, 'hydrogen-bomb': 2, 'moral-choice': 2, 'science-and-morality': 7, 'scientist-s-responsibility': 2, 'coverup': 1, 'knowledge-gaps': 1, 'true-knowledge': 1, 'cannot-be-trusted': 1, 'communists': 1, 'betrayal-of-values': 1, 'human-values': 1, 'human-kind': 1, 'scientific-doom': 1, 'know-how': 2, 'science-and-technology': 3, 'practical-reason': 1, 'heliocentrism': 1, 'reproducibility': 3, 'environmental-conservation': 5, 'plastic': 4, 'killer-whales': 3, 'marine-life': 6, 'moby-doll': 1, 'orca-brain': 1, 'orcas': 3, 'whales': 2, 'shark-fact': 1, 'shark-facts': 1, 'aquarium': 10, 'public-policy': 10, 'philosophy-of-physics': 2, 'coding': 2, 'social-studies': 2, 'frustrated': 1, 'i-will-get-science': 1, 'logical': 6, 'social-psychology': 1, 'you-can-get-mad': 1, 'ghostware': 2, 'early-modern': 1, 'bad-science': 1, 'fraud': 5, 'technological-advancement': 1, 'technological-progress': 1, 'questions-and-answers': 3, 'stars-quotations': 1, 'stars-quotes': 3, 'atheism-quotes': 3, 'death-star': 1, 'empire': 2, 'rogue-one': 1, 'scientific-knowledge': 3, 'scientist-quotes': 6, 'double-slit-experiment': 1, 'observer-effect': 1, 'humanitarian-science': 4, 'science-and-change': 10, 'biologist': 1, 'perception-and-reality': 1, 'pursuit-of-truth': 4, 'light-of-knowledge': 2, 'scientific-ethics': 1, 'machine-learning': 1, 'machines-and-man': 1, 'douglas-hofstadter': 2, 'formal-logic': 1, 'gödel-s-incompleteness-theorem': 2, 'scientific-advancement': 3, 'civil-servicee': 1, 'researcher': 2, 'decipherment': 1, 'confirmation-bias': 2, 'ethics-and-science': 5, 'scientific-progress': 1, 'humanitarian-scientist': 7, 'science-religion': 1, 'contemporary-romance-love-story': 11, 'rom-com': 8, 'comet': 2, 'contemporary-romance-adult': 9, 'newton-s-laws': 1, 'zoology': 2, 'student-quotes': 2, 'great-barrier-reef': 1, 'unesco': 1, 'scientific-evidence': 1, 'cheating-in-relationships': 1, 'mirror-neurons': 1, 'indigenous': 1, 'plants-botany': 1, 'research-and-development': 1, 'the-tempest': 1, 'ethnography': 1, 'kreativität': 1, 'lernen': 1, 'romatic': 1, 'microbes': 1, 'warrior-quotes': 1, 'scientist-poet': 1, 'science-quotations': 1, 'global-warming-quotes': 1, 'age-of-reason': 2, 'cynicism-reality': 1, 'neo-victorian': 1, 'victorian-society': 1, 'scientific-facts': 1, 'limericks': 1, 'fernando-pessoa': 3, 'healthcare-reform': 1, 'technology-and-society': 1, 'pale-blue-dot': 2, 'spaceflight': 1, 'physique': 1, 'mystery-thriller': 2, 'neurodiversity': 1, 'romance-book-quotes': 1, 'romance-novels': 4, 'sci-fi-books': 1, 'sci-fi-novel': 1, 'science-fiction-novel': 1, 'lds-church': 1, 'quantum-computers': 1, 'quantum-computing': 1, 'baja': 9, 'bats': 9, 'epidemic': 9, 'seagull': 8, 'white-nose-syndrome': 9, 'consciousness-explained': 1, 'consciousness-science': 1, 'australia': 7, 'capitol-technology-university': 1, 'captechu': 1, 'top-cyber-news-magazine': 1, 'topcybernews': 1, 'stephan-hawking': 1, 'the-moon': 1, 'behave': 1, 'robert-m-sapolsky': 1, 'robert-sapolsky': 1, 'computers-and-humanity': 1, 'deep-thought': 1, 'artificial-intelligence-quotes': 1, 'divulgacion': 5, 'spanish-quote': 14, 'the-white-book': 1, 'exercisee': 1, 'emasculation': 1, 'rosalind-franklin': 3, 'women-in-science': 1, 'women-in-stem': 1, 'science-vs-faith': 1, 'educate': 2, 'mahdi-mansour': 2, 'thoughts-of-the-mind': 2, 'jesper-fahey': 2, 'romcom': 1, 'environmental-protection': 3, 'forest-quotes': 1, 'literalist': 1, 'quantification': 1, 'reformation': 3, 'fantasy-romance': 5, 'divergence': 2, 'divulgation': 4, 'deism': 2, 'knowledge-of-god': 1, 'study-of-god': 1, 'causality': 3, 'causation': 3, 'discovering': 3, 'science-reporting': 1, 'science-writing': 1, 'scientific-writing': 1, 'children-s': 10, 'cookbook': 1, 'guynacalligy': 1, 'postmodernity': 1, 'divulgación': 3, 'mathematicsatics': 1, 'cheat-code': 1, 'esoteric': 5, 'esotericism': 2, 'moon-phases': 2, 'personal-life': 1, 'tools-for-success': 2, 'minor': 1, 'systems-thinking': 1, 'fun-facts': 1, 'kids-science': 1, 'minerals': 2, 'mythical-stories': 3, 'mythical': 3, 'science-book': 2, 'underwater-orchestra': 1, 'underwater-sounds': 1, 'dna-analysis': 1, 'dna-testing': 1, 'history-of-mathematics': 2, 'scientific-philosophy': 1, 'emergency': 2, 'retro': 1, 'specialists': 1, 'secularism': 14, 'west': 2, 'among-us': 1, 'minecraft': 1, 'german-literature': 2, 'unfinished': 1, 'deep-sea': 1, 'cell-division': 1, 'near-death-experiences': 1, 'sayem': 1, 'sayem-sarkar-quotes': 1, 'historical-fiction': 12, 'civilisations': 2, 'etcetera': 1, 'down-syndrome': 1, 'the-gene': 1, 'babies-or-pregnancy': 1, 'reproduction': 2, 'physics-of-time': 1, 'identity-politics': 1, 'myside-bias': 1, 'universities': 4, 'lucifer': 5, 'amazing-writing': 2, 'disaster-preparedness': 3, 'disaster-response': 3, 'earthquake': 2, 'help-turkey': 1, 'listen-to-expert': 3, 'natural-disaster': 2, 'turkey-earthquake': 1, 'experts': 3, 'global-crisis': 1, 'unexplained': 1, 'scary-reality': 1, 'planetary-exploration': 1, 'nanotechnology': 6, 'superficial-area': 1, 'sf': 3, 'fantastyka': 1, 'filozofia': 1, 'tangibility': 1, 'lifeforms': 1, 'universee': 1, 'humanist-poetry': 4, 'spirit-world': 1, 'voice-of-reason': 1, 'space-element-time-set': 1, 'researchch': 1, 'mystery-of-life': 2, 'creaitivity': 1, 'laws-of-nature': 1, 'creative-nonfiction': 3, 'speculative-nonfiction': 2, 'men-of-science': 1, 'cubism': 1, 'vitamins': 3, 'arts-and-letters': 1, 'interviews': 1, 'npr-interviews-1995': 1, 'astronomy-quotes': 1, 'case': 1, 'coronavirus': 1, 'covid19': 1, 'just': 5, 'prepared': 2, 'vaccines': 1, 'antiquity': 2, 'aristoteles': 1, 'botanical': 1, 'físico': 1, 'peripatetic': 1, 'evolutionary-studies': 4, 'psychopathology': 1, 'fat-studies': 1, 'fatness': 1, 'sexual-selection': 1, 'boyle': 1, 'origins': 4, 'pascall': 1, 'skills-quote': 1, 'the-meaning-of-life': 1, 'augmentedintelligence': 1, 'chatgpt': 2, 'folklore': 4, 'intelligence-quote': 1, 'thetruth': 1, 'conscience-and-attitude': 5, 'conscience-and-ethics': 1, 'conscience-and-integrity': 1, 'conscience-morality': 1, 'pos-apocalyptic': 1, 'romance-love': 3, 'anthropology-quotes': 1, 'harari': 1, 'history-quotes': 1, 'altitude': 1, 'biological': 1, 'field': 2, 'rapidly': 1, 'phiosophy': 1, 'indigenous-knowledge': 3, 'cadaver-speak': 1, 'hedy-lamarr': 2, 'inventor': 1, 'picture-biography': 1, 'homo-sapiens': 2, 'imaginary': 4, 'imagining': 2, 'power-of-imagination': 1, 'ayn-rand': 4, 'ayn-rand-life-objectivism': 1, 'chinese': 10, 'cosmic-horror': 1, 'ebenezer-snell': 1, 'meteorology': 1, 'science-communication': 2, 'specialisation': 1, 'univers': 1, 'persistence-quotes': 1, 'mechanical-engineering': 3, 'material-science': 1, 'nanotecnology': 1, 'nanoscience': 1, 'mechanical': 1, 'nanosciences': 3, 'genie': 1, 'naturwissenschaft': 1, 'physik': 1, 'intellectual-thriller': 1, 'psychological-thriller': 2, 'strong-plot-thriller': 1, 'andy-weir': 1, 'astrophage': 1, 'project-hail-mary': 1, 'rocky': 1, 'ryland-grace': 1, 'bernal': 2, 'valeurs': 1, 'genesis-2-18': 1, 'quantum-entanglement': 1, 'zero': 2, 'zero-factorial': 1, 'zorro': 1, 'aurora': 1, 'populism': 1, 'whimsical': 2, 'straws': 1, 'engineering-quotes': 1, 'measurable': 2, 'measure-quotes': 1, 'energetics': 1, 'photon': 2, 'book-club': 4, 'alaska': 3, 'crystals': 1, 'pulitzer-prize': 2, 'for': 1, 'prize': 1, 'this': 3, 'caudwell': 1, 'sentience': 24, 'brainy-quote': 2, 'facebook-addiction': 2, 'facebook-quotes': 2, 'google-drive': 2, 'google-search': 2, 'google-search-engine': 2, 'cliodynamics': 1, 'philosophy-quotations': 1, 'virginity': 2, 'dr-stone': 1, 'senku-ishigami': 1, 'big-crunch': 1, 'bosons': 1, 'dialectic': 3, 'fermions': 1, 'singularity': 3, 'canine': 1, 'companion-species': 1, 'humor-quotes': 1, 'niacin-deficiency': 1, 'pellagra': 1, 'functional-neurological-disorder': 1, 'psychosomatic': 1, 'biopsychosocial-medicine': 1, 'medical-model': 1, 'medical-problem': 1, 'response-to-stimuli': 1, 'blank-canvas': 1, 'homosecual': 1, 'homosex': 1, 'homosexuals': 1, 'poetry-and-science': 1, 'richard-p-feynman': 1, 'materials': 1, 'alhazen': 1, 'body-clock': 1, 'extramission': 1, 'eyesight': 2, 'hasan-ibn-al-haytham': 1, 'life-science': 1, 'cartesian-dualism': 1, 'fourier-transform': 1, 'penfield': 1, 'folk': 1, 'einstein-relativity': 5, 'lorentz-transformation': 1, 'photons': 1, 'lorentz-transformations': 2, 'aether': 3, 'spacetime': 2, 'ontological-mathematics': 1, 'lorentz': 1, 'maxwell': 2, 'human-perception': 1, 'psychosomatic-disorders': 1, 'moral-philosophy': 3, 'cell': 2, 'emergent': 1, 'lex-fridman-podcast': 1, 'organism': 1, 'diy': 2, 'ouija': 1, 'dissonance': 2, 'paterson-iv': 1, 'life-forms': 2, 'single-theory-of-everything': 2, 'universe-quotes': 2, 'autognorics': 1, 'engineered-lifeforms': 1, 'futurist': 1, 'computational-simulation': 1, 'epidemiology': 1, 'cogito-ergo-sum': 2, 'i-think-therefore-i-am': 2, 'misattributed-ben-franklin': 3, 'misattributed-mark-twain': 7, 'aliteracy': 1, 'deadlines': 2, 'misattributed-to-hutchins': 1, 'calvin-and-hobbes': 10, 'alice': 9, 'misattributed-to-bill-gates': 1, 'misattributed-to-marilyn-monroe': 2, 'misprints': 1, 'luke': 2, 'teenager': 3, 'misattributed-john-wayne': 2, 'misattributed-douglas-adams': 1, 'biscuit': 1, 'james-potter': 3, 'remus-lupin': 2, 'wormtail': 1, 'shampoo': 1, 'jail': 1, 'everyday-life': 2, 'observational-comedy': 1, 'misattributed-einstein': 2, 'consul': 1, 'self-irony': 2, 'misattributed-to-groucho-marx': 1, 'ferret-malfoy': 1, 'albus-potter': 1, 'hg2g': 1, 'h2g2': 5, 'hitchhiker-s-guide': 2, 'fred-weasley': 4, 'george-weasley': 2, 'molly-weasley': 2, 'toilet': 2, 'city-of-ashes': 11, 'simon': 5, 'misattributed-george-carlin': 2, 'bossypants': 2, 'tina-fey': 1, 'mellark': 1, 'fallen-anger': 1, 'nephlim': 1, 'governments': 4, 'dursley': 4, 'towel': 1, 'rythmic': 1, 'olympians': 3, 'cartoonist': 2, 'fred': 1, 'gray-book': 1, 'hodge': 1, 'idiocy': 1, 'dr-seuss': 1, 'musical': 1, 'prank': 2, 'misattributed-betty-white': 1, 'pedophile': 6, 'pedophilia': 1, 'tmi': 1, 'clockwork-prince': 3, 'teasing': 5, 'malfoy': 4, 'unbreakable-vow': 1, 'athena': 2, 'posiedon': 1, 'the-lightning-thief': 1, 'clean': 6, 'dirt': 2, 'canoodle': 1, 'mythological': 2, 'immature': 3, 'gaiman': 1, 'bathing': 1, 'puck': 4, 'grandmothers': 1, 'grandparents': 2, 'hagrid': 2, 'pig': 1, 'wizard': 2, 'christina': 4, 'sebastian': 1, 'valentine-morgenstern': 1, 'half-blood': 1, 'rachel-elizabeth-dare': 1, 'artemis': 2, 'centaur': 1, 'foaly': 3, 'puns': 3, 'shared-ordeal': 1, 'flotsam': 1, 'jeremy-fink': 1, 'jetsam': 1, 'keys': 2, 'lizzy': 1, 'wendy-mass': 1, 'what-i-always-think': 1, 'rabbits': 1, 'smartass': 2, 'bleeding': 1, 'misattributed-to-anne-lamott': 2, 'interrogation': 4, 'police': 15, 'recall': 1, 'nevermore': 2, 'parody': 3, 'raven': 3, 'explosions': 1, 'immortals': 1, 'breaking': 4, 'jacob': 2, 'rosalie': 1, 'clique': 3, 'clubs': 1, 'membership': 1, 'collins': 1, 'grammy': 1, 'discworld': 2, 'alice-in-wonderland': 3, 'mamimum': 1, 'maximum-ride': 9, 'rock': 7, 'the-maze-runner': 1, 'imogen-herondale': 1, 'rebelliousness': 1, 'making-do': 1, 'dryer': 1, 'pasta': 1, 'bankers': 3, 'animal-protection': 1, 'deer': 1, 'taxidermy': 1, 'marshmallow': 1, 'pooh': 3, 'tigger': 1, 'wrestling': 1, 'lambada': 1, 'mark-of-cain': 1, 'waffles': 2, 'shower': 4, 'clowns': 1, 'watchmaker': 1, 'retardation': 1, 'zealousness': 1, 'crooked-kingdom': 1, 'inej': 1, 'jesper': 3, 'kaz': 1, 'matthias': 1, 'nina': 1, 'wylan': 2, 'paul': 5, 'tyson': 3, 'weasley': 3, 'remaining-silent': 6, 'reticence': 4, 'eric-northman': 4, 'sookie-stackhouse': 4, 'true-blood': 3, 'lady-gaga-famous': 1, 'lady-gaga-quotes': 1, 'dyslexia': 1, 'social-life': 1, 'children-s-lit': 1, 'drunken-behaviour': 1, 'provoke': 2, 'troublesome': 1, 'bravado': 1, 'taunting': 1, 'toilet-humor': 1, 'grave-offenses': 1, 'powers': 3, 'the-lost-hero': 2, 'just-like-me': 1, 'cynism': 1, 'ennui': 4, 'examinations': 1, 'gullibility': 4, 'good-and-bad': 4, 'jocelyn-fray': 1, 'chinese-handcuffs': 1, 'keep-it-simple': 1, 'trap': 4, 'percy-weasley': 3, 'prefect': 2, 'cliché': 2, 'retort': 5, 'dumb': 6, 'rachel-dare': 2, 'furture-telling': 1, 'cooking': 8, 'jedi': 4, 'electoral-politics': 1, 'george-w-bush': 1, 'song-writing': 2, 'self-importance': 2, 'dionysus': 6, 'pudding': 1, 'ares': 3, 'son-of-neptune': 2, 'passports': 1, 'godfather': 1, 'nonjudgemental': 1, 'catch': 2, 'cynics': 2, 'david-tennant': 1, 'to-be-or-not-to-be': 3, 'bright-side': 1, 'cussing': 1, 'quoting': 2, 'pique': 1, 'forgotten-realms': 1, 'jarlaxle': 1, 'salvatore': 1, 'servant-of-the-shard': 1, 'prostitution': 1, 'pigsty': 1, 'audiences': 1, 'readership': 2, 'blackjack': 1, 'flying-horses': 2, 'disillusionment': 6, 'rat': 5, 'attacked': 1, 'delaying': 1, 'leo': 3, 'drinks': 1, 'diets': 1, 'bad-boy': 1, 'narissus': 2, 'young_adult': 3, 'epithet': 2, 'warning-labels': 2, 'the-new-yorker': 1, 'coach-hedge': 4, 'grover-underwood': 2, 'stalker': 1, 'slander': 15, 'defense-mechanism': 1, 'blog-post': 1, 'euphemism': 4, 'terminology': 2, 'character-defining': 2, 'comics': 15, 'ask': 9, 'lemons': 5, 'free-speech': 5, 'libel': 7, 'offense': 9, 'zaphod-beeblebrox': 2, 'airports': 1, 'sneaking-out': 1, 'futuristic': 2, 'knight-s-fork': 1, 'rowena-cherry': 1, 'panda-pillow-pets': 1, 'offspring': 2, 'pessimistic': 2, 'they-might-be-giants': 1, 'tmbw': 1, 'misanthropy': 7, 'naked-chest': 1, 'swooning': 1, 'appeasement': 1, 'conciseness': 1, 'pithy': 1, 'cobain': 1, 'kurt': 2, 'nirvana': 8, 'practic': 1, 'scott': 1, 'greenland': 1, 'bad-mood': 2, 'woody-allen': 1, 'lingerie': 1, 'shrivel': 1, 'swords': 2, 'blood-traitors': 1, 'death-eaters': 1, 'muggle-born': 1, 'muggles': 1, 'bastards': 1, 'dwarfs': 1, 'tyrion-lannister': 3, 'rachel-hawkins': 4, 'southern-authors': 1, 'southern-writers': 2, 'waldo-butters': 1, 'same': 5, 'black-dagger-brotherhood': 6, 'dessert': 2, 'pie': 2, 'kinds': 2, 'kinds-of-people': 1, 'penryn': 1, 'raffe': 1, 'apologizing': 1, 'scholar': 1, 'draco-malfoy': 2, 'bdb': 2, 'j-r-ward': 2, 'introversion': 4, 'introvert': 5, 'socializing': 1, 'risque': 1, 'pretexts': 1, 'tragic-comedy': 1, 'kenji': 3, 'twins': 1, 'isolationism': 1, 'political-philosophy': 14, 'best-naruto-qoute': 3, 'best-qoute': 3, 'childeren': 3, 'konoha': 3, 'naruto-shippuden': 3, 'shinobi': 3, 'sience': 3, 'echo': 4, 'cluelessness': 2, 'allegiant': 1, 'elf': 4, 'goblin': 2, 'leprechaun': 2, 'make-magic': 2, 'troll': 2, 'fuck-you': 1, 'holden': 4, 'george': 3, 'hermes': 3, 'martha': 2, 'caterpillars': 2, 'exboyfriends': 2, 'exgirlfriends': 2, 'exspouse': 2, 'insane-love': 2, 'lack-of-communication': 3, 'mad-love': 2, 'obsessive-love': 2, 'stupid-men': 2, 'stupid-women': 4, 'unfinished-business': 3, 'bad-guy': 1, 'bad-person': 1, 'motherfucker': 1, 'colds': 1, 'howl-pendragon': 2, 'insuferable': 1, 'lazy': 3, 'sophie-hatter': 2, 'idiot': 4, 'jerry': 1, 'lewis': 2, 'redheads': 3, 'patterson': 1, 'on-fiction': 17, 'carrow': 1, 'luna-lovegood': 5, 'stun': 1, 'cammie': 1, 'gallgher-girls': 1, 'zach': 2, 'stark': 1, 'tempted': 1, 'wallflowers': 1, 'calvin': 9, 'hiccup': 1, 'hobbes': 6, 'innuendo': 4, 'naughty': 4, 'warbreaker': 1, 'schizophrenia': 6, 'steve-martin': 2, 'cookies': 3, 'descriptions': 1, 'setting': 1, 'smell': 4, 'skuldugerry-pleasant': 3, 'derek-landy': 2, 'dimitri-rose': 1, 'red-hair': 1, 'baboon': 1, 'detention': 1, 'gregory-goyle': 2, 'oliver-wood': 1, 'quidditch': 1, 'hells-angels': 1, 'sexism': 21, 'bob-the-skull': 2, 'safety-in-numbers': 1, 'graffiti': 3, 'homophobia': 2, 'picnic-tables': 1, 'ice-cream': 1, 'heist': 1, 'matthias-helvar': 1, 'sixofcrows': 1, 'p-e': 1, 'physical-education': 1, 'polyjuice-potion': 1, 'badass': 4, 'tacos': 2, 'brisingr': 1, 'fucked-up': 6, 'other': 5, 'theater': 3, 'hoid': 2, 'voting': 11, 'donut': 1, 'doughnut': 1, 'florida': 2, 'miami': 1, 'cass': 1, 'coach-hesge': 1, 'hazel-levesque': 5, 'pokemon': 1, 'chiron': 2, 'embarrassment': 6, 'kronos': 3, 'school-lessons': 1, 'fistfight': 1, 'zen-lessons': 1, 'disgruntlement': 1, 'blorft': 1, 'grammar-humor': 2, 'all-was-well': 1, 'epilogue': 2, 'ginny-potter': 1, 'hogwarts': 1, 'neville-longbottom': 2, 'laugh-lines': 1, 'picket-fence': 1, 'privilege': 6, 'mythomagic': 1, 'nico-diangelo': 1, 'moroseness': 1, 'russia': 3, 'stairs': 1, 'sturmhond': 1, 'fanatic': 2, 'stalking': 3, 'convoluted-speech': 1, 'intelligibility': 1, 'dating-tips': 1, 'gryfindor': 1, 'diadem': 1, 'michael-corner': 1, 'ravenclaw': 1, 'catalog': 1, 'doomed-to-repeat-it': 3, 'growing-older': 3, 'napping': 2, 'terry-pratchett': 7, 'wintersmith': 2, 'elaine-mallory': 3, 'discordian': 1, 'discordianism': 1, 'fred-and-george': 1, 'gazzy': 1, 'iggy': 1, 'invisibility': 2, 'nudge': 4, 'found': 4, 'lol': 5, 'oh-my-god-percy': 1, 'underworld': 2, 'speed-reading': 1, 'domesticity': 1, 'celebrity-culture': 1, 'celebutard': 1, 'fake-people': 2, 'faking': 2, 'hype': 2, 'kim-kardashian': 1, 'mainstream-media': 2, 'plastic-surgery': 1, 'prettiness': 1, 'shallow-appearances': 1, 'puddle': 1, 'filch': 1, 'peeves': 1, 'too-hip-for-the-room': 2, 'profanity': 5, 'shit': 4, 'vulgarity': 2, 'seafood': 1, 'bale': 1, 'bret': 1, 'easton': 1, 'ellis': 1, 'psycho': 3, 'videotapes': 1, 'blood-red-road': 1, 'moira-young': 1, 'puberty': 1, 'auror': 1, 'gum-disease': 1, 'ministry-of-magic': 1, 'breasts': 2, 'cabbage': 1, 'similes': 2, 'a-god': 2, 'fourth-commandment': 2, 'minister': 3, 'new-hampshire': 3, 'profane': 4, 'sabbath': 4, 'the-lord': 2, 'funny-smut': 1, 'dumbledores-army': 1, 'tyler-durden': 5, 'evil-overlord': 3, 'megalomania': 1, 'world-domination': 1, 'gross': 1, 'britney-spears': 1, 'sweaters': 1, 'macon': 1, 'liar': 16, 'computer-viruses': 2, 'buddhists': 1, 'japanese-religion': 1, 'junio': 1, 'pat-robertson': 1, 'preachiness': 1, 'religious-people': 1, 'reverend': 1, 'temples': 4, 'war-council': 1, 'artemis-fowl-jr': 1, 'packman': 1, 'chuck-norris': 1, 'paper-towns': 2, 'life-truths': 4, 'michelle-obama': 2, 'arthur-dent': 2, 'leftovers': 1, 'arya': 1, 'bark': 1, 'gendry': 1, 'crayons': 1, 'beth': 1, 'derek': 1, 'landy': 1, 'highlight': 1, 'jacin': 1, 'dark-side': 1, 'alexia-tarabotti': 1, 'morticia-addams': 2, 'psychosis': 1, 'vyvyan': 1, 'reardon': 1, 'the-paris-review': 1, 'wisecracks': 1, 'jamie-roth': 1, 'the-retribution-of-mara-dyer': 1, 'rats': 7, 'humor-fear': 3, 'passion-for-life': 5, 'passion-for-living': 3, 'name-calling': 3, 'incident': 1, 'pepsi': 1, 'sadie': 1, 'sadie-kane': 1, 'throne-of-fire': 1, 'walt': 1, 'julia-quinn': 3, 'gibe': 1, 'clara-gardner': 1, 'tucker-avery': 1, 'brainwashing': 9, 'godmothers': 1, 'political-correctness': 4, 'sarcasim': 1, 'hp4': 1, 'pete': 1, 'wentz': 1, 'sparkles': 1, 'a-woman-of-no-importance': 2, 'sanya': 2, 'comic': 2, 'eeyore': 2, 'octavian': 1, 'cyclops': 1, 'groin': 1, 'you-ll-completely-understand-why': 1, 'dudley-dursley': 2, 'platonic': 2, 'wink': 1, 'fat': 5, 'maia': 2, 'comebacks': 2, 'funkalicous': 1, 'harrison': 1, 'lisi': 1, 'massie': 2, 'republic': 3, 'morelli': 2, 'philisophical': 4, 'political-commentary': 1, 'public-office': 2, 'chubs': 1, 'narcissus': 2, 'changed': 1, 'kate-daniels': 2, 'charlie-brown': 3, 'peanuts': 1, 'villians': 1, 'beka-cooper': 1, 'harmlessness': 1, 'tortall': 1, 'fifty-shades-of-grey': 2, 'louis-armstrong': 1, 'dalí': 1, 'mustache': 1, 'natsuki-takaya': 3, 'shigure': 2, 'full-metal-alchemist': 1, 'keefe-sencen': 1, 'keeper-of-the-lost-cities': 1, 'foreign-countries': 1, 'traffic': 1, 'macabre': 2, 'plagiarism': 1, 'hygiene': 1, 'hearts-at-stake': 1, 'gone-with-the-wind': 2, 'prick': 1, 'rude-quote': 1, 'schoolboy-quote': 1, 'witty-comebacks': 1, 'ninja': 4, 'bar-guide': 1, 'actors': 8, 'archetypes': 2, 'comedic': 3, 'differences': 16, 'personality-types': 2, 'traits': 2, 'types': 1, 'gone-series': 4, 'skateboarding': 1, 'thievery': 2, 'mammals': 2, 'hogfather': 2, 'important-lessons': 1, 'note': 1, 'lunatics': 1, 'kai': 3, 'naps': 1, 'lemony-snicket': 3, 'postmodern': 3, 'etienne-st-clair': 1, 'perry': 1, 'roar': 1, 'a-good-girls-guide-to-murder': 1, 'real-men': 1, 'spelling': 2, 'cigarettes': 1, 'smoke': 1, 'stubborn': 6, 'superpower': 1, 'unexpected-humor': 1, 'brienne-of-tarth': 1, 'star-trek': 5, 'tv-reference': 2, 'hotel-rooms': 1, 'hotels': 1, 'room-service': 1, 'sobriquet': 2, 'anna-and-the-french-kiss': 1, 'anna-oliphant': 1, 'embarrassing': 2, 'st-clair': 1, 'horror-movies': 1, 'killers': 1, 'boy_meets_boy': 1, 'all-time-low': 1, 'ford-prefect': 2, 'bridget-jones': 1, 'humor-relationships': 4, 'misattributed-to-shakespeare': 1, 'potions': 1, 'severus-snape': 1, 'nereids': 1, 'party-ponies': 1, 'bishop': 1, 'myrnin': 12, 'the-heroes-of-olympus': 4, 'cozies': 2, 'cozy-mysteries': 2, 'mysteries-cozy': 2, 'whodunit': 2, 'women-sleuths': 2, 'michael-carpenter': 1, 'bitterblue': 3, 'po': 2, 'vee-sky': 1, 'book-evie': 1, 'spoonerism': 1, 'accents': 1, 'medusa': 1, 'comedians': 1, 'demetri-martin': 1, 'shot': 5, 'ethan-wate': 2, 'sombre-mood': 1, 'pissed-off': 1, 'sugar-daddy': 1, 'ice-fishing': 1, 'skiing': 1, 'snow-camping': 1, 'snowboarding': 1, 'punctuation': 2, 'mr-collins': 1, 'chapter-6': 1, 'perfect-chemistry': 1, 'camp-jupiter': 1, 'polybotes': 1, 'terminus': 1, 'book-blogging': 1, 'tricking': 2, 'musical-taste': 1, 'musicians': 4, 'arguments': 9, 'loudness': 1, 'inner-voice': 14, 'alcoholism': 4, 'contracts': 3, 'elitism': 2, 'annoyed': 1, 'leave-a-note': 1, 'one-night-stand': 1, 'lords-of-the-underworld': 5, 'cabot': 1, 'meg': 1, 'piracy': 1, 'traditional': 1, 'pack': 1, 'anorexia': 1, 'arsonist': 2, 'arsonists': 1, 'bulimia': 1, 'depressives': 1, 'druggie': 1, 'junkies': 1, 'manic-depression': 1, 'schizophrenics': 1, 'daemon': 1, 'mitch': 2, 'sissy': 2, 'model-t': 1, 'marvin': 3, 'no-remorse': 1, 'kansas': 1, 'ships': 4, 'newspaper': 1, 'rita-skeeter': 1, 'empty-nest': 1, 'subtlety': 2, 'tolkien': 4, 'bad-sport': 1, 'fishing': 2, 'balls': 2, 'cojones': 2, 'conform': 3, 'conforming': 2, 'courageousness': 2, 'facades': 5, 'fit-in': 2, 'gallantry': 4, 'guts': 9, 'hardihood': 2, 'herself': 2, 'intrepidity': 2, 'killed': 3, 'moxie': 2, 'murdered': 2, 'oneself': 2, 'orange': 2, 'peoples': 4, 'persons': 2, 'pluck': 2, 'pluckiness': 2, 'pretender': 2, 'pretenders': 2, 'produce': 3, 'spunk': 2, 'standout': 2, 'themselves': 2, 'true-grit': 2, 'valour': 2, 'late': 2, 'tardy': 1, 'karrin-murphy': 3, 'leanansidhe': 1, 'molly-carpenter': 4, 'charlotte-branwell': 1, 'henry-branwell': 1, 'a-song-of-ice-and-fire': 1, 'a-storm-of-swords': 1, 'game-of-thrones': 3, 'carter-kane': 1, 'kane-chronicles': 1, 'female-genitalia': 1, 'katsa': 1, 'disgusting': 1, 'connotations': 1, 'word-association': 1, 'bones-and-cat': 1, 'aris': 1, 'newt': 1, 'thomas': 2, 'plato-and-platypus': 1, 'mornings': 3, 'top-8': 1, 'luc': 1, 'dresden': 3, 'storm_front': 1, 'blue-blood': 1, 'nobel-peace-prize': 1, 'science-fiction-movie': 1, 'reassurance': 3, 'phones': 1, 'texting': 2, 'noah-czerny': 1, 'chores': 1, 'housekeeping': 2, 'adolescence': 3, 'ella-varner': 1, 'jack-travis': 1, 'bromance': 2, 'jem': 1, 'whitney-houston': 1, 'self-deprecation': 1, 'leo-i-love-you-ok': 1, 'fabian': 1, 'vampire-mythology': 1, 'violet': 4, 'virals': 1, 'evie': 2, 'dragon-blood': 1, 'aftermath': 4, 'freaking-out': 1, 'hickey': 1, 'making-out': 1, 'santa': 2, 'blow-job': 1, 'giving-and-receiving': 1, 'sloth': 3, 'label': 4, 'colin': 1, 'lindsey': 1, 'grey-hair': 1, 'guillotine': 1, 'venom': 5, 'totalitarianism': 6, 'seeing-dogs': 1, 'astrid-ellison': 1, 'sam-temple': 1, 'maze-runner': 2, 'scorch-trials': 3, '1882': 1, 'misattributed-to-yogi-berra': 1, 'quote-investigator': 2, 'werewolves': 5, 'asshole': 2, 'kick-ass': 1, 'jordan-kyle': 1, 'mermaids': 2, 'not-funny': 1, 'kenji-kishimoto': 1, 'kyo': 1, 'burned': 1, 'awesomesauce': 3, 'ninjas': 1, 'minho': 2, 'old-ladies': 1, 'shanks': 1, 'eloquence': 2, 'fatherhood': 7, 'cod': 2, 'photography': 12, 'asimov': 1, 'rebuttal': 1, 'zealots': 1, 'the-summoning': 1, 'pronunciation': 1, 'end-of-the-world': 3, 'bladders': 1, 'william': 1, 'put-downs': 4, 'rumors': 22, 'cult': 5, 'great-intellect': 1, 'stephen-fry': 1, 'amberwood-prepatory': 1, 'dhampirs': 1, 'lockers': 1, 'schol': 1, 'trey-juarez': 1, 'gallagher-girl': 2, 'macey-mchenry': 1, 'zach-goode': 1, 'rhage': 2, 'menstration': 1, 'periods': 1, 'alcoholic': 1, 'substance-abuse': 1, 'monkeys': 2, 'absurdist': 1, 'night-embrace': 1, 'talon': 1, 'dani-o-malley': 1, 'lor': 1, 'ryodan': 1, 'john-cleaver': 1, 'rob': 1, 'scrabble': 1, 'bullets': 5, 'gun-control': 2, 'food-groups': 1, 'super-powers': 1, 'ayame': 1, 'yuki': 2, 'err': 2, 'feline': 1, 'purr': 1, 'purring': 1, 'robert-byrne': 1, 'solangelo': 1, 'will-solace': 1, 'alliteration': 1, 'hair-drama': 1, 'ex': 1, 'book-clubs': 2, 'ranger-s-apprentice': 1, 'bushism': 1, 'james-patterson': 1, 'angela': 1, 'hilary-duff': 1, 'mozart': 1, 'reed-pipe': 1, 'raven-boys': 4, 'the-raven-cycle': 1, 'dieting': 5, 'leif': 1, 'yelena': 2, 'ezra-mason': 1, 'counting': 1, 'ford-anyone': 1, 'jessica-trent': 2, 'bellybutton': 1, 'tuck': 1, 'adrian': 1, 'archer': 2, 'archer-cross': 2, 'mercer': 1, 'spell-bound': 3, 'mafia': 3, 'little-brother': 1, 'kell': 1, 'lila': 1, 'bitches': 1, 'barbecue': 1, 'bbq': 1, 'shane-collins': 7, 'bethany-church': 1, 'molly': 1, 'ally-carter': 2, 'henson': 4, 'snark': 3, 'book-character': 1, 'kids-books': 1, 'elevator': 1, 'sam-levenson': 1, 'holy-book': 1, 'holy-religion': 1, 'fans': 1, 'bind': 1, 'cal': 1, 'devour': 1, 'georgina-kincaid': 1, 'nin': 1, 'nine-inch-nails': 1, 'sassy': 3, 'herd-mentality': 4, 'mass-media': 1, 'mindlessness': 1, 'sheep-mentality': 1, 'sheeple': 1, 'contagious': 2, 'contagiousness': 1, 'kid': 1, 'kids-funny': 1, 'mischief': 1, 'mischievous': 1, 'rascal': 1, 'suspicious': 1, 'double-entendre': 3, 'ferro': 1, 'faythe': 1, 'rogue': 3, 'vincent': 2, 'vlad-tepesh': 1, 'fablehaven': 1, 'trespassing': 1, 'psychiatrist': 3, 'symptoms': 1, 'charley': 1, 'silly-quotes': 1, 'aiden': 1, 'no-mercy': 1, 'old-testament': 3, 'aristippus': 2, 'diogenes': 4, 'voluntary': 2, 'malachi': 1, 'goose': 1, 'isi': 2, '1738': 2, 'second-amendment': 1, 'parking': 1, 'brick-wall': 1, 'dumb-people': 1, 'vampire-boyfriend': 1, 'algernon': 1, 'incentive': 2, 'grapes': 1, 'riffles': 1, 'finnick-odair': 1, 'lynn': 1, 'uriah': 1, 'spoiler': 2, 'atlantis': 1, 'birthmarks': 1, 'night-huntress': 1, 'arrianne': 1, 'pizza-love': 1, 'happy-end': 1, 'labor-union': 1, 'attacking': 2, 'abbreviations': 1, 'emoticons': 1, 'internet-slang': 1, 'ghost-town': 11, 'michael-glass': 5, 'rachel-caine': 11, 'eragon': 1, 'urgals': 1, 'typewriters': 1, 'jared': 1, 'stephenie-meyer': 1, 'the-host': 1, 'commercialism': 1, 'core': 2, 'core-of-the-soul': 1, 'core-values': 3, 'mm': 2, 'rockstar': 2, 'sarcastic': 1, 'sarcastic-humor': 1, 'sarcastic-quotes': 1, 'yaoi': 1, 'philosofy': 1, 'scorpius-malfoy': 1, 'misheard-words': 2, 'euphemisms': 1, 'tina-reber': 1, 'grimalkin': 1, 'pranks': 1, 'betting': 1, 'fluffy': 1, 'bush-sucks': 1, 'the-morganville-vampires': 1, 'butch-vishous': 1, 'vishous-vampire': 1, 'classy': 1, 'dead-people': 1, 'waking-up': 4, 'hat': 1, 'ranger': 5, 'from-a-book': 1, 'mike-davis': 1, 'battle-of-the-sexes': 2, 'dreams-of-a-dark-warrior': 1, 'gollum': 1, 'regin': 1, 'magnus-chase': 1, 'tattoos': 4, 'evanovich': 1, 'plum': 1, 'stephanie-plum': 1, 'michael-grant': 1, 'plague': 3, 'harper-price': 1, 'insane-in-the-membrane': 1, 'sushi': 1, 'silliness': 2, 'trickery': 1, 'cartoon': 1, 'heathen': 1, 'malachi-wolfe': 1, 'brian-fitzgerald': 1, 'firefighting': 1, 'kate-fitzgerald': 1, 'lykae': 1, 'fetish': 1, 'rachel-morgan': 1, 'funny-as-hell': 2, 'funny-stuff': 2, 'humor-work': 2, 'writers-block': 2, 'writing-philosophy': 2, 'kira': 1, 'mencheres': 1, 'douglas-adams': 1, 'monty-python': 1, 'book-club-fiction': 1, 'eve-rosser': 4, 'explosion': 1, 'army': 8, 'harvard': 1, 'yale': 1, 'closeness-to-nature': 1, 'elvis': 2, 'religious-beliefs': 2, 'tell-off': 1, 'pronounciation': 1, 'mirrors': 5, 'demonica': 1, 'smurfs': 1, 'snoring': 1, 'serpent': 2, 'mary-s-night-light': 1, 'mutated-sheep': 1, 'nonmetallic-conductivity': 1, 'witty-quotes': 8, 'secret-society': 1, 'underpants': 1, 'advertising': 2, 'mark-twain': 2, 'prince-maxon': 1, 'butch': 1, 'hypocrite': 2, 'nut': 1, 'squid': 1, 'dani-alexander': 1, 'shattered-glass': 1, 'first-paragraph': 1, 'sarah-maclean': 1, 'the-season': 1, 'be-better': 1, 'comments': 2, 'give-people-space': 1, 'google-plus': 1, 'hidden-agendas': 4, 'jabs': 1, 'listen-more': 1, 'open-wall': 1, 'posting': 1, 'run-away': 1, 'wakeup-call': 1, 'hostage': 1, 'georgia': 1, 'southern': 6, 'aralorn': 1, 'masques': 1, 'horcrux': 1, 'best-plot-ever': 1, 'funnier-than-hell': 1, 'romance-authors': 1, 'ian': 1, 'dobby': 1, 'ren': 2, 'tink': 1, 'hurricanes': 1, 'hunters': 1, 'ransom': 1, 'buffy-the-vampire-slayer': 5, 'moon-man': 1, 'wales': 1, 'welsh': 1, 'twinkies': 1, 'pre-nup': 1, 'eona': 2, 'dysfunctional-families': 3, 'producing': 1, 'rehab': 2, 'screenwriting': 1, 'wishful-drinking': 1, 'deity': 9, 'deliverance': 4, 'holy-religions': 1, 'penalty': 1, 'kelsey-about-ren-and-kishan': 1, 'iq': 2, 'garet': 1, 'leg': 1, 'abduction': 1, 'modern-youth': 1, 'insult-to-a-werewolf': 1, 'declan': 1, 'social-awkwardness': 4, 'star-trek-references': 1, 'p-522': 1, 'tessa-grey': 1, 'bum-rag': 1, 'divination': 2, 'sybill-trelawney': 1, 'lettie-hatter': 1, 'sass': 1, 'changeling': 1, 'misattributed-terry-pratchett': 1, 'double-standard': 2, 'fairness-of-life': 2, 'pigs': 2, 'cranks': 1, 'rose-took-my-nose': 1, 'the-scorch-trials': 1, 'fade-out': 1, 'comic-strips': 1, 'dracula': 4, 'exploring': 3, 'diana-wynne-jones': 1, 'howl': 1, 'howl-s-moving-castle': 2, 'chicklit': 1, 'bigger-picture': 2, 'cookie': 1, 'figurative': 1, 'foreknowledge': 3, 'literal': 1, 'prudence': 5, 'boch': 1, 'pseudonymous': 1, 'pandora-hearts': 1, 'xerxes-break': 1, 'knucklehead': 1, 'moms': 1, 'darla': 1, 'humorous-quoations': 1, 'gina-barreca': 1, 'arriane': 2, 'luce': 1, 'emails': 1, 'make-a-point': 1, 'zed': 1, 'intimidation': 3, 'pony-lover': 1, 'bad-writing': 1, 'housework': 1, 'lore': 1, 'myst': 1, 'nikolai-wroth': 1, 'the-warlord-wants-forever': 1, 'twisted': 1, 'ichiruki': 1, 'fanstastic': 1, 'amy-cahill': 1, 'collect': 1, 'dan-cahill': 1, 'tonks': 1, 'counting-sheep': 1, 'extreme-sports': 1, 'jeffery-gardner': 1, 'unusual-mother': 1, 'presidency': 2, 'all-s-well-that-ends-well': 1, 'ass': 2, 'braggart': 1, 'bragging': 2, 'parroles': 1, 'tarot': 2, 'fuck': 1, 'alice-in-wonderland-reference': 1, 'robin-goodfellow': 1, 'iko-funny': 1, 'presents': 1, 'stick': 2, 'valkyrie-cain': 1, 'wisdom-vs-nerdiness': 2, 'jeeves': 1, 'victor-borge': 1, 'condescending': 2, 'anne-of-green-gables': 2, 'socks': 1, 'rachel': 1, 'trent': 1, 'cahill': 1, 'colfer': 1, 'colony': 1, 'eoin': 1, 'sassiness': 1, 'tuesday': 1, 'wednesday': 1, 'week': 3, 'crushing-on': 1, 'kaidan': 1, 'honor-s-splendour': 1, 'julie-garwood': 1, 'bureaucracy': 2, 'cecily-herondale': 1, 'gabriel-lightwood': 1, 'p-541': 1, 'on-the-jellicoe-road': 1, 'marked': 1, 'plumber': 1, 'dental': 1, 'self-defense': 2, 'assertions': 1, 'friendzone': 1, 'zee': 1, 'ce-nedra': 1, 'prince-kheldar': 1, 'undertakers': 1, 'anita-blake': 3, 'knitting': 3, 'hindsight': 6, 'weaponry': 1, 'mercedes': 1, 'stephanie': 1, 'cabal': 1, 'johannes': 1, 'necromancer': 1, 'shepherd-s-pie': 1, 'wikipedia': 1, 'rock-music': 1, 'detroit-tigers': 1, 'ty-cobb': 1, 'skepticisim': 1, 'miki': 1, 'billy-borden': 1, 'soulless': 4, 'berries': 1, 'hairstyle': 2, 'cupcakes': 1, 'iris': 3, 'skyclan': 1, 'rock-and-roll': 3, 'innate-wisdom': 1, 'dentist': 1, 'the-patriotic-murders': 1, 'farting': 2, 'roald-dahl': 1, 'the-bfg': 1, 'everything-is-illuminated': 1, 'drawings': 3, 'ruskin': 3, 'spandex': 1, 'mating': 1, 'graham': 2, 'hackers': 2, 'painters': 5, 'queen-victoria': 1, 'shifters': 1, 'walker': 3, 'ike': 1, 'finnick': 1, 'holly-short': 1, 'first-person': 1, 'camping': 1, 'evernight': 1, 'stargazer': 1, 'lucien': 1, 'cupcake': 1, 'trash-talk': 1, 'programming': 5, 'peers': 1, 'margaret-stohl': 1, 'failure-relationship': 1, 'travel-writing': 2, 'jeaniene': 1, 'timmie': 1, 'kelsey': 1, 'amazons': 1, 'r-j-palacio': 1, 'pancakes': 1, 'torin': 2, 'misanthrope': 1, 'ax': 1, 'green-day': 4, 'mediator-series': 1, 'meg-cabot': 1, 'hunter-zaccadelli': 1, 'tricks': 1, 'life-sucks': 2, 'like-me': 1, 'vee': 1, 'beaurocracy': 1, 'technophobes': 1, 'fireball': 1, 'nine': 1, 'raffe-and-penryn': 1, 'peter-rabbit': 1, 'indiviualism': 1, 'the-last-olympian': 1, 'dee-ann': 1, 'ric': 1, 'talking-to-yourself': 1, 'tanith-low': 1, 'dwarf': 2, 'passalos': 1, 'zipper': 1, 'bet-me': 1, 'jennifer-crusie': 1, 'hawke': 1, 'sienna': 1, 'civil-war': 3, 'philip-h-sheridan': 1, 'texas': 1, 'nakedness': 1, 'hard-boiled': 1, 'philip-marlowe': 1, 'raymond-chandler': 2, 'precautions': 1, 'spies': 3, 'commentary': 3, 'recursion': 1, 'alien-romance': 1, 'rhett': 1, 'lord-varys': 1, 'hats': 1, 'war-crimes': 1, 'mustaches': 1, 'funny-haha': 1, 'saiman': 1, 'irrelevance': 4, 'spenser': 1, 'ellie': 1, 'shane': 1, 'effacement': 1, 'effacement-quotes': 1, 'humorous-quotations': 1, 'obesity': 2, 'de-montaigne': 1, 'alarm-clocks': 1, 'carlo-maria-giulini': 1, 'schubert': 1, 'symphony-no-7-schubert': 1, 'vienna-philharmonic': 1, 'grandma-mazur': 1, 'love-life': 3, 'mr-nobley': 1, 'lara-raith': 1, 'improbable': 3, 'thurber': 1, 'adam-and-mercy': 1, 'bone-crossed': 1, 'alexander-the-great': 1, 'you-got-told': 1, 'toads': 1, 'conception': 1, 'boots': 1, 'kaladin': 2, 'shallan-davar': 1, 'betrothal': 1, 'levana-s-reation': 1, 'kayla': 1, 'roth': 1, 'white-hot-kiss': 1, 'eccentricity': 2, 'wayfinding': 1, 'intellectuals': 4, 'lecture': 3, 'transcendentalism': 2, 'antoine-de-saint-exupery': 1, 'the-little-prince': 2, 'aging-well': 1, 'bruce-lee': 4, 'censor': 3, 'social-anxiety': 6, 'tao': 8, 'anchoring': 2, 'irrevocability': 1, 'permanence': 3, 'fragment-52': 2, 'heraclitus': 12, 'alanna': 1, 'tamora-pierce': 1, 'mentors': 2, 'galt': 11, 'taggart': 10, 'radical-feminism': 3, 'blind-faith': 6, 'christian-faith': 1, 'christian-miracle': 1, 'critical-thought': 1, 'death-of-reason': 1, 'doubt-is-sin': 1, 'foundation-of-belief': 1, 'resurrection-of-jesus': 1, 'wasted-life': 1, 'christian-living': 27, 'muad-dib': 4, 'nominalism': 1, 'temple': 7, 'pudge': 1, 'misattributed-milton-friedman': 1, 'misattributed-robert-a-heinlein': 1, 'tanstaafl': 1, 'tanstafl': 1, 'bhagavad-gita': 3, 'ganges': 1, 'priest': 5, 'reverence': 6, 'vishnu': 2, 'awful': 3, 'holistic-health': 2, 'secular-ethics': 6, 'mujō': 1, '無常': 1, 'first-lines': 3, 'slave': 10, 'tutelage': 2, 'ant-christ': 1, 'going-home': 2, 'home-going': 2, 'killed-in-the-line-of-duty': 2, 'spiritual-nature': 2, 'spiritual-philosophy': 4, 'victims-of-gun-violence': 2, 'victims-of-war': 2, 'war-victims': 2, 'adapt': 4, 'angel-poetry': 2, 'quotes-by-aberjhani': 5, 're-birth': 2, 'piano': 1, 'lifelong-learning': 7, 'the-stranger': 2, 'wafare': 1, 'sense-of-self': 2, 'post-modernism': 3, 'catholic-spirituality': 2, 'henry-bergson': 1, 'handeln': 2, 'self-righteousness': 6, 'majority-v-minority': 2, 'true-purpose': 3, 'hermits': 1, 'reclusion': 2, 'eastern-philosophy': 3, 'above-and-beyond': 1, 'gandalf': 7, 'being-and-time': 1, 'creepy': 3, 'bastiat': 1, 'libertarian': 13, 'philosophy-of-people': 1, 'ancient-china': 4, 'ancient-chinese': 4, 'conquers': 2, 'marcus-aurelius': 4, 'tokyo-ghoul': 1, 'toilets': 1, 'marx': 2, 'relevance': 5, 'tony-judt': 1, 'catholic-philosophy': 1, 'zen-buddhism': 4, 'the-fall': 1, 'gully-foyle': 2, 'motivational_for_the_unmotivated': 1, 'offend': 1, 'fairy-gift': 1, 'doughnuts': 1, 'obscurantism': 1, 'abbe-faria': 2, 'beautiful-personatlity': 3, 'communicators': 3, 'givers': 5, 'giving-heart': 3, 'homeless-tent-community': 3, 'marine-life-conservation': 3, 'outward-beauty': 3, 'people-of-action': 3, 'real-people': 3, 'search-and-rescue': 3, 'takers': 3, 'creative-thinking': 4, 'apologize': 4, 'repeat-mistakes': 3, 'discourse': 5, 'symbolic': 2, 'bead': 2, 'corporate-world': 5, 'meeting': 5, 'photographs': 6, 'photography-quotes': 3, 'pictures': 5, 'pragmatic': 6, 'wallpaper': 3, 'works': 13, 'ct-studd': 2, 'teaism': 1, 'philosohers': 1, 'internal-conflict': 1, 'jesus-shock': 25, 'woman-s-charm': 2, 'concentration-camps': 3, 'victor-frankl': 2, 'kierkegaard': 7, '1953': 1, '1958': 1, 'critical-theory': 7, 'economics-philosophy': 2, 'theodicy': 1, 'secularity': 1, 'friedrich-nietzche': 16, 'tonight': 1, 'biased': 4, 'come-to-life': 1, 'concept': 3, 'consent-to': 1, 'dispel': 1, 'disturbing': 4, 'forsaken': 1, 'ignored': 6, 'piece-of-art': 1, 'raise-questions': 1, 'sometimes': 3, 'talk-to': 1, 'a-tale-of-two-cities': 2, 'charles-dickens': 3, 'dickens': 2, 'sydney-carton': 3, 'schopenhauer-as-educator': 2, 'puzzle': 3, 'measure-for-measure': 1, 'teddy': 1, 'humanity-and-society': 9, 'man-s-inhumanity-to-man': 1, 'police-reform': 5, 'police-shootings': 5, 'stop-killing-each-other': 2, 'wearedallas': 1, 'wearehumanity': 1, 'out-of-my-mind': 1, 'outrageous': 1, 'lucretius': 4, 'secret-of-life': 1, 'self-giving': 1, 'schopenhauer': 7, 'epictetus': 7, 'lucidity': 1, 'bourgeois-society': 1, 'nether-world': 1, 'sorcerer': 2, 'spells': 1, 'banaschar': 1, 'hellian': 1, 'malazan-book-of-the-fallen': 2, 'sergeant': 1, 'the-bonehunters': 1, 'wrongdoing': 2, 'russell-brand': 2, 'health-care': 3, 'health-care-system': 1, 'reference': 3, 'split-mind': 1, 'citizens': 4, 'civil-liberty': 2, 'free-country': 2, 'speculative': 1, 'nagel': 1, 'born-alone': 2, 'certain': 3, 'certainly': 3, 'die-alone': 2, 'live-alone': 2, 'lonely-quotes': 2, 'german': 2, 'novella': 1, 'red-grouse-tales': 1, 'retribution': 1, 'birth-date': 2, 'birthdate': 2, 'birthdays': 2, 'update': 2, 'slavoj-zizek': 1, 'first-principles': 1, 'tao-te-ching': 5, 'lamp': 4, 'unpredictability-of-life': 1, 'friedrich-nietzsche': 20, 'milan-kundera': 14, 'neitzsche': 13, 'اجتماع': 13, 'جنس': 13, 'علم-نفس': 13, 'فلسفة': 14, 'فلسفة-حياة': 13, 'كائن-لا-تحتمل-خفته': 13, 'ميلان-كونديرا': 13, 'نيتشه': 13, 'nature-of-love': 1, 'p248': 1, 'anarcho-capitalism': 4, 'ancap': 2, 'collectivism': 1, 'nazis': 1, 'psychopath': 3, 'statism': 10, 'excess-love': 1, 'saved-souls': 2, 'the-cross': 1, '18th-century': 1, 'rousseau': 1, 'pumpkin': 1, 'harsh-truth': 1, 'flux': 4, 'house-md': 2, 'a-force-for-good': 2, 'be-remembered': 2, 'benevolence-quotes': 2, 'bio': 2, 'character-development': 2, 'character-development-advice': 2, 'death-and-love': 3, 'food-for-thoughts': 2, 'grieving-quotes': 2, 'how-you-treat-others': 2, 'how-you-treat-people': 2, 'how-you-want-to-be-remembered': 2, 'in-general': 2, 'inspirational-speakers': 4, 'inspriational-thoughtful': 2, 'lead-from-within': 3, 'leadership-traits': 4, 'leadership-vs-management': 4, 'learning-to-live': 2, 'legacy-life-lessons': 2, 'legacy-of-love': 2, 'legacy-of-service': 2, 'legacy-quotes': 3, 'life-lessons-life': 2, 'life-lessons-life-reason': 3, 'life-lessons-spiritual-wonder': 4, 'life-lessons-value-of-truth': 2, 'life-lessons-wisdom': 3, 'live-with-your-bio-in-mind': 2, 'live-your-life-mission': 3, 'live-your-life-to-the-fullest': 2, 'live-your-own-life': 2, 'mind-body-spirit-author': 2, 'motivational-speakers-quotes': 2, 'people-inspire-people': 2, 'play-fair': 2, 'respect-others': 2, 'service-to-mankind': 2, 'something-to-think-about': 2, 'who-are-you-really': 2, 'women-authors': 3, 'women-leaders': 2, 'kannadasan': 1, 'greek-history': 1, 'quakers': 1, 'dinner-table': 3, 'family-time': 3, 'kitchen-philosophy': 3, 'kitchen-table': 3, 'parliament': 3, 'spending-time-with-family': 3, 'true-wisdom': 4, 'unpretentious': 3, 'nursery-rhyme': 1, 'captivity': 1, 'animal-instinct': 2, 'intelligent-men': 2, 'man-is-clever': 2, 'distribute': 1, 'distribution': 1, 'experimental': 1, 'esoterism': 1, 'foucault': 4, 'the-history-of-sexuality': 3, 'dune': 2, 'equal-rights': 5, 'assess': 3, 'assessment': 2, 'evaluate': 2, 'dressing': 3, 'فلسفة-ألمانية': 1, 'carswell-thorne': 1, 'jacin-clay': 1, 'kaito': 1, 'esthetics': 1, 'drizzt': 1, 'ease': 2, 'uncreated': 1, 'handicapped': 1, 'social-sciences': 2, 'assortments': 2, 'america-remembers': 2, 'multiculturalism': 4, 'multiculturalismo': 2, 'multiculturalità': 3, 'national-history-day': 5, 'rebith': 2, 'rejuvenation': 4, 'remembering-september-11': 3, 'teaching-diversity': 4, 'businessmen': 2, 'stray-birds': 1, 'liberalism': 8, 'social-institutions': 2, 'ascendancy': 2, 'considerateness': 2, 'deference': 2, 'dominion': 3, 'gentility': 2, 'good-breeding': 2, 'good-manners': 2, 'hold': 2, 'jurisdiction': 2, 'leverage': 3, 'polite': 5, 'supremacy': 4, 'tactfulness': 2, 'urbanity-tact': 2, 'mahakavi': 2, 'monopoly': 1, 'political-economy': 1, 'political-freedom': 1, 'zamanism': 1, 'body-weight': 2, 'calories': 2, 'cheese': 2, 'chef': 2, 'cold-drink': 2, 'culinary': 2, 'eating-out': 2, 'food-channel': 2, 'foodie': 2, 'foodies': 2, 'glass-of-wine': 2, 'glutton': 2, 'lose-calories': 2, 'love-food': 2, 'lunch': 5, 'oily': 2, 'protein': 2, 'pungent': 2, 'red-wine': 2, 'salty': 2, 'single-malt': 2, 'spices': 2, 'weight-gain': 2, 'whisky': 2, 'white-wine': 2, 'appoint': 2, 'appointment': 2, 'employees': 3, 'hiring': 2, 'hr': 2, 'human-resource': 2, 'human-resources': 3, 'mangement': 2, 'workman': 4, 'workmanship': 4, 'angry-people': 3, 'angry-young-man': 2, 'being-cool': 2, 'matters': 2, 'stopping': 4, 'things-that-matter': 4, 'hitchihikers': 1, 'captain-jean-luc-picard': 1, 'civilize': 1, 'under-the-sun': 1, 'institution': 1, 'viktor-frankl': 1, 'karl-marx': 2, 'adagia': 1, 'higher-order': 1, 'illegal': 1, 'mutilation': 1, 'preaching': 8, 'repay': 1, 'wail': 1, 'writhe': 1, 'hewitt': 1, 'jennifer': 1, 'middle-path': 2, 'middle-way': 2, 'the-middle-path': 2, 'the-middle-way': 2, 'bano-qudsiyah': 1, 'hasil-ghat': 1, 'urdu-literature': 1, 'individual-rights': 2, 'objective-law': 1, 'regulation': 1, 'volition': 1, 'digression': 1, 'bill-hicks': 1, 'greatest-happiness-principle': 1, 'utility': 1, 'borderline': 1, 'bpd': 1, 'personality-disorders': 1, 'actresses': 1, 'ghazzali': 1, 'birthright': 3, 'contradict': 3, 'dividing': 3, 'find-truth': 3, 'hypocrites': 5, 'lead': 11, 'multiply': 3, 'philosophies': 3, 'religious-contradiction': 3, 'skepticism-of-religion': 5, 'white': 6, 'the-way': 4, 'ancient-philosophy': 2, 'limits-of-philosophy': 1, 'public-education': 2, 'public-school': 2, 'good-intentions': 2, 'imprisonment': 2, 'police-state': 1, 'totalitarian': 1, 'atlas': 1, 'foce': 1, 'dresden-files': 1, 'ayn': 1, 'rand': 1, 'realism-truth': 1, 'relativism': 9, 'talk-is-cheap': 5, 'fabrication': 4, 'fabrications': 3, 'flatter': 2, 'culture-critique': 3, 'educational-system': 3, 'black-elk': 1, 'real-world': 2, 'mid-west': 1, 'cruel-world': 2, 'inhumanity': 2, 'many': 3, 'living-creature': 3, 'philosophical-humor': 1, 'questions-in-life': 3, 'austrian-economics': 1, 'austrian-school-of-economics': 3, 'coercion': 2, 'free-markets': 3, 'death-with-interruptions': 1, 'rockstars': 1, 'layman': 1, 'modeling': 3, 'photos': 3, 'centeredness': 2, 'copy': 3, 'imitate': 3, 'moral-values': 2, 'professional': 3, 'professionalism': 2, 'tactic': 2, 'french-literature': 3, 'jean-paul-sartre': 1, 'the-age-of-reason': 1, 'the-roads-to-freedom': 1, 'public-service': 2, 'simone-de-beauvoir': 2, 'the-second-sex': 2, 'non-aggression-principle': 2, 'stockholm-syndrome': 1, 'sartre': 2, 'schopenhauer-quotes': 1, 'chandler': 1, 'ooze': 1, 'andrea': 1, 'booze': 1, 'european-history': 1, 'narcotics': 1, 'blaise': 1, 'pascal': 2, 'bow': 3, 'stubbornly': 2, 'shifting-demographics': 1, 'sociological-imagination': 1, 'world-community': 1, 'sectarianism': 4, 'upanishad': 1, 'open-society': 1, 'beyond-words': 2, 'social-system': 1, 'inconsistency': 2, 'actions-speak-louder-than-words': 4, 'global-citizen': 8, 'picking-sides': 4, 'political-party': 2, 'right-and-wrong': 18, 'standing-upthinking': 2, 'son-of-god': 1, 'sonlight': 1, 'god-s-grace': 11, 'sacraments': 3, 'nihilism-quotes': 2, 'borders': 8, 'globalism': 1, 'nationalism-vs-globalism': 2, 'libido': 1, 'nationalism-quotes': 1, 'nations-quotes': 1, 'genetic-engineering': 1, 'hedonistic-imperative': 1, 'wisdom-words': 2, 'family-quotes': 1, 'philosophical-musings': 5, 'spirituality-of-imperfection': 1, 'apotheosis': 2, 'katherine-solomon': 1, 'the-human-mind': 1, 'neoplatonism': 2, 'confucianism': 1, 'confucius': 1, 'hermeneutics': 5, 'phsychology': 1, 'jeremy-bentham': 1, 'gnosis': 2, 'the-mind': 3, 'dark-thoughts': 1, 'spell-check': 1, 'dysfunction': 1, 'modern-relationships': 1, 'machinic': 1, 'philisophical-life': 3, 'philisophical-love': 1, 'and-utopia': 1, 'state': 2, 'brahman': 4, 'merging': 1, 'nirguna': 1, 'nirguna-brahman': 1, 'non-duality': 5, 'saguna': 1, 'saguna-brahman': 1, 'upanishads': 2, 'veda': 1, 'vedantism': 1, 'bahasa-indonesia': 1, 'dunia-sophie': 1, 'decree': 1, 'lincoln': 3, 'bertrand-russell': 2, 'why-i-am-not-a-christian': 1, 'christlessness': 1, 'christology': 1, 'heroics': 1, 'assignment': 2, 'associate': 2, 'closing-deal': 2, 'deal': 3, 'laborer': 2, 'labourer': 2, 'serviceman': 2, 'worker': 3, 'fictional': 2, 'narrow': 1, 'shallow': 1, 'chinese-philosophy': 1, 'blogs': 1, 'charity-organizations': 1, 'counselors': 1, 'documentary': 2, 'freethinkers': 2, 'healers': 1, 'health-careers': 1, 'magnify-your-talents': 1, 'newspapers': 4, 'preachers': 1, 'psychologists': 1, 'public-speakers': 1, 'therapists': 1, 'websites': 1, 'philsopher': 1, 'psycoanalysis': 1, 'non-sequitur': 1, 'leftists': 1, 'americana-novel': 1, 'robert-mccrum': 1, 'p194': 3, '2005': 2, 'troublemakers': 1, 'tom-hamilton': 1, 'black-cat': 1, 'looking': 6, 'misattributed-h-l-mencken': 1, 'theologian': 1, 'untruth': 5, 'untruthful': 1, 'emancipation': 2, 'african': 3, 'in-public': 1, 'private': 2, 'satirist': 1, 'satirists': 1, 'seem': 1, 'south-african': 2, 'stoics': 1, 'thinker': 3, 'algeria': 1, 'sensitize': 2, 'kassam': 5, 'blue-sargent': 1, 'encyclopedia': 1, 'richard-gansey-iii': 1, 'status-anxiety': 1, 'reasonable': 2, 'chatter': 3, 'insincerity': 5, 'incompetence': 2, 'ironical': 2, 'articulate': 4, 'articulation': 4, 'ice-breaking': 2, 'prophesy': 2, 'prophetic': 3, 'be-not-ashamed': 3, 'callings': 3, 'college-degree': 3, 'debates': 6, 'do-the-right-thing': 6, 'educated': 4, 'einstein-s-life': 3, 'fabricated-quotes': 3, 'knowing-history': 3, 'lame': 3, 'peity': 3, 'self-righteous': 5, 'unfair-high-standards': 3, 'worthyness': 4, 'complaining-about-others': 1, 'judging-others': 3, 'mind-your-own-business': 1, 'people-in-glass-houses': 1, 'cosmic-consciousness': 4, 'maltese': 4, 'sanskrit': 2, 'concsiousness': 2, 'nietzche': 3, 'the-gay-science': 3, 'dark-elves': 2, 'future-present': 3, 'series': 4, 'charlatan': 1, 'lauryn-hill': 2, 'avocation': 2, 'b-boying': 2, 'club': 2, 'dance-routine': 2, 'dancing-shoes': 2, 'disco': 2, 'dj': 2, 'feets': 2, 'foot': 4, 'jumping': 3, 'night-life': 2, 'experiential': 1, 'apparel': 2, 'born-with': 2, 'catwalk': 2, 'clothes-quotes': 2, 'cosmetics': 2, 'costume': 2, 'dressing-sense': 2, 'dude': 2, 'face-cream': 2, 'fashion-designer': 6, 'fashion-industry': 2, 'fashion-quotes': 3, 'fashion-statement': 2, 'fashions': 2, 'garments': 2, 'god-given': 2, 'kitty-party': 2, 'make-fun-of': 2, 'make-up': 2, 'makeover': 2, 'old-fashioned': 2, 'outfit': 2, 'outfits': 2, 'page-3': 2, 'ramp': 2, 'trending': 2, 'racial-politics': 1, 'best-advice': 1, 'jeet-kune-do': 1, 'best-colors': 1, 'best-days-of-my-life': 1, 'debasish-mridha-md': 27, 'miraboli': 5, 'paint-the-rest-of-my-days': 1, 'business-networking': 2, 'linkedin': 2, 'network-marketing': 2, 'networking-skills': 3, 'pr': 2, 'public-relations': 2, 'acceleration': 1, 'directionless': 1, 'anarchism': 7, 'neo-situationism': 2, 'post-left-anarchy': 2, 'situationist-international': 2, 'conundrums': 1, 'groundhog-day': 1, 'tiresias': 1, 'ব-পদ': 1, 'covert-operations': 1, 'early-years': 1, 'high-risk': 1, 'memorial': 1, 'memorial-day': 1, 'pilot': 1, 'sacrificial-love': 1, 'spy': 2, 'contemporary-society': 3, 'lack-of-understanding': 1, 'modernity-is-sickness': 1, 'hume': 3, 'outlier': 1, 'parasites': 1, 'pink-floyd': 1, 'inflicted-guilt': 1, 'personality-market': 1, 'human-mortality': 3, 'girl-interrupted': 1, 'defiance': 5, 'george-carlin': 1, 'dilemma': 1, 'zack-w-van': 2, 'christian-history': 1, 'hypatia-of-alexandria': 1, 'divided': 4, 'human-body': 2, 'human-race': 5, 'mend': 4, 'races': 6, 'resonate': 1, 'save-the-earth': 1, 'save-the-planet': 1, 'sick': 3, 'unite': 4, 'united': 11, 'world-change': 1, 'maleness': 2, 'postmodernism': 7, 'military-science': 1, 'resistance-theory': 1, 'angel-at-the-time-of-need': 1, 'dearest-friend': 1, 'freedom-of-expression': 3, 'chaos-magic': 1, 'chaos-magick': 1, 'peter-j-carroll': 1, 'white-knight': 1, 'human-interaction': 1, 'acquiring': 2, 'alike': 3, 'as-good-as': 2, 'common-knowledge': 2, 'common-sense-quotes': 2, 'comparable': 2, 'compare': 2, 'distinguish': 2, 'general-sense': 2, 'geniuses': 4, 'indifferentiable': 2, 'indistinguishable': 2, 'knowledgeable': 4, 'never-quotes': 2, 'similar': 4, 'big-brother': 1, 'orwell': 1, 'farming': 6, 'p126': 2, 'a-good-man-is-hard-to-find': 1, 'espanol': 1, 'antinatalism': 5, 'emotional-pain': 2, 'nonexistence': 1, 'sophocles': 1, 'affirmations_for_dying': 1, 'life_affirming': 1, 'lost-then-found': 1, 'second-chance': 5, 'book-review': 1, 'norman-mailer': 1, 'omnibenevolence': 1, 'tribalism': 2, 'abuse-survivors': 4, 'epic-fantasy': 3, 'high-fantasy': 2, 'brethren': 1, 'literary-fantasy': 1, 'album': 2, 'background-music': 2, 'background-score': 2, 'concert': 2, 'drums': 2, 'guitar': 2, 'instruments': 2, 'michael-jackson': 2, 'music-director': 2, 'music-industry': 2, 'music-quotes': 3, 'playing': 3, 'tune': 2, 'care-of-the-soul': 1, 'become': 8, 'cease': 3, 'atlantic': 2, 'atlantico': 2, 'atras': 2, 'audrey': 3, 'barco': 2, 'crucero': 2, 'cruiser': 2, 'ebook': 2, 'libro': 3, 'mar': 2, 'mirar': 2, 'misterio': 2, 'norte': 2, 'novela': 2, 'shelves': 2, 'titanic': 2, 'spared': 1, 'again': 1, 'revel': 1, 'sinking': 2, 'twilight-quote': 1, 'memories-of-summer': 1, 'sandy-beach': 1, 'summer-love': 1, 'write-our-memories': 1, 'lion': 9, 'relgion': 4, 'antropologia': 1, 'scince-of-man': 1, 'my-ishmael': 2, 'chapter': 5, 'interstellar': 4, 'time-warp': 4, 'zeigarnik': 4, 'emma': 2, 'mr-knightley': 1, 'wisdom-in-fiction': 2, 'self-perfection': 1, 'self-surrender': 3, 'living-together': 2, 'courage-to-love': 1, 'peacism': 4, 'september-9-11': 1, 'syrian-war': 1, 'ukraine': 9, 'waging-peace': 1, 'war-in-iraq': 1, 'francis-of-assisi': 1, 'lady-poverty': 1, 'saint-francis': 1, 'st-francis-of-assisi': 3, 'troubadour': 2, 'all-is-water': 2, 'aqua': 2, 'creek': 2, 'droplet': 2, 'lake': 6, 'pool': 2, 'purify': 2, 'rainwater': 2, 'renew': 2, 'resurrect': 3, 'seas': 3, 'shalt': 2, 'thou': 2, 'vapour': 2, 'waterway': 2, 'chemical-imbalance': 2, 'immorality': 2, 'instability': 2, 'mental-patient': 2, 'mentally-ill': 2, 'pharisee': 2, 'repentance': 10, 'self-worship': 3, 'meaning-making': 2, 'question-everything': 3, 'gracious': 1, 'materialistic': 1, 'stages': 2, 'transforming': 1, 'diarykeeping': 1, 'athiesm': 3, 'kabir': 1, 'jostein-gaarder': 1, 'the-orange-girl': 1, 'assiduous': 2, 'conscientious': 2, 'cricket': 3, 'diligent': 2, 'indefatigable': 2, 'industrious': 3, 'keen': 2, 'painstaking': 2, 'persevering': 2, 'sedulous': 2, 'soccer': 2, 'sportsman': 2, 'studious-energetic': 2, 'sweating': 2, 'tireless': 2, 'unflagging': 2, 'untiring': 2, 'zealous': 2, 'bad-influence': 2, 'exaggeration': 4, 'false-prophets': 3, 'half-truth': 2, 'mendacity': 2, 'sugar-coated': 2, 'european': 1, 'cultural-criticism': 2, 'decline-of-civilization': 1, 'dialectics': 2, 'the-dialectic-of-enlightenment': 1, 'the-enlightenment': 1, 'the-west': 1, 'borges': 1, 'post-structuralism': 2, 'evangelism': 14, 'public-discourse': 1, 'shrubbery': 1, 'cyndi-goodgame': 1, 'body-mind': 1, 'inscription-on-any-tomb': 1, 'dadt': 2, 'budo': 2, 'forget-the-past': 2, 'hope-in-healing': 2, 'illness-quotes': 3, 'inspiration-through-illness': 2, 'quotes-for-illness': 2, 'quotes-for-strength': 2, 'warrior-spirit': 2, 'think-better': 1, 'arranged-marriage': 3, 'arranged-marriages': 2, 'engagement-and-wedding-rings': 2, 'engagement-ring': 2, 'first-night': 2, 'indian-wedding': 2, 'kick-boxing': 2, 'marriage-fights': 2, 'shaadi': 2, 'shadi': 2, 'agricultural-revolution': 2, 'agriculturalist': 2, 'agro': 2, 'crops': 2, 'farm': 3, 'farm-animals': 2, 'farm-land': 2, 'farmer': 5, 'in-the-sun': 2, 'indian-farmer': 2, 'kisan': 2, 'magician': 3, 'shetkari': 2, 'sow': 3, 'air-force': 2, 'armed-forces': 2, 'bilateral': 3, 'cannon': 2, 'casualties': 3, 'ceasefire': 2, 'drones': 2, 'hard-power': 2, 'injuries': 2, 'invasion': 2, 'military-operations': 2, 'navy': 2, 'pow': 3, 'prisoner-of-war': 2, 'soft-power': 2, 'surgical-strikes': 2, 'tanks': 2, 'treaty': 2, 'uav': 2, 'unmanned-aerial-vehicles': 2, 'world-war': 4, 'active': 1, 'spectator': 1, 'bigot': 5, 'patronizing': 2, 'racist': 2, 'body-language': 2, 'ears': 3, 'hear': 3, 'hearing': 6, 'listening-skills': 3, 'listening-to-others': 2, 'robin-hobb': 2, 'royal-assassin': 1, 'depiction': 2, 'apple-computer-inc': 2, 'forbidden-fruit': 1, 'laptop': 1, 'mac': 2, 'macintosh': 1, 'original-sin': 2, 'steve-jobs': 4, 'semiotics': 3, 'ilyas': 1, 'tyler': 3, 'blaise-pascal': 1, 'immanuel-kant': 1, 'kant': 5, 'pascal-s-wager': 1, 'gadget': 1, 'moral-strength': 1, 'robin-hard-revised-translation': 1, 'attachment-parenting': 1, 'gentle-parenting': 1, 'parenting-tip': 1, 'positive-parenting': 1, 'preschoolers': 1, 'toddlers': 1, 'irresponsible': 1, 'agnostics': 3, 'anti-theism': 4, 'existential-psychology': 1, 'unschooling': 1, 'chuck-palahniuk': 1, 'irreverence': 1, 'leto-ii': 1, 'susan-barton': 1, 'ontological-oxymoron': 1, 'oxymoron': 2, 'wikileaks': 2, 'conclusion': 2, 'creativitiy': 1, 'p69': 2, 'salman-rushdie': 1, 'childfree': 1, 'frank-gaspar': 1, 'good-author': 1, 'great-author': 1, 'mg-hardie': 1, 'daddy': 2, 'mummy': 4, 'strengthening': 2, 'temper': 2, 'easiest': 2, 'everyday': 4, 'everyday-quotes': 2, 'ernest-becker': 1, 'escape-from-evil': 1, 'spinoza': 5, 'cops': 1, 'predation': 1, 'sheepdog': 1, 'argue': 3, 'arguement': 3, 'peace-maker': 3, 'peace-making': 31, 'peace-on-earth': 35, 'peace-quote': 6, 'doubt-quotes': 2, 'doubting-mind': 4, 'camera': 2, 'cinematography': 1, 'film-theory': 1, 'plot': 3, 'the-arts': 1, 'abused-recovery': 2, 'abused-women': 2, 'codependent': 2, 'quotes-on-relationships': 4, 'recovery-from-abuse': 3, 'austin': 1, 'ordinary-language': 1, 'busy-doing-things': 1, 'existensialism': 1, 'farce': 1, 'groundlessness': 1, 'being-different-quotes': 3, 'self-actualisation': 2, 'experimental-physics': 1, 'mind-blowing': 1, 'dancing-with-beauty': 1, 'life-is-magical': 3, 'identity-crisis': 4, 'understanding-life': 5, 'augustus-caesar': 1, 'civil': 1, 'natural-piety': 1, 'piety': 6, 'moving-on-and-letting-go': 5, 'defend': 2, 'defense': 6, 'defensiveness': 3, 'introspective': 5, 'circle-of-life': 1, 'creation-of-the-universe': 1, 'humourous': 4, 'husserl': 1, 'meeting-jesus': 1, 'shock': 2, 'downtown': 7, 'law-school': 6, 'literature-writing': 2, 'philosophy-religion': 1, 'disturb': 2, 'disturbed': 2, 'p128': 2, 'eastern-orthodox': 1, 'chapter-30': 1, 'krsna': 1, 'mature': 1, 'matured': 1, 'mix': 2, 'mixing': 1, 'mixture': 1, 'new-wine': 1, 'old-wine': 1, 'dominate': 1, 'take-decision': 1, 'impress': 2, 'critique-of-judgment': 1, 'fear-of-death': 2, 'inner-self': 8, 'familiarity': 1, 'the-theory-of-46-be-s': 1, 'the-will-to-power': 2, 'carrion': 2, 'the-problem-of-socrates': 2, 'shunya': 1, 'workers': 2, 'working-class-america': 1, 'pc': 1, 'safe-space': 1, 'trigger-warning': 1, 'childhood-abuse': 2, 'erikson': 1, 'midnight-tides': 1, 'udinaas': 1, 'coexistence': 2, 'interfaith': 9, 'interfaith-dialogue': 3, 'possibilities-of-flying': 1, 'possiblity-of-failing': 1, 'pll': 2, 'pretty-little-liars': 3, 'relateable': 2, 'sara-shepard': 3, 'summer-and-winter': 1, 'summer-is-for-surrendering': 1, 'winter-is-for-wondering': 1, 'heart-touching-beauty': 1, 'magical-journey': 1, 'more-or-less': 2, 'logical-fallacies': 1, 'iliad': 2, 'fantasies': 2, 'life-issues': 1, 'problems-of-today': 1, 'mike': 1, 'wodehouse': 2, 'definition-of-stress': 1, 'fear-of-change': 1, 'never-be-cruel': 1, 'no-one-deserves-cruelty': 1, 'bigots': 2, 'narrow-mindedness': 3, 'subject': 3, 'subject-matter': 2, 'gavin': 1, 'connectivity': 1, 'em-forster': 1, 'forster': 1, 'where-angels-fear-to-tread': 1, 'law-and-order': 3, 'free-thinkers': 1, 'intellects': 1, 'animism': 2, 'monotheism': 1, 'unprovable': 1, 'untestable': 1, 'classical-liberalism': 1, 'social-contract': 1, 'أوديب': 1, 'الجنس': 1, 'الطفولة': 1, 'سيغموند': 1, 'عقدة': 1, 'علم-النفس': 1, 'self-identity': 2, 'unlimited-beauty': 2, 'unlimited-goodness': 2, 'unlimited-love': 2, 'unlimited-truth': 2, 'bodiless': 1, 'relegion': 1, 'osho-rajneesh': 1, 'dissapearence': 1, 'continuance': 1, 'black-history-month': 1, 'harlem-renaissance': 1, 'jazz-age': 1, 'american-indian': 2, 'isaiah-berlin': 1, 'japanese-fiction': 2, 'human-systems': 1, 'light-hearted': 2, 'pet': 1, 'kevin-j-anderson': 2, 'amelioration': 1, 'run-on-sentence-award': 1, 'ancient-history': 1, 'civilizations': 1, 'native-americans': 2, 'anne-carson': 1, 'decreation': 1, 'javascript': 1, 'software-development': 1, 'radical-orthdodoxy': 1, 'horticulture': 1, 'agi': 1, 'lamda': 1, 'ni': 1, 'bamboo': 1, 'oriental': 1, 'zheng-banqiao': 1, 'qliphoth': 1, 'achieve-success': 1, 'help-someone': 1, 'lift-the-burdens-of-others': 1, 'egyptianism': 1, 'ask-questions': 4, 'awakened-heart': 2, 'awakened-soul': 2, 'awakening-mind': 2, 'inquiring': 2, 'knowledge-power': 3, 'light-quotations': 2, 'light-quotes': 4, 'popular-opinion': 5, 'right-questions': 2, 'seek-truth': 3, 'seeker': 3, 'seeking-answers': 3, 'seeking-truth': 8, 'transcedental': 2, 'after-marriage': 2, 'in-laws': 2, 'mother-in-law': 2, 'wedding-marriage': 2, 'karmayogi': 2, 'precedence': 2, 'taking-steps': 2, 'enjoy-the-moment': 1, 'soul-blooming-like-spring': 1, 'musing': 2, 'playful-thinking': 1, 'buen-lector': 1, 'el-collar-de-la-paloma': 1, 'leer': 1, 'ortega-y-gasset': 1, 'prologo': 1, 'opportunity-to-grow-your-love': 1, 'reflection-of-untold-stories': 1, 'unexpressed-emotions': 1, 'unheard-songs-of-life': 1, 'unseen-beauties': 1, 'boomerang': 2, 'planar': 2, 'wise-quotes': 8, 'adversity-and-winners': 1, 'discourages-losers': 1, 'losers': 2, 'know-your-inner-being': 1, 'life-is-a-game-love': 1, 'play-it-with-love': 1, 'door-of-opportunity': 3, 'doors-of-opportunity': 4, 'have-confidence': 1, 'heart-and-soul': 2, 'my-heart-can-see-your-love': 1, 'my-soul-can-feel-your-touch': 1, 'what-makes-you-beautiful': 2, 'clones': 3, 'consumers': 2, 'shocker': 2, 'weed': 3, 'bookreading': 2, 'drug-use': 1, 'energetic': 3, 'excite': 2, 'old-aged': 2, 'targets': 3, 'youth-age': 2, 'versatility': 1, 'antagonist': 3, 'anti-hero': 3, 'antihero': 2, 'devalue': 2, 'discourage': 2, 'protagonist': 3, 'stand-up': 16, 'sufficient': 2, 'villain': 2, 'thoughts-to-die-for': 1, 'young-adult-fantasy': 3, 'philosophical-fragments': 1, 'simone-weil': 3, 'kodex': 1, 'samurai': 2, 'buddhism-is-not-what-you-think': 1, 'paternalism': 1, 'interpersonal-communication': 2, 'surreptitious-meaning': 1, 'dorothy': 2, 'activistm': 1, 'examined-life': 3, 'noetics': 1, 'shot-of-faith-to-the-head': 1, 'sociality': 1, 'subversive': 1, 'something-to-ponder': 1, 'crazy-in-love': 1, 'absolutism': 1, 'baron-of-tieve': 1, 'inspitational': 3, 'indifferent': 1, 'chomsky': 1, 'tropic-of-capricorn': 1, 'jasnah': 1, 'victim-blaming': 1, 'negligence': 2, 'hilarity': 1, 'dissolution': 1, 'self-abandonment': 1, 'ficino': 1, 'blog-quotes': 2, 'savannah-poet-aberjhani': 1, 'capitalization': 1, 'dew-platt': 7, 'stockings': 1, 'fantasy-fiction': 4, 'indonesian': 3, 'broad': 1, 'enduring': 7, 'elea': 1, 'eleatic': 1, 'zeno': 2, 'grand-narratives': 2, 'islamic-fundamentalism': 2, 'islamic-terrorism': 2, 'islamism': 2, 'philosophical-scepticism': 2, 'western-world': 2, 'cioran': 1, 'charter-for-compassion': 1, 'global-community': 1, 'w-e-b-du-bois': 1, 'vedic': 1, 'haste': 3, 'billionaire': 1, 'warren-buffett': 1, 'relaxing': 1, 'humility-quotes': 2, 'mao': 1, 'gods-plan': 6, 'conscientious-objector': 1, 'space-war': 1, 'travel-quotes': 1, 'characteristica-universalis': 1, 'english-translation': 1, 'human-behaviors': 1, 'philosophical-sy': 1, 'systematization': 1, 'darth-plagueis': 1, 'bible-verses': 4, 'arya-stark': 1, 'episode-7': 1, 'mocking-bird': 1, 'season-4': 1, 'educación': 1, 'futuro': 1, 'galeano': 1, 'uruguay': 1, 'astronism': 1, 'astronomical': 1, 'philosophy-of-astronomy': 1, 'wings-of-faith': 2, 'make-the-universe-joyful': 1, 'dew': 1, 'softness': 1, 'female-vulnerability': 1, 'memories-of-love': 1, 'sweetest-memories': 1, 'remote': 1, 'own-your-own-mind': 1, 'broken-creed': 1, 'metaphysical-quotes': 2, 'what-is-real': 3, 'enjoying-the-journey': 2, 'walk-of-life': 1, 'veil-of-perception': 1, 'one-world': 3, 'peaceful-world': 4, 'poet-philosophy': 3, 'political-poem': 3, 'undivided': 3, 'loss-of-faith': 4, 'power-of-the-subconscious-mind': 3, 'ancestry': 2, 'asia': 2, 'background': 3, 'bharat': 2, 'bloodline': 3, 'breed-dynasty': 2, 'cousin': 2, 'derivation': 2, 'extraction': 2, 'family-name': 2, 'family-tree': 3, 'fraternity': 2, 'genealogy': 2, 'indian-author': 2, 'indian-families': 2, 'indians': 2, 'kin': 2, 'kith': 2, 'last-name': 2, 'last-name-quote': 2, 'line-of-descent': 2, 'lineage': 3, 'parentage': 2, 'pedigree': 2, 'stock': 2, 'uncle': 2, 'make-the-whole-world-beautiful': 1, 'someone-appreciates-it': 1, 'tremendous-power': 1, 'abstract': 3, 'moon-in-your-sky': 1, 'live-in-peace': 1, 'talk-about-love': 1, 'what-we-have-doesn-t-matter': 1, 'anissa-julien': 2, 'anissa-s-redemption': 2, 'michael': 2, 'the-syrian-virgin': 2, 'war-romance': 2, 'zack-love': 2, 'causes': 3, 'abundant-mentality': 1, 'what-is-abundance': 1, 'short-poems': 4, 'find-opportunities': 1, 'learn-from-your-past': 1, 'anthropocenterism': 1, 'new-hopes': 1, 'paganis': 2, 'philosophy-of-life-mind': 1, 'muddled': 1, 'cognitive-unconscious': 1, 'limits-of-thought': 1, 'bonding': 2, 'evan': 1, 'heeb': 1, 'lyrical': 1, 'sajak': 1, 'sapardi': 1, 'military-philosophy': 1, 'basic': 2, 'making-decisions': 1, 'arabspring': 1, 'dictators': 2, 'fetishism': 1, 'writers-writers-on-writing': 1, 'jacques-derrida': 1, 'rhetorical-questions': 1, 'islamic-sciences': 1, 'apologists': 1, 'argumentation': 3, 'bear': 2, 'counter': 1, 'counter-argument': 1, 'evangelism-apologetics': 1, 'theologians': 3, 'human-experience': 4, 'cartooning': 1, 'spit': 1, 'divine-consciousness': 1, 'existentialist': 1, 'regretting': 1, 'crises': 1, 'gift-economy': 1, 'societies-in-transition': 1, 'shamelessness': 1, 'hegel': 1, 'innovative': 2, 'artsy': 1, 'being-practical': 1, 'keep-your-feet-on-the-ground': 1, 'oven': 1, 'lifehack': 1, 'beccaria': 1, 'crimes-and-punishments': 1, 'nature-of-men': 1, 'romances': 1, 'waking-life': 1, 'finite': 2, 'finitude': 1, 'philosophical-quotations': 2, 'global': 2, 'occupy-wall-street': 1, 'intangible': 3, 'businesses': 1, 'fields': 2, 'industries': 1, 'studies': 5, 'trunk': 1, 'closed-mindedness': 1, 'convenience': 2, 'ki': 4, 'nakamura-tempu': 4, 'shin-shin-toitsu-do': 4, 'mellow': 1, 'thoreau': 3, 'walden': 1, 'charles-tansley': 1, 'lily-briscoe': 1, 'epistomology': 1, 'personification': 2, 'reservations': 1, 'serving-god': 1, 'challenging': 4, 'challenging-authority': 1, 'deeper-thought': 1, 'rethinking': 1, 'reversal': 1, 'taught': 4, 'sound-mind-in-a-sound-body': 1, 'personalism': 1, 'personhood': 2, 'robots': 3, 'glasses': 1, 'protagora': 1, 'relative': 2, 'sophist': 1, 'to': 1, 'attorney': 1, 'lawyer': 1, 'clark': 1, 'mathematical-models': 1, 'action-adventure': 3, 'particularity': 1, 'filosofia': 1, 'política': 1, 'supreme-court': 1, 'irrealism': 1, 'angels-and-poets': 1, 'classic-authors': 1, 'the-river-of-winged-dreams': 1, 'spartan': 1, 'broad-mindedness': 1, 'crudeness': 1, 'like-mindedness': 1, 'persecution': 5, 'frederick-william-herschel': 1, 'friedrich-wilhelm-herschel': 1, 'wilhelm-herschel': 1, 'frankfurt': 1, 'c-s-lewis': 2, 'futurism': 1, 'rêve': 1, 'game-theory': 1, 'negotiations': 1, 'portable': 1, 'jeanjacquesrousseau': 1, '1965': 9, 'what-is-philosophy': 1, '1964': 1, 'gordon-roddick': 31, 'wisdom-contemplation': 12, '1963': 1, '38-degrees': 1, 'anita-roddick': 3, 'spinozism': 1, 'couple-quotes': 1, 'dating-quotes': 2, 'marriage-quotes': 2, 'baudrillard': 1, 'simulacra': 2, 'christianity-or-christians': 1, 'last-sunday': 1, 'rebranding-or-branding': 1, 'wisdom-or-motivational-quotes': 1, 'asian-american': 1, 'minorities': 1, 'dream-quotes-or-goal-quotes': 1, 'life-coach-or-life-lessons': 4, 'perception-or-reality': 1, 'think-or-thinking': 1, 'unseen-worlds': 1, 'choices-or-choose': 1, 'internet-or-technology-s': 1, 'repercussions-or-rewards': 1, 'social-media-or-trends': 1, 'southern-gothic': 1, 'william-faulkner': 1, 'bears': 2, 'novelette': 1, 'hate-or-hurt': 1, 'race-or-racism': 1, 'philanthropy-quotes': 1, 'seneca': 2, 'gilbert-perreira': 1, 'misattributed-oscar-wilde': 2, 'paraphrasing-g-k-chesterton': 1, 'misattributed-eleanor-roosevelt': 4, 'viereck-interview': 1, 'source-unknown': 1, '1970': 1, 'harry': 1, 'philosophers-stone': 1, 'sorcerers-stone': 1, 'charlie': 1, 'favourite-books': 1, 'wallflower': 1, 'musn-t': 2, 'shouldn-t': 2, 'won-t': 2, 'akeelah': 1, '1993': 2, 'misattributed-audrey-hepburn': 3, 'start-over': 3, 'winnie': 1, 'human-connections': 1, 'presidential': 3, 'nerdfighter': 1, 'ponder': 7, 'whole-being': 2, 'stay-focused': 6, 'step-out-of-comfort-zone': 2, 'reap': 1, 'reggae': 1, 'what-is-right': 4, 'be-yourself-quote': 4, 'enjoy-the-journey': 2, 'courage-quotes': 6, 'misattributed-grace-hopper': 1, 'misattributed-william-g-t-shedd': 1, 'flying-spirit': 11, 'winds': 4, 'winds-of-life': 4, 'vorkosigan': 1, 'rich-heart': 2, 'richness': 2, 'right-of-passage': 1, 'integrity-quotes': 4, 'stephen-chbosky': 1, 'the-perks-of-being-a-wallflower': 1, 'story-teller': 2, 'your-gift': 1, 'unhappy-life': 2, 'misattributed-goethe': 1, 'wisdom-in-life': 3, 'live-from-your-heart': 2, 'start-up': 9, 'ataraxy': 6, 'manhood': 4, 'moral-courage': 9, 'affirming': 2, 'letting-go-and-moving-on': 2, 'fight-club': 2, 'life-happiness': 1, 'general-obregon-s-philosophy': 2, 'mary-schmich': 1, 'sunscreen': 1, 'favourite-quote': 3, 'belief-in-self': 4, 'supernova': 3, 'self-containment': 2, 'listening-ear': 2, 'ahmadiyya': 1, 'tying-rocks-to-our-feet': 2, 'constructive-living': 1, 'mere-christianity': 1, 'my-psalm': 1, 'que-sera-sera': 2, 'cassie': 1, 'dream-comes-true': 4, 'cautionary': 2, 'sacredness': 2, 'sanctity': 3, 'wits': 1, 'industriousness': 2, 'a-little-princess': 1, 'frances-hodgson-burnett': 1, 'meredith-gentry': 2, 'kalam-cosmological-argument': 1, 'keep-calm': 3, 'stuck': 4, 'pith': 2, 'whistler': 2, 'pandorica-opens': 1, 'correcting': 1, 'parenting-children': 2, 'kindness-quotes': 6, 'reminding': 3, 'ally': 2, 'carter': 1, 'gallagher': 1, 'who-we-are': 3, 'keep-silent': 3, 'femininism': 1, 'naivety': 5, 'georgia-o-keeffe': 2, 'the-strength-of-a-woman': 1, 'true-strength': 1, 'english-poet': 1, 'great-quotes': 2, 'childhood-dream': 1, 'nightmares': 5, 'cheer-up': 4, 'fantasy-books': 2, 'reprimand': 1, 'personal-freedom': 1, 'a-beautiful-beginning': 1, 'a-new-beginning': 1, 'endings-and-beginnings': 1, 'life-experiences': 2, 'never-giving-up': 4, 'keeping-your-word': 1, 'hiphop': 1, 'soul-and-heart': 2, 'stir-your-soul': 2, 'indiviuality': 1, 'self-help-women': 1, 'bushido': 3, 'warrior-ethos': 3, 'warriorship': 3, 'impetus': 2, 'compensation': 2, 'life-s-journey': 6, 'the-journey': 4, 'two-wings': 4, 'mlk': 1, 'fulfilling-your-potential': 4, 'goodbye-cinderella': 2, 'personal-fulfillment': 2, 'personal-limits': 2, 'your-full-potential': 2, 'step-into-the-unknown': 2, 'dismiss': 2, 'c-toni-graham': 1, 'ya-author': 1, 'christian-values': 1, 'determined': 6, 'misattributed-bruce-lee': 1, 'oprah': 2, 'readers-and-writers': 1, 'reasons-for-reading': 1, 'hector-ricardo': 2, 'religon': 1, 'serenity-prayer': 1, 'hugging': 2, 'loving-choices': 2, 'courage-builder': 1, 'lean-in': 2, 'lord-of-the-rings': 5, 'middle-earth': 1, 'sam-gamgee': 1, 'antolini': 1, 'catcher-in-the-rye': 1, 'show-you-care': 2, 'misattributed-haruki-murakami': 1, 'follow-your-inner-voice': 2, 'follow-your-intuition': 2, 'gut-feeling': 2, 'listen-your-inner-voice': 2, 'the-sky-s-the-limit': 1, 'tom-hiddleston': 4, 'bill-gates': 2, 'instructional': 1, 'living-on-purpose': 2, 'reassuring': 1, 'respite': 2, 'just-one-day': 1, 'what-is-easy': 3, 'what-is-popular': 3, 'doubters': 4, 'make-a-difference': 4, 'stargirl': 2, 'angelfall': 1, 'susan-ee': 1, 'dicta': 3, 'enemies-and-opposition': 1, 'harvard-commencement-speech': 3, 'beaten': 1, 'betrayed': 5, 'challenged': 1, 'denied': 2, 'discouraged': 3, 'marvel': 6, 'marvel-comics': 6, 'stan-lee': 6, 'keep-your-promises': 4, '1969': 1, 'falling-apart': 1, 'botanists': 1, 'sportsmen': 1, 'matthew-fairchild': 2, 'i-am': 1, 'giftedness': 1, 'face-your-fears': 1, 'face-your-problems': 1, 'misattributed-carl-bard': 1, 'misattributed-dan-zadra': 1, 'misattributed-zig-ziglar': 1, 'idic': 1, 'rites-of-passage': 1, 'misattributed-plutarch': 1, 'we-hunt-the-flame': 2, 'mundane': 6, 'shape': 4, 'steven-king': 1, 'nikolai-lantsov': 4, 'xkcd': 2, 'starfish': 1, 'toltec-wisdom': 2, 'pride-and-prejudice': 1, 'focus-on': 2, 'rawness': 3, 'patriotic': 2, 'take-risks': 2, 'stand-by-me': 1, 'thug-life': 1, 'tupac': 1, 'care-enough': 4, 'a-w-tozer': 3, 'ages': 3, 'millenniums': 3, 'the-truth': 7, 'joining': 1, 'invest-in-yourself': 2, 'erudite': 1, 'samwise-gamgee': 1, 'alyssa': 1, 'splintered': 1, 'answer-to-life': 2, 'good-things': 3, 'key-to-life': 2, 'the-answer': 2, 'leading-by-example': 2, 'misattributed-to-jim-collins': 1, 'earn-it': 1, 'whining': 1, 'biographical': 3, 'andrew': 3, 'clements': 3, 'oxemoron': 3, 'bad-ass': 1, 'kevin-durant': 1, 'second-handers': 1, 'change-a-life': 1, 'lord-of-chaos': 1, 'military-quote': 1, 'one-more-dance': 1, 'robert-jordan': 1, 'black-and-white': 3, 'childishness': 3, 'greyness': 2, 'wrong-and-right': 2, 'bad-intentions': 1, 'spot': 1, 'validity': 1, 'anti-establishment': 1, 'kickass': 1, 'readiness': 3, 'resourcefulness': 1, 'christ-like': 3, 'divine-works': 3, 'god-like': 3, 'good-works': 5, 'sempre': 3, 'lao-tzu': 3, 'nausea': 1, 'grandpa-chet': 2, 'writing-inspiration': 1, 'advaita-vedanta': 3, 'eternal-life': 9, 'eternal-truths': 4, 'everyone-belongs': 3, 'global-oneness': 5, 'revolutionary': 3, 'aging-gracefully': 2, 'being-someone-else': 1, 'being-someone-else-you-are-not': 1, 'hating-yourself': 1, 'trying-to-be-like-someone-else': 1, 'laws-of-attraction': 3, 'the-rescue': 2, 'be-anything': 2, 'unbroken': 3, 'hamilton': 1, 'musicals': 1, 'courage-in-life': 2, 'inspirational-character': 1, 'proverv': 2, 'cultural': 1, 'intellectual-freedom': 1, 'be-strong': 3, 'stay-strong': 4, 'godard': 1, 'awakened-mind': 1, 'educator': 2, 'oddity': 2, 'idol': 3, 'so-true': 1, 'warbringer': 1, 'wonder-woman': 1, 'fourth-wing': 4, 'the-scorpio-races': 1, 'divinity-within': 3, 'flowering': 2, 'nourishing': 2, 'nourishment-of-soul': 3, 'human-desire': 3, 'just-around-the-corner': 3, 'skyscraper': 3, 'teardrops': 1, 'mortal': 3, 'chronic-illness': 3, 'it-could-be-worse': 1, 'les-brown': 11, 'being-passionate': 1, 'footprints': 3, 'keep-your-mind-open': 2, 'open-your-mind': 2, 'malibu-rising': 1, 'alter': 2, 'chain': 3, 'domino': 2, 'monumental': 2, 'reaction': 5, 'kpop': 4, 'rap-monster': 1, 'ruiz': 1, 'clumsiness': 1, 'end-violence': 1, 'love-myself': 1, 'unicef': 1, 'united-nations': 1, 'don-t-let-them': 1, 'opinons': 2, 'demi-lovato': 2, 'good-looks': 1, 'stupid-people': 1, 'american-dream': 3, 'watchmen': 1, 'unsung-heroes': 2, 'first-aid': 1, '7-7': 1, '77': 1, 'address': 1, 'allow': 5, 'commencement-address': 1, 'commencement-speech': 2, 'graduate': 1, 'graduation': 2, 'jim-carey': 1, 'jim-carrey': 1, 'maharishi': 1, 'maharishi-university': 1, 'mum': 4, 'pleaser': 1, 'pleasing-others': 1, 'shine-on': 1, 'sufferings': 2, 'body-positivity': 2, 'marathi': 2, 'napoleon-hill': 1, 'personal-faith': 1, 'lee-argus': 2, 'qoutes-to-live-by': 2, 'eastern-orthodoxy': 2, 'pure-science': 1, 'imaginary-friend': 1, 'fear-and-loathing': 1, 'bieber': 1, 'justin': 1, 'hindu': 1, 'do-what-thou-wilt': 2, 'thelema': 2, 'empathy-in-writing': 1, 'bright': 9, 'looking-for-love': 1, 'morrie': 1, 'tuesdays': 1, 'with': 1, 'initiation': 1, 'homelessness': 5, 'jaeda-dewalt': 1, 'enrique': 2, 'the-gilded-wolves': 3, 'futility': 8, 'it-will-all-turn-out': 1, 'proactivity': 2, 'cosmic-energy': 1, 'human-flourishing': 1, 'om-chanting': 2, 'om-meditation': 2, 'om-yoga': 1, 'damen': 1, 'damianos-of-akielos': 2, 'inspirational-love-family-loss': 1, 'quotes-for-women': 1, 'womens-inspirational': 1, 'responsibilities-towards-women': 1, 'woman-importance': 1, 'christy': 1, 'miller': 1, 'bullied': 3, 'confidence-and-attitude': 2, 'miracles-of-life': 2, 'nonduality-yoga': 2, 'oneness-with-life': 2, 'unity-consciousness': 2, 'graceful-attitude': 2, 'graceful-nature': 2, 'graceful-spirit': 2, 'equity': 1, 'robbins': 1, 'tony': 1, 'kahlan': 1, 'math-humor': 1, 'body-love': 1, 'zofia': 1, 'misattributed-to-stephen-king': 1, 'inspirational-romance': 1, 'realist': 6, 'sentimental': 4, 'faulkner': 1, '37-days': 1, 'emma-watson': 2, 'making-a-difference': 4, 'mourn': 2, 'confront': 3, 'covers': 1, 'bob-ong': 3, 'janet-fitch': 1, 'white-oleander': 1, 'tiffany-aching': 5, 'fascist': 1, 'bobby': 1, 'kennedy': 1, 'rfk': 1, 'robert-francis-kennedy': 1, 'anne': 1, 'be-there': 2, '1757': 1, 'lighthouse': 1, 'sailor': 4, 'warped': 2, 'undefeated': 2, 'give-in': 2, 'happen': 6, 'simple-quotes': 2, 'think-before-you-act': 2, 'canterbury-tales': 1, 'iron': 1, 'rust': 2, 'women-s-empowerment': 1, 'american-presidents': 3, 'gettysburg-address': 1, 'us-presidents': 2, 'lgbtqia': 2, 'team-internet': 1, 'haikyuu': 1, 'baruch-spinoza': 2, 'elegant': 1, 'the-piper-s-son': 1, 'laurent-of-vere': 1, 'someone-like-you': 1, 'compliments': 3, 'absolute-happiness': 1, 'supporters': 1, 'black-butler': 1, 'kuroshitsuji': 1, 'speak-now': 1, 'music-lyrics': 2, 'matter-of-fact': 1, 'deborah-moggach': 2, 'mediation': 1, 'singers': 1, 'alliance-for-progress': 2, 'latin-america': 2, 'latin-american-politics': 2, 'sanctification': 2, 'lasting-words': 1, 'tombstone-inscription': 1, 'wings-of-god': 1, 'unwavering': 1, 'school-of-life': 3, 'the-witch-of-portobello': 1, 'godly-woman': 2, 'spiderman': 1, 'emo-ish': 1, 'applys-to-me': 1, 'dr-horrible-sing-along-blog': 1, 'musical-song-lyrics': 1, 'awareness-quotes': 3, 'hafez': 2, 'khayyam': 2, 'saadi': 2, 'meditative': 1, 'the-alchemist': 1, 'motivatonal': 3, 'francis': 1, 'moïra-fowley-doyle': 3, 'staying-alive': 4, 'the-accident-season': 3, 'best-day': 2, 'ugly-truths': 2, 'akri': 1, 'make': 2, 'tyra-banks': 1, 'conformism': 2, 'albom': 1, 'have-a-little-faith': 2, 'swedish-proverb': 2, 'angsty': 1, 'volunteer': 1, 'volunteering': 1, 'volunteerism': 5, 'volunteers': 1, 'classical-greek': 1, 'lone-wolf': 6, 'life-gets-better': 1, 'looking-ahead': 1, 'past-experiences': 1, 'r-j-anderson': 1, 'ultraviolet': 1, 'susan-cain': 1, 'think-before-you-speak': 1, 'encourageing': 1, 'opportunity-temptation': 2, 'hafsah-faizal': 2, 'evenescence': 1, 'mister-rogers-neighborhood': 1, 'nothing-you-don-t-already-know': 1, 'class-distinction': 1, 'slytherin-inspiration': 1, 'pepperjack': 1, 'butts': 1, 'do-good': 2, 'overreaction': 2, 'god-s-love': 19, 'bushel': 2, 'defarge': 1, 'hope-life': 1, 'earthsea': 1, 'spacex': 1, 'onion-skins': 1, 'cherokee': 1, 'ellen-degeneres': 2, 'mark-gorman': 1, 'diamond-eyes': 1, 'sober-reflection': 2, 'sobriety-courage': 3, 'reagan': 1, 'choices-you-make': 1, 'the-fontainhead': 1, 'the-coward': 1, 'beautiful-chaos': 1, 'learn-people': 1, 'gemma-doyle': 2, 'brother-at-arms': 1, 'contention': 1, 'honest-to-a-fault': 1, 'honest-with-yourself': 1, 'critic': 3, 'beatitudes': 1, 'holden-caulfield': 2, 'mail': 1, 'possiblity': 1, 'bizarre': 2, 'flawed': 1, 'imgaine': 1, 'misattributed-frida-kahlo': 1, 'strangest': 2, 'think-strange': 1, 'world-believe': 1, 'unravel-me': 1, 'malala-yousafzai': 1, 'cheshire': 1, 'american-ts': 1, 'educated-voters': 1, 'political-education': 1, 'vote': 5, 'guarantees': 1, 'cutting': 2, 'paralysed': 1, 'quadriplegic': 1, 'cunning': 4, 'outwit': 3, 'lochan-whitely': 1, 'corporation': 3, 'fury': 2, 'mad-dogs': 1, 'plunder': 1, 'religious-bloodthirstiness': 1, 'religious-violence': 1, 'soudan': 1, 'turks': 1, 'chaos-walking': 1, 'patrick-ness': 2, 'the-knife-of-never-letting-go': 1, 'inner-thoughts': 1, 'devine': 3, 'unrest': 6, 'responsiveness': 1, 'ruin-and-rising': 1, 'ouabh': 2, 'insatiability': 1, 'deduction': 1, 'georgina': 1, 'politcal': 1, 'waiting-for-hope': 1, 'avada-kedavra': 1, 'duel': 1, 'elder-wand': 1, 'day-to-day': 2, 'inhibitions': 2, 'transport': 2, 'look-for-the-positive': 1, 'doom': 2, 'emilia': 1, 'ruta-sepetys': 1, 'salt-to-the-sea': 1, 'better-life': 2, 'running-away': 5, 'later': 3, 'advocates': 5, 'anxiety-attack': 5, 'anxiety-disorders': 6, 'arizona': 5, 'crime-and-punishment': 5, 'domestic': 5, 'domestic-abuse': 5, 'domestic-violence': 6, 'enable-abuse': 5, 'family-drama': 5, 'fighter': 6, 'hopeful-heart': 8, 'law-enforcement': 5, 'lawmakers': 5, 'panic-attack': 6, 'panic-attacks': 5, 'physical-abuse': 7, 'post-traumatic-stress': 5, 'powerless': 7, 'rape-culture': 5, 'rape-of-a-child': 5, 'rape-survivor': 5, 'raped': 5, 'red-tape': 5, 'sexual-abuse': 8, 'sexual-assault': 6, 'sexual-violence': 6, 'south': 6, 'survivors-of-abuse': 6, 'united-states-of-america': 8, 'violence-against-women': 5, 'fomo': 1, 'king-lear': 1, 'armor': 2, 'necklace': 3, 'selves': 4, 'genya-safin': 1, 'rule-of-wolves': 2, 'tamar-kir-bataar': 1, 'tolya-kir-baatar': 1, 'insignt': 1, 'insulation': 2, 'islands': 2, 'foresight': 2, 'immigration': 3, 'planting': 4, 'beautiful-darkness': 1, 'barack-obama': 4, 'amy-winehouse': 2, 'fallow': 2, 'point-of-no-return': 3, 'wasteland': 2, 'book-of-god': 13, 'find-god': 15, 'pandora-english': 1, 'pandora-s-box': 5, 'grim-reality': 1, 'crescent': 1, 'childrens-literature': 1, 'be-present': 2, 'black-women-quotes': 2, 'black-women-writers': 2, 'black-writers': 3, 'christian-writers': 2, 'faith-in-god': 56, 'love-stories': 3, 'perfectly-imperfect': 2, 'stories-of-a-polished-pistil': 2, 'cathedral': 1, 'dizzy': 2, 'to-ink-in': 1, 'to-pencil-in': 1, 'along-for-the-ride': 2, 'contingency': 1, 'live-on': 1, 'merely': 2, 'since': 1, 'smoke-signals': 1, 'wait-for': 2, 'blurry': 1, 'common-understanding': 1, 'entice': 2, 'footlights': 1, 'liven-up': 1, 'scorching': 1, 'sprinkle': 1, 'stage-of-life': 1, 'unfulfilled': 1, 'lord-byron': 3, 'surf': 1, 'surfing': 2, 'adventurous': 2, 'ebooks': 2, 'giving-all': 2, 'grace-willows': 2, 'saloons': 2, 'ultimate-love': 2, 'disapointment': 2, 'skeleton': 1, 'dare-to-dream': 9, 'invincibility': 1, 'wild-roses': 1, 'before-i-fall': 1, 'jenny-han': 1, 'nikolai-lanstov': 1, 'be-missed': 1, 'human-contact': 2, 'reinvent': 1, 'in-the-meantime': 1, 'aidan': 2, 'good-vs-evil': 3, 'declaration-of-independence': 1, 'resolves': 1, 'fragile': 3, 'lana-parrilla': 2, 'once-upon-a-time': 2, 'sign': 2, 'kjv': 5, 'right-on': 2, 'hold-still': 1, 'nina-lacour': 1, 'death-toll': 1, 'ground-zero': 1, 'mental-structure': 1, 'thinking-pattern': 1, 'vunerabality': 1, 'horizons': 2, 'sunniness': 1, 'lightworkers': 1, 'start-again': 1, 'dove': 1, 'freely': 1, 'ground': 2, 'lonesome': 1, 'trace': 1, 'cute-illustrations': 2, 'illustrations': 4, 'young-readers': 5, 'hopelessly-going-after-something': 1, 'empowered-women': 2, 'wise-women': 2, 'autoimmune-disease': 2, 'cyberbullying': 2, 'defamation': 3, 'feeling-deeply': 2, 'hacking': 2, 'loss-of-dignity': 2, 'loss-of-health': 2, 'loss-of-time': 2, 'lost-children': 2, 'mental-abuse': 2, 'misdiagnosis': 2, 'self-evaluation': 4, 'spiritual-abuse': 2, 'to-live': 2, 'tsloama': 4, 'years': 7, 'inspiration-through-art': 1, 'poor-in-spirit': 1, 'karl': 2, 'wild-guess': 1, 'pleasing-to-god': 2, 'easter': 7, 'loss-of-hope': 4, 'drifting': 2, 'answer-to-a-prayer': 1, 'be-kind-enough-not-to-get-angry': 1, 'be-kind-quotes': 1, 'be-kind-to-all': 2, 'be-kind-to-others': 2, 'be-kind-to-someone': 1, 'be-kind-today': 2, 'be-kinder': 1, 'be-the-change-quotes': 2, 'be-the-hero-you-can-t-find': 1, 'be-the-joy-of-others': 1, 'be-the-light': 1, 'be-the-light-in-someone-s-life': 1, 'be-the-light-quote': 1, 'be-the-light-quotes': 1, 'be-the-lighthouse': 1, 'being-kind': 1, 'being-kind-and-humble': 1, 'being-kind-to-your-fellow-woman': 1, 'change-the-world-quotes': 1, 'difference-maker': 1, 'difference-makers': 1, 'differences-between-people': 2, 'differences-of-people': 1, 'do-good-quotes': 1, 'exception-to-the-rule': 1, 'giving-back': 1, 'giving-help': 1, 'goodness-and-evil': 1, 'goodness-in-life': 2, 'goodness-strength': 2, 'help-others-find-happiness': 1, 'help-others-quotes': 1, 'help-quotes': 1, 'helping-hand': 2, 'humanity-quotes': 2, 'humanity-society': 1, 'inspirational-religious': 3, 'inspirational-speaker': 1, 'motivation-speakers': 1, 'necessary-quotes': 1, 'non-verbal-communication': 1, 'others-may-follow': 1, 'others-quotes': 1, 'raise-your-voice': 1, 'spread-hope': 1, 'spread-love': 1, 'spreading-peace': 2, 'spreading-sunshine': 1, 'transformational-speaker': 1, 'truth-inspirational': 7, 'universal-language': 1, 'universal-mind': 1, 'universal-truth-quotes': 1, 'universal-truths': 6, 'way-maker': 1, 'your-life-is-an-aspiring-story': 1, 'your-life-is-an-example': 1, 'potus': 1, 'lexi-ryan': 2, 'these-hollow-vows': 2, 'damaged': 1, 'damaged-souls': 1, 'empowering-quotes': 3, 'illness-and-hope': 3, 'strength-of-mind': 2, 'strength-of-will': 2, 'strength-quotes': 2, 'quixotic': 1, 'edna-pontellier': 1, 'kate-chopin': 1, 'mgg': 1, 'the-awakening': 1, 'attack-on-titan': 2, 'eren-jaeger': 2, 'chapter-1': 1, 'kelly-braffet': 1, 'last-seen-leaving': 1, 'page-18': 1, 'the-son-of-neptune': 2, 'hobbit': 1, 'sam': 4, 'rare-love': 2, 'hope-for-the-hopeless': 1, 'hopefulness': 11, 'keep-the-faith': 3, 'struggling': 2, 'weasels': 1, 'wei-wuxian': 1, 'world-changer': 1, 'pasolini': 1, 'benefits': 3, 'circle': 3, 'full': 4, 'overwhelm': 2, 'square': 2, 'brontes': 1, 'arthur-conan-doyle': 1, 'colorful': 3, 'colors-of-imagination': 1, 'darkness-rising': 1, 'thought-life': 1, 'thoughts-quotes': 1, 'walking-alone': 2, 'off-the-page': 1, 'fiction-vs-reality': 1, 'fiction-writing': 2, 'film-quote': 1, 'film-quotes': 2, 'mary-poppins': 1, 'movie-making': 1, 'movie-quote': 1, 'movie-quotes': 1, 'moviemaking': 1, 'pl-travers': 1, 'saving-mr-banks': 1, 'storyteller': 4, 'travers': 1, 'walt-disney': 1, 'why-i-read': 1, 'why-we-read': 1, 'why-write-fiction': 1, 'writer-inspiration': 1, 'peter-kreeft': 1, 'stray-kids': 2, 'deeper-understanding': 5, 'true-story': 6, 'transition': 5, 'true-life-events': 4, 'flies': 1, 'swallows': 1, 'swift': 1, 'falling-for': 1, 'holder': 2, 'soul-seeker': 1, 'aislinn': 1, 'keenan': 1, 'wicked-lovely': 1, 'was': 1, 'believe-it-can-happen': 1, 'claim-it': 1, 'doors-of-opportunities': 1, 'doors-open': 1, 'game-change': 1, 'game-changer': 1, 'game-changing': 1, 'god-is-able': 1, 'god-is-awesome': 2, 'god-open-doors': 1, 'gods-presence': 4, 'gods-will': 10, 'greatness-in-you': 1, 'greatness-is-upon-us-all': 1, 'greatness-lies-in-one-s-passion': 1, 'greatness-quote': 1, 'hope-quotes-philosophy': 1, 'inspiring-people': 1, 'it-can-happen': 1, 'its-coming': 1, 'keep-going-on': 2, 'keep-your-eyes-open': 1, 'life-quotes-fear-quotes': 1, 'life-quotes-women-life': 1, 'motivation-quotes': 2, 'new-chapter': 5, 'new-doors-opened': 1, 'new-start': 1, 'next': 2, 'next-level': 4, 'success-strategy': 1, 'successful-individuals': 1, 'thinking-positively': 2, 'this-year': 1, 'trust-and-believe': 1, 'watch-what-happens': 1, 'you-can-make-it': 1, 'you-must-believe-it': 1, 'your-vision': 1, 'pair': 2, 'hold-on': 5, 'no-matter': 2, 'inexperience': 3, 'make-a-move': 1, 'second-guess': 1, 'uncertain': 2, 'advice-for-life': 3, 'advice-for-men': 1, 'advice-for-women': 1, 'be-encouraged': 2, 'believers': 3, 'better-on-the-way': 1, 'breakthrough-experiences': 1, 'breakthrough-is-coming': 1, 'breakthrough-quote': 1, 'do-it-anyway': 1, 'encouragement-today': 2, 'future-focused': 1, 'hang-in-there': 1, 'hang-in-there-quotes': 1, 'hang-on': 2, 'have-hope': 3, 'hope-for-each-day': 4, 'hopeful-quotes': 6, 'keep-believing': 1, 'keep-hope-alive': 1, 'keep-pushing': 2, 'keep-pushing-forward': 2, 'learn-from-failure': 1, 'life-phases': 1, 'life-philosophy-inspirational': 2, 'life-philosophy-life-lessons': 1, 'life-philosophy-lifelong-learner': 1, 'life-philosophy-philosophy': 1, 'life-philosophy-quotes': 1, 'lift-others': 1, 'live-and-learn': 2, 'live-learn-quotes': 1, 'next-chapter': 1, 'no-complaints': 1, 'the-best-is-yet-to-come': 1, 'think-positive': 1, 'today-is-a-great-new-beginning': 1, 'today-is-later': 2, 'today-is-the-day': 2, 'today-quotes': 1, 'you-can-break-through': 1, 'your-life-has-value': 1, 'your-life-matters': 1, 'livia-and-blake': 1, 'shakespeare-s-sister': 1, 'you-can-handle-it': 1, 'you-ll-be-okay': 1, 'toba': 2, 'possibilty': 1, 'byron-zhang': 1, 'illuminae': 1, 'kady-grant': 1, 'mistborn': 1, 'sazed': 2, 'the-final-empire': 1, 'the-human-condition': 1, 'last-lines': 2, 'the-long-green-shore': 1, 'rationality-quotes': 1, 'christy-miller': 2, 'bobbing': 1, 'pessimist': 1, 'faithlessness': 3, 'intuitive': 2, 'chance-and-fortune': 2, 'garrick': 1, 'losing-it': 1, 'phaedra': 1, 'chloe-gong': 1, 'our-violent-ends': 1, 'these-violent-delights': 1, 'hope-and-life': 3, 'continue': 1, 'dispair': 3, 'when-things-go-wrong': 1, 'christian-community': 4, 'hopefull': 1, 'accident': 1, 'dedicated-to-chris-alder': 1, 'epitaphs': 1, 'family-geneology': 1, 'funeral-poems': 1, 'funeral-quotes': 1, 'funeral-speech': 1, 'funerals': 2, 'life-eulogy': 1, 'losing-someon': 1, 'untimely-death': 1, 'detective': 3, 'fruits-of-the-spirit': 1, 'stroke': 1, 'false-hope': 4, 'john-johnson': 1, 'be-heard': 2, 'oathway': 2, 'oppressing': 1, 'made': 1, 'will-i-am': 1, 'yes-we-can': 1, 'don-t-give-up-on-your-dreams': 1, 'don-t-give-up-on-yourself': 1, 'don-t-give-up-quotes': 1, 'encouragement-and-attitude': 2, 'for-your-good': 1, 'god-is-faithful': 1, 'goodness-and-mercy': 1, 'goodness-knows': 1, 'goodness-of-god': 2, 'hopeful-people': 1, 'hopeful-quote': 1, 'hopes-courage': 1, 'hopes-for-tomorrow': 1, 'its-working': 1, 'keep-it-moving': 1, 'keep-pounding': 1, 'keep-pushing-ahead': 1, 'keep-pushing-through': 1, 'keep-trying-quote': 1, 'keep-trying-quotes': 1, 'keep-trying-until-you-make-it': 1, 'never-give-up-a-dream': 1, 'never-give-up-on-your-journey': 1, 'never-give-up-on-yourself': 1, 'never-give-up-quotes': 1, 'one-day-at-at-time': 1, 'one-day-closer': 1, 'one-day-quote': 1, 'one-day-to-live': 1, 'thank-god': 1, 'working-out': 1, 'fired': 2, 'losses': 4, 'wrong-way': 2, 'abbey': 1, 'ancient-learning': 1, 'regression': 1, 'spiritual-health': 2, 'damn': 2, 'attract': 1, 'godmother': 1, 'hopes-and-dreams': 1, 'hopes-rise': 1, 'new-days': 1, 'new-life': 3, 'cs-lewis': 2, 'jay-bakker': 2, 'ricky-maye': 2, 'activate-your-faith': 2, 'expect-god-to-show': 2, 'faith-strength': 6, 'fear-of-god': 5, 'fear-quote': 3, 'fearless-quotes': 6, 'gods-direction': 3, 'gods-love': 3, 'gods-plan-for-me': 2, 'gods-power-inspirational': 2, 'gods-promise': 2, 'gods-word': 4, 'hope-and-encourage': 2, 'hope-and-faith': 2, 'new-direction': 2, 'new-places': 2, 'no-fear': 4, 'not-fear': 3, 'stand-in-faith': 2, 'thoughts-become-things': 2, 'trust-god-above-all': 2, 'trust-god-provision': 2, 'your-thoughts': 2, 'your-thoughts-and-beliefs': 2, 'suicide-tw': 1, 'deceiver': 1, 'enchant': 1, 'lull': 1, 'mislead': 2, 'piper': 2, 'slaughter': 1, 'sleepy': 1, 'chaotic': 3, 'mateson': 1, 'أمل': 1, 'حاول': 1, 'endorsement': 1, 'good-feeling': 1, 'the-stranded': 1, 'walking-a-fine-line': 1, 'weaving': 2, 'prisoner': 2, 'grief-and-regret': 2, 'grief-inspirational-bereavement': 2, 'grief-support': 2, 'loss-of-a-baby': 2, 'loss-of-parent': 2, 'theological-virtues': 2, 'wordless': 1, 'anchor': 7, 'mailer': 1, 'jrr-tolkien': 1, 'the-two-towers': 1, 'arabic-proverb': 1, 'manal-al-sharif': 1, 'ministry': 7, 'annabelle': 1, 'annabelle-fancher': 1, 'andrew-minyard': 1, 'zoegirl': 1, 'global-civilization': 1, 'secularist': 1, 'sense-of-holy': 1, 'africans-unite': 1, 'alms-giving': 1, 'covenant': 2, 'family-love': 3, 'let-love-lead': 1, 'tie': 1, 'ties': 1, 'brooklyn': 1, 'deep-waters': 3, 'fantacy': 3, 'past-issues': 3, 'aquaintances': 2, 'faith-in-others': 2, 'splash': 1, 'molestation': 1, 'beads': 1, 'gutter': 1, 'principal-conway': 1, 'bibliotherapy': 2, 'guardians': 2, 'plots': 8, 'treachery': 8, 'wylan-van-eck': 1, 'stepsister': 1, 'prison-industrial-complex': 1, '633': 1, 'inspirational-wisdom': 3, 'giovanni-s-room': 1, 'james-baldwin': 1, 'forgivieness': 1, 'god-s-promises': 5, 'subjection': 1, 'young-people': 2, 'dying-earth': 1, 'fading-world': 1, 'sapphires': 1, 'survival-of-the-human-soul': 1, 'inequalities': 1, 'abuse-recovery': 2, 'childhood-sexual-abuse': 1, 'denial-of-child-abuse': 1, 'effects-of-child-abuse': 1, 'harrietta-s-happenstance': 1, 'healing-abuse': 1, 'healing-journey': 1, 'jeanne-mcelvaney': 1, 'post-traumatic-growth': 1, 'spirit-unbroken-abby-s-story': 1, 'patchett': 2, 'adersity': 1, 'finding-god': 2, 'hamidah-dolhadi': 1, 'hd': 1, 'long-distance-relationship': 2, 'sands-of-arawiya': 1, 'we-free-the-stars': 1, 'anti-mainstream': 1, 'middle-school': 1, 'slumber': 3, 'weariness': 1, 'surviving-hard-times': 2, 'elemental-assassin': 1, 'gin-blanco': 1, 'calligraphy': 2, 'marvelousmonday-quotes': 2, 'nanowrimo': 2, 'national-novel-writing-month': 2, 'quotes-by-famous-authors': 2, 'quotes-by-famous-poets': 2, 'schmaltz': 1, 'psychology-of-self': 1, 'agnostic-atheism': 2, 'agnostic-prayer': 2, 'agnostic-quote': 2, 'agnostic-quotes': 2, 'atheism-defined': 2, 'atheist-argument': 4, 'atheist-arguments': 2, 'atheist-claims': 2, 'atheist-club': 2, 'atheist-philosophers': 2, 'atheist-quotes': 2, 'atheistic': 3, 'atheistic-philosophy': 2, 'atheistic-religion': 2, 'bangambiki': 2, 'belief-in-god': 5, 'belief-system': 4, 'beliefs-quotes': 2, 'despair-and-attitude': 2, 'despair-hope': 3, 'despair-quotes': 3, 'doubtful': 2, 'doubtful-thoughts': 2, 'doubtfulness': 2, 'doubting': 2, 'doubts-quotes': 2, 'faith-reason': 2, 'faith-vs-reason': 2, 'false-god': 2, 'false-gods': 3, 'habyarimana-bangambiki': 2, 'heaven-quotes': 2, 'heavenly-father': 5, 'heavenly-rewards': 2, 'heavens': 3, 'honesty-friendship-truth': 2, 'honesty-from-within': 2, 'honesty-integrity': 2, 'honesty-integrity-relationship': 2, 'honesty-integrity-words': 2, 'honesty-quotes': 2, 'integrity-of-a-salesman': 2, 'lose-hope': 2, 'paradise-quotes': 2, 'paradises': 2, 'spirituality-vs-religion': 2, 'there-is-no-god': 2, 'unbelief': 3, 'unbelieve-quotes': 2, 'unbeliever': 2, 'unbelievers': 2, 'defence-mechanism': 2, 'freudian': 2, 'sublimate': 2, 'sublimation': 2, 'virtuous': 4, 'kind-words': 1, 'woundedness': 1, 'armageddon': 2, 'doomsday': 1, 'doomsday-diaries': 1, 'doomsday-diary': 1, 'evil-place': 1, 'given-up': 1, 'god-damn': 1, 'goddamn': 1, 'goddamned': 1, 'new-world-order': 1, 'nwo': 1, 'post-apocalypse': 1, 'prey': 3, 'save-us': 1, 'afghanistan-war': 2, 'casualties-of-war': 2, 'child-victims-of-war': 2, 'children-killed-in-war': 2, 'gun-laws': 3, 'gun-violence': 3, 'peacemaking': 4, 'russia-and-ukraine-conflict': 2, 'spiritual-love': 3, 'syrian-civil-war': 2, 'u-s-presidents': 2, 'aladdin': 1, 'magi-the-labyrinth-of-magic': 1, 'accountiblity': 2, 'luthiel': 3, 'zalos': 1, 'rejuvination': 1, 'unforeseen': 1, 'disappointments': 5, 'dieing': 1, 'loney': 1, 'changeability': 1, 'helium-balloon': 1, 'hope-quote': 1, 'lantern-of-hope': 2, 'sharon-weil': 1, 'destructive-relationships': 3, 'durbyfield': 1, 'tess-of-the-d-urbervilles': 1, 'thomas-hardy': 1, 'brave-heart': 3, 'gypsy-girl': 1, 'darin': 1, 'laia': 1, 'nan': 1, 'searching-for-self': 1, 'world-weariness': 1, 'links': 3, 'nondisclosure': 1, 'nobility-of-spirit': 1, 'oprah-winfrey': 1, 'rare-personalities': 1, 'vision-dream': 4, 'angels-judgment': 1, 'deacon': 1, 'sara': 1, 'childe-rolandine': 1, 'fighthing': 2, 'impractical': 3, 'encouraging-others': 1, 'englishmen': 1, 'selfhelp': 3, 'soaring-quotes': 2, 'wings-and-flying-and-flying': 2, 'death-of-a-friend': 1, 'dog-lovers': 1, 'bulletproof': 2, 'alternatives': 3, 'methods': 2, 'frodo-sam': 1, 'j-r-r-tolkien': 2, 'the-lord-of-the-rings': 1, 'the-return-of-the-king': 1, 'wheel-of-fire': 1, 'reinvention': 2, 'siren-publishing': 1, 'jewish-heroines': 1, 'resistance-fighters': 1, 'ww2-history': 1, 'j-m-barrie': 1, 'kensington-gardens': 1, 'maimie': 1, 'bible-verse': 3, 'bologna': 1, 'catch-22': 1, 'yossarian': 1, 'best-ending-ever': 1, 'antarctica': 1, 'curtis-white': 1, 'palimpsest': 1, 'sword-sentiments': 4, 'zugunruhe': 1, 'breaking-down-barriers': 1, 'neil-josten': 1, 'rin': 1, 'fright': 3, 'men-s-heart': 1, 'sucess': 2, 'favour': 1, 'refuge': 3, 'rescuing': 1, 'self-salvation': 1, 'self-understanding': 2, 'when-the-cynic-cries': 1, 'glories': 1, 'mysteries-of-life': 1, 'obey-the-law': 1, 'over-impressed': 1, 'past-glories': 1, 'scare': 2, 'sightseeing': 1, 'malice': 2, 'clergyman': 1, 'orthodox': 4, 'preach': 6, 'tyrant': 2, 'finnikin': 1, 'trevanion': 1, 'amnesiac': 1, 'taylor': 1, 'the': 2, 'muses': 1, 'journal-intime': 1, 'future-generations': 3, 'intelegence': 2, 'michelle-horst': 2, 'vaalbara': 2, 'civic-duty': 3, 'democratic-national-convention': 1, 'legacies': 1, 'making-choices': 2, 'mitt-romney': 1, 'political-advocacy': 1, 'political-awareness': 1, 'political-responsibility': 1, 'presidential-election': 1, 'presidential-election-campaign': 1, 'republican-national-convention': 1, 'social-awareness': 2, 'vision-of-america': 1, 'xenophobia': 1, 'connaturality': 1, 'rwanda': 3, 'great-books': 1, 'jesus-the-christ': 2, 'loving-kindness': 2, 'inspitation': 1, 'austin-texas': 2, 'john-paul': 4, 'john-paul-warren': 4, 'john-warren': 2, 'voice-of-the-nations': 3, 'against-all-odds': 3, '229': 1, 'social-gospel': 1, 'day-leitao': 1, 'kingdom-of-shadows': 1, 'the-cup-and-the-prince': 1, 'neoliberalism': 1, 'natasha': 1, 'dunamis': 4, 'faith-leads': 2, 'shapeless': 2, 'travail': 2, 'travail-today': 2, 'truimph': 2, 'truimph-tomorrow': 2, 'crps': 1, 'pain-warrior': 1, 'wounds-to-wellness': 1, 'spiitual': 2, 'survival-instinct': 6, 'chubby': 1, 'corpulent': 1, 'deride': 1, 'fatty': 1, 'flab': 1, 'flabby': 1, 'fleshy': 1, 'heavyset': 1, 'meaty': 1, 'midget': 1, 'mock': 1, 'obese': 1, 'overweight': 1, 'paunchy': 1, 'plump': 1, 'portly': 1, 'potbellied': 1, 'potbelly': 1, 'tall': 1, '2009': 1, 'llight': 1, 'difficult-times': 4, 'king-arthur': 2, 'matter-of-britain': 1, 'hindu-scriptures': 1, 'close': 6, 'enter': 2, 'hope-in-god': 2, 'leads': 3, 'priviledge': 2, 'storehouse': 2, 'succcess': 2, 'trust-in-god': 9, 'fleeting-hope': 1, 'slender': 1, 'descriptive-prose': 1, 'purpose-goals': 1, 'optimisim': 1, 'beacons': 1, 'doctor-watson': 1, 'lighthouses': 1, 'kiss-of-death': 1, 'discipleship': 3, 'deliverance-from-the-mind': 1, 'guarantee': 2, 'eomer': 1, '1945': 1, 'tomorrows': 1, 'nurturing-hope': 1, 'inner-child': 1, 'here-comes-the-sun': 1, 'snow-queen': 1, 'kirsten-robinson': 4, 'naked-writing': 4, 'cinderellainfocus': 1, 'individuality-quotes': 1, 'uniqueness-of-individual': 2, 'best-case-scenario': 1, 'higher-level': 1, 'higher-vision': 1, 'level-up': 1, 'lower-level': 1, 'flower-quotes': 1, 'healing-quotes': 3, 'recovery-quotes': 1, 'denmark': 2, 'kurt-cobain': 1, 'sorrow-songs': 2, 'earth-day': 1, 'affinity': 1, 'new-year-s-resolutions': 1, 'new-years': 1, 'farewell': 4, 'final-departure': 1, 'getting-over-it': 1, 'last-goodbye': 1, 'last-sight': 1, 'lost-friends': 1, 'picture-metaphor': 1, 'desire-quotes': 1, 'claim': 1, 'defenceless': 1, 'power-quotes': 3, 'recognise': 1, 'skinhead': 1, 'the-pogues': 1, 'hope-for-future': 1, 'notebook': 1, 'negative-voices': 2, 'charisma': 2, 'esperanza': 3, 'esperança': 2, 'vida': 2, 'ghosts-of-the-past': 1, 'torn': 1, 'nickname': 2, 'professor': 1, 'weathering-hard-times': 2, 'courage-under-fire': 2, 'placebo': 2, 'soldiers': 4, 'under-fire': 2, '1967': 2, 'slut-shaming': 1, 'determined-person': 1, 'educational-quotes': 2, 'persistent-effort': 1, 'mama': 1, 'mothers-day-quotes': 1, 'secure': 4, 'share-bread': 1, 'biological-determinism': 1, 'leap': 4, 'ribbit': 1, 'swamp': 1, 'bold-bravery': 1, 'nursing-home': 1, 'office': 1, 'spawning': 1, 'muscle': 1, 'overflow': 1, 'dua': 1, 'forgivness': 1, 'razón': 1, 'commonality': 1, 'fight-more': 2, 'surrender-to-god': 3, 'life-affirming': 5, 'toni-morrison': 2, 'dies': 1, 'fingers': 1, 'granted': 3, 'burn-unit': 1, 'accepting-change': 1, 'and-still-peace-did-not-come': 1, 'matthew': 1, 'namesake': 1, 'prior': 1, 'writing-while-black': 1, 'facet': 1, 'outweigh': 1, 'retrospect': 1, 'mythic-fiction': 1, 'after-the-rain': 1, 'cora': 3, 'all-the-king-s-men': 1, 'epigraph': 1, 'nate': 1, 'immortal': 4, 'chiristian-life': 1, 'affectionate-nicknames': 2, 'talking-animals': 1, 'expectancies': 1, 'fantasy-romance-book-quotes': 1, 'the-curse-of-the-dark-horseman': 1, 'opposites-attract': 2, 'rearranged': 1, 'due': 2, 'meet': 2, 'best-quotes-and-sayings': 13, 'quotes-on-hope': 13, 'scifi-romance-quotes': 13, 'rumor': 10, 'strenght': 2, 'abilene-texas': 1, 'douglas-p-fish': 1, 'fish-stewarding-group': 2, 'fsg': 1, 'fsg-living-buildings': 2, 'arboreality': 1, 'climate-change-quotes': 1, 'desoeration': 1, 'resilience-quotes': 2, 'comics-and-graphic-novels': 1, 'inspiring-love-quotes': 7, 'poems-about-love': 7, 'quotations-on-love': 7, 'song-quotes': 1, 'share-it': 2, 'life-mystery': 2, 'last-man-on-earth': 2, 'radical-hope': 2, 'life-sayings': 1, 'assure': 2, 'and-waiting': 1, 'adversary': 2, 'ignited': 1, 'belarusian': 2, 'christian-fiction': 11, 'fairy-tale-retelling': 8, 'buried': 5, 'hopelessnes': 1, 'deserves': 1, 'inspires': 1, 'tantra': 3, 'darkest-day': 1, 'mary-magdalene': 1, 'stagnation': 1, 'feat': 2, 'booktok': 1, 'endometriosis': 1, 'baba-yaga': 1, 'motiva': 1, 'last-man-standing': 1, 'christian-fantasy': 18, 'fairy-tale-retellings': 3, 'mulan': 3, 'van-helsing': 2, 'overwhelmed': 2, 'time-of-need': 1, 'arikana': 1, 'fiction-fantasy': 1, 'false-promises': 2, 'wheelbarrow': 2, 'good-quotes': 1, 'hope-for-the-best': 1, 'beautiful-life': 2, 'loveandlight': 1, 'being-late': 1, 'feeling-low': 1, 'never-too-late': 1, 'starting-something-new': 1, 'hope-quotations': 8, 'faith-quote': 5, 'left-wing': 1, 'nonbinary': 1, 'disciples': 5, 'silver-linings': 1, 'accountable': 1, 'be-responsible': 1, 'take-charge': 2, 'human-rights-activist': 1, 'social-work': 1, 'social-worker': 1, 'on-mourning': 2, 'dangerous-hope': 1, 'dangerous-love': 1, 'kapil-raj': 1, 'arise': 1, 'immersive': 1, 'did-it-matter': 1, 'decolonizing': 1, 'young-adult-action': 1, 'trust-quotes': 4, 'shrewdness': 1, 'who-am-i': 2, 'protests': 2, 'faith-in-love': 3, 'god-s-provision': 3, 'grace-hitchcock': 3, 'grace-hitchcock-quotes': 3, 'galactic-empire': 1, 'jedi-knight': 1, 'kenobi': 1, 'sith': 1, 'redeems': 1, 'worse': 2, 'dennis-smith': 2, 'firefighters': 2, 'report-from-ground-zero': 2, 'sedative': 2, 'facsimiles': 1, 'forgery': 1, 'turn': 1, 'handsome-man': 1, 'handsome-men': 1, 'handsomeness': 1, 'lily-of-the-lamplight': 1, 'past-and-future': 4, 'the-loop': 1, 'future-self': 2, 'things-will-get-better': 2, 'things-will-work-out': 2, 'sermons': 5, 'the-unknown': 2, 'be-hopeful': 1, 'book-7': 1, 'positiveness': 2, 'apostles': 4, 'mistrust': 1, 'canvas': 1, 'persevere': 1, 'etalpalli': 1, 'goldstone-wood': 1, 'encouraging-quotes': 2, 'rebecca-yarros': 3, 'violet-sorrengail': 3, 'xaden': 3, 'xaden-riorson': 3, 'probabilities': 1, 'immigrant-experience': 1, 'indien': 1, 'life-decisions': 1, 'moving-to-a-different-place': 1, 'owning-life': 1, 'looking-forward': 1, 'heart-quotes': 3, 'heartache-poems': 1, 'self-love-heart-quotes': 1, 'depressing-quotes': 1, 'headache': 1, 'resilence': 2, 'lifeboats': 2, 'sinking-ships': 2, 'beacon': 1, 'sunset-quotations': 1, 'sunset-quotes': 3, 'decoration-day': 1, 'buoys': 1, 'orphanage': 2, 'deaf': 1, 'living-poem': 1, 'seek-help': 1, 'saving': 2, 'badass-hobbits': 1, 'changequotes': 2, 'isaiah': 2, 'promises-quotes': 1, 'dispression': 1, 'interactions': 2, 'passing': 3, 'evocative': 4, 'open-to-the-possibilities': 3, 'diverse': 2, 'template': 1, 'all-roads-lead-to-cape-town': 3, 'hlbalcomb': 4, 'christian-leadership': 1, 'deferred-hope': 2, 'religiosity': 2, 'works-righteousness': 2, 'frog-books-for-children': 3, 'adventure-fiction': 3, 'name-meaning': 1, 'ours': 1, 'gio': 1, 'snow-white-and-rose-red': 2, 'vlogbrothers': 2, 'caregiving': 1, 'instructions': 1, 'assassins-creed': 2, 'loss-of-spouse': 1, 'to-be-done': 1, 'emotional-healing': 5, 'chancellor': 1, 'chancellor-iu-kokomo': 1, 'imagine-future': 1, 'indiana': 1, 'iu-kokomo-chancellor': 1, 'kokomo': 1, 'kokomo-city': 1, 'kokomo-indiana': 1, 'regional-transformation': 1, 'triple-helix': 1, 'childhood-friends': 4, 'healthy-relationship': 3, 'heart-warming': 3, 'small-town-romance': 4, 'clean-energy': 2, 'climate-hope': 3, 'renewable-energy-sources': 1, 'climate-victory': 1, 'climate-vision': 1, 'gun-reform': 1, 'beskuit': 1, 'tannie-maria': 1, 'a-court-of-wings-and-ruin': 1, 'hostile': 1, 'navel': 1, 'renewed': 2, 'urban-gardening': 1, 'urban-gardens': 1, 'gamble': 2, 'true-desires': 1, 'emotional-dissociation': 1, 'reactionary-politics': 1, 'immovable': 2, 'impervious': 2, 'encouragement-courage': 1, 'kya-rayne': 1, 'light-in-the-darkness': 3, 'death-metal': 1, 'the-lighthouse-witches': 1, 'bhuwan-thapaliya': 3, 'moveon': 1, 'society-of-writers-belief': 1, 'broken-things': 3, 'haiku-poetry': 1, 'kentsugi': 1, 'repair': 1, 'autumn-songs': 1, 'nature-lessons': 1, 'race-and-racism-in-america': 1, 'speaking-life': 1, 'native': 2, 'rd16': 2, 'oak': 3, 'oak-greenbriar': 2, 'suren': 3, 'the-stolen-heir': 2, 'wren': 3, 'clutched': 1, 'flashback': 1, 'back-to-life': 1, 'brighter': 1, 'the-magic-of-tree': 2, 'great-work': 2, 'reprieve': 2, 'upbringing': 4, 'devastation': 1, 'top-problem': 1, 'robin': 3, 'all-is-not-lost': 1, 'fragrance-of-a-dead-rose': 1, 'beach-romance': 1, 'roseanna-m-white': 1, 'seashells': 1, 'yesterday-s-tides': 1, 'american-dream-love': 4, 'immigrants-refugees': 4, 'international-students': 4, 'aging-quotes': 2, 'wrinkles': 3, 'changes-quotes': 2, 'philosphy-of-life': 3, 'virgil': 1, 'one-two-three': 1, 'post-war': 1, 'morning-walk': 1, 'waking-up-in-the-morning': 1, 'winter-mornings': 1, 'winter-sun': 1, 'romantic-quotes': 2, 'bleak': 4, 'lamp-in-the-darkness': 1, 'strongwomen': 1, 'father-archeron': 1, 'high-fae': 1, 'warnings': 4, 'broken-hearteden': 1, 'forgiveness-and-letting-go': 1, 'christmas-quotes': 2, 'christmas-spirit': 2, 'morning-quote': 2, 'prolife': 3, 'standing-for-truth': 2, 'mustard-seed': 3, 'mental-illness-quotes': 1, 'trauma-survivors': 1, 'the-words-we-keep': 1, 'destined-love': 1, 'unfinished-story': 1, 'déluge': 1, 'flood': 1, 'nicolas-lévesque': 1, 'phora': 1, 'quebec': 1, 'good-reads': 1, 'rallies': 1, 'spvce': 1, 'small-town': 4, 'snow-white': 2, 'snowfall': 1, 'snowy': 1, 'winter-is-coming': 1, 'winter-quotes': 1, 'wintery-day': 1, 'try-first': 1, 'work-together': 2, 'christmas-story': 2, 'gift-gugu-mona-poems': 3, 'thank-you-mama': 2, 'unwavering-support': 2, 'an-ode-to-my-precious-mother': 1, 'how-shall-i-ever-thank-you': 1, 'fathers-and-daughters': 3, 'anxiety-quotes': 6, 'anxiety-recovery': 6, 'anxiety-free': 4, 'owusu': 3, 'clear-mind': 1, 'before-you-we-born': 1, 'black-authors': 4, 'passive': 1, 'means': 1, 'pacific': 1, 'for-the-wolf': 1, 'red-riding-hood': 1, 'matthew-perry': 1, 'invitation': 2, 'pinnacle': 2, 'incarnation': 2, 'antimaterialism': 1, 'power-of-thought': 1, 'quotes-about-hope': 2, 'pogo': 1, 'veterans': 1, 'deliver': 2, 'generosityosity': 1, 'minus': 2, 'big-break': 1, 'career-opportunities': 1, 'hope-springs-eternal': 1, 'just-desserts': 1, 'backside': 1, 'upside-down': 1, 'auf-wiedersehen': 1, 'apocalyptic-fiction': 1, 'evangeline': 2, 'jacks-of-the-hollow': 2, 'prince-of-hearts': 3, 'stephanie-garber': 3, 'the-ballad-of-never-after': 3, 'democrats': 1, 'get-out-the-vote': 1, 'eternity-quotes': 1, 'oppressed': 3, 'hold-fast': 2, 'care-work': 1, 'likely': 3, 'the-possible': 2, 'faraway': 1, 'jenim-dibie': 1, 'espoir': 1, 'dont-quit-quotes': 1, 'dires': 1, 'the-feels': 1, 'deaf-fiction': 10, 'late-deafened-authors': 4, 'vigilance': 1, 'assholes': 1, 'downtrodden': 2, 'reality-check': 7, 'hopelessness-quotes': 1, 'worry-quotes': 1, 'ressurection': 1, 'endure-pain': 1, 'coda': 4, 'late-deafened-adults': 7, 'coming-of-age-novel': 1, 'extremism': 1, 'disabilities': 1, 'patriotism-quotes': 1, 'recovery-addiction': 1, 'choose-life': 3, 'back-to-school': 2, 'holdingon': 1, 'p399': 1, 'drawnfrommemory': 1, 'gideonandrachel': 1, 'contributions': 1, 'deserving': 3, 'my-concern': 1, 'my-pain': 1, 'my-team-mates': 1, 'unbiased': 1, 'starfall': 1, 'healing-trauma': 1, 'overcoming-trauma': 1, 'warming': 1, 'stolen': 2, 'religion-quotes': 6, 'chistian': 1, 'dire': 2, 'worsening': 2, 'marx-watanabe': 1, 'attachments': 1, 'no-expectation': 1, 'no-goodbye': 1, 'rays': 1, 'say-see-you-again': 1, 'to-your-love': 1, 'yampoonejashivai': 1, 'don-t-hurt': 1, 'regeneration': 1, 'renew-spirit': 1, 'tears-quotes': 1, 'fairy-tales-for-adults': 1, 'hopefullness': 1, 'anxiety-is-underrated': 1, 'hospital': 1, 'dysfunctional': 1, 'dysfunctional-family': 1, 'hiding-in-plain-sight': 1, 'narcissist': 1, 'hanya-yanagihara': 1, 'immortalized': 1, 'to-paradise': 1, 'caffeinated-daydreams': 1, 'silentvoice': 1, 'glass-ceiling': 1, 'christian-entrepreneur': 2, 'misjudge': 3, 'promises-of-god': 2, 'optomism': 1, 'postive-quotes': 1, 'shine-quotes': 1, 'jehovah-el-roi': 2, 'not-forgotten': 2, 'seen-by-god': 2, 'the-god-who-sees': 2, 'some-day': 1, 'unfulfilled-promises': 1, 'seasons-of-life': 1, 'shortcomings': 1, 'be-oneself': 1, 'live-by-heart': 1, 'cape-town': 1, 'rainbow-nation': 1, 'durable': 2, 'asset': 3, 'last-resort': 3, 'petition': 2, 'potent': 2, 'coffee-addiction': 1, 'coffee-lovers': 1, 'afrikaans': 1, 'ubuntu-quotes': 2, 'fever-tree': 1, 'carry-your-load': 1, 'empire-strikes-back': 1, 'from-a-certain-point-of-view': 1, 'alleviation': 1, 'truth-seeker': 5, 'bible-christian': 2, 'being-alive': 4, 'ecstasy-of-life': 1, 'bravery-divergent-fear-courage': 1, 'charkha': 1, 'postponing': 1, 'thinking-through': 1, 'irrepressible': 1, 'scotus-fail': 1, 'mayflower-plymouth-capital-llc': 2, 'inner-light': 1, 'r-m-engelhardt': 1, 'darkest': 1, 'adamantine': 1, 'battered-soul': 1, 'restless-heart': 1, 'shameful-soul': 1, 'fantasy-series': 1, 'charles-spurgeon': 4, 'a-new-day-quotes': 1, 'tomorrow-will-be-better': 1, 'tomorrows-another-day': 3, 'guantánamo': 1, 'guantánamo-bay': 1, 'aynat': 1, 'soar-higher': 1, 'wings-of-failures': 1, 'wings-of-setbacks': 1, 'divorce-advice': 3, 'realities': 2, 'light-web': 1, 'divorce-attorney-advice': 3, 'antiracism': 3, 'healer': 2, 'sins-of-the-fathers': 1, 'existentialismialism': 1, 'kindle-vella-ya-and-adult': 1, 'friendsends': 1, 'inspiration-quotes': 2, 'carrying-on': 1, 'worth-living-for': 1, 'grim': 2, 'armani': 1, 'first-impression': 2, 'haha': 1, 'hex-boys': 1, 'u-wish': 1, 'higher-power': 3, 'prayer-for-peace': 1, 'november': 1, 'michael-vey': 1, 'richard-paul-evans': 1, 'lyrics-in-a-song': 1, 'ash-wednesday': 1, 'ouch': 1, 'reasons-to-stay-alive': 1, 'dreams-high': 2, 'i-hear-america-singing': 1, 'messiness': 1, 'life-after-divorce': 2, 'rebuilding-life': 1, 'tightrope-dance': 4, 'balancing-act': 2, 'pierce-brown': 2, 'red-rising': 2, 'life-is-a-journey': 1, 'young-at-heart': 1, 'european-union': 1, 'famous-last-words': 1, 'light-at-the-end-of-the-tunnel': 1, 'nightmare': 1, 'purgatory': 1, 'surreal-poetry': 1, 'vortex': 1, 'nerdy': 1, 'not': 1, 'remembers': 1, 'helper-motivational': 1, 'life-s-failures': 1, 'the-present-moment': 1, 'ukraine-war': 1, 'two-three-and-four': 1, 'anti-nihilism': 1, 'ccreation': 1, 'the-void': 1, 'stellan-gios': 1, 'hua-cheng': 3, 'gifting': 1, 'greenery': 1, 'plantation': 1, 'spaghetti': 1, 'fate-destiny': 1, 'packaged': 1, 'antiwar-quotes': 1, 'saynotowar': 1, 'blm': 1, 'aith': 2, 'conspiracies': 4, 'conspire': 4, 'yesterdays': 2, 'backbone': 1, 'wishbone': 1, 'birdsong': 1, 'change-of-seasons': 1, 'spring-poetry': 1, 'self-denial': 3, 'helper': 4, 'lnspirational': 1, 'deus': 1, 'george-washington-carver': 1, 'environmental-degradation': 2, 'environmentalist': 3, 'seed-saving': 2, 'ukrainian': 5, 'endlewood': 2, 'initiate': 1, 'live-out': 1, 'proclaim': 1, 'greatest': 5, 'jenny-slate': 1, 'emotion-connections': 1, 'finding-work-you-love': 1, 'a-little-life': 1, 'la-mettrie': 1, 'bright-future': 1, 'doubleday-for-young-readers': 1, 'frances-gilbert': 1, 'random-house-children-s-books': 1, 'neelam-saxena-chandra-quotes': 1, 'anti-career': 1, 'positive-speaker': 1, 'broken-dreams': 1, 'love-for-god': 1, 'the-dance-of-death': 1, 'weird-fiction': 1, 'caffeine': 1, 'coffee-shop': 1, 'coffee-shops': 1, 'decaf': 1, 'decaffeinated': 1, 'manvswild-strongwomen-survivor': 5, 'nidhiesharma': 10, 'survival-story': 4, 'tawang': 10, 'be-all-you-can-be': 1, 'do-not-despair': 1, 'future-generation': 2, 'our-future': 1, 'past-present-and-future': 1, 'posterity': 2, 'posterity-quotes': 1, 'the-future-is-ours': 1, 'today-is-theirs': 1, 'spiritual-awakening': 4, 'goodquotes': 1, 'violetlappwrites': 1, 'spider-web': 1, 'army-life': 3, 'true-account': 2, 'truobles': 1, 'holodomor': 1, 'idealist': 1, 'barrier': 2, 'doable': 1, 'acts-of-random-kindness': 1, 'live-original': 3, 'sadie-robertson': 27, 'surround': 1, 'starve': 1, 'jungles': 4, 'trueaccount': 3, 'truestory': 2, 'memory-quotes': 2, 'key-to-happiness': 1, 'living-free': 1, 'weathering-a-storm': 1, 'foreshadowing': 1, 'live-fearless': 14, 'faith-vs-fear': 1, 'fearful-thoughts': 1, 'god-s-way': 1, 'female-advice': 1, 'anthropomorphism': 1, 'doctor-s-waiting-room': 1, 'empty-room': 1, 'patient-care': 1, 'room': 2, 'waiting-room': 1, 'light-to-the-world': 1, 'david-and-goliath': 1, 'giant-slayers': 1, 'just-be-you': 1, 'heroic-christianity': 1, 'trust-in-the-lord': 1, 'child-of-the-king': 1, 'be-the-change-you-wish-to-see': 2, 'paraphrase-of-lewis-carroll': 1, 'pixie-dust': 2, 'chapter-24': 1, 'jim': 3, 'morrison': 2, 'how': 1, 'abe': 1, 'french-renaissance-writer': 1, 'looking-for-alaska': 1, 'miles-halter': 1, 'blues': 2, 'open-heart': 7, '2013': 3, 'james-carstairs': 1, 'catatonia': 1, 'coma': 1, 'dizziness': 1, 'limit': 2, 'fountainhead': 1, 'novelty': 3, 'greedy': 3, 'unrealized-potential': 1, 'frolick': 1, 'good-habits': 2, 'inifinity': 1, 'last-lecture': 1, 'randy-pausch': 1, 'mujo': 1, 'beautiful-creatures': 1, 'r-i-p': 1, 'steve': 2, 'reasons-why': 1, 'improbability': 1, 'making-the-most': 1, 'parallel-lives': 2, 'prime-numbers': 1, 'fixing-things': 1, 'parting-ways': 1, 'hardest-part': 1, 'ebullience': 1, 'unfair': 2, 'gogol': 1, 'nikolai': 1, 'chameleon': 1, 'elizabeth-woolridge-grant': 4, 'moral-compass': 2, 'the-last-wish': 1, 'witcher': 1, 'droids': 1, 'generic': 1, 'generic-people': 1, 'living-inside-a-box': 1, 'monotonous': 1, 'societies': 1, 'rules-of-life': 1, 'after-death': 1, 'live-forever': 1, 'aza-holmes': 2, 'page-257': 1, 'franz': 1, 'public-image': 1, 'answers-to-despair': 1, 'finding-hope': 1, 'hollowness': 2, 'life-discovery': 1, 'johnny-depp': 1, 'fictional-characters': 1, 'photograph': 1, 'jennifer-niven': 1, 'حياة': 1, 'comforting': 1, 'the-road': 1, 'turbulence': 1, 'hollow-city': 1, 'miss-peregrines': 1, 'life-missions': 1, 'tombstones': 1, 'baudelaire': 1, 'brotherhood-of-man': 1, 'doing-good': 3, 'disatisfaction': 1, 'rip': 1, 'optimists': 1, 'kind-word': 1, 'last-sacrifice': 1, 'sonya-karp': 1, 'driving': 1, 'fork': 1, 'highway': 1, 'lostness': 2, 'roads': 1, 'route-66': 1, 'transportation': 1, 'coming-to-terms': 2, 'enduring-good': 1, 'wise-advice': 1, 'fruit-basket': 1, 'daydreaming': 1, 'proust-questionnaire': 1, 'rushdie': 1, 'haruki-murakami': 1, 'embracing-who-you-are': 1, 'feeling-alone': 1, 'martel': 2, 'pi': 2, 'yann': 2, 'clutter': 1, 'jennifer-salaiz': 1, 'bad-times': 2, 'crawling': 1, 'dylan': 2, 'alienation-versus-humanity': 1, 'humanity-versus-alienation': 1, 'socially-awkward': 1, 'tales': 2, 'issue': 1, 'political-activism': 2, 'doing-right': 3, 'shikamaru-nara': 1, 'crule-life': 1, 'fraction': 1, 'lost-dream': 1, 'mold': 1, 'mold-a-dream': 1, 'second': 1, 'shattered': 2, 'years-of-struggle': 1, 'screaming': 2, 'automobiles': 1, 'subway': 1, 'trains': 1, 'frankl': 1, 'viktor': 1, 'highs-lows': 1, 'sachar': 1, 'strangeness': 3, 'contenment': 1, 'page-281': 1, 'old-songs': 4, 'amber': 1, 'choke': 2, 'medical-training': 1, 'palahniuk': 2, 'physicians': 1, 'jonah': 2, 'lois-lowry': 2, 'the-giver': 3, 'sciences': 1, 'of': 1, 'these-are-words': 1, 'shorter': 1, 'life-is-a-bowl-of-cherries': 1, 'two-kinds-of-people': 1, 'sucker': 1, 'attainable': 1, 'other-side': 2, 'loss-of-wonder': 2, 'going-forward': 1, 'monsters-of-verity': 1, 'mental-issue': 1, 'metal-illness': 1, 'crap': 3, 'momo': 1, 'allie-s-mother': 2, 'education-knowledge': 1, 'mirrror': 2, 'orderliness': 2, 'reflaction': 2, 'best-books': 2, 'happin': 2, 'forced': 1, 'eremika': 1, 'mikasa': 1, 'mikasa-ackerman': 1, 'shingeki-no-kyojin': 1, 'snk': 1, 'penance': 1, 'being-in-the-moment': 1, 'procreation': 2, 'one-tree-hill': 1, 'the-boy-and-saw-a-comet': 1, 'behind': 2, 'nagasawa': 1, 'lack-of-motivation': 1, 'perfect-match': 1, 'ran': 1, 'devices': 1, 'infernal': 1, 'dealing-with-offenses': 1, 'offenses': 1, 'stocism': 1, 'pinoy': 2, 'locura': 1, 'ethical-vegan': 1, 'speciesism': 14, 'isnpirational': 1, 'masashi-kishimoto': 1, 'wisely': 1, 'complexities': 1, 'unexamined-life': 1, 'network-theory': 1, 'networking-advice': 1, 'networking-marketing': 1, 'nightsky': 1, 'double-happiness': 1, 'hidden-self': 1, 'hide-and-seek': 3, 'embracing-your-singleness': 1, 'live-life-on-your-own-terms': 1, 'no-apologies': 1, 'single-journey': 1, 'we-are-the-ants': 4, 'happens': 1, 'minute': 2, 'world-moves': 1, 'audrey-hepburn': 1, 'bad-things-happen': 1, 'fallen-angel': 1, 'laine-s-fave': 1, 'death-and-sickness': 1, 'friendship-lost': 1, 'loss-of-a-loved-one': 1, 'painful-memories': 1, 'sudden-death': 1, 'grounded': 2, '143': 1, 'unsure': 1, 'fathomless': 1, 'jackson-pearce': 1, 'tagalog': 1, 'ben-evans': 1, 'benjamin-evans': 1, 'changing-seasons': 1, 'expected': 1, 'fortell': 1, 'fortelling': 1, 'knowing-ahead': 1, 'precognition': 1, 'surprise-endings': 1, 'tiredness': 1, 'john-berger': 1, 'events': 2, 'meaning_of_life': 1, 'wasting': 1, 'jim-rohn': 1, 'hyper': 1, 'blurs': 1, 'hesse': 2, 'siddhartha': 1, '1908': 1, 'nineteen': 1, 'more-than-this': 3, 'ness': 1, 'hood': 1, 'robin-hood': 1, 'entertaining': 1, 'division-of-labor': 1, 'pieces': 3, 'ordinary-days': 1, 'civic-responsibility': 2, 'carrie-jones': 1, 'fractures': 1, 'glue': 1, 'carpe-diem-inspirational': 1, 'defeatism': 1, 'rolling-stone': 1, 'travels': 1, 'anita-shreve': 1, 'the-pilot-s-wife': 1, 'p30': 2, 'bradbury': 1, 'something-wicked-this-way-comes': 1, 'interruptions': 1, 'hollis-mason': 1, 'under-the-hood': 1, 'temporality': 1, 'delay': 1, 'jofer': 1, 'scarlett-o-hara': 1, 'new-begining': 2, 'ever': 1, 'is': 1, 'long-term': 1, 'jandy-nelson': 1, 'tuck-everlasting': 1, 'trusting-your-journey': 7, 'walking-your-purpose': 2, 'urgency': 3, 'marks': 1, 'caraval': 1, 'stephaniegarber': 1, 'breakfast-of-champions': 3, 'kurt-vonnegut': 3, 'abusive-relationships': 1, 'best-decision': 1, 'dead-end': 1, 'high-frequency': 1, 'low-frequency': 1, 'negative-energy': 1, 'positive-people': 1, 'vibrate-higher': 1, 'vibrate-higher-daily': 1, 'diplomats': 1, 'seven-deadly-sins': 1, 'quentin': 1, 'chapter-21': 1, 'nana': 3, 'the-help': 1, 'bob': 1, 'fourtris': 1, 'the-traitor': 1, 'livving': 1, 'demands': 2, 'bette-davis': 1, 'fuck-it': 1, 'louie': 1, 'lucky-louie': 1, 'anna-wintour': 2, 'trendy': 2, 'vogue': 2, 'closing-ears': 3, 'closing-eyes': 3, 'conformityredemption': 3, 'fruitful-garden': 3, 'god-s-garden': 3, 'orchardgracious': 3, 'ripe': 3, 'searching-truth': 3, 'tongues': 6, 'truth-path': 3, 'early': 1, 'for-whom-the-bell-tolls': 1, 'jr-ward': 1, 'humbles': 1, 'lynchings': 1, 'bonfires': 1, 'deadly': 1, 'embryonic': 1, 'illuminate': 3, 'potency': 1, 'rampage': 1, 'backstabbing': 1, 'stab': 1, 'tennis': 2, 'holy-longing': 1, 'abolitionist': 25, 'ahimsa': 25, 'francione': 25, 'nonviolence-jainism': 25, 'faerie': 2, 'marisha-pessl': 1, 'a-story-of-faith': 1, 'hope-and-love': 1, 'stength': 1, 'emile': 3, 'misattributed-machiavelli': 1, 'physcology': 1, 'judith-guest': 1, 'high-school-kids': 1, 'high-school-memories': 1, 'i-hate-bullies': 1, 'i-hate-high-school': 1, 'traumatic-experiences': 1, 'ableist': 13, 'classism': 13, 'heterosexism': 13, 'moral-imperative': 12, 'moral-obligation': 13, 'self-hate': 1, 'where-things-come-back': 1, 'psychedelics': 1, 'shamanism': 1, 'vegan-vegetarian': 1, 'adapting': 1, 'enhancing': 1, 'refining': 1, 'pizza': 1, 'loving-others': 3, 'devastated': 1, 'suicide-attempt': 1, 'dismissal': 1, 'receiving': 1, 'predetermination': 1, 'life-paths': 1, 'never-alone': 1, 'thetis': 1, 'philospohy': 1, 'back': 1, 'tough': 3, 'calamity': 1, 'depresion': 1, 'the-last-song': 1, 'p42': 2, 'comofirt': 1, 'cultural-reactor': 1, 'fortifying': 1, 'rebuilding': 1, 'traditional-cultures': 1, 'capital-punishment': 1, 'right-to-die': 1, 'sophistication': 1, 'peeps': 1, 'scott-la': 1, 'scott-westerfeld': 1, 'despotism': 1, 'timid': 1, 'appreciation-of-life': 1, 'letter-of-march-20-1845': 1, 'citizen-kane': 1, 'frantic': 1, 'insignificant': 1, 'leitmotif': 1, 'madeleine': 1, 'marcel-proust': 1, 'memory-lane': 1, 'paper-boats': 1, 'retreat': 2, 'rosebuds': 1, 'the-beatles': 1, 'vital': 3, 'walk-down': 1, 'fear-of-falling': 3, 'lovelifee': 2, 'sl-jennings': 3, 'pro-choice': 1, 'life-perspective': 2, 'cleopatra': 1, 'gaols': 1, 'every-moment': 1, 'franz-kafka': 1, 'man-vs-monster': 1, 'work-in-progress': 1, 'poisoned': 1, 'notion': 1, 'race-of-life': 1, 'statement': 1, 'hurting-the-one-you-love-lessons': 1, 'nikki': 1, 'nikki-sixx': 1, 'sixx': 1, 'this-is-gonna-hurt': 1, 'noggin': 2, 'desperateness': 1, 'mind-games': 2, 'not-self-aware': 1, 'poor-perception': 1, 'reading-into-everything': 1, 'unchecked': 1, 'unresolved-emotions': 1, 'commuting': 1, 'rhythms': 1, 'hearsay': 3, 'resent': 2, 'condemned': 2, 'deadlocked': 1, 'gap': 3, 'geraniums': 1, 'meanings': 3, 'prospect': 1, 'senselessness': 2, 'therefore': 1, 'wasted': 3, 'roller-coaster': 1, 'bachman': 1, 'ben': 1, 'richard': 2, 'richards': 1, 'stephen': 1, 'here': 2, 'bare': 3, 'caption': 1, 'episode': 2, 'heading': 1, 'interact': 2, 'interval': 1, 'play-a-role': 1, 'untitled': 1, 'if-i-stay-series': 1, 'seventeen': 1, 'my-name-is-asher-lev': 1, 'good-living': 1, 'living-without-regrets': 1, 'decadent': 1, 'exiles': 1, 'cracks': 1, 'default': 2, 'ghetto': 1, 'shipwrecked': 1, 'armory': 1, 'brainwave': 1, 'deficiency': 1, 'dim': 1, 'haughty': 1, 'illustrating': 1, 'playground': 1, 'some': 1, 'theatrics': 2, 'undermine': 1, 'vainglorious': 1, 'lions': 1, 'apprehension': 1, 'bring-about': 1, 'cerebral-attack': 1, 'checkmate': 1, 'daily-routine': 1, 'feeble': 1, 'impede': 1, 'out-of-the-blue': 1, 'pawn': 1, 'smothering': 1, 'await': 1, 'remontant': 1, 'remontant-roses': 1, 'smitten': 1, 'juicy-life': 1, 'chip': 1, 'decoding': 1, 'decrypting': 1, 'discontinue': 1, 'safeguards': 1, 'unguarded': 1, 'weaken': 1, 'everything-goes-wrong': 1, 'blaine': 1, 'kam': 1, 'ruling-government': 1, 'da-vinci': 2, 'ciel': 1, 'enjoyable': 1, 'fluent': 1, 'surprisingly': 1, 'creaking': 1, 'hinges': 1, 're-evaluating': 1, 'rusted': 1, 'able': 2, 'alleys': 1, 'blind-men': 1, 'captivating': 1, 'chat': 3, 'clock': 2, 'personal-time': 1, 'smart-phone': 1, 'social-time': 1, 'watchers': 1, 'abandon': 2, 'actually': 1, 'corporeal': 1, 'hostages': 1, 'outgrow': 1, 'solve': 2, 'dazzling': 1, 'exclusive': 1, 'invulnerable': 1, 'keeping-up-with-the-joneses': 1, 'matchless': 1, 'scintillating': 1, 'seascape': 1, 'condition': 2, 'constantly': 1, 'encounter': 1, 'in-line': 1, 'play-ball': 1, 'regularity': 1, 'engaging': 1, 'elhokar-kholin': 1, 'clinical': 1, 'cold-eyed': 1, 'factuality': 1, 'mire': 1, 'morning-after': 1, 'sodden': 1, 'unexpressed-feelings': 1, 'arcane': 1, 'locked-up': 1, 'prism': 1, 'spectrum': 2, 'tensions': 1, 'unsolved': 1, 'privileged': 1, 'rebuke': 1, 'twinkling': 1, 'afraid-to-die': 1, 'strength-character': 1, 'attune': 1, 'fabulate': 1, 'fractious': 1, 'hitches': 1, 'hunker-down': 1, 'invent': 1, 'lifestory': 1, 'make-sense': 1, 'make-time': 1, 'orientation': 1, 'road-map': 1, 'time-and-again': 1, 'in-fact': 1, 'serial-killer': 1, 'steadily': 1, 'unflinching': 1, 'firestorm': 1, 'reassess': 1, 'relearn': 1, 'tina': 1, 'to-pull': 1, 'to-pull-up-one-s-socks': 1, 'turn-into': 3, 'bridge-the-gap': 1, 'countless': 1, 'framework': 1, 'live-up-to': 1, 'needs-and-wants': 1, 'nitty-gritty': 1, 'prickly': 1, 'query': 1, 'stake-a-claim': 1, 'stir': 1, 'abysmal': 1, 'entail': 1, 'restored': 1, 'trilemma': 1, 'frustrating': 1, 'interpretations': 1, 'misgivings': 1, 'reflect-on': 2, 'tumble': 2, 'chill-out': 1, 'construe': 2, 'frame': 1, 'inventiveness': 1, 'out-of-the-box-thinking': 1, 'alleluia': 1, 'cluttered': 2, 'eschew': 1, 'flimsy': 1, 'fly-away': 1, 'glow': 1, 'new-morning': 1, 'scenarios': 1, 'the-day': 1, 'is-that-all-there-is': 1, 'swanky': 1, 'hurdle': 1, 'irrational-feeling': 1, 'keep-on-an-even-keel': 1, 'meander': 1, 'vagaries': 1, 'flora': 1, 'illiterates': 1, 'reverberate': 1, 'unresolved': 1, 'mindful-living': 1, 'mindfulness-meditation': 1, 'moments-of-life': 1, 'witnessing': 1, 'generate': 1, 'iconic': 1, 'inexorable': 2, 'tick': 1, 'betray': 1, 'evanescence': 1, 'indulgent': 1, 'insidiously': 1, 'irrevocably': 1, 'reckless': 4, 'seep-away': 1, 'apt': 1, 'cardboard-characters': 1, 'engineer': 1, 'indivuality': 1, 'panting': 1, 'pecking-order': 1, 'steer': 1, 'terra-incognita': 1, 'walking-dead': 1, 'chessboard': 1, 'comprehensive': 3, 'conked-out': 1, 'functioning': 1, 'global-story': 2, 'lame-duck': 1, 'quagmire': 1, 'screen': 1, 'singular': 1, 'tear-open': 1, 'whittle-away': 1, 'cryptic': 1, 'fault-lines': 1, 'fuzzy': 1, 'restore': 1, 'scan': 1, 'scour': 1, 'somewhere-else': 1, 'standstill': 1, 'stop-and-search': 1, 'tipping-point': 1, 'dylan-moran': 1, 'deal-with': 2, 'obituary': 1, 'depends': 1, 'describe': 1, 'etymology': 1, 'definitely': 1, 'manufactured': 2, 'to-hit-the-ground-running': 1, 'find-out': 3, 'flair': 1, 'free-rein': 1, 'free-ride': 1, 'gate': 1, 'indefinite': 3, 'indistinct': 1, 'living-on-probation': 1, 'melt-down': 1, 'non-existence': 1, 'offer': 2, 'to-become': 1, 'walk-up-to': 1, 'côté-cour-côté-jardin': 1, 'fade-in': 1, 'in-the-loop': 1, 'irreparable': 1, 'kindly': 1, 'momentous': 1, 'rousing': 1, 'sparkling': 1, 'telling': 1, 'adorn': 1, 'airbrushing': 1, 'discover-oneself': 1, 'real-self': 2, 'trappings': 1, 'deficient': 2, 'loving-relationship': 2, 'judging-from-experience': 1, 'unfathomable': 1, 'faramir': 1, 'african-american-romance': 1, 'bible-study': 9, 'christian-romance': 1, 'explicit': 1, 'humorous-romance': 1, 'romantic-suspense': 1, 'blown-off': 2, 'cruel-people': 1, 'gossiped-about': 1, 'rejected': 1, 'greater-calling': 2, 'lose-your-way': 1, 'losing-your-way': 1, 'wrong-turn': 1, 'closed-door': 1, 'everything-happens-for-a-reason': 3, 'open-doors': 2, 'trusting-the-journey': 1, 'long-process': 2, 'thread': 2, 'being-scared': 1, 'parental-love': 1, 'mohandas': 2, 'religion-in-schools': 1, 'stillbirth': 5, 'tozer': 2, 'anecdotes': 1, 'living-with-pain': 1, 'kool-aid': 1, 'magazines': 2, 'mistaken-identity': 1, 'wheels': 1, 'eqaility': 1, 'detours': 2, 'right-place': 1, 'road-blocks': 1, 'the-journey-of-life': 1, 'wrong-decisions': 1, 'wrong-turns': 1, 'fill-the-void': 1, 'horrific': 1, 'repercussions': 4, 'david': 3, 'levithan': 1, 'precarious': 1, 'mark-buchanan': 1, 'the-rest-of-god': 1, 'babyloss': 3, 'books-for-graduates': 1, 'famous-quotes-by-famous-authors': 1, 'grace-of-god': 3, 'power-of-the-soul': 1, 'quotes-for-graduates': 1, 'serendipity-quotes': 2, 'role': 1, 'roles': 1, 'inspirational-writers': 2, 'disguises': 1, 'idenity': 1, 'answered-prayer': 1, 'intercession': 2, 'ralph': 1, 'manson': 1, 'joel-osteen': 1, 'protestantism': 3, 'fulfilling': 2, 'purposeful': 3, 'unique-perspective': 2, 'ladders-to-fire': 1, 'lost-faith': 1, 'this-hunger': 1, 'invisible-things': 1, 'altering': 1, 'believable': 1, 'convincing': 2, 'nonbelievers': 1, 'flying-solo': 1, 'solo': 1, '10th-anniversary-of-9-11': 1, 'learning-from-history': 1, 'meme': 1, 'biblical-message': 7, 'people-suck': 1, 'grown-ups': 1, 'hydra': 1, 'self-confident': 1, 'songs-from-the-black-skylark': 1, 'zped-music-player': 1, 'presence-of-god': 1, 'jihad': 1, 'insipid': 1, 'opponent': 1, 'everyday-challenge': 1, 'everyday-faith': 1, 'everyday-passion': 1, 'fear-nothing': 3, 'pray-about-everything': 1, 'prayer-life': 3, 'prayerful-habits': 3, 'prayerful-life': 1, 'prayerful-women': 1, 'praying-life': 1, 'stay-strong-quotes': 1, 'alyosha-karamazov': 1, 'ivan-karamazov': 1, 'tavern': 1, 'alan-sheinwald': 2, 'magination': 2, 'those-who-matter': 2, 'articles': 1, 'wasps': 1, 'living-the-questions': 1, 'sharing-your-life-with-someone': 1, 'polytheism': 1, 'trials-and-tribulations': 1, 'tribulations': 1, 'repulsive': 2, 'servanthood': 4, 'wicca': 2, 'consecration': 1, 'seasons-of-waiting': 1, 'the-process': 1, 'challenging-status-quo': 1, 'guard': 1, 'ever-after': 1, 'everlasting-life': 1, 'tale-of-two-cities': 1, 'closed-doors': 3, 'void-of-truth': 2, 'border': 2, 'divine-heart': 4, 'art-work': 1, 'be-original': 1, 'confidence-building': 1, 'coolness': 1, 'follower': 1, 'nonconformist': 2, 'original-works': 1, 'originality-quotes': 1, 'think-for-yourself': 3, 'work-of-art': 1, 'whispers': 4, 'visualize': 1, 'visualizing': 1, 'godly': 5, 'pakistani': 1, 'weath': 3, 'story-of-a-soul': 2, 'machiavellian': 1, 'philosophicaloutlookonlife': 1, 'chrisitian': 1, 'commitment-phobic': 1, 'commitment-quotes': 1, 'divine-favour-quotes': 1, 'divine-intervention': 3, 'favour-quotes': 1, 'fulfilling-your-destiny': 2, 'god-s-sovereignty': 1, 'higher-learning': 1, 'higher-potential': 1, 'higher-self': 3, 'journey-of-your-life': 1, 'live-and-let-live': 1, 'living-and-death': 1, 'living-and-dying': 1, 'living-and-learning': 2, 'motivational-poems-about-life': 1, 'passionate-quote': 1, 'potential-for-greatness': 1, 'potential-life': 1, 'potential-quotes': 1, 'religion-christianity': 4, 'self-determination-quote': 1, '185': 1, 'mens-qoutes': 1, 'sozo': 1, 'god-is-close-to-us': 1, 'st-therese': 1, 'p130': 2, 'life-today': 2, 'matt-chandler': 2, 'philippians-4-13': 2, 'being-forced': 1, 'run-with-the-horses': 2, 'misfortune-quotes': 1, 'understood': 2, 'insperation': 1, 'apology-and-attitude': 1, 'only-way': 1, 'battlefield': 2, 'traditionalism': 1, 'leap-of-faith': 2, 'solid': 2, 'take-flight': 1, 'take-for-granted': 2, 'wing': 1, 'be-still': 1, 'focus-on-dreams': 1, 'focus-on-life': 1, 'letting-go-of-perfect': 1, 'posession': 1, 'mark-of-the-lion-series': 1, 'voice-in-the-wind': 1, 'god-s-plans': 1, 'achilles-heel': 2, 'careless': 3, 'downfall': 2, 'grass-to-grace': 2, 'humble-beginning': 2, 'inferior': 2, 'soft-spot': 2, 'a-million-suns': 1, 'tenth-avenue-north': 1, 'best-interests': 1, 'despite': 1, 'replies': 1, 'remission': 1, 'removal': 1, 'responsible': 5, 'obedience-christianity': 1, 'twloha': 2, 'blessing-in-disguise': 1, 'chandakaushik': 1, 'imperfect-life': 1, 'thankful-heart': 1, 'fiance': 1, 'vaughn': 1, 'belief-in-yourself': 1, 'inner-landscape': 2, 'followers': 7, 'salvationi': 1, 'kindess': 2, 'nationalities': 2, 'seperate': 2, 'seperated': 2, 'george-macdonald': 2, 'hurricane-katrina': 1, 'creationist': 1, 'amish': 2, 'jaded': 1, 'refuse': 1, 'agree': 2, 'carry': 1, 'detractors': 1, 'discouragements': 1, 'lower': 1, 'push-hard': 1, 'grieving-mother': 1, 'unseen-things': 1, 'sovereignty-of-god': 4, 'serving': 1, 'serving-others': 2, 'pork': 1, 'trembling': 1, 'lack-of-faith': 2, 'christiantity': 1, 'crisis-of-faith': 1, 'testimonies': 3, 'gift-of-life': 1, 'gifts-from-heaven': 1, 'life-is-good': 1, 'direction-of-your-destiny': 3, 'journey-quotes': 3, 'disputes': 3, 'activate-faith': 1, 'be-of-good-courage': 1, 'don-t-worry': 4, 'fear-presents-itself-bigger': 1, 'getting-ahead': 1, 'god-is-good': 3, 'great-things': 1, 'meant-for-you': 1, 'meant-to-be-quote': 1, 'meant-to-be-quotes': 1, 'most-high-god': 1, 'my-salvation': 1, 'our-god-is-bigger': 1, 'perspective-on-life': 1, 'speak-life': 1, 'speak-over-your-life': 1, 'stay-in-faith': 1, 'disciplines': 1, 'human-sexuality': 1, 'theology-of-the-body': 1, 'eternal-father': 2, 'blessed-life': 2, 'blessing-of-the-lord': 2, 'blessing-quotes': 2, 'blessings-in-your-life': 2, 'god-s-plans-for-your-future': 2, 'new-chapter-quotes': 2, 'new-chapters': 2, 'next-level-ministry': 2, 'next-level-quote': 2, 'next-level-quotes': 2, 'next-level-thinking': 2, 'power-of-law-of-attraction': 2, 'powerful-forces': 3, 'powerful-people': 4, 'powerful-quote': 3, 'powerful-words': 3, 'truth-quote': 3, 'divine-mansions': 2, 'mansion': 2, 'mosques': 2, 'synagogues': 2, 'follow-the-spirit': 1, 'gut-feelings': 1, 'promptings': 1, 'elevation': 1, 'talking-to-god': 1, 'dream-job': 1, 'cosmic-heart': 2, 'good-person': 3, 'heart-driven': 4, 'heart-languages': 2, 'heartful': 2, 'right-mind': 2, 'transcripts': 2, 'harris': 1, 'blinded': 5, 'finding-truth': 3, 'lamps': 3, 'seeiking-truth': 2, 'seeking-god': 2, 'spiritual-formation': 1, 'awakening-in-love': 1, 'muslim-quotes': 1, 'muslim-women': 1, 'thirteen': 1, 'exists': 1, 'brag': 1, 'gloat': 1, 'glorification': 1, 'glorification-of-god': 1, 'glorifying-god': 1, 'skepticism-and-religion': 1, 'christianity-faith': 2, 'fear-not': 1, 'incarceration': 1, 'steel': 1, 'bulgarian': 5, 'confiding-in-someone': 1, 'false-thinking': 1, 'false-thoughts': 1, 'go-ahead': 1, 'insinuation': 1, 'your-mind': 1, 'theosis': 1, 'christian-reconstruction': 1, 'free-mind': 2, 'masses': 3, 'mental-slavery': 2, 'the-masses': 2, 'tobias-herondale': 1, 'be-good': 1, 'visible': 1, 'wetness': 1, 'cosmic-system': 3, 'organs': 3, 'pantheons': 3, 'making-time-for-prayer': 1, 'juggernaut-short-story': 1, 'reasonable-faith': 3, 'fellow-human': 2, 'fellow-humans': 2, 'fellow-man': 2, 'god-s-message': 3, 'meek': 5, 'messenger': 4, 'neighbords': 2, 'non-religious': 2, 'pure-hearted': 3, 'thinking-different': 3, 'godrealization': 1, 'robert-adams': 1, 'selfrealization': 1, 'shouting': 1, 'yankees': 1, 'baptism': 4, 'infant-baptism': 2, 'future-of-an-illusion': 1, 'emerging-church': 1, 'kingdom-of-god': 5, 'not-alone': 1, 'comforting-thought': 1, 'dog-love': 1, 'dog-loyalty': 1, 'miracle-qoutes': 2, 'miracle-quotes': 2, 'measurement-system': 2, 'blending-faith': 1, 'loneliness-quotes': 1, 'brenna': 1, 'heretics-anonymous': 1, 'join': 1, 'pineapple': 1, 'immortality-of-the-soul': 1, 'justification-by-faith': 1, 'materalism-vs-spiritualism': 1, 'physicality': 1, 'suffering-of-humanity': 2, 'the-presence-of-god': 1, 'conversion': 4, 'islam-and-christianity': 1, 'matthew-5-44-45': 1, 'trial-and-tribulation': 1, 'citizen-of-the-world': 2, 'new-years-day-quotes': 1, 'quotes-for-new-year-s-eve': 1, 'alamut': 4, 'moral-responsiblility': 1, 'chin-up': 1, 'father-christmas': 1, 'john-milton': 1, 'mosaic': 1, 'pattern-recognition': 1, 'puritans': 1, 'samuel-taylor-coleridge': 1, 'salmon': 1, 'women-issues': 1, 'life-of-pi': 2, 'wondering-what-if': 1, 'learned': 2, 'wiser': 2, 'yann-martel': 1, 'light-of-the-world': 2, 'pastor': 2, 'scarred': 2, 'magickal-studies': 1, 'legalism': 1, 'romans-5-1': 1, 'controversial': 1, 'leaving-the-saints': 1, 'mormons': 1, 'nibley': 1, 'connects': 2, 'standing-up': 6, 'stands-by-his-heart': 2, 'unites': 4, 'spine': 1, 'where-faith-meets-art': 1, 'imparting': 2, 'impenetrable': 1, 'relationships-l': 1, 'beleif': 1, 'inspiritional': 1, 'billy-ray-chitwood': 1, 'closing-line': 1, 'grail': 3, 'seeker-of-fate': 3, 'infant-death': 2, 'miscarriage': 2, 'sids': 2, 'worlviews': 1, 'convince': 2, 'persuading': 2, 'carmichael': 1, 'dohnavur': 1, 'eaters-of-the-dead': 1, 'schisms': 1, 'conftront': 1, 'emptiness-in-heart': 1, 'the-church': 2, 'ecclesiology': 1, 'dallas': 1, 'lorraine-heath': 1, 'texas-glory': 1, 'anti-intellectualismlism': 1, 'convert': 1, 'stimulation': 1, 'spectacular': 1, '2003': 1, 'akhmatova': 1, 'actions-over-thoughts': 1, 'positive-mind': 1, 'power-of-belief': 2, 'hecht': 1, 'mcgilchrist': 1, 'faithless': 1, 'defense-mechanisms': 1, 'self-protection': 2, 'every-day': 1, 'faith-has-won': 1, 'fear-lost-it': 1, 'filled': 2, 'full-of-faith': 1, 'win-the-game': 1, 'win-won': 1, 'answers-to-prayer': 1, 'answers-to-prayers': 1, 'appointed-time': 1, 'patient-in-life': 1, 'patient-problems': 1, 'vision-quote': 1, 'visions-of-the-prophet': 1, 'waiting-for-you': 1, 'waiting-on-god': 1, 'daily-inspirational-quotes': 2, 'graveyard': 2, 'humanity-advice': 2, 'holiness-of-god': 1, 'pet-peeve': 1, 'pettiness': 1, 'deed': 2, 'techology': 1, 'pilgrims-progress': 1, 'alfred-noyes': 1, 'enduring-spirit': 1, 'noteworthy': 1, 'one-bucket-of-tears': 1, 'talented': 1, 'kraken': 1, 'kronos-rising': 1, 'joe-solomon': 1, 'recover': 1, 'jewel': 1, 'tirian': 1, 'fountain': 2, 'oasis': 1, 'baggage': 2, 'h-h': 1, 'undying-devotion': 1, 'unfreedom': 1, 'rebels': 5, 'gardener': 3, 'house-of-prayer': 2, 'man-made-faith': 1, 'nyc': 1, 'soldiering': 1, 'communion': 3, 'inpiration': 1, 'brain-cancer': 1, 'brain-tumor': 1, 'new-orleans': 1, 'romantic-thriller': 1, 'dbc-pierre': 1, 'vernon-god-little': 1, 'gjegevey': 1, 'inapt': 1, 'the-inexplicable-eternal': 1, 'woodlouse-kinden': 1, 'revivalist': 1, 'abraham': 2, 'bible-stories': 1, 'seven': 1, 'family-secrets': 1, 'mothers-and-daughers': 1, 'a-raisin-in-the-sun': 1, 'lorraine-hansberry': 1, 'constellation': 1, 'reason-for-everything': 1, 'drjayce': 2, 'jayce': 1, 'corrupted-politicians': 1, 'nepal': 1, 'public-institutions': 1, 'public-organization': 1, 'sustainable-development-goals': 1, 'gravity-and-grace': 2, 'sorcery': 2, 'tombs-of-atuan': 1, 'ursula-k-le-guin': 1, 'self-awaken': 1, 'co-dependant-arising': 1, 'dependant-arising': 1, 'dependency': 1, 'interdependency': 1, 'banality': 2, 'accordance': 1, 'obedient': 1, 'tibetan-buddhism': 2, 'unwanted-pregnancy': 1, 'inspirationn': 1, 'agendas': 3, 'cyber-bullying': 2, 'emotionless': 3, 'hear-say': 2, 'prejudgment': 3, 'spiritual-effort': 1, 'christian-supernatural-fiction': 1, 'redemption-trilogy': 1, 'supernatural-romance': 1, 'vampire-romance': 1, 'young-adult-romance': 1, 'batsa': 1, 'contemporary-romance': 1, 'el-montes': 1, 'favorite-book': 1, 'favorite-lines': 1, 'favorite-quotes': 1, 'jenna': 1, 'logan': 1, 'must-read': 1, 'perfectly-damage': 1, 'mistakes-we-make': 1, 'great-commission': 1, 'proselytize': 1, 'reading-scriptures': 2, 'seeking-fate': 2, 'self-realilsation': 2, 'calling-people': 1, 'saved-by-grace': 1, 'daily-task': 1, 'services': 1, 'working-ethics': 1, 'love-for-divine': 1, 'spiritual-change': 1, 'spiritual-insights': 1, 'biblical': 2, 'neglected-but-undefeated': 1, 'borrowing': 1, 'rigidity': 2, 'mississippi': 1, 'provision': 4, 'dominic': 1, 'beleive': 1, 'standing-firm': 2, 'shaun-f-messick': 1, 'worlds-without-end': 1, 'israelites': 2, 'judeo-christian': 1, 'indestructible': 1, 'posturing': 1, 'executive-ego': 1, 'stage-4': 1, 'chastity': 1, 'hybrids': 1, 'indigo-children': 1, 'intercultural': 1, 'international-poetry-day': 1, 'millennial-generation': 1, 'millennials': 1, 'modern-poets': 1, 'lent': 3, 'vain-hopes': 1, 'popular-quotes': 1, 'excommunicated': 1, 'religious-order': 1, 'tristus-edainien': 1, 'st-paul-s': 1, 'hinderances': 1, 'an-emergent-manifesto-of-hope': 1, 'a-rambling-wanderer-s-tale': 1, 'the-river-the-unsung-love-story': 1, 'penitence': 1, 'language-of-faith': 1, 'language-of-prayer': 1, 'one-faith': 1, 'l-m-browning': 1, 'ruminations-at-twilight': 1, 'descendant': 1, 'a-dhé': 1, 'caitlín-maude': 1, 'gaeilge': 1, 'dominican': 1, 'image-of-god': 1, 'sentiments': 1, 'hope-lost': 1, 'lando': 1, 'indulgences': 1, 'martin-luther': 1, '131': 1, 'demand-salvation': 1, 'bronte-sisters': 1, 'david-sikhosana': 2, 'peaceful-coexistence': 2, 'religious-harmony': 10, 'clouded-thoughts': 1, 'migrants': 1, 'undocumented': 1, 'undocumented-immigrants': 1, 'bounty-hunter': 1, 'nonbeliever': 1, 'visionless': 1, 'guiding-light': 1, 'faith-quotation': 1, 'giving-thanks': 1, 'giving-thanks-quote': 1, 'gratitude-quote': 1, 'spirituality-quote': 1, 'archivist': 1, 'false-idols': 2, 'inherent-rights': 1, 'trans': 3, 'transgender': 3, 'inclusive': 1, 'fighting-quotes': 1, 'maoism': 1, 'stranger-quotes': 1, 'dushawn': 1, 'religious-intolerance': 4, 'religious-extremism': 4, 'lakaysha-e': 1, 'christian-nationalism': 6, 'hate-crime': 3, 'fundamentalists': 1, 'life-challenges': 1, 'augustine-of-hippo': 1, 'god-s-creation': 1, 'man-as-organism': 1, 'buddhadharma': 1, 'francine-rivers-quotes': 1, 'the-masterpiece': 1, 'reaching': 3, 'god-s-word': 2, 'settlement': 1, 'childrens-books': 1, 'wholistic-christianity': 1, 'idol-worshiping': 1, 'sanatan': 2, 'idol-worship': 1, 'idol-worshipping': 1, 'step-by-step': 3, 'tested': 2, 'life-bearing': 1, 'science-and-god': 1, 'st-augustine': 2, 'huguenots': 1, 'the-king-s-command': 1, 'unearth-the-tides': 2, 'true-faith': 2, 'true-repentance': 1, 'housing-insecurity': 3, 'birth-control': 1, 'providence-of-god': 1, 'israel': 2, 'black-liturgies': 3, 'cole-arthur-riley': 2, 'this-here-flesh': 3, 'black-lives-matter': 2, 'just-keep-swimming': 1, 'cat-wisdom': 1, 'mercies': 1, 'wholeness-quotes': 1, 'body-of-christ': 1, 'genuine-faith': 2, 'true-disciples': 1, 'kingdom-of-trash': 1, 'created': 2, 'royalty-romance': 3, 'wholesome': 3, 'clean-romance': 2, 'wholesome-romance': 1, 'quandary': 1, 'when-all-else-fails': 1, 'the-redwyn-chronicles': 1, 'spiritual-direction': 1, 'from-blood-and-ash': 1, 'need-to-see-it-to-believe-it': 1, 'poppy': 1, 'poppy-balfour': 1, 'seeing-is-believing': 1, 'suicide-prevention': 1, 'intuitive-abilities': 1, 'faith-quotations': 3, 'goal-quotes': 1, 'zen-quotations': 1, 'zen-quotes': 1, 'zen-story': 1, 'cinderella-retelling': 1, 'nondual-philosophy': 1, 'made-me-do': 1, 'emma-törzs': 1, 'esther': 1, 'esther-kalotay': 1, 'ink-blood-sister-scribe': 1, 'ben-shapiro-show': 1, 'physical-ailments': 1, 'post-transplant': 1, 'transplant': 2, 'believes': 3, 'bear-grylls': 1, 'justine': 1, 'tedt': 1, 'growing-pains': 1, 'trials-and-tribulation': 1, 'victory-and-triumph': 1, 'love-hope': 1, 'dain-aetos': 1, 'god-s-timing': 1, 'soul-contracts': 1, 'nuns': 1, 'redeem': 1, 'salvage': 1, 'service-of-others': 1, 'almost-there': 1, 'life-s-almosts': 1, 'moby-dick': 2, 'starbuck': 1, 'shams-of-tabriz': 2, 'unshakable': 1, 'ancient-egypt': 1, 'humanistic-psychology': 1, 'appeasing': 1, 'false-humility': 1, 'fairytale-retelling': 5, 'ben-hur': 1, 'god-s-healing': 1, 'god-s-peace': 1, 'diabetes-type-i': 2, 'marriage-and-divorce': 2, 'counterculture': 1, 'theology-quotes': 1, 'the-codebreakers': 1, '2666': 1, 'bolano-quotes': 1, 'roberto-bolano': 1, 'christian-apologetics': 1, 'inner-mind': 1, 'fighting-to-survive': 1, 'uknown': 1, 'power-of-faith': 2, 'christian-wa': 1, 'cultural-integration': 1, 'interfaith-poetry': 1, 'fighting-god': 1, 'god-s-omniscience': 1, 'religion-spiritualityion': 1, 'orthopraxy': 1, 'sainthood': 1, 'st-francis': 2, 'kite': 1, 'god-and-death': 1, 'darkest-hour': 2, 'sustain': 2, 'abstain': 1, 'obtain': 1, 'good-people': 3, 'responsibility-quotes': 1, 'nutrients': 1, 'nutrition': 2, 'nutritonal': 1, 'supplement': 1, 'supplements': 1, 'financial-literacy': 1, 'religious-philosophy': 2, 'mutable': 1, 'cross-of-christ': 1, 'cross-of-jesu': 1, 'julian-of-norwich': 1, 'all-of-us': 1, 'bigger-than': 1, 'there-is-something-out-there': 1, 'bibles-in-the-fiction-section': 1, 'divine-conspiracy': 2, 'warm-heart': 1, 'distortions': 1, 'fragrance-of-love': 1, 'religious-studies': 3, 'religion-and-philoshophygion': 1, 'god-and-life': 1, 'god-and-miracles': 1, 'god-at-work': 1, 'god-is-love': 1, 'islamic-poetry': 2, 'rumi-quotes': 2, 'sufi-quotes': 3, 'god-s-grandeur': 1, 'ecumenicism': 1, 'jesus-wins': 1, 'revival': 1, 'quotes-about-being-catholic': 1, 'quotes-about-faith': 1, 'questions-of-faith': 1, 'questions-of-life': 1, 'trust-your-instincts': 1, 'faith-without-works': 1, 'hope-evermore': 1, 'life-inspirational-motivation': 1, 'finest': 2, 'devotional': 2, 'narrow-way': 1, 's': 1, 'senegal': 1, 'gayness': 1, 'inspiring-quotes-on-life': 1, 'narcissistic-abuse': 1, 'diversity-and-inclusion': 1, 'spellwork': 1, 'strong-quotes': 2, 'struggle-quotes': 1, 'practices': 1, 'credinta': 1, 'dumnezeu': 1, 'griji': 1, 'religie': 1, 'staret': 1, 'fasting-and-praying': 1, 'liturgical-year': 1, 'crestin': 1, 'crestinism': 1, 'religios': 1, 'romania': 1, 'tasks': 1, 'acts': 2, 'shame-quotes': 1, 'savior': 2, 'options-in-life': 1, 'grounding': 1, 'consensus-reality': 2, 'tulpa': 2, 'book-of-job': 3, 'dumas': 1, 'monte-cristo': 1, 'believing-in-god': 1, 'jesus-quotes': 1, 'weakness-quotes': 2, 'philosophy-in-fiction': 1, 'philosophy-of-faith': 1, 'humanist-poem': 1, 'eucharist': 2, 'eucharistic-adoration': 1, 'emotional-intelligence-quotes': 1, 'leaadership': 1, 'assumption-collapse': 1, 'small-gods': 1, 'word-of-faith': 1, 'conceptualization': 1, 'enforcement': 2, 'lawless': 2, 'officers': 1, 'report': 1, 'sheriff': 2, 'self-esteem-self-help-book': 1, 'faith-in-god-s-truth': 2, 'faith-in-gods-truth': 1, 'god-s-purpose': 1, 'obedience-to-god': 1, 'submission-to-god': 1, 'pope-quotes': 3, 'shield': 2, 'requests': 1, 'know-how-to-pray': 1, 'fraudulent': 1, 'airlines': 3, 'budget': 2, 'southwest': 1, 'sacrelige': 1, 'secret-societies': 1, 'fishes-trusting-god': 1, 'beauty-and-the-beast': 1, 'bono': 1, 'u2': 1, 'loose-ends': 1, 'mutual-support': 1, 'divine-plan': 1, 'supply': 1, 'inner-man': 3, 'the-metaphors-of-prayer': 1, 'access': 2, 'decoding-prayer': 1, 'average-people': 1, 'healing-with-love': 10, 'spiritualiyt': 1, 'cancer-journey': 16, 'engery-healing': 1, 'go-with-the-flow-quotes': 1, 'river-quotes': 1, 'clarityy': 1, 'fast': 2, 'mother-s-day-poems': 1, 'our-mothers': 1, 'respect-the-mist': 1, 'temporarily': 1, 'carrie': 1, 'gods-leading': 1, 'help-from-above': 2, 'universalism': 3, 'declare': 1, 'reinforced': 1, 'american-culture': 2, 'bothers': 1, 'intimidate': 1, 'marra': 1, 'nettle-and-bone': 1, 'no-justice': 1, 't-kingfisher': 1, 'religious-conversion': 2, 'road-of-life': 1, 'assured': 1, 'sent': 1, 'retreating': 1, 'john-3-16': 1, 'beautiful-womanan': 1, 'romance-novel': 1, 'comic-books': 1, 'deities': 1, 'personal-god': 1, 'perplexing': 1, 'outnumbered': 1, 'alizayd-al-qahtani': 1, 'christain-life': 1, 'daniel-nayeri': 1, 'jesus-is-better': 1, 'losing-faith': 2, 'congruence': 1, 'congruent': 1, 'conscience-quotes': 1, 'assuredness': 1, 'stands': 1, 'encouragement-quotesouragement': 1, 'cognitive-science': 1, 'cohesion': 1, 'bhagwan-krishna': 1, 'gita': 1, 'krishna': 1, 'krishna-quotes': 1, 'shri-krishna-quotes': 1, 'gnosticism': 1, 'alaskan': 1, 'alaskan-author': 1, 'casual': 1, 'informal': 1, 'forsake': 1, 'opportunity-cost': 1, 'kidnapping': 1, 'fairytale-romance': 1, 'tiny-tin-house': 1, 'osha': 1, 'nondenominational': 1, 'personal-accountability': 1, 'brave-person': 1, 'liberty-quotes': 1, 'relgious-responsibility': 1, 'healthy-relationships': 1, 'supernatural-peace': 1, 'quiet-time': 1, 'group-think': 1, 'falsification-principle': 1, 'verification-principle': 1, 'portal': 1, 'bookquote': 1, 'faith-in-men': 1, 'holy-bible': 1, 'holyspirit': 1, 'ancestors-quote': 1, 'harmony-quotes': 1, 'stand-firm': 2, 'begin-again': 1, 'the-no-new-normal-new-normal': 3, 'melville': 1, 'cancer-fighter': 3, 'cancer-survivor': 3, 'рак': 3, 'українська-література': 3, 'хвороба': 3, 'compass': 2, 'oversight': 1, 'difference-in-opinion': 2, 'opinion-quotes': 1, 'global-harmony': 1, 'love-and-kindness': 1, 'following-jesus': 1, 'prayer-quotations': 1, 'belief-trust-god': 1, 'emuna': 1, 'emunah': 1, 'preddiction': 1, 'twist-of-fate': 1, 'promissory-materialism': 1, 'second-coming': 1, 'action-thriller': 1, 'investigate': 2, 'thriller-novels': 1, 'the-devil': 1, 'the-great-lie': 1, 'best-care': 1, 'policy-making': 1, 'the-perfect-muslimah': 2, 'adam-bede': 1, 'george-eliot': 1, 'bluebirds': 1, 'corporate-life': 1, 'employer': 1, 'visitor': 1, 'believe-in': 1, 'lives-quotes': 1, 'pandemic-quotes': 1, 'piece-of-mind': 1, 'bookquotes': 2, 'lasts': 1, 'look': 3, 'brandon-mull': 1, 'crucifixion': 1, 'beliver': 1, 'sexual-abuse-healing': 1, 'wounds-to-the-heart': 1, 'the-gospel': 1, 'the-gospel-of-jesus-christ': 1, 'phrophet': 3, 'closed-mind': 1, 'religion-vs-faith': 1, 'demeanor': 1, 'traditions': 3, 'one-of-a-kind': 1, 'trailblazer': 1, 'abnégation': 1, 'natural-world': 1, 'princess-diana': 1, 'pat-of-silver-bush': 1, 'silver-bush': 1, 'wrong-person': 1, 'edhi': 1, 'arrogance-of-the-modern': 1, 'complementarity': 1, 'paradigm': 1, 'god-s-faithfulness': 1, 'eight-life-lessons': 1, 'eight-people': 1, 'lacking': 1, 'christian-living-inspirational': 1, 'faith-quotations-spirituality': 1, 'boxing-ring': 1, 'good-shepherd': 1, 'brideshead-revisited': 1, 'evelyn-waugh': 1, 'take': 2, 'cards': 1, 'dealt': 1, 'daily-struggle': 1, 'power-of-prayer': 1, 'djuna-barnes': 1, 'nightwood': 1, 'caribbean-literature': 1, 'pineconesandspaceships': 4, 'pivot': 4, 'god-s-first-pen': 2, 'thewritewarrior': 2, 'christia': 1, 'forefathers': 1, 'binary': 1, 'saint': 5, 'chaos-theory': 3, 'tom-mcleish': 2, 'pathway': 2, 'podium': 1, 'mark-batterson': 1, 'the-circle-maker': 1, 'phylosophy-of-life': 1, 'debasishmridha': 1, 'time-changes': 1, 'trust-the-timing-of-your-life': 1, 'misattributed-gloria-steinem': 1, 'rearden': 1, 'willful-blindness': 1, 'self-betrayal': 1, 'melinda': 1, 'aggravation': 2, 'hardcore': 1, 'beautiful-writing': 2, 'facing-facts': 1, 'faits-accomplis': 1, 'journalist': 1, 'absolutes': 6, 'phrases': 1, 'truth-hurts': 1, 'snobbishness': 1, 'trashy-books': 1, 'self-mutilation': 2, 'a-new-world': 1, 'heart-beats': 1, 'religious-doctrines': 1, 'extras': 1, 'coming-out-of-the-closet': 1, 'msnbc': 1, 'rachel-maddow': 1, 'hoshi-wa-utau': 1, 'acquaintances': 2, 'hard-truths': 8, 'tough-love': 2, 'diaries': 1, 'omissions': 1, 'nature-of-reality': 1, 'falsity': 4, 'max-brooks': 1, 'world-war-z': 1, 'precious': 2, 'the-dark-artifices': 2, 'truth-and-lies': 7, 'kindlehighlight': 2, 'dislike': 1, 'opheliac': 2, 'salem-falls': 1, 'straightforwardness': 1, 'captain-america': 1, 'character-death': 1, 'con': 1, 'lucian-kiggs': 1, 'religionists': 1, 'fellow-feeling': 1, 'mutual-attachment': 1, 'chastisement': 1, 'conqueror': 1, 'virii': 1, 'viruses': 1, 'disagreements': 1, 'documented': 1, 'recount-of-war': 1, 'warring': 2, 'help-harm': 1, 'artaud': 1, 'telling-truth': 1, '1984': 1, '2017': 1, 'alternative-facts': 2, 'conciousness': 1, 'doublethink': 2, 'hypnosis': 1, 'beatiful': 1, 'cowards': 1, 'post-traumatic-stress-disorder': 1, 'atrocities': 2, 'dissociative': 2, 'graves': 2, 'horrible': 2, 'posttraumatic-stress-disorder': 2, 'psychological-trauma': 2, 'recovered-memory': 2, 'repressed-memory': 2, 'society-denial': 3, 'trauma-therapy': 2, 'unspeakable': 2, 'violations': 2, 'macy': 1, 'wes': 1, 'trimuph': 1, 'lemmy': 1, 'jim-elliot': 1, 'part-of-self': 1, 'simper': 1, 'misattributed-to-anne-bronte': 1, 'no-source': 1, 'vin': 1, 'darkfever': 2, 'karen-marie-moning': 1, 'neighbor': 2, 'astonishment': 1, 'impious': 1, 'mob': 1, 'the-gods': 1, 'corporations': 4, 'inaacuracy': 1, 'portraits': 1, 'portraiture': 1, 'bad-laws': 2, 'democracy-gone-wrong': 2, 'evil-laws': 2, 'referrendum': 2, 'votings': 2, 'auburn': 1, 'collen-hoover': 1, 'confess': 1, 'owen': 1, 'complacence': 1, 'born-here': 1, 'immigrant': 1, 'latter-day-saints': 1, 'neal': 1, 'phenpomena': 1, 'rigor': 1, 'tigerclaw': 1, 'tigerstar': 1, 'inclusiveness': 1, 'anne-lamott': 1, 'continuity': 1, 'citizenship': 1, 'defending-your-country': 1, 'not-in-my-name': 1, 'protesting': 1, 'speak-out': 1, 'speak-up': 4, 'speak-up-and-step-up': 1, 'speaking-up': 2, 'unpatriotic': 1, 'whistle-blower': 1, 'whistle-blowers': 1, 'whistle-blowing': 1, 'ac': 1, 'all-the-time': 1, 'fiddly': 1, 'multi-layered': 1, 'paradoxical': 1, 'phenomena': 1, 'renji': 1, 'bumpy': 1, 'shoe': 1, 'splinter': 1, 'steam-ahead': 1, 'unendurably': 1, 'bear-in-mind': 1, 'expiry-date': 1, 'probation': 1, 'sentenced-to-death': 1, 'strike': 1, 'treacherous': 1, 'scoundrels': 2, 'collide': 1, 'fanciful': 1, 'hard-time': 2, 'invented': 1, 'items': 1, 'parallel': 1, 'blame-storming': 2, 'commissioned': 1, 'constructions': 1, 'convulsions': 1, 'crack': 1, 'fibs': 1, 'peril': 2, 'resulting': 1, 'under': 1, 'angry-men': 1, 'crushes': 1, 'good-life-quotes': 2, 'inconsistent-behavior': 1, 'jealous-women': 1, 'seeking-closure': 1, 'alison-weir': 1, 'innocent-traitor': 1, 'jane-grey': 1, 'complexions': 1, 'global-peace': 1, 'parts': 1, 'refelections': 1, 'root-races': 1, 'sum': 1, 'tribes': 2, 'truthism': 1, 'universal-love': 2, 'we-are-one': 1, 'construcs': 1, 'generously': 1, 'nicely': 1, 'obscure': 1, 'palm-off': 1, 'pokerface': 1, 'polished': 3, 'rimpling-water': 1, 'shrouded': 1, 'swiftly': 1, 'watchword': 1, 'insecure-men': 1, 'keeping-it-real': 1, 'no-other-reason': 1, 'plausable': 1, 'words-matter': 1, 'brutal-honesty': 2, 'conartists': 1, 'manipulators': 1, 'real-truth': 1, 'self-reflecting': 1, 'radiohead': 1, 'cynicsm': 1, 'hard-boiled-egg': 1, 'bowling': 1, 'bubble': 1, 'factoid': 1, 'reiterate': 1, 'tantalizing': 1, 'unremitting': 1, 'communicate': 4, 'spend': 1, 'untruths': 1, 'brownie-point': 1, 'friendliness': 3, 'hellos': 1, 'human-family': 1, 'mirrored': 1, 'mirroring': 1, 'radiate': 1, 'spiritual-reward': 1, 'healthy-people': 1, 'passive-agressive-behavior': 1, 'spiritual-growth-self-denial': 1, 'stunted': 1, 'victom': 2, 'victomization': 2, 'a-great-and-terrible-beauty': 2, 'libba-bray': 2, 'mundane-life': 1, 'wrapped-up': 1, 'imbecility': 1, 'logicians': 1, 'sophistry': 1, 'babylon-5': 1, 'appeasers': 1, 'authorial-license': 1, 'white-lies': 2, 'aprioristic': 1, 'combat': 1, 'conceptions': 1, 'hidden-sides': 1, 'preconceived-ideas': 1, 'hemming-and-hawing': 1, 'luminiscent': 1, 'manipulations': 2, 'skyline': 1, 'sledgehammer-subtlety': 1, 'untainted': 1, 'cluster-shell': 1, 'deflecting': 1, 'drowning-questions': 1, 'muddying-the-water': 1, 'mutual-trust': 1, 'paltering': 1, 'fullness': 1, 'blamestorming': 1, 'brainstorming': 1, 'culprits': 1, 'on-duty': 1, 'vilify': 1, 'camouflaged': 1, 'dummies': 2, 'gullible': 2, 'smokescreen': 1, 'sworn-enemies': 1, 'georgia-mason': 1, 'ruthless': 1, 'ead-duryan': 1, 'prioress': 1, 'heure': 1, 'veil': 1, 'abmition': 2, 'slogan': 1, 'peter-grant': 1, 'existence-of-magic': 1, 'cammie-morgan': 1, 'zachary-goode': 1, 'simplicity-in-life': 1, 'truisms': 2, 'oceanian-fiction': 5, 'southeast-asia': 5, 'vietnam': 3, 'war-recount': 5, 'demotivational': 1, 'nihilistic': 1, 'tim-keller': 1, 'having-children': 1, 'journey-to-truth': 2, 'knowlsun': 2, 'light-heart': 2, 'path-to-knowledge': 2, 'path-to-light': 2, 'path-to-truth': 2, 'truth-poetry': 2, 'evelyn': 1, 'pomposity': 1, 'preface-to-brissot-s-address': 1, 'contemplate': 2, 'creators': 1, 'the-way-i-used-to-be': 1, 'confidences': 1, 'sharing-secrets': 2, 'receptive': 1, 'accurate': 1, 'concrete': 1, 'fine-print': 1, 'obtrusive': 1, 'smugly': 1, 'transparent': 4, 'true-colors': 2, 'two-goody-shoes': 1, 'virtuous-person': 1, 'clean-up': 1, 'drake-chronicles': 1, 'philsophy': 1, 'deceit-quotes': 1, 'donald-trump-quotes': 1, 'facts-quotes': 1, 'fraudulence': 1, 'president-trump': 1, 'president-trump-quotes': 1, 'threatening': 1, 'seconds': 2, 'richard-adams': 1, 'watership-down': 1, 'misandry': 1, 'sexes': 1, 'useful-idiots': 1, 'the-horror': 1, 'imbroglios': 1, 'rough-and-tumble': 1, 'shuffle-the-cards': 1, 'broken-promises': 1, 'romig': 1, 'on-the-road': 1, 'wayfarer': 1, 'albery-borris': 1, 'crash-into-me': 1, 'epistimology': 1, 'capability': 1, 'either': 1, 'or': 1, 'ancient-myth': 1, 'christianity-is-immoral': 1, 'christopher-hitchens': 1, 'compulsory': 1, 'divine-dictatorship': 1, 'eternal-punishment': 1, 'great-atheist-argument': 1, 'hitchens': 1, 'hitchslap': 1, 'human-sacrifice': 1, 'immoral-christianity': 1, 'love-your-neighbor': 1, 'supreme-being': 1, 'beuty': 1, 'block': 1, 'monkies': 1, 'summer-collection': 1, 'all-different': 1, 'ancient-chinese-wisdom': 1, 'complicated-people': 1, 'fortune-cookie-advice': 1, 'ground-cover': 1, 'guidelines': 1, 'messed-up-people': 1, 'observations-on-life': 1, 'speculations': 1, 'variations': 1, 'viewing-things-different': 1, 'blur-the-lines': 1, 'bribe-payers': 1, 'chopping-block': 1, 'debilitating': 1, 'eventually': 1, 'expecting': 1, 'facts-and-fables': 1, 'fool-people': 1, 'gridlock': 1, 'imprisoned': 1, 'red-queen': 2, 'obviousness': 3, 'stasis': 1, 'illision': 1, 'appetite': 1, 'the-whole-truth': 1, 'whole-picture': 1, 'willful': 1, 'wanted': 1, 'detail': 1, 'kids-reading': 1, 'formless': 2, 'holographic-universe': 2, 'non-resistence': 2, 'samadhi': 2, 'self-acceptence': 2, 'decent': 1, 'directive': 1, 'diretion': 1, 'don-t-lie': 1, 'don-t-tell-lies': 1, 'kinds-of': 1, 'modest': 1, 'tell-the-truth': 2, 'family-humour': 1, 'higschool': 1, 'it-s-kind-of-a-funny-story': 1, 'passage-of-time': 1, 'troy': 1, 'dishonest': 1, 'flaw': 1, 'rumour': 1, 'rumours': 2, 'scandal': 1, 'white-lie': 1, 'stages-of-grief': 1, 'supressing-feelings': 1, 'loving-yourself-unconditionally': 1, 'motivations': 1, 'much': 1, 'recieve': 1, 'them': 1, 'bearing': 1, 'valor': 1, 'dick': 1, 'judging-by-appearance': 1, 'jumping-to-conclusions': 1, 'outer-appearance': 1, 'what-s-inside-that-counts': 1, 'treating-others': 1, 'unhealthy-habits': 1, 'all-quiet-on-the-western-front': 1, 'underestimation': 1, 'beards': 1, 'shaving': 1, 'anna-kendrick': 1, 'adoption-and-attitude': 1, 'stigma': 1, 'sentient-beings': 1, 'be-smart': 2, 'making-good-decisions': 2, 'neferet': 1, 'mundanity': 1, 'small-pleasures': 1, 'loving-ways': 1, 'negotiate': 1, 'reinforce': 1, 'miss-moore': 1, 'romantic-ideals': 1, 'be-authentic': 1, 'be-honest': 2, 'olen-steinhauer': 1, 'the-tourist': 1, 'mikey': 1, 'chose': 1, 'crave': 1, 'mysterious-ways': 1, 'select': 1, 'selection': 1, 'simple-quote': 1, 'sociopath': 2, 'sociopaths': 2, 'sociopathy': 2, 'depository': 1, 'lesseon': 1, 'rival': 1, 'defect': 1, 'shortsightedness': 1, 'dam': 2, 'trickle': 1, 'sad-reality': 1, 'ball-scene': 1, 'bumpy-paths': 1, 'irrefutable-facts': 1, 'living-on-lies': 1, 'pitfalls': 1, 'power-and-glory': 1, 'speaking-candidly': 1, 'unbridled': 1, 'wrangles': 1, 'no-self': 2, 'satori': 2, 'the-kingdom-of-god': 2, 'matt': 1, 'mattie': 1, 'medications': 2, 'physical-conditions': 1, 'harmonysoup-com': 1, 'jeanette-winterson': 1, 'sexing-the-cherry': 1, 'market': 1, 'two-sides': 1, 'broke': 1, 'public-services': 1, 'blanket': 1, 'brute-force': 2, 'tone': 1, 'accusation': 1, 'calumny': 1, 'extrasensory-perception': 1, 'hell-fire': 1, 'innermind': 1, 'keep-shut': 1, 'occultism': 2, 'otherworld': 1, 'shut-the-hell': 1, 'slandering': 1, 'the-real-devil': 1, 'sensationalism': 1, 'give-your-best-shot': 1, 'tough-life': 1, 'dull-job': 1, 'arundhati-roy': 1, 'government-corruption': 3, 'narmada-valley': 1, 'blindsighted': 1, 'erasing-the-past': 1, 'false-confidence': 1, 'false-worth': 1, 'forgiving-others': 1, 'inner-joy': 1, 'live-free': 1, 'proving-worth': 1, 'real-value': 1, 'restituition': 1, 'seeking-approval': 1, 'steps-of-repentance': 1, 'truth-follower': 1, 'speak-your-heart': 1, 'bettering-the-world': 1, 'changing-others': 1, 'commonalities': 1, 'global-change': 1, 'globe': 1, 'help-people': 1, 'saving-the-world': 1, 'memorable-words': 1, 'ephemera': 1, 'ephemeral': 1, 'expiry-dates': 1, 'semblance': 1, 'leowin': 1, 'sacrament': 1, 'empowering-quotes-for-women': 1, 'stephanie-lahart': 1, 'stephanie-lahart-quotes': 1, 'self-examination': 2, 'love-games': 1, 'trickster': 1, 'grief-and-loss-quotes': 1, 'grieve': 1, 'pain-goes-away': 1, 'george-orwell': 1, 'the-maid': 1, 'yalit': 1, 'dido-stargaze': 1, 'dido-stargaze-quotes': 1, 'nice-quotes': 1, 'relationship-problems': 1, 'maven': 1, 'stigmatization': 1, 'sect': 1, 'deeper-self': 1, 'false-self': 1, 'inflated-reality': 1, 'straightness': 1, 'downside-ghosts': 1, 'children-of-blood-and-bone': 1, 'zelie': 1, 'unsatisfaction': 1, 'veils': 1, 'rash': 1, 'criminals': 1, 'offence': 1, 'representation': 3, 'self-revelation': 1, 'crimes-against-humanity': 1, 'tom': 1, 'elven-charm': 2, 'sensibility': 1, 'thief-at-night': 1, 'thief-of-love': 1, 'thieves': 3, 'general-conference': 1, 'october-1998': 1, 'stargaze': 1, 'stargazing': 1, 'marc-ramos': 1, 'preface': 1, 'saint-joan': 1, 'blind-to-truth': 1, 'character-assassination': 1, 'deceased-people': 1, 'falsely-accused': 1, 'falsely-destroyed': 1, 'gossip-quotes': 2, 'guilt-by-trial': 1, 'guilty-conscience': 1, 'hung-jury': 1, 'inestigators': 1, 'judging-actions': 1, 'judicial-system': 2, 'jury-hearing': 1, 'media-distortion': 1, 'misjudged': 1, 'misjudgment': 2, 'press': 3, 'recognize-truth': 1, 'repuation-mangement': 1, 'tangerines': 1, 'telling-the-truth': 2, 'trust-your-heart': 1, 'truth-and-justice': 2, 'economics-society': 1, 'institutional-oppression': 1, 'institutionalized': 1, 'misfits': 1, 'outsiders': 4, 'social-outcasts': 1, 'surplus': 1, 'administration': 4, 'bail-out': 2, 'banking-system': 2, 'best-leader': 2, 'big-business': 2, 'big-pharma': 2, 'bipartisan': 2, 'companies': 2, 'diplomatic': 2, 'divides': 2, 'election': 2, 'for-the-people': 2, 'foreign-relations': 2, 'funding': 2, 'good-leader': 2, 'honest-broker': 2, 'incentives': 2, 'indentifies': 2, 'lobbyist': 2, 'make-america-great-again': 2, 'man-on-the-street': 2, 'money-driven': 2, 'mortage': 2, 'mortages': 2, 'oil': 2, 'oil-tycoon': 2, 'peacekeeper': 2, 'pharma': 2, 'pharmaceutical': 2, 'pick-a-leader': 2, 'selecting': 2, 'serves-the-people': 2, 'sly': 2, 'spending': 2, 'street-level': 2, 'we-the-people': 2, '1962': 1, '363': 1, 'priscus': 1, 'be-real': 2, 'emotional-responses': 1, 'games-people-pleay': 1, 'live-truthfully': 1, 'live-with-dignity': 1, 'bitterness-quotes': 1, 'weakness-and-strength': 1, 'social-expectations': 1, 'eugenie': 1, 'markham': 1, 'makeup': 1, 'dawnings': 1, 'fire-quotes': 1, 'false-interruptations': 1, 'interruptation': 1, 'british-history': 1, 'isabella': 1, 'king-edward-ii': 1, 'crazy-people': 1, 'mass-delusion': 1, 'mobs': 1, 'riots': 1, 'sillyness': 1, 'be-truthful': 1, 'comforter': 1, 'crafts': 1, 'crafts-of-satan': 1, 'evil-spirit': 2, 'he-saved-me': 1, 'king-of-kinds': 1, 'lord-of-lords': 1, 'my-lord': 1, 'satan-devil': 1, 'satanic': 3, 'spirit-of-god': 1, 'the-life': 2, 'the-saviour': 1, 'the-way-the-truth-and-the-life': 2, 'the-will-of-god': 1, 'will-of-god': 1, 'spiritual-experience': 1, 'wide-sargasso-sea': 1, 'last-day-on-earth': 1, 'arrogant': 3, 'bold-spirit': 2, 'sacred-knowledge': 2, 'iron-logic': 1, 'same-person': 1, 'pritchett': 1, 'michael-j-sullivan': 1, 'sham': 1, 'prince-kygo': 1, 'amy-engel': 1, 'the-book-of-ivy': 1, 'business-talk': 1, 'business-tips': 1, 'cybersense': 1, 'ethics-and-morality': 1, 'etiquette-rules': 1, 'harsh-words': 1, 'hate-speech': 1, 'internet-etiquette': 1, 'internet-manners': 1, 'kindness-counts': 1, 'life-lessons-value-of-life-truth': 1, 'need-to-know': 1, 'online-bullying': 1, 'social-media-responsibility': 1, 'stop-bullying': 1, 'think-before-you-click': 1, 'think-before-you-tweet': 1, 'think-first': 1, 'you-are-what-you-speak': 1, 'youth-outreach': 2, 'p343': 2, 'dagger': 1, 'the-truth-about-confident-people': 1, 'the-truth-about-strong-people': 1, 'catholicity': 1, 'church-unity': 1, 'city-of-ember': 2, 'jeanne-duprau': 2, 'advice-from-a-painter': 1, 'lighting': 1, 'dogen': 1, 'change-your-perception': 2, 'lessons-learned-in-life': 2, 'lionblaze': 1, 'acknowledge': 1, 'detect': 1, 'expose': 1, 'eye-opener': 1, 'have-the-last-laugh': 1, 'in-the-act': 1, 'nonchalant': 1, 'play-the-fool': 1, 'playing-dumb': 1, 'see-things-as-they-are': 1, 'uncover': 1, 'unveil': 1, 'basketball': 1, 'bill-russell': 1, 'oppressors': 1, 'skyla-madi': 1, 'beautiful-lies': 1, 'speak-your-mind': 1, 'menstrual-cycles': 1, 'advise': 3, 'alma-mater': 1, 'demonstrate': 1, 'direct': 1, 'edify': 1, 'impart-knowledge': 1, 'instruct': 1, 'teacher-quotes': 2, 'teaching-quotes': 1, 'tutor': 1, 'knowlede': 2, 'poirot': 1, 'carnism': 2, 'asian': 3, 'asians': 2, 'bassist': 2, 'chatting': 2, 'contemporary-fiction': 2, 'contemporary-literature': 2, 'new-media': 2, 'best-gifts-in-life': 1, 'brittany-burgunder': 1, 'how-to-be-happy-in-life': 1, 'good-trouble': 1, 'rulebreaking': 1, 'dissapearance': 1, 'vanished': 1, 'fool-start': 1, 'brutally': 1, 'genuinely': 1, 'stupid-white-men': 1, 'human-society': 1, 'hidden-secrets': 1, 'chewed-up': 1, 'foreigner': 1, 'intimidating': 1, 'building-bridges': 1, 'cultural-differences': 1, 'language-and-culture': 1, 'language-understanding': 1, 'let-s-face-it': 1, 'teenage': 2, 'simple-truth': 3, 'contexts': 1, 'explicitness': 1, 'intriguing': 3, 'fed-up': 1, 'nikki-rowe': 1, 'transmit': 1, 'layla': 1, 'deciding': 1, 'erroneous': 2, 'mauling': 1, 'nerves': 1, 'beckon': 1, 'invite': 1, 'summon': 1, 'abuse-victims': 1, 'delusional-women': 1, 'doormats': 1, 'emotional-cheating': 1, 'inseure-women': 1, 'narcissistic-abuse-victims': 1, 'virtue-signalling': 2, 'clay': 1, 'dedicacion': 1, 'espiritu': 1, 'verdad': 1, 'threaten': 1, 'unspoken-words': 1, 'breathing-underwater': 1, 'messiah': 1, 'richard-bach': 1, 'axium': 1, 'big-words': 1, 'horoscope': 1, 'sprituality': 1, 'darling': 1, 'innovations': 1, 'light-of-awareness': 1, 'light-of-soul': 1, 'light-of-the-spirit': 1, 'love-to-swim': 1, 'swim-upstream': 1, 'anti-hate': 1, 'famous-quotes-by-famous-poets': 1, 'knowledge-and-power': 1, 'philosophy-of-knowledge': 1, 'philosophy-of-mind': 2, 'say-no-to-hate': 1, 'baffled': 1, 'confuse': 1, 'evangelizing': 1, 'cult-abuse': 1, 'dissociative-identity-disorder': 2, 'multiple-personality-disorder': 2, 'ritual-abuse': 1, 'sadistic-abuse': 1, 'survivor-of-abuse': 1, 'traumatic': 1, 'fallacies': 1, 'misinformed': 1, 'narrow-minded': 2, 'uninformed': 1, 'zealot': 1, 'revelation-of-self': 1, 'obscenity': 1, 'root': 1, 'jordan': 2, 'peterson': 1, 'cretivity': 1, 'eathing': 1, 'fur': 1, 'wear': 1, 'wearing': 1, 'fallen-in-love': 1, 'roman-empire': 1, 'social-class': 1, 'position': 1, 'idealisation': 1, 'amy-leigh-mercree': 1, 'amy-leigh-mercree-quotes': 1, 'empowered-heart': 1, 'quotes-de-la-vida': 1, 'quotes-for-instagram': 1, 'quotes-to-start-the-day': 1, 'quotes-tumblr': 1, 'quotes-twitter': 1, 'risk-communications': 1, 'spin': 1, 'appearances-are-deceiving': 1, 'city-lights': 1, 'clear-day': 1, 'nighttime': 1, 'ripples': 1, 'adornments': 1, 'vonnegut': 1, 'frenzy': 2, 'scary-version': 1, 'orginality': 1, 'sound-judgement': 1, 'political-theory': 1, 'emotional-wounds': 1, 'false-belief': 1, 'alastair-carstairs': 1, 'frankness': 1, 'jacks-of-the-hollows': 1, 'little-fox': 1, 'embrace-errors': 2, 'it-s-ok': 2, 'it-s-okay': 2, 'collateral-damage': 1, 'translations': 1, 'murder-mystery': 1, 'healthy-love': 1, 'preception': 1, 'later-in-life': 1, 'a-man-s-soul': 1, 'a-warning': 1, 'a-warning-i-give-to-you': 1, 'secrets-of-the-universe': 1, 'take-heed': 1, 'the-biggest-secret': 1, 'what-is-valuable': 1, 'what-is-worthy': 1, 'hoax': 2, 'subliminal-messages': 1, 'first-words': 1, 'iowa': 1, 'artificial': 1, 'business-partners': 1, 'love-relationships': 1, 'partnerships': 1, 'precious-metals': 1, 'relationships-advice': 1, 'test-of-love': 1, 'true-relationships': 1, 'ancient-traditions': 2, 'saga': 1, 'rilogy': 1, 'democracry': 1, 'the-reader': 1, 'abusive-partner': 1, 'self-transformation': 2, 'drug-addiction': 1, 'needing': 1, 'truckle': 1, 'anti-violence': 1, 'coping-mechanism': 1, 'false-accusations': 1, 'harassment': 1, 'falsehoods': 2, 'anna-sofia-botkin': 1, 'complicated-relationship': 1, 'elizabeth-botkin': 1, 'it-s-not-that-complicated': 1, 'intersex': 1, 'medical-diagnosis': 1, 'stand-up-for-what-is-right': 2, 'suzy-kassem-quotes': 1, 'eye-opening': 1, 'auden-west': 1, 'eli-stock': 1, 'cling': 1, 'kubo': 1, 'tite': 1, 'samhadi': 1, 'anton-gorodetsky': 1, 'p91': 2, 'discovered': 2, 'discovering-life': 2, 'discovery-quotes': 2, 'expansion-of-consciousness': 2, 'expansion-of-thought': 2, 'explored': 2, 'finding-out-the-truth': 2, 'growth-ideology': 3, 'more-than-you-know': 2, 'more-to-life': 2, 'new-things': 2, 'pioneer': 2, 'pioneer-of-the-future': 2, 'pioneer-spirit': 2, 'pioneering': 2, 'understanding-oneself': 2, 'understanding-people': 3, 'understanding-yourself': 2, 'undiscovered': 2, 'what-i-know': 2, 'what-we-know': 2, 'falsify': 1, 'each-other': 1, 'outspoken': 1, 'show-yourself': 1, 'suffering-voilence': 1, 'vein': 2, 'punished': 1, 'rewarded': 1, 'p120': 2, 'books-of-ember': 1, 'fillion': 1, 'jesikah-sundin': 1, 'the-biodome-chronicles': 1, 'chairs': 1, 'inefficient': 1, 'brainwashed': 1, 'alright': 1, 'conscious-awareness': 2, 'manifesting-dreams': 1, 'nature-of-things': 2, 'objective-and-subjective': 1, 'technological-bias': 1, 'determines': 1, 'issraelmore-ayivor': 1, 'sponsors': 1, 'social-weapons': 1, 'myopia': 1, 'fictions': 1, 'structur': 1, 'inspirational-spiritual': 2, 'espn': 1, 'believers-in-god': 1, 'change-is-coming': 1, 'change-is-possible': 1, 'dont-give-up-quotes': 1, 'encourage-yourself': 1, 'encouragements': 1, 'god-s-messages': 1, 'have-faith-in-god': 1, 'have-faith-in-your-self': 1, 'stay-strong-and-positive': 1, 'wait-on-god': 1, 'paid': 1, 'abused': 1, 'final-chapters': 1, 'mocking': 1, 'new-journeys': 1, 'played-with': 1, 'thinking-differently': 1, 'truly': 2, 'viewpoints': 1, 'edia': 1, 'straightforward': 1, 'blunt': 2, 'truthfully': 1, 'this-is-water': 1, 'nuclear-war': 1, 'complications': 1, 'compatability': 1, 'inner-lives': 1, 'interiority': 1, 'co-existence': 1, 'right-answers': 1, 'thinking-for-yourself': 1, 'assume': 1, 'benefit-of-the-doubt': 1, 'duping': 1, 'daylight': 1, 'individuation': 2, 'interrogations': 1, 'internet-monk': 2, 'excerpts': 1, 'you-and-me-babe': 1, 'which-one': 1, 'cover': 1, 'preserve': 1, 'clarity-of-perception': 2, 'indisputable': 1, 'quicken': 1, 'perspectivism': 1, 'build-bridges': 1, 'equality-of-cultures': 1, 'laguages-and-culture': 1, 'amplify': 2, 'eliminate-fear': 2, 'fearsome': 2, 'spread-truth': 2, 'black-history': 1, 'black-nationalism': 1, 'malcolm-x': 2, 'fake-outrage': 1, 'offended': 2, 'life-to-the-fullest': 1, 'stand-up-quotes': 5, 'angie-karan-quote': 1, 'arthur-blackhorn': 1, 'dreamer-quotes': 1, 'bargaining': 1, 'replay': 1, 'rewind': 1, 'rewire': 1, 'lack': 3, 'omission': 1, 'starling': 1, 'cassie-maddox': 1, 'tana-french': 1, 'the-likeness': 1, 'truthful-living': 1, 'caused': 1, 'colonizer': 1, 'nuclear-threat': 1, 'whiteness': 1, 'beat-me': 1, 'beating': 1, 'beatings': 1, 'beg': 1, 'begging': 2, 'bonhomie': 1, 'easy-going': 1, 'game-of-love': 1, 'i-m-sorry': 1, 'kneeling': 1, 'love-game': 1, 'plea': 1, 'quarrelsome': 1, 'sweetheart': 1, 'true-friend': 1, 'addictions': 1, 'street-kids': 1, 'rachel-ward': 1, 'fruit-flies': 1, 'time-for-truth': 1, 'honor-truth': 1, 'neat': 1, 'الجنون': 1, 'الحقيقة': 1, 'attractive': 1, 'history-of-sexuality': 1, 'truth-saying': 1, 'reflux': 2, 'grandfathers': 1, 'christian-art': 1, 'statistically': 1, 'p76': 2, 'john-stuart-mill': 1, 'rape-a-love-story': 1, 'torah': 1, 'blurs-out': 1, 'magnify': 1, 'overconfidence': 1, 'self-defeating': 1, 'hocus-focus': 1, 'logic-of-the-observer': 1, 'prehuman': 1, 'asking-questions-quotes': 1, 'road-to-truth': 1, 'untrue': 1, 'coast': 2, 'linking': 2, 'maine': 2, 'near': 2, 'oppressive': 2, 'proximity': 2, 'toe': 2, 'cast': 1, 'forthright': 1, 'opaque': 1, 'translucent': 1, 'branch': 1, 'diverge': 1, 'location': 1, 'balanced-life': 1, 'denial-of-reality': 1, 'dissociative-amnesia': 1, 'mpd': 1, 'multiple-personalities': 1, 'recant': 1, 'retraction': 1, 'sybil': 1, 'wonderful-soul': 1, 'allowing': 1, 'the-way-it-is': 1, 'devalued': 1, 'disposable': 1, 'last-priority': 1, 'loss-of-respect': 1, 'thrown-away': 1, 'severe': 1, 'the-ghost-and-the-goth': 1, 'sophie-devereaux': 1, 'soveriegnty': 1, 'antiviolence': 1, 'gossips': 1, 'no-racism': 1, 'miseducation': 1, 're-learning': 1, 'relearning': 1, 'truth-seeking': 1, 'important-concept': 1, 'get': 1, 'lousy': 1, 'dementia': 1, 'mass-opinion': 2, 'tell-a-tale': 1, 'cadfael': 1, 'ellis-peters': 1, 'seek-and-found': 1, 'yawn': 1, 'yawns': 1, 'warn': 1, 'prehistoric': 1, 'nun': 1, 'bible-quotes': 1, 'like-flames-in-the-night': 1, 'activism-inspiration': 1, 'activists': 1, 'adversity-and-attitude': 1, 'advocate': 1, 'advocate-for-compassion': 1, 'advocating': 2, 'advocating-for-peace': 2, 'human-rights-activists': 1, 'powerful-quotes': 1, 'purposeful-quotes': 1, 'society-humanity': 1, 'society-problem': 1, 'society-quotes': 1, 'society-thinking': 1, 'society-views': 1, 'speaking-the-truth': 1, 'speaking-truth-to-power': 2, 'speaking-truths': 1, 'stand-for-something': 1, 'stand-for-something-positive': 1, 'stand-for-something-right': 1, 'support-quotes': 1, 'supportive-actions': 1, 'supportive-quotes': 1, 'today-s-society': 1, 'corruption-blood': 1, 'crooked': 1, 'crooks': 1, 'dirty-politics': 1, 'people-before-profit': 1, 'people-before-profits': 1, 'people-over-profit': 1, 'beautiful-heart': 1, 'beholder': 1, 'measurements': 1, 'ugly-face': 1, 'bribes': 1, 'crimes': 1, 'get-away-with-crimes': 1, 'legal-system': 1, 'slanted': 1, 'unjust': 3, 'investigative-journalism': 1, 'transformationation': 1, 'clone': 1, 'cloning': 1, 'imagined': 1, 'sasha-graham': 1, 'tarot-diva': 1, 'tarot-secrets': 1, 'freedom-of-the-press': 1, 'southerners': 1, 'white-people': 1, 'madman': 1, 'anxious': 1, 'impeccability': 1, 'impeccable': 1, 'stagnant': 1, 'questioning-mind': 2, 'spiritually': 1, 'come-what-may': 1, 'day-after-tomorrow': 1, 'cunnilingus': 1, 'going-down': 1, 'cloud-computing': 1, 'cyber-security': 1, 'lies-lying': 1, 'doesn-t': 1, 'grieves': 1, 'that': 1, 'thing': 1, 'armies': 1, 'part': 1, 'ben-clayton': 1, 'beth-clayton': 1, 'logan-thibault': 1, 'the-lucky-one': 1, 'fortunately': 1, 'unfortunate': 2, 'unfortunately': 1, 'griot': 1, 'missunderstanding': 1, 'trust-honesty': 1, 'fallen-legion': 1, 'gabriella-moretti': 1, 'timeless-series': 1, 'without-a-heartbeat': 1, 'cinema-verite': 1, 'flawless': 1, 'soap-opera': 1, 'p135': 4, 'deceptions': 1, 'imitations': 1, 'what-is-original': 1, 'narrator': 2, 'shaping': 3, 'voice-of-wisdom': 2, 'inter-relationship': 1, '233': 1, 'doris-lessing': 1, 'jeff-buckley': 1, 'uncovering': 1, 'on-board': 1, 'best-time-of-your-life': 1, 'peak-experience': 1, 'mentation': 1, 'wonderment': 1, 'bearing-witness': 1, 'normal-life': 1, 'wizard-of-oz': 1, 'interests': 1, 'engineered': 1, 'falsified': 1, 'histories': 1, 'reconciliation': 2, 'eye-witness': 1, 'many-versions': 1, 'postcards': 1, 'mental-blending': 1, 'confused': 1, 'die-wahrheit': 1, 'half-truths': 1, '28-theorems': 1, 'master-therion': 1, 'adapting-to-change': 1, 'america-under-donald-trump': 1, 'circumstances-and-attitude': 1, 'circumstances-in-life': 1, 'confrontations': 1, 'confronting-fears': 1, 'confronting-problems': 1, 'dealing-with-change': 1, 'faith-in-humanity': 1, 'human-rights-activismtivism': 1, 'keeping-hope-alive': 1, 'life-s-ncessities': 1, 'necessary-things': 1, 'nonviolent-jahid': 1, 'philosophy-of-truth': 1, 'political-power': 1, 'postered-poetics-by-aberjhani': 1, 'quotes-for-new-year-2017': 1, 'speak-truth-to-power': 1, 'corrupt-corruption': 1, 'love-of-god': 1, 'stand-up-for-god': 1, 'stand-up-for-your-conscience': 1, 'one-night-stands': 1, 'random-sex': 1, 'life-stages': 2, 'freeing': 1, 'spiritual-truth': 2, 'georgia-writers': 1, 'southern-fiction': 1, 'odin': 1, 'sepulchre': 1, 'wodensday': 1, 'wodin': 1, 'credibility': 1, 'folk-music': 1, '666': 1, 'serious-love': 1, 'six-six-six': 1, 'creations': 2, 'understanding-god': 1, 'aurum': 1, 'blindfolded': 1, 'sam-keller': 1, 'true-mates': 1, 'lone': 2, 'loners': 2, 'represent': 2, 'gödel': 1, 'mat': 2, 'action-speak-louder-than-words': 1, 'sojourn': 1, 'spiritual-journey': 1, 'truth-and-reconciliation': 1, 'squeak': 1, 'philandering': 1, 'dank': 1, 'full-dark-no-stars': 1, 'ja-saare': 1, 'renfield-syndrome': 1, 'rhiannon': 1, 'entrepeneurship': 1, 'ted': 1, 'postive-thinking': 2, 'ezelle': 2, 'raventide': 2, 'self-censorship': 1, 'p82': 1, 'function': 1, 'thing-to-ponder': 1, 'fox-news': 1, 'government-tool': 1, 'porup-satire': 1, 'united-states-of-air': 1, 'uncommon': 1, 'arab-israeli-conflict': 1, 'gaza-war': 1, 'goldstone-commission': 1, 'israel-defense-forces': 1, 'israeli-palestinian-conflict': 1, 'palestinians': 1, 'richard-goldstone': 1, 'scotch': 1, 'beat-generation': 1, 'jack-kerouac': 1, 'shared-dream': 1, 'widsom': 1, 'elite': 1, 'james-connolly': 1, 'jingoism': 1, 'ruling-class': 1, 'ww1': 1, 'messy': 1, 'neatness': 1, 'ra': 1, 'civil-rights-movement': 1, 'martin-luther-king-jr': 1, 'universal-vs-absolute': 1, 'deriving': 1, 'easier': 1, 'generating': 1, 'prevail': 1, 'discuss': 1, 'premise': 1, 'governement': 1, 'lockstep': 1, 'areopagitica': 1, 'john-mitlon': 1, 'master-of-stupidity': 1, 'smart-ass-disciple': 1, 'two-spirited': 1, 'modern-man-in-search-of-a-soul': 1, 'harsh': 1, 'marginalization': 1, 'ostracism': 1, 'hollocaust': 1, 'alone-but-not-lonely': 2, 'alone-in-a-cloud': 1, 'alone-quote': 1, 'herd': 1, 'herd-behavior': 1, 'herd-quotes': 1, 'loneliness-of-life': 1, 'loneliness-or-solitude': 1, 'unreasonable': 1, 'backward': 1, 'dead-places': 1, 'honorability': 1, 'horor': 1, 'cost-of-freedom': 1, 'regime': 1, 'selfdevelopment': 1, 'brilliant-minds': 1, 'sad-truth': 1, 'big-nose': 2, 'experimenting': 2, 'entanglement': 1, 'bangla': 2, 'bengali': 2, 'naseeha': 1, 'chasing-impossible': 1, 'gospel-truth': 1, 'energize': 1, 'suffocate': 1, 'adevar': 1, 'carte': 1, 'favoritism': 1, 'mercedes-thompson': 1, 'patricia-briggs': 1, 'irreligious': 1, 'meaningt': 1, 'nature-writing': 1, 'rabbi': 1, 'caricature': 1, 'reciprocation': 1, 'feuds': 2, 'actions-over-words': 1, 'cheapness': 1, 'trash-talking': 1, 'actuality': 1, 'emphasis': 1, 'unpolished': 1, 'doctorish': 2, 'her-and-now': 1, 'in-the-moment': 1, 'rationalization': 1, 'kingship': 1, 'song-of-albion': 1, 'jackson-burnett': 1, 'the-past-never-ends': 1, 'the-practice-of-law': 1, 'unintended-truth': 1, 'vermont': 1, '2-worlds': 1, 'epopeya': 1, 'girl-boy': 1, 'facing-reality': 1, 'evoke': 1, 'invoke': 1, 'naming': 1, 'respond': 1, 'true-name': 1, 'christopher-marlowe': 1, 'at-the-heart-of-the-story': 1, 'more-terrible': 1, 'old-woman': 1, 'sadder': 1, 'death-and-the-dervish': 1, 'derviš-i-smrt': 1, 'meša-selimović': 1, 'close-up': 1, 'russians': 1, 'ussr': 1, 'misspeaking': 1, 'iconoclasm': 1, 'spitting': 1, 'rewriting-history': 1, 'listening-to-inner-self': 1, 'silent-music': 2, 'symbiosis': 1, 'literary-tradition': 1, 'trystero': 1, 'japanese-yoga': 1, 'rubbish': 1, 'search-for-the-truth': 1, 'highs': 1, 'lows': 1, 'minority-opinion': 1, 'subversion': 1, 'two-worlds-and-in-between': 1, 'digital-identity': 1, 'digitalization': 1, 'meta': 1, 'w-v-o-quine': 1, 'web-of-belief': 1, 'flynn': 1, 'jayceoneal': 1, 'mythcon': 1, 'village': 2, 'partial-perspective': 1, 'science-studies': 1, 'situated-knowledge': 1, 'social-constructionism': 1, 'perils': 1, 'eclectic': 1, 'kolchak': 1, 'reporter': 1, 'english-literature': 2, 'pouet': 1, 'nailed': 1, 'historical-engineering': 1, 'records': 2, 'mockingbird': 1, 'tabloid-journalism': 1, 'be-wise': 1, 'firm-resolve': 1, 'predators': 1, 'learn-to-think': 1, 'understand-what-you-read': 1, 'cat-people': 1, 'sereneity': 1, 'zen-master': 1, 'masochism': 1, 'schrodinger-s-cat': 1, 'anton-chekhov': 1, 'loud': 1, 'womens-strength': 1, 'hinesty': 1, 'graceling': 1, 'city-of-angels-movie': 1, 'connected': 1, 'dark-angels': 1, 'inspirational-authors': 1, 'learned-lessons': 1, 'spiritual-guides': 1, 'white-paths': 1, 'english-as-a-second-language': 1, 'pounds': 1, 'venture': 1, 'the-significance-of-fear': 1, 'philip-pullman': 1, 'fanatics': 1, 'annabeth-s-thoughs': 1, 'bruno': 1, 'cicero': 1, 'gautama-buddha': 1, 'giordano-bruno': 1, 'laozi': 1, 'zeno-of-citium': 1, 'zoroaster': 1, '1936': 1, 'paraphrasing-wollstonecraft': 1, 'utopia-peace': 1, 'darkest-mercy': 1, 'insparation': 1, 'kundera': 1, 'absorbent': 1, 'ambivert': 1, 'extrovert': 1, 'quiet-people': 1, 'suns': 1, 'clarity-of-thought': 1, 'statesmen': 1, 'circumspection': 2, 'gregariousness': 1, 'men-s-fears': 1, 'the-fears-of-man': 1, 'the-man': 1, 'the-nature-of-man': 1, 'stimulate': 1, 'personal-mythmaking': 1, 'eduction': 1, 'modern-values': 1, 'wealth-and-virtues': 1, 'less-is-more': 1, 'medea': 1, 'don-quixote': 1, 'friendlessness': 1, 'good-behaviour': 1, 'nonchalance': 1, 'not-moved': 1, 'hot-baths': 1, 'reconnaissance': 1, 'brooding': 1, 'pensive': 1, 'probes': 1, 'right-thing': 3, 'tough-wisdom': 2, 'cockiness': 1, 'childish-wisdom': 1, 'adjustments': 1, 'bench-marks': 1, 'filtering': 1, 'revisions': 1, 'windfall': 1, 'icelandic': 1, 'idiom': 1, 'three-graces': 1, 'non-judgement': 1, 'quite': 1, 'native-american-wisdom': 9, 'fly-on-the-sky': 1, 'leave-the-earth': 1, 'let-go-of-attachment': 1, 'let-go-of-clutter': 1, 'wisdom-of-life': 3, 'viking': 1, 'cause-of-trouble': 1, 'national-troubles': 1, 'problems-in-the-world': 1, 'calling-all-the-shots': 1, 'inner-monologue': 1, 'odyssey': 1, 'scintillation': 1, 'seamless-story': 1, 'giddiness': 1, 'inhale': 1, 'inner-space': 1, 'inner-void': 1, 'pressure-of-time': 1, 'reshape': 1, 'tight-line': 1, 'overindulgence': 1, 'iyengar': 1, 'avarice': 1, 'deadly-sins': 1, 'greediness': 1, 'greedy-people': 1, 'mammon': 1, 'حكمه': 1, 'dawning-awareness': 1, 'essentials': 1, 'icq': 1, 'inner-world': 1, 'on-the-fringes': 1, 'catalyze': 1, 'colorless': 1, 'speak-out-loud': 1, 'tasteless': 1, 'upper-lip': 1, 'our-chemical-hearts': 1, 'drollery': 1, 'hunter-s-thompson': 1, 'kingdom-of-fear': 1, 'icon': 1, 'stifle': 1, 'smarts': 1, 'antagonistic': 1, 'pacifist': 1, 'delicate': 1, 'parable': 1, 'parables': 1, 'strength-of-a-woman': 1, 'global-awakening': 1, 'accepting-personalities': 1, 'being-free': 1, 'everything-is-not-about-you': 1, 'internalizing': 1, 'letting-people-in': 1, 'members': 1, 'opening-up': 2, 'personalizing': 1, 'reading-between-the-lines': 1, 'reading-in-to-everything': 1, 'self-directed': 1, 'settings': 1, 'social-circles': 1, 'taking-things-personally': 1, 'banquets': 1, 'meaning-of-things': 1, 'simple-joys': 1, 'simple-things': 1, 'simple-things-of-life': 1, 'scorpion': 1, 'taking-things-for-granted': 1, 'chickens': 1, 'old-owl': 1, 'dogs-and-humans': 1, 'confines': 1, 'unawareness': 1, 'action-plans': 1, 'characteristics': 1, 'good-choices': 1, 'life-map': 1, 'life-purpose-101': 1, 'resolver-vs-reactor': 1, 'self-beliefs': 1, 'self-esteem-101': 1, 'dar': 1, 'donita': 1, 'donita-k-paul': 1, 'dragonknight': 1, 'nights-in-rodanthe': 1, 'all': 1, 'fair-user': 1, 'queen-elizabeth': 1, 'altair': 2, 'altaïr': 2, 'assassin-s-creed': 2, 'crusade': 1, 'grasping': 1, 'impediment': 1, 'maria': 1, 'oliver-bowden': 2, 'only': 1, 'chronic-pain': 1, 'meaning-of-om': 1, 'silence-within': 1, 'spiritual-enlightenment': 1, 'goodvibes': 1, 'benedick': 1, 'disagree': 1, 'punih': 1, 'modern-quotations': 1, 'modern-times': 1, 'modernization': 1, 'read-book': 1, 'reading-habits': 1, 'art-criticism': 1, 'music-criticism': 1, 'music-journalism': 1, 'period': 1, 'insipirational': 1, 'wise-words-quotes': 1, 'children-s-book': 1, 'relfection': 1, 'quinn': 1, 'across-the-valley': 1, 'compassion-quotes': 5, 'compassion-wisdom': 4, 'light-of-compassion': 1, 'opens-the-petals': 1, 'petals-of-the-heart': 1, 'spreads': 1, 'shines': 1, 'm-m-kaye': 1, 'faint-heartedness': 1, 'alternative-healing': 1, 'alternative-medicine': 1, 'energy-medicine': 1, 'beautification': 1, 'beauty-in-life': 3, 'education-morality': 1, 'education-reform': 1, 'knowing-who-you-are': 1, 'meditation-experience': 1, 'meditation-techniques': 1, 'worshiping': 1, 'message-of-god': 2, 'one-god': 1, 'selfish-gene': 1, 'the-legend-of-sleepy-hollow': 2, 'washington-irving': 2, 'fyodor-dostoevsky': 1, 'hipsters': 1, 'car-out-of-control': 1, 'drive-off-the-cliff': 1, 'mental-bias': 1, 'pre-existing-beliefs': 1, 'reasoning-pattern': 1, 'sunk-cost-fallacy': 1, 'directing': 1, 'book-knowledge': 1, 'bookish': 1, 'brainy': 1, 'charge': 1, 'comand': 1, 'genuis': 1, 'huge': 1, 'precocious': 1, 'steering': 1, 'superintendence': 1, 'avoiding': 1, 'holding-back': 2, 'ignoring': 2, 'lessons-of-life': 1, 'not-listening': 1, 'not-trusting': 1, 'overlooking': 1, 'ahievement': 1, 'congratulation': 1, 'optimize': 1, 'pocket': 1, 'pockets': 1, 'shades': 1, 'stilling-the-mind': 1, 'tokens': 1, 'understand-oneself': 1, 'avian': 1, 'cliches': 1, 'territories': 1, 'don-t': 1, 'sadness-loneliness': 1, 'tears-crying': 1, 'waterfalls': 1, 'double-cross': 1, 'imbecile': 1, 'meekness': 1, 'meekness-strength': 1, 'niceness': 1, 'matthew-clairmont': 1, 'caress': 1, 'empaths': 1, 'life-wisdom': 1, 'innoc': 1, 'comparisons': 1, 'making-sense-of-the-world': 1, 'hadith': 1, 'sufis': 10, 'arthur': 1, 'arthurian-saga': 1, 'mary-stewart': 1, 'the-last-enchantment': 1, 'second-guessing': 1, 'suicide-silence': 1, 'vocalist': 1, 'animals-and-man': 1, 'classroom': 1, 'environementalism': 1, 'natural-medicine': 1, 'nature-classroom': 1, 'women-and-fashion': 1, 'the-gargoyle': 1, 'p51': 1, 'idries-shah': 1, 'in-arabian-nights': 1, 'big-names': 1, 'chaste': 1, 'chasticity': 1, 'cleanliness': 1, 'flamboyance': 1, 'flamboyant': 1, 'good-choice': 1, 'luxurious': 1, 'opulence': 1, 'sound-judgment': 1, 'woman-of-virtue': 1, 'blockhead': 1, 'dunce': 1, 'inferiority-complex': 1, 'african-american-book-author': 1, 'black-book-author': 1, 'religious-quote': 1, 'uplift': 1, 'grook': 1, 'monsoon': 1, 'dragon-keeper': 1, 'the-chronicles-of-prydain': 1, 'uncommon-sense': 1, 'deadhouse-gates': 1, 'malazan': 1, 'steven-erikson': 1, 'great-masters': 1, 'tj': 1, 'expirience': 1, 'alliance': 1, 'esports': 1, 'unreal': 1, 'being-your-own-person': 1, 'bad-goals': 1, 'empty-goals': 1, 'focusing-on-healing': 1, 'immediate-gratification': 1, 'self-inflicted-pain': 1, 'unhappy-celebrities': 1, 'unhappy-rich-people': 1, 'assassin-s-quest': 1, 'fitz': 1, 'talkers': 2, 'sentenced': 1, 'stranded': 1, 'unteachable': 1, 'malcom-x': 1, 'p251': 1, 'becoming-strong': 1, 'jack-kornfield': 1, 'goodreads': 1, 'prescient': 1, 'anasazi': 6, 'anasazi-foundation': 7, 'lara-ackerman': 1, 'the-geography-of-bliss': 1, 'acquire-wisdom': 1, 'boggle': 1, 'come-to-see': 1, 'life-s-questions': 1, 'sleep-disorders': 1, 'thinking-too-much': 1, 'v-63': 1, 'intelligence-quotient': 1, 'stupidity-quotes': 1, 'tsvetaeva': 1, 'temperance': 1, 'great-man': 1, 'retrospection': 1, 'wrongs': 1, 'plurality': 1, 'be-positive-in-life': 1, 'be-positive-quote': 1, 'be-positive-quotes': 1, 'blogging-quote': 1, 'blogging-quotes': 1, 'kindness-and-love': 1, 'kindness-matters': 1, 'kindness-quote': 1, 'kindness-to-others': 1, 'negative-and-positive': 1, 'negative-attitude': 1, 'negative-beliefs': 1, 'negativity-quotes': 1, 'social-media-behaviour': 1, 'social-media-good': 1, 'social-media-mind': 1, 'social-media-quotes': 1, 'wise-quotations': 1, 'p57': 1, 'john-stark': 1, 'mottos': 1, 'new-england': 1, 'being-true-to-your-word': 1, 'being-truthful': 1, 'judgement-quotes': 1, 'words-and-deeds': 1, 'game-of-life': 1, 'higher-things': 1, 'correspondences': 1, 'interconnections': 1, 'ezra': 1, 'my-blood-approves': 4, 'exceptionalism': 1, 'omelet': 1, 'omelette': 1, 'asphodel': 1, 'acolyte': 1, 'guardian': 1, 'finding-happiness': 1, 'finding-purpose': 1, 'kusha': 1, 'lack-of-knowledge': 1, 'lack-of-wisdom': 1, 'pessoa': 1, 'amira-lam-interview-2010': 1, 'henry-kissinger': 1, 'bless': 1, 'gererosity': 1, 'possesiveness': 1, 'possessive-love': 1, 'anton-lavey': 1, 'marilyn-manson': 1, 'vengefulness': 1, 'poles': 1, 'godhood': 1, 'p92': 1, 'born-to-run': 1, 'christopher-mcdougall': 1, 'hook': 1, 'shaod': 1, 'kyakutei-bakin': 1, 'evermine': 1, 'shams-tabrizi': 1, 'rubiayat': 1, 'aggravate': 1, 'aggravates': 1, 'brood-about': 1, 'brood-on': 1, 'chew-over': 1, 'cogitate': 1, 'complement': 1, 'complements': 1, 'consider': 1, 'deliberate-over': 1, 'dwell-on': 1, 'general-semantics': 1, 'meditate-on': 1, 'mull-over': 1, 'muse-on': 1, 'ruminate-on': 1, 'speaker': 1, 'talker': 1, 'think-about': 1, 'turn-over-in-one-s-mind': 1, 'herritage': 1, 'women-s-saga': 1, 'going-with-the-flow': 1, 'better-civilisation': 1, 'old-people': 1, 'turkish-aphorisms': 1, 'turkish-sayings': 1, 'turkish-thinkers': 1, 'wisdom-quotations': 3, 'founding-fathers': 1, 'principles-of-liberty': 1, 'everything-begins-small': 1, 'newborn': 1, 'african-quotes': 1, 'mastering-emotions': 1, 'the-monk': 1, 'vampire-children': 1, 'nancy-b-brewer': 1, 'mottos-to-live-by': 1, 'codex-alera': 1, 'unplugging': 1, 'follow-your-truth': 1, 'gypsy-feet': 1, 'inner-knowing': 1, 'wild-spirit': 1, 'twice': 1, 'professor-phelps': 1, 'william-lyon-phelps': 1, 'avalon': 1, 'autodidacts': 1, 'naskar': 1, 'p153': 1, 'funny-words': 1, 'clearer': 1, 'dragonfly': 1, 'insect': 1, 'insects': 1, 'pure-thoughts': 1, 'veins': 1, 'idolizing': 1, 'safer': 1, 'knowledge-of-the-self': 1, 'life-and-living-life-and-love': 1, 'old-chevy': 1, 'solitutde': 1, 'higherlife': 1, 'ipad': 1, 'iphone': 1, 'inuyasha': 1, 'kikyo': 1, 'hit': 1, 'moral-qualities': 1, 'courageous-to-be-oneself': 1, 'homeland': 1, 'majeed': 1, 'seja': 1, 'seja-majeed': 1, 'the-forgotten-tale-of-larsa': 1, 'presentation': 1, 'contract-with-the-future': 1, 'generational-contract': 1, 'being-supportive': 1, 'cold-days': 1, 'engulf': 1, 'growing-old': 1, 'v-152': 1, 'attentive': 1, 'live-long': 1, 'pray-hard': 1, 'reding': 1, 'penchant': 1, 'take-by-surprise': 1, '1800-s': 1, 'quaker': 1, 'qualities-of-life': 1, 'james-caan': 1, 'p28': 1, 'showing-up': 1, 'uncomfortable': 1, 'jodi-livon': 1, 'surviving-quotes': 1, 'the-happy-medium': 4, 'good-buffalo-eagle': 1, 'ahmad-ardalan': 1, 'lebel': 1, 'lebeling': 1, 'overact': 1, 'tip': 1, 'intellectual-dishonesty': 1, 'eriond': 1, 'lifelong': 1, 'unviersity': 1, 'branded-vampires': 1, 'wu-wei': 1, 'p163': 1, 'asian-fetish': 1, 'erotic-fiction': 1, 'teenage-girl': 1, 'teenage-sex': 1, 'neddy': 1, 'p226': 1, 'time-well-spent': 4, 'child-s-brain': 1, 'subjects': 1, 'topics': 1, 'learnig': 1, 'phylosophy-quotes': 1, 'saul-bellow': 1, 'meera': 1, 'changes-to-society': 1, 'attribute': 1, 'attribution': 1, 'fiend': 1, 'fiendish': 1, 'fox': 1, 'resemblance': 1, 'normativity': 1, 'mack': 1, '21st-century': 1, 'dispensation': 1, 'dispense': 1, 'era': 1, 'experiences-and-graces': 1, 'false-leaders': 1, 'informational': 1, 'leads-to': 1, 'self-leader': 1, 'self-leaders': 1, 'self-leadership': 1, 'self-leadership-character': 1, 'true-leader': 1, 'true-leaders': 1, 'true-leadership': 1, 'chants': 4, 'mahatma': 4, 'neeti': 4, 'niti': 4, 'vidur': 4, 'p208': 1, 'loa': 1, 'asking': 1, 'recessive': 1, 'first-rejected': 1, 'then-accepted': 1, 'jayleigh-cape': 1, 'iimani-david': 1, 'intercourse': 1, 'love-making-brainy-quotes': 1, 'sexual-intercourse': 1, 'sexual-intimacy': 1, 'apprentice': 1, 'sharing-wisdom': 1, 'deceived': 1, 'fool-foolish': 1, 'foolhardy': 1, 'wabi-sabi': 1, 'building-others-up': 1, 'empowerment-for-women': 1, 'true-confidence': 1, 'nero': 1, 'containment': 1, 'exclusivity': 1, 'r-alan-woods': 1, 'wolf-sirens': 1, 'david-hume': 1, 'defending': 1, 'epiphanies': 1, 'rarity': 1, 'leather': 1, 'non-judgemental': 1, 'wool': 1, 'intelligent-humor': 1, 'milo': 1, 'christmas-star': 1, 'holy-child': 1, 'three-kings': 1, 'three-wise-men': 1, 'p46': 2, 'sardonic': 1, 'loc921': 1, 'tibet': 1, 'new-one': 1, 'free-women': 1, 'pearl': 1, 'youngster': 1, 'learn-the-lesson': 1, 'p106': 1, 'eloquence-and-attitude': 1, 'uninformed-opinion': 1, 'technology-existential-risks': 1, 'gnostic': 1, 'sophia': 2, 'sophos': 1, 'tasawuf': 1, 'debating': 1, 'empty-chair': 1, 'ideas-quotes': 1, 'mehmet-murat-ildan': 1, 'middle-ages': 1, 'present-age': 1, 'bad-relationships': 1, 'inner-reflection': 1, 'disaster-quotes': 1, 'spiritual-writers': 1, 'spreading-fear': 1, 'spreading-gossip': 1, 'talking-quotes': 1, 'pacify': 1, 'slothful': 1, 'snails': 1, 'children-s-stories': 1, 'ugly-duckling': 1, 'footsteps': 1, 'messengers': 1, 'messengers-from-god': 1, 'philosopher-quotes': 1, 'eternal-gates': 1, 'great-moments-of-life': 1, 'sublime-hours': 1, 'adulting': 1, 'generation-y': 1, 'communicating': 1, 'dealing': 1, 'dealing-with-pain': 1, 'holding-back-feelings': 1, 'letting-it-out': 1, 'numbing': 1, 'proactive-vs-reactive': 1, 'shutting-out': 1, 'suppressing': 1, 'guidance-quotes': 2, 'how-to-be-a-good-person': 1, 'true-goodness': 1, 'welsh-proverb': 1, 'norse': 1, 'lifespan': 1, 'deflate': 1, 'inflate': 1, 'proper': 1, 'good-judgment': 1, 'senses-of-the-the-soul': 1, 'you-are-what-you-eat': 1, 'anne-holm': 5, 'i-am-david': 5, 'athrabeth': 1, 'values-in-life': 1, 'entering': 1, 'penetrating': 1, 'superiors': 1, 'crime-drama': 1, 'psychological-drama': 1, 'sidney-knight': 1, 'sidney-knight-alex': 1, 'tragic-romance': 1, 'swami': 1, 'tudors': 1, 'calves': 1, 'dairy': 1, 'free-thinker': 1, 'shortcuts': 1, 'eric-schmidt': 1, 'lottery': 1, 'anthology': 1, 'japanese-poetry': 1, 'waka': 1, 'culling': 1, 'shepherds': 1, 'loc2536': 1, 'cash': 1, 'duchess': 1, 'christina-dodd': 1, 'cold-comfort': 1, 'cerin': 1, 'erosion': 1, 'smooth': 1, 'p89': 1, 'false-teeth': 1, 'senility': 1, 'p114': 1, 'king-solomon': 1, 'wall-street': 1, 'perplexities': 1, 'philosphers': 1, 'lifecycle': 1, 'ziaudin': 1, 'depth-quotes': 1, 'freedom-in-relationships': 1, 'prisoner-of-mind': 1, 'waldmeer': 1, 'wise-choices': 1, 'treasure-quotes': 1, 'guidance-in-life': 1, 'films': 1, 'terminator-2': 1, 'bohdi-sanders': 1, 'dr-bohdi-sanders': 1, 'wisdom-quotes-power': 1, 'anti-aging': 1, 'withholding': 1, 'angel-sanctuary': 1, 'spiritual-books': 1, 'law-of-action': 1, 'basic-needs': 1, 'beautiful-poem': 1, 'bloundless': 1, 'earth-poems': 1, 'three-things': 1, 'ministration': 2, 'effective': 1, 'captivation': 1, 'east-coker': 1, 'anointing': 1, 'better-things-ahead': 1, 'inducement': 1, 'yours-sincerely': 1, 'omar-khayyam': 1, 'wine-quote': 1, 'concoct': 1, 'concocted': 1, 'fabricate': 1, 'god-s-name': 1, 'marketing-advice': 1, 'sales-effectiveness': 1, 'selling-skills': 1, 'proverbs-about-the-devil': 1, 'results-quotes': 1, 'spiritual-wisdom-quotes': 1, 'identitiy': 1, 'attitude-towards-life': 1, 'good-life-advice': 1, 'reason-for-living': 1, 'vicissitude': 1, 'wisdom-of': 1, 'ashdodi': 1, 'canaan': 1, 'gath': 1, 'gathi': 1, 'gaza-strip': 1, 'hekima': 1, 'ibrahimu': 1, 'kaanani': 1, 'masharti': 1, 'milele': 1, 'milki': 1, 'mtu': 1, 'mungu': 1, 'palestina': 1, 'ukanda-wa-gaza': 1, 'uzao': 1, 'vita': 1, 'waisraeli': 1, 'watu': 1, 'yakobo': 1, 'yoshua': 1, 'rebelling': 1, 'take-a-stand': 1, 'fun-and-games': 1, 'believe-in-jesus': 1, 'believe-in-the-holy-spirit': 1, 'deceitful': 1, 'discretions': 1, 'jesus-conquer-the-devil': 1, 'lied': 1, 'manipulate': 1, 'posess': 1, 'possess': 1, 'satanic-influence': 1, 'the-devil-is-a-liar': 1, 'to-kil-to-steal-and-to-destroy': 1, 'wordliness': 1, 'god-s-eyes': 1, 'hardened-hearts': 1, 'hypersensitive-people': 1, 'hypersensitivity': 1, 'judgers': 1, 'nuturers': 1, 'seeing-past-actions': 1, 'lessons-learning': 1, 'minotaurs': 1, 'george-b-shaw': 1, 'george-shaw': 1, 'robert-g-ingersoll': 2, 'robert-green-ingersoll': 2, 'robert-ingersoll': 2, 'shaw': 1, 'boston': 1, 'henry-d-thoreau': 1, 'henry-thoreau': 1, 'mirth': 1, 'orator': 1, 'pathos': 1, 'ralph-e-emerson': 1, 'ralph-emerson': 1, 'some-mistakes-of-moses': 1, 'unlocks': 1, 'laughs': 1, 'vpain': 1, 'bg': 2, 'български': 2, 'мъдрост': 2, 'conscious-evolution': 1, 'global-awareness': 1, 'new-world': 1, 'spiritual-awareness': 1, 'superhuman': 1, 'the-tale-of-liril': 2, 'arva': 1, 'man-o-the-woods': 1, 'the-blue-witch': 1, 'do-what-is-right': 1, 'masterpieces': 1, 'one-lifetime': 1, 'good-example': 1, 'six-nonlectures': 1, 'p34': 1, '2012': 1, 'london-olympics': 1, 'concentration-camp': 1, 'psalm-23': 1, 'forgive-and-forget': 1, 'ill-will': 1, 'sins-of-the-father': 1, 'unforgiven': 1, 'constant': 1, 'p40': 1, 'blend': 1, 'blending': 1, 'dibenci': 1, 'lifelesson': 1, 'well-worn-phrases': 1, 'art-books': 1, 'communities': 1, 'lives-of-artists': 1, 'luther-e-vann': 1, 'music-of-the-spheres': 1, 'social-harmony': 1, 'spiritual-traditions': 1, 'xu-liang': 1, 'pseudo-intelligence': 1, 'after-life': 1, 'bloods': 1, 'kingsley': 1, 'mimi': 1, 'schuyler': 1, 'venator': 1, 'death-life': 1, 'p129': 1, 'living-a-full-life': 1, 'enneagram': 1, 'pyschology': 1, 'oratory': 1, 'sustained': 1, 'blank': 1, 'confirmed': 1, 'exam': 1, 'fill-in-the-blank': 1, 'babble': 1, 'babbling': 1, 'philosobabble': 1, 'vivid': 1, '1980s': 1, 'the-more-you-know': 1, 'frederick': 1, 'transferring-personality-traits': 1, 'medicaid': 1, 'medicare': 1, 'p171': 1, 'moses-the-black': 1, 'global-warning': 16, 'change-and-power-book': 1, 'dahlia-west': 1, 'aspects-of-life': 1, 'rush-duet': 1, 'vi-keeland': 1, 'profits-with-principles': 4, 'the-body-shop': 9, 'beat-poets': 2, 'zodiac-academy': 1, 'ashley-jade': 2, 'royal-hearts-academy': 2, 'county': 1, 'government-or-parliament': 1, 'jokes-or-clowns': 1, 'law-or-authority': 1, 'life-lesons': 1, 'politics-or-politicians': 1, 'quotes-or-philosophy': 1, 'activist-quotes': 1, 'gender-based-violence-gbv': 1, 'humans-or-people': 1, 'botany': 1, 'autumn-jones-lake': 1, 'lost-kings': 1, 'hades-hangmen': 1, 'tillie-cole': 1, 'badass-women': 2, 'bink-cummings': 1, 'male-sex-drive': 1, 'interrupt': 1, 'life-hacks': 1, 'remove': 1, 'production': 1, 'finding-mistakes': 1, 'own-mistakes': 1, 'inviting': 1, 'reactionaries': 1, 'natural-lore': 1, 'poorest': 1, 'social-inequality': 2, 'housing': 1, 'green-technology': 1, 'campaigns': 1, 'contemplation-of-nature': 1, 'choose-or-chose': 2, 'life-lessons-or-life-coach': 2, 'style-quotes': 1, 'social-or-professional': 1, 'words-quotes': 1, 'art-or-artists': 1, 'social-media-or-influence': 1, 'support-or-bash': 1, 'scotland': 1, '1976': 4, 'argentina': 1, 'overrun': 1, 'sustenance': 1, 'fire-department': 1, 'fundraising': 1, 'personal-finance': 1, 'jujutsu-kaisen': 4, 'kamo-choso': 4, 'anonymous-or-anonymity': 1, 'navigate': 1, 'broms-the-poet': 1, 'feast': 1, 'jeff-bromley': 1, 'the-second-serving': 1, 'bikers': 3, 'insightfult': 1, 'strive-to-be-better': 1, 'life-pains': 1, 'valuable-lessons': 1, 'billboards': 1, 'choose-or-choices': 1, 'hustle-or-hate-quotes': 1, 'encouragement-quoets': 1, 'expectations-quotes-vs-reality': 1, 'addison-jane': 1, 'exiled-eight': 1, 'love-and-life': 1, 'bag-or-job': 1, 'frienemies': 1, 'fun-or-entertainment': 1, 'hate-or-jealousy': 1, 'quotes-and-philosophy': 2, 'sabotaged-or-destroy': 1, 'sages-sayings': 1, 'meetahluwalia': 1, 'love-reflection': 1, 'p-anarchic': 1, 'global-disaster': 1, 'love-ourselves': 1, 'egwene-al-vere': 2, 'matrim-cauthon': 1, 'rand-al-thor': 2, 'wheel-of-time': 4, 'wot': 3, 'nynaeve-al-meara': 1, 'thom-merrilin': 1, 'thomdril-merrilin': 1, 'next-step': 1, 'soul-tribe': 1, 'tribe': 1, 'cleansing': 1, 'appalachia': 2, 'grandma': 2, 'midcentury': 2, 'aes-sedai': 1, 'moiraine-damodred': 1, 'literary-devices': 1, 'auditorium': 1, 'dummy': 1, 'ventriloquist': 1, 'outcomes': 1, 'thoughtless': 1, 'throughtful': 1, 'entitled': 1, 'healing-anger': 1, 'healing-conflict': 1, 'quotes-from-nepal': 1, 'saroj-aryal-quotes': 1, 'sarojquotes': 1, 'preoccupied': 1, 'ravine': 1, 'fascinating': 1, 'robust': 1, 'deep-life-quotes': 1, 'learning-from-experiences': 1, 'long-term-thinking': 1, 'laid-back': 1, 'underestimate-quotes': 1, 'alchemical-wisdom': 1, 'transmutation': 2, 'trial-and-error': 1, 'human-design': 1, 'akashic-records': 1, 'lies-quotes': 1, 'no-retreat': 1, 'signs-humanity': 1, 'expansive': 1, 'abilene': 1, 'ogier': 1, 'the-great-hunt': 1, 'yogi': 1, 'the-intuitive-coach': 3, 'athletes-and-attitude': 1, 'better-or-bitter': 1, 'competition-or-competing': 1, 'sore-losers': 1, 'sports-or-games-quotes': 1, 'support-or-respect': 1, 'claustrum-oil': 1, 'oil-of-christ': 1, 'planning-ahead': 1, 'ruthlessness': 1, 'sit': 1, 'the-other-side': 1, 'cheap-labour': 1, 'saving-costs': 1, 'successful-quotes': 1, 'workers-or-labour': 1, 'deals': 1, 'dime': 1, 'dime-a-dozen': 1, 'absorb': 1, 'student-of-life': 1, 'generational-curse': 1, 'generational-trauma': 1, 'curiosity-quotes': 1, 'learn-quotes': 1, 'study-quotes': 1, 'intuition-soul': 1, 'centered': 1, 'regenerate': 1, 'regulate': 1, 'state-of-the-world': 1, 'myself-quote': 1, 'influencers-or-influence': 1, 'society-or-social-media': 1, 'learning-from-life': 1, 'learning-from-the-past': 1}\n"
          ]
        }
      ],
      "source": [
        "tags_list = df.tags.to_list()\n",
        "tag_count = {}\n",
        "for tags in tags_list:\n",
        "  tag_list = eval(tags)\n",
        "  for tag in tag_list:\n",
        "    if tag in tag_count.keys():\n",
        "      tag_count[tag] += 1\n",
        "    else:\n",
        "      tag_count[tag] = 1\n",
        "print(f\"Number of tag: {len(tag_count)}\")\n",
        "print(tag_count)"
      ]
    },
    {
      "cell_type": "code",
      "execution_count": null,
      "metadata": {
        "colab": {
          "base_uri": "https://localhost:8080/"
        },
        "id": "IMrnEcp7YWVv",
        "outputId": "730d156d-2d48-4dd2-a2bb-9f74017f2ddf"
      },
      "outputs": [
        {
          "data": {
            "text/plain": [
              "(23277,\n",
              " ['best',\n",
              "  'misattributed-marilyn-monroe',\n",
              "  'mistakes',\n",
              "  'out-of-control',\n",
              "  'worst'])"
            ]
          },
          "execution_count": 15,
          "metadata": {},
          "output_type": "execute_result"
        }
      ],
      "source": [
        "threshold = int(len(df) * 0.005)\n",
        "rare_tags = [key for key, value in tag_count.items() if value < threshold]\n",
        "len(rare_tags), rare_tags[:5]"
      ]
    },
    {
      "cell_type": "code",
      "execution_count": null,
      "metadata": {
        "colab": {
          "base_uri": "https://localhost:8080/"
        },
        "id": "LhOXRYfkYpQ0",
        "outputId": "60b07f96-2b00-46a2-c3dc-08f141f1f63e"
      },
      "outputs": [
        {
          "data": {
            "text/plain": [
              "(38607, 3)"
            ]
          },
          "execution_count": 16,
          "metadata": {},
          "output_type": "execute_result"
        }
      ],
      "source": [
        "tags_list = df.tags.to_list()\n",
        "revised_tag_list = []\n",
        "indices_to_drop = []\n",
        "\n",
        "for idx, tags in enumerate(tags_list):\n",
        "  tag_list = eval(tags)\n",
        "  revised_tags = []\n",
        "\n",
        "  for tag in tag_list:\n",
        "    if tag not in rare_tags:\n",
        "      revised_tags.append(tag)\n",
        "\n",
        "  if len(revised_tags) == 0:\n",
        "    indices_to_drop.append(idx)\n",
        "  else:\n",
        "    revised_tag_list.append(revised_tags)\n",
        "\n",
        "df = df.drop(indices_to_drop).reset_index(drop=True)\n",
        "df.shape"
      ]
    },
    {
      "cell_type": "code",
      "execution_count": null,
      "metadata": {
        "id": "ZkAkroLKad-3"
      },
      "outputs": [],
      "source": [
        "df['revised_tags'] = revised_tag_list"
      ]
    },
    {
      "cell_type": "code",
      "execution_count": null,
      "metadata": {
        "colab": {
          "base_uri": "https://localhost:8080/",
          "height": 397
        },
        "id": "Ig4_JxuLa12r",
        "outputId": "e4464a6a-d597-4d16-9c27-9fae45e997a6"
      },
      "outputs": [
        {
          "data": {
            "text/html": [
              "\n",
              "  <div id=\"df-d733339f-7328-4b2a-9b87-e198ac0ac480\" class=\"colab-df-container\">\n",
              "    <div>\n",
              "<style scoped>\n",
              "    .dataframe tbody tr th:only-of-type {\n",
              "        vertical-align: middle;\n",
              "    }\n",
              "\n",
              "    .dataframe tbody tr th {\n",
              "        vertical-align: top;\n",
              "    }\n",
              "\n",
              "    .dataframe thead th {\n",
              "        text-align: right;\n",
              "    }\n",
              "</style>\n",
              "<table border=\"1\" class=\"dataframe\">\n",
              "  <thead>\n",
              "    <tr style=\"text-align: right;\">\n",
              "      <th></th>\n",
              "      <th>author</th>\n",
              "      <th>quotes</th>\n",
              "      <th>tags</th>\n",
              "      <th>revised_tags</th>\n",
              "    </tr>\n",
              "  </thead>\n",
              "  <tbody>\n",
              "    <tr>\n",
              "      <th>38602</th>\n",
              "      <td>Robin Wall Kimmerer</td>\n",
              "      <td>In Native ways of knowing, human people are often referred to as the younger brothers of Creation. We say that humans have the least experience with how to live and thus the most to learn - we must look to our teachers among the other species for guidance. Their wisdom is apparent in the way that they live. They teach us by example. They've been on the earth far longer than we have been, and have had time to figure things out.</td>\n",
              "      <td>['learning-from-life', 'learning-from-others', 'learning-from-the-past', 'nature', 'plants', 'wisdom']</td>\n",
              "      <td>[nature, wisdom]</td>\n",
              "    </tr>\n",
              "    <tr>\n",
              "      <th>38603</th>\n",
              "      <td>Tiziano Terzani</td>\n",
              "      <td>So wie mir der Sinn einer Reise der Weg und nicht das Ziel zu sein schien, so zählte im Bereich des Okkulten allein die Suche: es zählte das Stellen von Fragen und nicht die Antworten aus den Rissen in einem Knochen und den Handlinien. Die Antwort geben im Grunde immer wir selbst.</td>\n",
              "      <td>['occultism', 'self-realization', 'spirituality', 'wisdom']</td>\n",
              "      <td>[spirituality, wisdom]</td>\n",
              "    </tr>\n",
              "    <tr>\n",
              "      <th>38604</th>\n",
              "      <td>Albert Schweitzer</td>\n",
              "      <td>We always know that society is full of folly and will deceive us in the matter of humanity.\\nIt is an unreliable horse, and blind into the bargain. Woe to the driver who falls asleep!</td>\n",
              "      <td>['humanity', 'life', 'philosophy', 'society', 'wisdom']</td>\n",
              "      <td>[humanity, life, philosophy, wisdom]</td>\n",
              "    </tr>\n",
              "    <tr>\n",
              "      <th>38605</th>\n",
              "      <td>Robert Leonard Reid</td>\n",
              "      <td>Travel back to oneself… I had always imagined that the word referred to forward linear travel… now I wonder if the trajectory might not be circular; you spiral around and, somewhere behind where you were, you come upon your former self, a self that is somehow changed. You’re a child again, yet not exactly: a creature who possesses something you once possessed—innocence, perhaps, or courage or joy—but who is equipped this time around to hold on to whatever it was you lost.</td>\n",
              "      <td>['life', 'philosophy', 'wisdom']</td>\n",
              "      <td>[life, philosophy, wisdom]</td>\n",
              "    </tr>\n",
              "    <tr>\n",
              "      <th>38606</th>\n",
              "      <td>Humanityisdiversity.org</td>\n",
              "      <td>Considering others inferior is never the answer. A condescending attitude is never the answer.</td>\n",
              "      <td>['condescending', 'humanity', 'life', 'wisdom']</td>\n",
              "      <td>[humanity, life, wisdom]</td>\n",
              "    </tr>\n",
              "  </tbody>\n",
              "</table>\n",
              "</div>\n",
              "    <div class=\"colab-df-buttons\">\n",
              "\n",
              "  <div class=\"colab-df-container\">\n",
              "    <button class=\"colab-df-convert\" onclick=\"convertToInteractive('df-d733339f-7328-4b2a-9b87-e198ac0ac480')\"\n",
              "            title=\"Convert this dataframe to an interactive table.\"\n",
              "            style=\"display:none;\">\n",
              "\n",
              "  <svg xmlns=\"http://www.w3.org/2000/svg\" height=\"24px\" viewBox=\"0 -960 960 960\">\n",
              "    <path d=\"M120-120v-720h720v720H120Zm60-500h600v-160H180v160Zm220 220h160v-160H400v160Zm0 220h160v-160H400v160ZM180-400h160v-160H180v160Zm440 0h160v-160H620v160ZM180-180h160v-160H180v160Zm440 0h160v-160H620v160Z\"/>\n",
              "  </svg>\n",
              "    </button>\n",
              "\n",
              "  <style>\n",
              "    .colab-df-container {\n",
              "      display:flex;\n",
              "      gap: 12px;\n",
              "    }\n",
              "\n",
              "    .colab-df-convert {\n",
              "      background-color: #E8F0FE;\n",
              "      border: none;\n",
              "      border-radius: 50%;\n",
              "      cursor: pointer;\n",
              "      display: none;\n",
              "      fill: #1967D2;\n",
              "      height: 32px;\n",
              "      padding: 0 0 0 0;\n",
              "      width: 32px;\n",
              "    }\n",
              "\n",
              "    .colab-df-convert:hover {\n",
              "      background-color: #E2EBFA;\n",
              "      box-shadow: 0px 1px 2px rgba(60, 64, 67, 0.3), 0px 1px 3px 1px rgba(60, 64, 67, 0.15);\n",
              "      fill: #174EA6;\n",
              "    }\n",
              "\n",
              "    .colab-df-buttons div {\n",
              "      margin-bottom: 4px;\n",
              "    }\n",
              "\n",
              "    [theme=dark] .colab-df-convert {\n",
              "      background-color: #3B4455;\n",
              "      fill: #D2E3FC;\n",
              "    }\n",
              "\n",
              "    [theme=dark] .colab-df-convert:hover {\n",
              "      background-color: #434B5C;\n",
              "      box-shadow: 0px 1px 3px 1px rgba(0, 0, 0, 0.15);\n",
              "      filter: drop-shadow(0px 1px 2px rgba(0, 0, 0, 0.3));\n",
              "      fill: #FFFFFF;\n",
              "    }\n",
              "  </style>\n",
              "\n",
              "    <script>\n",
              "      const buttonEl =\n",
              "        document.querySelector('#df-d733339f-7328-4b2a-9b87-e198ac0ac480 button.colab-df-convert');\n",
              "      buttonEl.style.display =\n",
              "        google.colab.kernel.accessAllowed ? 'block' : 'none';\n",
              "\n",
              "      async function convertToInteractive(key) {\n",
              "        const element = document.querySelector('#df-d733339f-7328-4b2a-9b87-e198ac0ac480');\n",
              "        const dataTable =\n",
              "          await google.colab.kernel.invokeFunction('convertToInteractive',\n",
              "                                                    [key], {});\n",
              "        if (!dataTable) return;\n",
              "\n",
              "        const docLinkHtml = 'Like what you see? Visit the ' +\n",
              "          '<a target=\"_blank\" href=https://colab.research.google.com/notebooks/data_table.ipynb>data table notebook</a>'\n",
              "          + ' to learn more about interactive tables.';\n",
              "        element.innerHTML = '';\n",
              "        dataTable['output_type'] = 'display_data';\n",
              "        await google.colab.output.renderOutput(dataTable, element);\n",
              "        const docLink = document.createElement('div');\n",
              "        docLink.innerHTML = docLinkHtml;\n",
              "        element.appendChild(docLink);\n",
              "      }\n",
              "    </script>\n",
              "  </div>\n",
              "\n",
              "\n",
              "<div id=\"df-f0fb20d3-0c7f-44f3-8192-48b4ea281f21\">\n",
              "  <button class=\"colab-df-quickchart\" onclick=\"quickchart('df-f0fb20d3-0c7f-44f3-8192-48b4ea281f21')\"\n",
              "            title=\"Suggest charts\"\n",
              "            style=\"display:none;\">\n",
              "\n",
              "<svg xmlns=\"http://www.w3.org/2000/svg\" height=\"24px\"viewBox=\"0 0 24 24\"\n",
              "     width=\"24px\">\n",
              "    <g>\n",
              "        <path d=\"M19 3H5c-1.1 0-2 .9-2 2v14c0 1.1.9 2 2 2h14c1.1 0 2-.9 2-2V5c0-1.1-.9-2-2-2zM9 17H7v-7h2v7zm4 0h-2V7h2v10zm4 0h-2v-4h2v4z\"/>\n",
              "    </g>\n",
              "</svg>\n",
              "  </button>\n",
              "\n",
              "<style>\n",
              "  .colab-df-quickchart {\n",
              "      --bg-color: #E8F0FE;\n",
              "      --fill-color: #1967D2;\n",
              "      --hover-bg-color: #E2EBFA;\n",
              "      --hover-fill-color: #174EA6;\n",
              "      --disabled-fill-color: #AAA;\n",
              "      --disabled-bg-color: #DDD;\n",
              "  }\n",
              "\n",
              "  [theme=dark] .colab-df-quickchart {\n",
              "      --bg-color: #3B4455;\n",
              "      --fill-color: #D2E3FC;\n",
              "      --hover-bg-color: #434B5C;\n",
              "      --hover-fill-color: #FFFFFF;\n",
              "      --disabled-bg-color: #3B4455;\n",
              "      --disabled-fill-color: #666;\n",
              "  }\n",
              "\n",
              "  .colab-df-quickchart {\n",
              "    background-color: var(--bg-color);\n",
              "    border: none;\n",
              "    border-radius: 50%;\n",
              "    cursor: pointer;\n",
              "    display: none;\n",
              "    fill: var(--fill-color);\n",
              "    height: 32px;\n",
              "    padding: 0;\n",
              "    width: 32px;\n",
              "  }\n",
              "\n",
              "  .colab-df-quickchart:hover {\n",
              "    background-color: var(--hover-bg-color);\n",
              "    box-shadow: 0 1px 2px rgba(60, 64, 67, 0.3), 0 1px 3px 1px rgba(60, 64, 67, 0.15);\n",
              "    fill: var(--button-hover-fill-color);\n",
              "  }\n",
              "\n",
              "  .colab-df-quickchart-complete:disabled,\n",
              "  .colab-df-quickchart-complete:disabled:hover {\n",
              "    background-color: var(--disabled-bg-color);\n",
              "    fill: var(--disabled-fill-color);\n",
              "    box-shadow: none;\n",
              "  }\n",
              "\n",
              "  .colab-df-spinner {\n",
              "    border: 2px solid var(--fill-color);\n",
              "    border-color: transparent;\n",
              "    border-bottom-color: var(--fill-color);\n",
              "    animation:\n",
              "      spin 1s steps(1) infinite;\n",
              "  }\n",
              "\n",
              "  @keyframes spin {\n",
              "    0% {\n",
              "      border-color: transparent;\n",
              "      border-bottom-color: var(--fill-color);\n",
              "      border-left-color: var(--fill-color);\n",
              "    }\n",
              "    20% {\n",
              "      border-color: transparent;\n",
              "      border-left-color: var(--fill-color);\n",
              "      border-top-color: var(--fill-color);\n",
              "    }\n",
              "    30% {\n",
              "      border-color: transparent;\n",
              "      border-left-color: var(--fill-color);\n",
              "      border-top-color: var(--fill-color);\n",
              "      border-right-color: var(--fill-color);\n",
              "    }\n",
              "    40% {\n",
              "      border-color: transparent;\n",
              "      border-right-color: var(--fill-color);\n",
              "      border-top-color: var(--fill-color);\n",
              "    }\n",
              "    60% {\n",
              "      border-color: transparent;\n",
              "      border-right-color: var(--fill-color);\n",
              "    }\n",
              "    80% {\n",
              "      border-color: transparent;\n",
              "      border-right-color: var(--fill-color);\n",
              "      border-bottom-color: var(--fill-color);\n",
              "    }\n",
              "    90% {\n",
              "      border-color: transparent;\n",
              "      border-bottom-color: var(--fill-color);\n",
              "    }\n",
              "  }\n",
              "</style>\n",
              "\n",
              "  <script>\n",
              "    async function quickchart(key) {\n",
              "      const quickchartButtonEl =\n",
              "        document.querySelector('#' + key + ' button');\n",
              "      quickchartButtonEl.disabled = true;  // To prevent multiple clicks.\n",
              "      quickchartButtonEl.classList.add('colab-df-spinner');\n",
              "      try {\n",
              "        const charts = await google.colab.kernel.invokeFunction(\n",
              "            'suggestCharts', [key], {});\n",
              "      } catch (error) {\n",
              "        console.error('Error during call to suggestCharts:', error);\n",
              "      }\n",
              "      quickchartButtonEl.classList.remove('colab-df-spinner');\n",
              "      quickchartButtonEl.classList.add('colab-df-quickchart-complete');\n",
              "    }\n",
              "    (() => {\n",
              "      let quickchartButtonEl =\n",
              "        document.querySelector('#df-f0fb20d3-0c7f-44f3-8192-48b4ea281f21 button');\n",
              "      quickchartButtonEl.style.display =\n",
              "        google.colab.kernel.accessAllowed ? 'block' : 'none';\n",
              "    })();\n",
              "  </script>\n",
              "</div>\n",
              "\n",
              "    </div>\n",
              "  </div>\n"
            ],
            "text/plain": [
              "                        author  \\\n",
              "38602      Robin Wall Kimmerer   \n",
              "38603          Tiziano Terzani   \n",
              "38604        Albert Schweitzer   \n",
              "38605      Robert Leonard Reid   \n",
              "38606  Humanityisdiversity.org   \n",
              "\n",
              "                                                                                                                                                                                                                                                                                                                                                                                                                                                                                             quotes  \\\n",
              "38602                                                In Native ways of knowing, human people are often referred to as the younger brothers of Creation. We say that humans have the least experience with how to live and thus the most to learn - we must look to our teachers among the other species for guidance. Their wisdom is apparent in the way that they live. They teach us by example. They've been on the earth far longer than we have been, and have had time to figure things out.   \n",
              "38603                                                                                                                                                                                                     So wie mir der Sinn einer Reise der Weg und nicht das Ziel zu sein schien, so zählte im Bereich des Okkulten allein die Suche: es zählte das Stellen von Fragen und nicht die Antworten aus den Rissen in einem Knochen und den Handlinien. Die Antwort geben im Grunde immer wir selbst.   \n",
              "38604                                                                                                                                                                                                                                                                                                       We always know that society is full of folly and will deceive us in the matter of humanity.\\nIt is an unreliable horse, and blind into the bargain. Woe to the driver who falls asleep!   \n",
              "38605  Travel back to oneself… I had always imagined that the word referred to forward linear travel… now I wonder if the trajectory might not be circular; you spiral around and, somewhere behind where you were, you come upon your former self, a self that is somehow changed. You’re a child again, yet not exactly: a creature who possesses something you once possessed—innocence, perhaps, or courage or joy—but who is equipped this time around to hold on to whatever it was you lost.   \n",
              "38606                                                                                                                                                                                                                                                                                                                                                                                                Considering others inferior is never the answer. A condescending attitude is never the answer.   \n",
              "\n",
              "                                                                                                         tags  \\\n",
              "38602  ['learning-from-life', 'learning-from-others', 'learning-from-the-past', 'nature', 'plants', 'wisdom']   \n",
              "38603                                             ['occultism', 'self-realization', 'spirituality', 'wisdom']   \n",
              "38604                                                 ['humanity', 'life', 'philosophy', 'society', 'wisdom']   \n",
              "38605                                                                        ['life', 'philosophy', 'wisdom']   \n",
              "38606                                                         ['condescending', 'humanity', 'life', 'wisdom']   \n",
              "\n",
              "                               revised_tags  \n",
              "38602                      [nature, wisdom]  \n",
              "38603                [spirituality, wisdom]  \n",
              "38604  [humanity, life, philosophy, wisdom]  \n",
              "38605            [life, philosophy, wisdom]  \n",
              "38606              [humanity, life, wisdom]  "
            ]
          },
          "execution_count": 19,
          "metadata": {},
          "output_type": "execute_result"
        }
      ],
      "source": [
        "df.tail()"
      ]
    },
    {
      "cell_type": "code",
      "execution_count": null,
      "metadata": {
        "colab": {
          "base_uri": "https://localhost:8080/"
        },
        "id": "jbC6dbZEa4uN",
        "outputId": "b766e5d0-22f3-4fa3-9e1a-809fe7766ce3"
      },
      "outputs": [
        {
          "name": "stdout",
          "output_type": "stream",
          "text": [
            "Number of Tags: 138\n",
            "{'attributed-no-source': 315, 'life': 8250, 'love': 6362, 'truth': 4562, 'inspirational': 7077, 'dreams': 574, 'reality': 389, 'friendship': 433, 'knowledge': 773, 'light': 284, 'peace': 540, 'marriage': 233, 'philosophy': 4349, 'poetry': 3643, 'trust': 284, 'courage': 468, 'strength': 361, 'happiness': 3931, 'death': 834, 'desire': 235, 'honesty': 291, 'passion': 398, 'relationships': 768, 'romance': 636, 'wisdom': 4273, 'humor': 3946, 'women': 281, 'hope': 4007, 'inspiration': 1641, 'sadness': 253, 'people': 338, 'lies': 276, 'respect': 217, 'optimism': 625, 'pain': 371, 'work': 204, 'fear': 442, 'soul': 325, 'art': 462, 'writing': 629, 'joy': 513, 'humanity': 405, 'inspirational-attitude': 389, 'inspirational-life': 459, 'inspirational-quotes': 1097, 'inspire': 569, 'inspiring': 606, 'kindness': 277, 'life-and-living': 474, 'life-lessons': 986, 'life-quotes': 679, 'living': 824, 'optimistic': 481, 'positive': 549, 'positive-affirmation': 466, 'positive-life': 467, 'positive-thinking': 785, 'music': 304, 'loss': 214, 'faith': 3884, 'change': 556, 'relationship': 206, 'compassion': 273, 'mind': 256, 'motivation': 1219, 'spirituality': 945, 'god': 1238, 'heart': 349, 'time': 454, 'beauty': 443, 'intelligence': 222, 'religion': 1129, 'learning': 366, 'destiny': 259, 'war': 242, 'money': 249, 'growth': 336, 'freedom': 530, 'family': 228, 'reason': 214, 'universe': 233, 'books': 349, 'reading': 231, 'poem': 325, 'healing': 228, 'funny': 392, 'humour': 284, 'spiritual': 290, 'action': 308, 'nature': 462, 'understanding': 268, 'psychology': 248, 'confidence': 259, 'failure': 454, 'opportunity': 244, 'success': 3594, 'belief': 520, 'depression': 211, 'future': 346, 'motivational': 1355, 'words': 216, 'christian': 275, 'power': 327, 'reflection': 270, 'business': 219, 'leadership': 269, 'happy': 246, 'perspective': 203, 'purpose': 269, 'education': 388, 'science': 3457, 'poems': 298, 'evolution': 206, 'world': 210, 'prayer': 291, 'fiction': 196, 'quote': 267, 'quotes': 984, 'christianity': 393, 'atheism': 207, 'jesus': 201, 'goals': 407, 'history': 283, 'self-help': 334, 'attitude': 263, 'believe': 247, 'literature': 257, 'contemplation': 220, 'struggle': 216, 'writer': 230, 'motivational-quotes': 203, 'positivity': 484, 'determination': 227, 'politics': 344, 'poetry-quotes': 230, 'progress': 374, 'consciousness': 252, 'self-growth': 300}\n"
          ]
        }
      ],
      "source": [
        "revised_tags_list = df.revised_tags.to_list()\n",
        "revised_tag_count = {}\n",
        "for tags in revised_tags_list:\n",
        "  tag_list = tags\n",
        "  for tag in tag_list:\n",
        "    if tag in revised_tag_count.keys():\n",
        "      revised_tag_count[tag] += 1\n",
        "    else:\n",
        "      revised_tag_count[tag] = 1\n",
        "print(f\"Number of Tags: {len(revised_tag_count)}\")\n",
        "print(revised_tag_count)"
      ]
    },
    {
      "cell_type": "code",
      "execution_count": null,
      "metadata": {
        "id": "PwaJxhKbcCRf"
      },
      "outputs": [],
      "source": [
        "encode_tag_types = { key: idx for idx, (key, value) in enumerate(revised_tag_count.items())}\n",
        "with open(\"tag_types_encoded.json\", \"w\") as fp:\n",
        "  json.dump(encode_tag_types, fp)"
      ]
    },
    {
      "cell_type": "code",
      "execution_count": null,
      "metadata": {
        "colab": {
          "base_uri": "https://localhost:8080/"
        },
        "id": "C8RyS8MNcdMM",
        "outputId": "d8f001d4-ab39-40a0-c319-b254b28fffd6"
      },
      "outputs": [
        {
          "data": {
            "text/plain": [
              "[0, 0, 1, 0, 0, 0, 0, 1, 1, 0, 0, 0, 0, 0, 0, 0, 0, 0, 0, 0, 0, 0, 0]"
            ]
          },
          "execution_count": 23,
          "metadata": {},
          "output_type": "execute_result"
        }
      ],
      "source": [
        "# We need this because for multilabel classification all genres have possibility to be present in the predictions\n",
        "categorical_tag_list = []\n",
        "revised_tags_list = df.revised_tags.to_list()\n",
        "\n",
        "for revised_tags in revised_tags_list:\n",
        "  categorical_list = [0] * len(encode_tag_types)\n",
        "  for tag in revised_tags:\n",
        "    tag_type_index = encode_tag_types[tag]\n",
        "    categorical_list[tag_type_index] = 1\n",
        "  categorical_tag_list.append(categorical_list)\n",
        "\n",
        "categorical_tag_list[3][:23]"
      ]
    },
    {
      "cell_type": "code",
      "execution_count": null,
      "metadata": {
        "colab": {
          "base_uri": "https://localhost:8080/",
          "height": 467
        },
        "id": "EAStyj4KdAP5",
        "outputId": "a1370a23-2ec2-48d7-bb52-fbfb9ff7d5ca"
      },
      "outputs": [
        {
          "data": {
            "text/html": [
              "\n",
              "  <div id=\"df-f4543828-9d94-4541-b3d9-79066ac8ed0d\" class=\"colab-df-container\">\n",
              "    <div>\n",
              "<style scoped>\n",
              "    .dataframe tbody tr th:only-of-type {\n",
              "        vertical-align: middle;\n",
              "    }\n",
              "\n",
              "    .dataframe tbody tr th {\n",
              "        vertical-align: top;\n",
              "    }\n",
              "\n",
              "    .dataframe thead th {\n",
              "        text-align: right;\n",
              "    }\n",
              "</style>\n",
              "<table border=\"1\" class=\"dataframe\">\n",
              "  <thead>\n",
              "    <tr style=\"text-align: right;\">\n",
              "      <th></th>\n",
              "      <th>author</th>\n",
              "      <th>quotes</th>\n",
              "      <th>tags</th>\n",
              "      <th>revised_tags</th>\n",
              "      <th>tag_cat_list</th>\n",
              "    </tr>\n",
              "  </thead>\n",
              "  <tbody>\n",
              "    <tr>\n",
              "      <th>0</th>\n",
              "      <td>Marilyn Monroe</td>\n",
              "      <td>I'm selfish, impatient and a little insecure. I make mistakes, I am out of control and at times hard to handle. But if you can't handle me at my worst, then you sure as hell don't deserve me at my best.</td>\n",
              "      <td>['attributed-no-source', 'best', 'life', 'love', 'misattributed-marilyn-monroe', 'mistakes', 'out-of-control', 'truth', 'worst']</td>\n",
              "      <td>[attributed-no-source, life, love, truth]</td>\n",
              "      <td>[1, 1, 1, 1, 0, 0, 0, 0, 0, 0, 0, 0, 0, 0, 0, 0, 0, 0, 0, 0, 0, 0, 0, 0, 0, 0, 0, 0, 0, 0, 0, 0, 0, 0, 0, 0, 0, 0, 0, 0, 0, 0, 0, 0, 0, 0, 0, 0, 0, 0, 0, 0, 0, 0, 0, 0, 0, 0, 0, 0, 0, 0, 0, 0, 0, 0, 0, 0, 0, 0, 0, 0, 0, 0, 0, 0, 0, 0, 0, 0, 0, 0, 0, 0, 0, 0, 0, 0, 0, 0, 0, 0, 0, 0, 0, 0, 0, 0, 0, 0, ...]</td>\n",
              "    </tr>\n",
              "    <tr>\n",
              "      <th>1</th>\n",
              "      <td>William W. Purkey</td>\n",
              "      <td>You've gotta dance like there's nobody watching,\\nLove like you'll never be hurt,\\nSing like there's nobody listening,\\nAnd live like it's heaven on earth.</td>\n",
              "      <td>['dance', 'heaven', 'hurt', 'inspirational', 'life', 'love', 'sing']</td>\n",
              "      <td>[inspirational, life, love]</td>\n",
              "      <td>[0, 1, 1, 0, 1, 0, 0, 0, 0, 0, 0, 0, 0, 0, 0, 0, 0, 0, 0, 0, 0, 0, 0, 0, 0, 0, 0, 0, 0, 0, 0, 0, 0, 0, 0, 0, 0, 0, 0, 0, 0, 0, 0, 0, 0, 0, 0, 0, 0, 0, 0, 0, 0, 0, 0, 0, 0, 0, 0, 0, 0, 0, 0, 0, 0, 0, 0, 0, 0, 0, 0, 0, 0, 0, 0, 0, 0, 0, 0, 0, 0, 0, 0, 0, 0, 0, 0, 0, 0, 0, 0, 0, 0, 0, 0, 0, 0, 0, 0, 0, ...]</td>\n",
              "    </tr>\n",
              "    <tr>\n",
              "      <th>2</th>\n",
              "      <td>Dr. Seuss</td>\n",
              "      <td>You know you're in love when you can't fall asleep because reality is finally better than your dreams.</td>\n",
              "      <td>['attributed-no-source', 'dreams', 'love', 'reality', 'sleep']</td>\n",
              "      <td>[attributed-no-source, dreams, love, reality]</td>\n",
              "      <td>[1, 0, 1, 0, 0, 1, 1, 0, 0, 0, 0, 0, 0, 0, 0, 0, 0, 0, 0, 0, 0, 0, 0, 0, 0, 0, 0, 0, 0, 0, 0, 0, 0, 0, 0, 0, 0, 0, 0, 0, 0, 0, 0, 0, 0, 0, 0, 0, 0, 0, 0, 0, 0, 0, 0, 0, 0, 0, 0, 0, 0, 0, 0, 0, 0, 0, 0, 0, 0, 0, 0, 0, 0, 0, 0, 0, 0, 0, 0, 0, 0, 0, 0, 0, 0, 0, 0, 0, 0, 0, 0, 0, 0, 0, 0, 0, 0, 0, 0, 0, ...]</td>\n",
              "    </tr>\n",
              "    <tr>\n",
              "      <th>3</th>\n",
              "      <td>Elbert Hubbard</td>\n",
              "      <td>A friend is someone who knows all about you and still loves you.</td>\n",
              "      <td>['friend', 'friendship', 'knowledge', 'love']</td>\n",
              "      <td>[friendship, knowledge, love]</td>\n",
              "      <td>[0, 0, 1, 0, 0, 0, 0, 1, 1, 0, 0, 0, 0, 0, 0, 0, 0, 0, 0, 0, 0, 0, 0, 0, 0, 0, 0, 0, 0, 0, 0, 0, 0, 0, 0, 0, 0, 0, 0, 0, 0, 0, 0, 0, 0, 0, 0, 0, 0, 0, 0, 0, 0, 0, 0, 0, 0, 0, 0, 0, 0, 0, 0, 0, 0, 0, 0, 0, 0, 0, 0, 0, 0, 0, 0, 0, 0, 0, 0, 0, 0, 0, 0, 0, 0, 0, 0, 0, 0, 0, 0, 0, 0, 0, 0, 0, 0, 0, 0, 0, ...]</td>\n",
              "    </tr>\n",
              "    <tr>\n",
              "      <th>4</th>\n",
              "      <td>Martin Luther King Jr.</td>\n",
              "      <td>Darkness cannot drive out darkness: only light can do that. Hate cannot drive out hate: only love can do that.</td>\n",
              "      <td>['darkness', 'drive-out', 'hate', 'inspirational', 'light', 'love', 'peace']</td>\n",
              "      <td>[inspirational, light, love, peace]</td>\n",
              "      <td>[0, 0, 1, 0, 1, 0, 0, 0, 0, 1, 1, 0, 0, 0, 0, 0, 0, 0, 0, 0, 0, 0, 0, 0, 0, 0, 0, 0, 0, 0, 0, 0, 0, 0, 0, 0, 0, 0, 0, 0, 0, 0, 0, 0, 0, 0, 0, 0, 0, 0, 0, 0, 0, 0, 0, 0, 0, 0, 0, 0, 0, 0, 0, 0, 0, 0, 0, 0, 0, 0, 0, 0, 0, 0, 0, 0, 0, 0, 0, 0, 0, 0, 0, 0, 0, 0, 0, 0, 0, 0, 0, 0, 0, 0, 0, 0, 0, 0, 0, 0, ...]</td>\n",
              "    </tr>\n",
              "  </tbody>\n",
              "</table>\n",
              "</div>\n",
              "    <div class=\"colab-df-buttons\">\n",
              "\n",
              "  <div class=\"colab-df-container\">\n",
              "    <button class=\"colab-df-convert\" onclick=\"convertToInteractive('df-f4543828-9d94-4541-b3d9-79066ac8ed0d')\"\n",
              "            title=\"Convert this dataframe to an interactive table.\"\n",
              "            style=\"display:none;\">\n",
              "\n",
              "  <svg xmlns=\"http://www.w3.org/2000/svg\" height=\"24px\" viewBox=\"0 -960 960 960\">\n",
              "    <path d=\"M120-120v-720h720v720H120Zm60-500h600v-160H180v160Zm220 220h160v-160H400v160Zm0 220h160v-160H400v160ZM180-400h160v-160H180v160Zm440 0h160v-160H620v160ZM180-180h160v-160H180v160Zm440 0h160v-160H620v160Z\"/>\n",
              "  </svg>\n",
              "    </button>\n",
              "\n",
              "  <style>\n",
              "    .colab-df-container {\n",
              "      display:flex;\n",
              "      gap: 12px;\n",
              "    }\n",
              "\n",
              "    .colab-df-convert {\n",
              "      background-color: #E8F0FE;\n",
              "      border: none;\n",
              "      border-radius: 50%;\n",
              "      cursor: pointer;\n",
              "      display: none;\n",
              "      fill: #1967D2;\n",
              "      height: 32px;\n",
              "      padding: 0 0 0 0;\n",
              "      width: 32px;\n",
              "    }\n",
              "\n",
              "    .colab-df-convert:hover {\n",
              "      background-color: #E2EBFA;\n",
              "      box-shadow: 0px 1px 2px rgba(60, 64, 67, 0.3), 0px 1px 3px 1px rgba(60, 64, 67, 0.15);\n",
              "      fill: #174EA6;\n",
              "    }\n",
              "\n",
              "    .colab-df-buttons div {\n",
              "      margin-bottom: 4px;\n",
              "    }\n",
              "\n",
              "    [theme=dark] .colab-df-convert {\n",
              "      background-color: #3B4455;\n",
              "      fill: #D2E3FC;\n",
              "    }\n",
              "\n",
              "    [theme=dark] .colab-df-convert:hover {\n",
              "      background-color: #434B5C;\n",
              "      box-shadow: 0px 1px 3px 1px rgba(0, 0, 0, 0.15);\n",
              "      filter: drop-shadow(0px 1px 2px rgba(0, 0, 0, 0.3));\n",
              "      fill: #FFFFFF;\n",
              "    }\n",
              "  </style>\n",
              "\n",
              "    <script>\n",
              "      const buttonEl =\n",
              "        document.querySelector('#df-f4543828-9d94-4541-b3d9-79066ac8ed0d button.colab-df-convert');\n",
              "      buttonEl.style.display =\n",
              "        google.colab.kernel.accessAllowed ? 'block' : 'none';\n",
              "\n",
              "      async function convertToInteractive(key) {\n",
              "        const element = document.querySelector('#df-f4543828-9d94-4541-b3d9-79066ac8ed0d');\n",
              "        const dataTable =\n",
              "          await google.colab.kernel.invokeFunction('convertToInteractive',\n",
              "                                                    [key], {});\n",
              "        if (!dataTable) return;\n",
              "\n",
              "        const docLinkHtml = 'Like what you see? Visit the ' +\n",
              "          '<a target=\"_blank\" href=https://colab.research.google.com/notebooks/data_table.ipynb>data table notebook</a>'\n",
              "          + ' to learn more about interactive tables.';\n",
              "        element.innerHTML = '';\n",
              "        dataTable['output_type'] = 'display_data';\n",
              "        await google.colab.output.renderOutput(dataTable, element);\n",
              "        const docLink = document.createElement('div');\n",
              "        docLink.innerHTML = docLinkHtml;\n",
              "        element.appendChild(docLink);\n",
              "      }\n",
              "    </script>\n",
              "  </div>\n",
              "\n",
              "\n",
              "<div id=\"df-cd348b11-eb05-4d38-ae1b-b5388f5ee454\">\n",
              "  <button class=\"colab-df-quickchart\" onclick=\"quickchart('df-cd348b11-eb05-4d38-ae1b-b5388f5ee454')\"\n",
              "            title=\"Suggest charts\"\n",
              "            style=\"display:none;\">\n",
              "\n",
              "<svg xmlns=\"http://www.w3.org/2000/svg\" height=\"24px\"viewBox=\"0 0 24 24\"\n",
              "     width=\"24px\">\n",
              "    <g>\n",
              "        <path d=\"M19 3H5c-1.1 0-2 .9-2 2v14c0 1.1.9 2 2 2h14c1.1 0 2-.9 2-2V5c0-1.1-.9-2-2-2zM9 17H7v-7h2v7zm4 0h-2V7h2v10zm4 0h-2v-4h2v4z\"/>\n",
              "    </g>\n",
              "</svg>\n",
              "  </button>\n",
              "\n",
              "<style>\n",
              "  .colab-df-quickchart {\n",
              "      --bg-color: #E8F0FE;\n",
              "      --fill-color: #1967D2;\n",
              "      --hover-bg-color: #E2EBFA;\n",
              "      --hover-fill-color: #174EA6;\n",
              "      --disabled-fill-color: #AAA;\n",
              "      --disabled-bg-color: #DDD;\n",
              "  }\n",
              "\n",
              "  [theme=dark] .colab-df-quickchart {\n",
              "      --bg-color: #3B4455;\n",
              "      --fill-color: #D2E3FC;\n",
              "      --hover-bg-color: #434B5C;\n",
              "      --hover-fill-color: #FFFFFF;\n",
              "      --disabled-bg-color: #3B4455;\n",
              "      --disabled-fill-color: #666;\n",
              "  }\n",
              "\n",
              "  .colab-df-quickchart {\n",
              "    background-color: var(--bg-color);\n",
              "    border: none;\n",
              "    border-radius: 50%;\n",
              "    cursor: pointer;\n",
              "    display: none;\n",
              "    fill: var(--fill-color);\n",
              "    height: 32px;\n",
              "    padding: 0;\n",
              "    width: 32px;\n",
              "  }\n",
              "\n",
              "  .colab-df-quickchart:hover {\n",
              "    background-color: var(--hover-bg-color);\n",
              "    box-shadow: 0 1px 2px rgba(60, 64, 67, 0.3), 0 1px 3px 1px rgba(60, 64, 67, 0.15);\n",
              "    fill: var(--button-hover-fill-color);\n",
              "  }\n",
              "\n",
              "  .colab-df-quickchart-complete:disabled,\n",
              "  .colab-df-quickchart-complete:disabled:hover {\n",
              "    background-color: var(--disabled-bg-color);\n",
              "    fill: var(--disabled-fill-color);\n",
              "    box-shadow: none;\n",
              "  }\n",
              "\n",
              "  .colab-df-spinner {\n",
              "    border: 2px solid var(--fill-color);\n",
              "    border-color: transparent;\n",
              "    border-bottom-color: var(--fill-color);\n",
              "    animation:\n",
              "      spin 1s steps(1) infinite;\n",
              "  }\n",
              "\n",
              "  @keyframes spin {\n",
              "    0% {\n",
              "      border-color: transparent;\n",
              "      border-bottom-color: var(--fill-color);\n",
              "      border-left-color: var(--fill-color);\n",
              "    }\n",
              "    20% {\n",
              "      border-color: transparent;\n",
              "      border-left-color: var(--fill-color);\n",
              "      border-top-color: var(--fill-color);\n",
              "    }\n",
              "    30% {\n",
              "      border-color: transparent;\n",
              "      border-left-color: var(--fill-color);\n",
              "      border-top-color: var(--fill-color);\n",
              "      border-right-color: var(--fill-color);\n",
              "    }\n",
              "    40% {\n",
              "      border-color: transparent;\n",
              "      border-right-color: var(--fill-color);\n",
              "      border-top-color: var(--fill-color);\n",
              "    }\n",
              "    60% {\n",
              "      border-color: transparent;\n",
              "      border-right-color: var(--fill-color);\n",
              "    }\n",
              "    80% {\n",
              "      border-color: transparent;\n",
              "      border-right-color: var(--fill-color);\n",
              "      border-bottom-color: var(--fill-color);\n",
              "    }\n",
              "    90% {\n",
              "      border-color: transparent;\n",
              "      border-bottom-color: var(--fill-color);\n",
              "    }\n",
              "  }\n",
              "</style>\n",
              "\n",
              "  <script>\n",
              "    async function quickchart(key) {\n",
              "      const quickchartButtonEl =\n",
              "        document.querySelector('#' + key + ' button');\n",
              "      quickchartButtonEl.disabled = true;  // To prevent multiple clicks.\n",
              "      quickchartButtonEl.classList.add('colab-df-spinner');\n",
              "      try {\n",
              "        const charts = await google.colab.kernel.invokeFunction(\n",
              "            'suggestCharts', [key], {});\n",
              "      } catch (error) {\n",
              "        console.error('Error during call to suggestCharts:', error);\n",
              "      }\n",
              "      quickchartButtonEl.classList.remove('colab-df-spinner');\n",
              "      quickchartButtonEl.classList.add('colab-df-quickchart-complete');\n",
              "    }\n",
              "    (() => {\n",
              "      let quickchartButtonEl =\n",
              "        document.querySelector('#df-cd348b11-eb05-4d38-ae1b-b5388f5ee454 button');\n",
              "      quickchartButtonEl.style.display =\n",
              "        google.colab.kernel.accessAllowed ? 'block' : 'none';\n",
              "    })();\n",
              "  </script>\n",
              "</div>\n",
              "\n",
              "    </div>\n",
              "  </div>\n"
            ],
            "text/plain": [
              "                   author  \\\n",
              "0          Marilyn Monroe   \n",
              "1       William W. Purkey   \n",
              "2               Dr. Seuss   \n",
              "3          Elbert Hubbard   \n",
              "4  Martin Luther King Jr.   \n",
              "\n",
              "                                                                                                                                                                                                       quotes  \\\n",
              "0  I'm selfish, impatient and a little insecure. I make mistakes, I am out of control and at times hard to handle. But if you can't handle me at my worst, then you sure as hell don't deserve me at my best.   \n",
              "1                                                 You've gotta dance like there's nobody watching,\\nLove like you'll never be hurt,\\nSing like there's nobody listening,\\nAnd live like it's heaven on earth.   \n",
              "2                                                                                                      You know you're in love when you can't fall asleep because reality is finally better than your dreams.   \n",
              "3                                                                                                                                            A friend is someone who knows all about you and still loves you.   \n",
              "4                                                                                              Darkness cannot drive out darkness: only light can do that. Hate cannot drive out hate: only love can do that.   \n",
              "\n",
              "                                                                                                                               tags  \\\n",
              "0  ['attributed-no-source', 'best', 'life', 'love', 'misattributed-marilyn-monroe', 'mistakes', 'out-of-control', 'truth', 'worst']   \n",
              "1                                                              ['dance', 'heaven', 'hurt', 'inspirational', 'life', 'love', 'sing']   \n",
              "2                                                                    ['attributed-no-source', 'dreams', 'love', 'reality', 'sleep']   \n",
              "3                                                                                     ['friend', 'friendship', 'knowledge', 'love']   \n",
              "4                                                      ['darkness', 'drive-out', 'hate', 'inspirational', 'light', 'love', 'peace']   \n",
              "\n",
              "                                    revised_tags  \\\n",
              "0      [attributed-no-source, life, love, truth]   \n",
              "1                    [inspirational, life, love]   \n",
              "2  [attributed-no-source, dreams, love, reality]   \n",
              "3                  [friendship, knowledge, love]   \n",
              "4            [inspirational, light, love, peace]   \n",
              "\n",
              "                                                                                                                                                                                                                                                                                                        tag_cat_list  \n",
              "0  [1, 1, 1, 1, 0, 0, 0, 0, 0, 0, 0, 0, 0, 0, 0, 0, 0, 0, 0, 0, 0, 0, 0, 0, 0, 0, 0, 0, 0, 0, 0, 0, 0, 0, 0, 0, 0, 0, 0, 0, 0, 0, 0, 0, 0, 0, 0, 0, 0, 0, 0, 0, 0, 0, 0, 0, 0, 0, 0, 0, 0, 0, 0, 0, 0, 0, 0, 0, 0, 0, 0, 0, 0, 0, 0, 0, 0, 0, 0, 0, 0, 0, 0, 0, 0, 0, 0, 0, 0, 0, 0, 0, 0, 0, 0, 0, 0, 0, 0, 0, ...]  \n",
              "1  [0, 1, 1, 0, 1, 0, 0, 0, 0, 0, 0, 0, 0, 0, 0, 0, 0, 0, 0, 0, 0, 0, 0, 0, 0, 0, 0, 0, 0, 0, 0, 0, 0, 0, 0, 0, 0, 0, 0, 0, 0, 0, 0, 0, 0, 0, 0, 0, 0, 0, 0, 0, 0, 0, 0, 0, 0, 0, 0, 0, 0, 0, 0, 0, 0, 0, 0, 0, 0, 0, 0, 0, 0, 0, 0, 0, 0, 0, 0, 0, 0, 0, 0, 0, 0, 0, 0, 0, 0, 0, 0, 0, 0, 0, 0, 0, 0, 0, 0, 0, ...]  \n",
              "2  [1, 0, 1, 0, 0, 1, 1, 0, 0, 0, 0, 0, 0, 0, 0, 0, 0, 0, 0, 0, 0, 0, 0, 0, 0, 0, 0, 0, 0, 0, 0, 0, 0, 0, 0, 0, 0, 0, 0, 0, 0, 0, 0, 0, 0, 0, 0, 0, 0, 0, 0, 0, 0, 0, 0, 0, 0, 0, 0, 0, 0, 0, 0, 0, 0, 0, 0, 0, 0, 0, 0, 0, 0, 0, 0, 0, 0, 0, 0, 0, 0, 0, 0, 0, 0, 0, 0, 0, 0, 0, 0, 0, 0, 0, 0, 0, 0, 0, 0, 0, ...]  \n",
              "3  [0, 0, 1, 0, 0, 0, 0, 1, 1, 0, 0, 0, 0, 0, 0, 0, 0, 0, 0, 0, 0, 0, 0, 0, 0, 0, 0, 0, 0, 0, 0, 0, 0, 0, 0, 0, 0, 0, 0, 0, 0, 0, 0, 0, 0, 0, 0, 0, 0, 0, 0, 0, 0, 0, 0, 0, 0, 0, 0, 0, 0, 0, 0, 0, 0, 0, 0, 0, 0, 0, 0, 0, 0, 0, 0, 0, 0, 0, 0, 0, 0, 0, 0, 0, 0, 0, 0, 0, 0, 0, 0, 0, 0, 0, 0, 0, 0, 0, 0, 0, ...]  \n",
              "4  [0, 0, 1, 0, 1, 0, 0, 0, 0, 1, 1, 0, 0, 0, 0, 0, 0, 0, 0, 0, 0, 0, 0, 0, 0, 0, 0, 0, 0, 0, 0, 0, 0, 0, 0, 0, 0, 0, 0, 0, 0, 0, 0, 0, 0, 0, 0, 0, 0, 0, 0, 0, 0, 0, 0, 0, 0, 0, 0, 0, 0, 0, 0, 0, 0, 0, 0, 0, 0, 0, 0, 0, 0, 0, 0, 0, 0, 0, 0, 0, 0, 0, 0, 0, 0, 0, 0, 0, 0, 0, 0, 0, 0, 0, 0, 0, 0, 0, 0, 0, ...]  "
            ]
          },
          "execution_count": 24,
          "metadata": {},
          "output_type": "execute_result"
        }
      ],
      "source": [
        "df['tag_cat_list'] = categorical_tag_list\n",
        "df.head()"
      ]
    },
    {
      "cell_type": "markdown",
      "metadata": {
        "id": "Wu8ih2R3dl84"
      },
      "source": [
        "# Dataloaders and Modeling"
      ]
    },
    {
      "cell_type": "code",
      "execution_count": null,
      "metadata": {
        "id": "7vOpvLYidKJl"
      },
      "outputs": [],
      "source": [
        "labels = list(encode_tag_types.keys())"
      ]
    },
    {
      "cell_type": "code",
      "execution_count": null,
      "metadata": {
        "colab": {
          "base_uri": "https://localhost:8080/",
          "height": 281,
          "referenced_widgets": [
            "ca39c5ff4eb9462995c1b1006e294b2a",
            "e17e0529c0d44f95a98dd48b507e8bac",
            "e4aed5f388404080870ac3c845e995a4",
            "ab1e411f37af427c94f391b8f8e22928",
            "5a0fa3e473fa4c03ba03aedd60a0e200",
            "a2f156bdd26b4c02b4760f27aa9effca",
            "de79b5b1816f436ea56a8ea510f5441e",
            "e012d1fdcfe84051973ab30a333eeaae",
            "d73037f05bf948d78a2f50c0789291ae",
            "f1952b29e87949a99c76d06663b74037",
            "e400732b0a3240858c97989b8a8a6ea9",
            "a31bdc70653848f4ae7bffb3ff961950",
            "8f54629a88ca4f10b4ab40ca9a639208",
            "1f32d7f318494c45910186490eec96d6",
            "a4c433d080c44e8d846dbf88180f092f",
            "b4238a3f4a8546499d450f5be1b35fbb",
            "e9f93ea3594445e1a83b6706197f2be0",
            "c697037b3b9f429cbb0d087253c17e6a",
            "feb52ce311554617bb440da20f4f4787",
            "53d1e90af6f04de8a4e4c453896d3be4",
            "f136e07c36914bd7bfee002eab2557b5",
            "c6d041cc2f21429086e32148ade56e41",
            "2481acd9c7334231b87b5de0ba3cdcfd",
            "c46bf647a13b4f418e522924a69bce02",
            "f51bbe848a3849afbb9ef5cacf3299db",
            "09722761db91464fb286ef819925a79c",
            "e6466b6bab324b9080ccc587e2611565",
            "daa987618b134fb683824ba39b6f09a3",
            "17c4f9066a474c0bb2a135fc55b7a8b1",
            "d7abf54046814370b37347ff8e95b7f6",
            "8f88ef10aae34460a608a134dfb144af",
            "fdd809cacecd4bd091ad133853d99a9d",
            "6f4ceb59d12647e2a9a25d71b8a691f3",
            "d08c1ed01a9841c19140e4c6184fa5e7",
            "6fd9453f02684800bf2162b7f4398784",
            "42c12c43f29d463fb8b8a69e98372b5a",
            "fe78c81ed7234704bd766fedb2451a98",
            "cac2ce2a1753427c9620eeddad36045d",
            "3e34edf1d6af47f082c87843cfc3fca0",
            "9c5aebc6488a46539cd1664d5aa9fb44",
            "8d069d75b9124b88b1f6633b9f15077c",
            "a5ce99ebd6364c838f919177d68575a5",
            "29dc3807768147219fe07a47b990ed26",
            "a4077287635c49cabdf7fd21ac3c6c44",
            "8b8ae76488fb458789d84ecf4f62b5ba",
            "aff72987b167491d819d64a25d363b0e",
            "bd9f7ce8a66145f08d0638d87fb3dba0",
            "581201147aca488aa718d0f962ce1016",
            "71001ce70f2a498db663f9f467d1ae43",
            "683293b87c4a45d5992374ad321941d4",
            "94637c0204cc43c290abfe1e42cc2ff5",
            "220fb8595dca4f11a95c6f192970104c",
            "5be4730d9eca4638b7de6ebd853ee874",
            "a66db801fd024f2f9cc84ae4df832a6c",
            "56e751f536574c5f813a1628d4670678"
          ]
        },
        "id": "H4ZlmRzydr9c",
        "outputId": "5538a0fe-4375-40c4-d975-da5391d6f4d6"
      },
      "outputs": [
        {
          "name": "stderr",
          "output_type": "stream",
          "text": [
            "/usr/local/lib/python3.10/dist-packages/huggingface_hub/utils/_token.py:72: UserWarning: \n",
            "The secret `HF_TOKEN` does not exist in your Colab secrets.\n",
            "To authenticate with the Hugging Face Hub, create a token in your settings tab (https://huggingface.co/settings/tokens), set it as secret in your Google Colab and restart your session.\n",
            "You will be able to reuse this secret in all of your notebooks.\n",
            "Please note that authentication is recommended but still optional to access public models or datasets.\n",
            "  warnings.warn(\n"
          ]
        },
        {
          "data": {
            "application/vnd.jupyter.widget-view+json": {
              "model_id": "ca39c5ff4eb9462995c1b1006e294b2a",
              "version_major": 2,
              "version_minor": 0
            },
            "text/plain": [
              "config.json:   0%|          | 0.00/480 [00:00<?, ?B/s]"
            ]
          },
          "metadata": {},
          "output_type": "display_data"
        },
        {
          "data": {
            "application/vnd.jupyter.widget-view+json": {
              "model_id": "a31bdc70653848f4ae7bffb3ff961950",
              "version_major": 2,
              "version_minor": 0
            },
            "text/plain": [
              "vocab.json:   0%|          | 0.00/899k [00:00<?, ?B/s]"
            ]
          },
          "metadata": {},
          "output_type": "display_data"
        },
        {
          "data": {
            "application/vnd.jupyter.widget-view+json": {
              "model_id": "2481acd9c7334231b87b5de0ba3cdcfd",
              "version_major": 2,
              "version_minor": 0
            },
            "text/plain": [
              "merges.txt:   0%|          | 0.00/456k [00:00<?, ?B/s]"
            ]
          },
          "metadata": {},
          "output_type": "display_data"
        },
        {
          "data": {
            "application/vnd.jupyter.widget-view+json": {
              "model_id": "d08c1ed01a9841c19140e4c6184fa5e7",
              "version_major": 2,
              "version_minor": 0
            },
            "text/plain": [
              "tokenizer.json:   0%|          | 0.00/1.36M [00:00<?, ?B/s]"
            ]
          },
          "metadata": {},
          "output_type": "display_data"
        },
        {
          "data": {
            "application/vnd.jupyter.widget-view+json": {
              "model_id": "8b8ae76488fb458789d84ecf4f62b5ba",
              "version_major": 2,
              "version_minor": 0
            },
            "text/plain": [
              "model.safetensors:   0%|          | 0.00/331M [00:00<?, ?B/s]"
            ]
          },
          "metadata": {},
          "output_type": "display_data"
        }
      ],
      "source": [
        "model_name = \"distilroberta-base\"\n",
        "model_cls = AutoModelForSequenceClassification\n",
        "config = AutoConfig.from_pretrained(model_name)\n",
        "config.num_labels = len(labels)\n",
        "\n",
        "hf_arch, hf_config, hf_tokenizer, hf_model = get_hf_objects(model_name, model_cls=model_cls, config=config)\n",
        "hf_model.config.problem_type = \"multi_label_classification\""
      ]
    },
    {
      "cell_type": "code",
      "execution_count": null,
      "metadata": {
        "id": "-TXicIZrdyxK"
      },
      "outputs": [],
      "source": [
        "blocks = (TextBlock(hf_arch, hf_config, hf_tokenizer, hf_model), MultiCategoryBlock(encoded=True,vocab=labels))\n",
        "dblock = DataBlock(blocks=blocks, get_x=ColReader('quotes'), get_y=ColReader('tag_cat_list'), splitter=RandomSplitter(valid_pct=0.1, seed=42))"
      ]
    },
    {
      "cell_type": "code",
      "execution_count": null,
      "metadata": {
        "id": "BifgTUZIeCxw"
      },
      "outputs": [],
      "source": [
        "dls = dblock.dataloaders(df, bs=32)\n",
        "import os\n",
        "\n",
        "# Define the directory path\n",
        "directory_path = \"dataloaders\"\n",
        "\n",
        "# Create the directory if it doesn't exist\n",
        "os.makedirs(directory_path, exist_ok=True)\n",
        "\n",
        "# Save the dls object\n",
        "torch.save(dls, os.path.join(directory_path, \"dls-multilabel-book-classifier.pkl\"))\n"
      ]
    },
    {
      "cell_type": "code",
      "execution_count": null,
      "metadata": {
        "id": "XSEPCbF_eIaS"
      },
      "outputs": [],
      "source": [
        "# dls = torch.load(\"dataloaders/dls-multilabel-book-classifier.pkl\")"
      ]
    },
    {
      "cell_type": "code",
      "execution_count": null,
      "metadata": {
        "colab": {
          "base_uri": "https://localhost:8080/"
        },
        "id": "mfePc3EAelyr",
        "outputId": "ac58d064-161b-4e47-c269-69a6418f17e4"
      },
      "outputs": [
        {
          "data": {
            "text/plain": [
              "['attributed-no-source', 'life', 'love', 'truth', 'inspirational', 'dreams', 'reality', 'friendship', 'knowledge', 'light', 'peace', 'marriage', 'philosophy', 'poetry', 'trust', 'courage', 'strength', 'happiness', 'death', 'desire', 'honesty', 'passion', 'relationships', 'romance', 'wisdom', 'humor', 'women', 'hope', 'inspiration', 'sadness', 'people', 'lies', 'respect', 'optimism', 'pain', 'work', 'fear', 'soul', 'art', 'writing', 'joy', 'humanity', 'inspirational-attitude', 'inspirational-life', 'inspirational-quotes', 'inspire', 'inspiring', 'kindness', 'life-and-living', 'life-lessons', 'life-quotes', 'living', 'optimistic', 'positive', 'positive-affirmation', 'positive-life', 'positive-thinking', 'music', 'loss', 'faith', 'change', 'relationship', 'compassion', 'mind', 'motivation', 'spirituality', 'god', 'heart', 'time', 'beauty', 'intelligence', 'religion', 'learning', 'destiny', 'war', 'money', 'growth', 'freedom', 'family', 'reason', 'universe', 'books', 'reading', 'poem', 'healing', 'funny', 'humour', 'spiritual', 'action', 'nature', 'understanding', 'psychology', 'confidence', 'failure', 'opportunity', 'success', 'belief', 'depression', 'future', 'motivational', 'words', 'christian', 'power', 'reflection', 'business', 'leadership', 'happy', 'perspective', 'purpose', 'education', 'science', 'poems', 'evolution', 'world', 'prayer', 'fiction', 'quote', 'quotes', 'christianity', 'atheism', 'jesus', 'goals', 'history', 'self-help', 'attitude', 'believe', 'literature', 'contemplation', 'struggle', 'writer', 'motivational-quotes', 'positivity', 'determination', 'politics', 'poetry-quotes', 'progress', 'consciousness', 'self-growth']"
            ]
          },
          "execution_count": 30,
          "metadata": {},
          "output_type": "execute_result"
        }
      ],
      "source": [
        "dls.vocab"
      ]
    },
    {
      "cell_type": "code",
      "execution_count": null,
      "metadata": {
        "colab": {
          "base_uri": "https://localhost:8080/",
          "height": 261
        },
        "id": "JLmUnbwxesoV",
        "outputId": "fdf10e81-b019-4a75-83bd-ddcab97a7d0a"
      },
      "outputs": [
        {
          "data": {
            "text/html": [
              "<table border=\"1\" class=\"dataframe\">\n",
              "  <thead>\n",
              "    <tr style=\"text-align: right;\">\n",
              "      <th></th>\n",
              "      <th>text</th>\n",
              "      <th>target</th>\n",
              "    </tr>\n",
              "  </thead>\n",
              "  <tbody>\n",
              "    <tr>\n",
              "      <th>0</th>\n",
              "      <td>هَذا الّذي تَعرِفُ البَطْحاءُ وَطْأتَهُ، وَالبَيْتُ يعْرِفُهُ وَالحِلُّ وَالحَرَمُ\\nهذا ابنُ خَيرِ عِبادِ الله كُلّهِمُ، هذا التّقيّ النّقيّ الطّاهِرُ العَلَمُ\\nهذا ابنُ فاطمَةٍ، إنْ كُنْتَ جاهِلَهُ، بِجَدّهِ أنْبِيَاءُ الله قَدْ خُتِمُوا\\nوَلَيْسَ قَوْلُكَ: مَن هذا؟ بضَائرِه، العُرْبُ تَعرِفُ من أنكَرْتَ وَالعَجمُ\\nكِلْتا يَدَيْهِ غِيَاثٌ عَمَّ نَفعُهُمَا، يُسْتَوْكَفانِ، وَلا يَعرُوهُما عَدَمُ\\nسَهْلُ الخَلِيقَةِ، لا تُخشى بَوَادِرُهُ، يَزِينُهُ اثن</td>\n",
              "      <td>[poetry]</td>\n",
              "    </tr>\n",
              "    <tr>\n",
              "      <th>1</th>\n",
              "      <td>No matter how old you are now. You are never too young or too old for success or going after what you want. Here’s a short list of people who accomplished great things at different ages\\n1) Helen Keller, at the age of 19 months, became deaf and blind. But that didn’t stop her. She was the first deaf and blind person to earn a Bachelor of Arts degree.\\n2) Mozart was already competent on keyboard and violin; he composed from the age of 5.\\n3) Shirley Temple was 6 when she became a movie star on Bright Eyes.\\n4)</td>\n",
              "      <td>[love, faith, motivation, confidence, failure, opportunity, success]</td>\n",
              "    </tr>\n",
              "    <tr>\n",
              "      <th>2</th>\n",
              "      <td>এক সন্ধ্যায় কলেজ স্ট্রিট কফিহাউসে একটা টেবিলের সামনে একা বসে বন্ধুদের জন্য অপেক্ষা করছি। হঠাৎ কবি বিনয় মজুমদার এসে মুখোমুখি বসে বললেন, 'হ্যাঁ মশাই, আমি যা জানি, তা-ই তো আমার জ্ঞান?' সায় দিতেই তিনি তেমনই হঠাৎ উঠে গেলেন। কিন্তু তখনই আমার চমক জেগেছিল। জ্ঞান জিনি</td>\n",
              "      <td>[life, poetry, wisdom, fiction]</td>\n",
              "    </tr>\n",
              "    <tr>\n",
              "      <th>3</th>\n",
              "      <td>أولادكم ليسوا لكم\\nأولادكم أبناء الحياة المشتاقة إلى نفسها, بكم يأتون إلى العالم, ولكن ليس منكم.\\nومع أنهم يعيشون معكم, فهم ليسوا ملكاً لكم.\\nأنتم تستطيعون أن تمنحوهم محبتكم, ولكنكم لا تقدرون أن تغرسوا فيهم بذور أفكاركم, لأن لهم أفكارأً خاصةً بهم.\\nوفي طاقتكم أن تصنعوا المساكم لأجسادكم.\\nولكن نفوسهم لا تقطن في مساكنكم.\\nفهي تقطن في مسكن الغد, الذي لا تستطيعون أن تزوروه حتى ولا في أحلامكم.\\nوإن لكم أن تجاهدوا لكي تصيروا مثلهم.\\nولكنكم عبثاً تحاولون أن تجعلوهم مث</td>\n",
              "      <td>[wisdom, humanity]</td>\n",
              "    </tr>\n",
              "  </tbody>\n",
              "</table>"
            ],
            "text/plain": [
              "<IPython.core.display.HTML object>"
            ]
          },
          "metadata": {},
          "output_type": "display_data"
        }
      ],
      "source": [
        "dls.show_batch(dataloaders=dls, max_n=4, trunc_at=512)"
      ]
    },
    {
      "cell_type": "code",
      "execution_count": null,
      "metadata": {
        "colab": {
          "base_uri": "https://localhost:8080/",
          "height": 154
        },
        "id": "FcjQ9iQQew0l",
        "outputId": "200e92f4-e395-48cf-d3de-7ec0fe3274a3"
      },
      "outputs": [
        {
          "data": {
            "text/html": [
              "<hr/>\n",
              "<h3>accuracy_multi</h3>\n",
              "<blockquote><pre><code>accuracy_multi(inp, targ, thresh=0.5, sigmoid=True)</code></pre></blockquote><p>Compute accuracy when `inp` and `targ` are the same size.</p>\n",
              "<p><a href=\"https://docs.fast.ai/metrics.html#accuracy_multi\" target=\"_blank\" rel=\"noreferrer noopener\">Show in docs</a></p>"
            ],
            "text/plain": [
              "<IPython.core.display.HTML object>"
            ]
          },
          "metadata": {},
          "output_type": "display_data"
        }
      ],
      "source": [
        " doc(accuracy_multi)"
      ]
    },
    {
      "cell_type": "code",
      "execution_count": null,
      "metadata": {
        "id": "6Cv2FHX5e7Ib"
      },
      "outputs": [],
      "source": [
        "model = BaseModelWrapper(hf_model)\n",
        "\n",
        "acc_02 = partial(accuracy_multi, thresh=0.2)\n",
        "\n",
        "learner = Learner(dls,\n",
        "                  model,\n",
        "                  opt_func=partial(OptimWrapper, opt=torch.optim.AdamW),\n",
        "                  loss_func=BCEWithLogitsLossFlat(),\n",
        "                  metrics=[acc_02],\n",
        "                  cbs=[BaseModelCallback],\n",
        "                  splitter=blurr_splitter\n",
        "                  ).to_fp16()"
      ]
    },
    {
      "cell_type": "markdown",
      "metadata": {
        "id": "gYiy8zUWfEuG"
      },
      "source": [
        "# Stage - 0"
      ]
    },
    {
      "cell_type": "code",
      "execution_count": null,
      "metadata": {
        "id": "yMCzhiVafAp-"
      },
      "outputs": [],
      "source": [
        "learner.freeze()"
      ]
    },
    {
      "cell_type": "code",
      "execution_count": null,
      "metadata": {
        "colab": {
          "base_uri": "https://localhost:8080/",
          "height": 471
        },
        "id": "7SGqwjGGfJu0",
        "outputId": "4dca4324-a0f3-4301-f5a2-443cb5c1e621"
      },
      "outputs": [
        {
          "data": {
            "text/html": [
              "\n",
              "<style>\n",
              "    /* Turns off some styling */\n",
              "    progress {\n",
              "        /* gets rid of default border in Firefox and Opera. */\n",
              "        border: none;\n",
              "        /* Needs to be in here for Safari polyfill so background images work as expected. */\n",
              "        background-size: auto;\n",
              "    }\n",
              "    progress:not([value]), progress:not([value])::-webkit-progress-bar {\n",
              "        background: repeating-linear-gradient(45deg, #7e7e7e, #7e7e7e 10px, #5c5c5c 10px, #5c5c5c 20px);\n",
              "    }\n",
              "    .progress-bar-interrupted, .progress-bar-interrupted::-webkit-progress-bar {\n",
              "        background: #F44336;\n",
              "    }\n",
              "</style>\n"
            ],
            "text/plain": [
              "<IPython.core.display.HTML object>"
            ]
          },
          "metadata": {},
          "output_type": "display_data"
        },
        {
          "data": {
            "text/html": [],
            "text/plain": [
              "<IPython.core.display.HTML object>"
            ]
          },
          "metadata": {},
          "output_type": "display_data"
        },
        {
          "data": {
            "text/plain": [
              "SuggestedLRs(slide=0.0006918309954926372, valley=0.0002754228771664202)"
            ]
          },
          "execution_count": 35,
          "metadata": {},
          "output_type": "execute_result"
        },
        {
          "data": {
            "image/png": "[encoded data removed]",
            "text/plain": [
              "<Figure size 640x480 with 1 Axes>"
            ]
          },
          "metadata": {},
          "output_type": "display_data"
        }
      ],
      "source": [
        "learner.lr_find(suggest_funcs=[slide, valley])"
      ]
    },
    {
      "cell_type": "code",
      "execution_count": null,
      "metadata": {
        "colab": {
          "base_uri": "https://localhost:8080/",
          "height": 112
        },
        "id": "d5sBJjgnfNmO",
        "outputId": "52fcbbdb-2c5a-4c4f-d04c-316366293f9a"
      },
      "outputs": [
        {
          "data": {
            "text/html": [
              "\n",
              "<style>\n",
              "    /* Turns off some styling */\n",
              "    progress {\n",
              "        /* gets rid of default border in Firefox and Opera. */\n",
              "        border: none;\n",
              "        /* Needs to be in here for Safari polyfill so background images work as expected. */\n",
              "        background-size: auto;\n",
              "    }\n",
              "    progress:not([value]), progress:not([value])::-webkit-progress-bar {\n",
              "        background: repeating-linear-gradient(45deg, #7e7e7e, #7e7e7e 10px, #5c5c5c 10px, #5c5c5c 20px);\n",
              "    }\n",
              "    .progress-bar-interrupted, .progress-bar-interrupted::-webkit-progress-bar {\n",
              "        background: #F44336;\n",
              "    }\n",
              "</style>\n"
            ],
            "text/plain": [
              "<IPython.core.display.HTML object>"
            ]
          },
          "metadata": {},
          "output_type": "display_data"
        },
        {
          "data": {
            "text/html": [
              "<table border=\"1\" class=\"dataframe\">\n",
              "  <thead>\n",
              "    <tr style=\"text-align: left;\">\n",
              "      <th>epoch</th>\n",
              "      <th>train_loss</th>\n",
              "      <th>valid_loss</th>\n",
              "      <th>accuracy_multi</th>\n",
              "      <th>time</th>\n",
              "    </tr>\n",
              "  </thead>\n",
              "  <tbody>\n",
              "    <tr>\n",
              "      <td>0</td>\n",
              "      <td>0.071024</td>\n",
              "      <td>0.067416</td>\n",
              "      <td>0.976682</td>\n",
              "      <td>01:32</td>\n",
              "    </tr>\n",
              "    <tr>\n",
              "      <td>1</td>\n",
              "      <td>0.065893</td>\n",
              "      <td>0.063992</td>\n",
              "      <td>0.976548</td>\n",
              "      <td>01:31</td>\n",
              "    </tr>\n",
              "  </tbody>\n",
              "</table>"
            ],
            "text/plain": [
              "<IPython.core.display.HTML object>"
            ]
          },
          "metadata": {},
          "output_type": "display_data"
        }
      ],
      "source": [
        "learner.fit_one_cycle(2,4.75e-4)"
      ]
    },
    {
      "cell_type": "code",
      "execution_count": null,
      "metadata": {
        "colab": {
          "base_uri": "https://localhost:8080/"
        },
        "id": "ohx8EqREf7AT",
        "outputId": "31be2009-baa9-497b-ef74-023ee63eeb85"
      },
      "outputs": [
        {
          "data": {
            "text/plain": [
              "Path('models/book-classifier-stage-0.pth')"
            ]
          },
          "execution_count": 37,
          "metadata": {},
          "output_type": "execute_result"
        }
      ],
      "source": [
        "learner.save(\"book-classifier-stage-0\")"
      ]
    },
    {
      "cell_type": "code",
      "execution_count": null,
      "metadata": {
        "id": "RH36qgfygqJV"
      },
      "outputs": [],
      "source": [
        "learner.export(\"models/book-classifier-stage-0.pkl\")"
      ]
    },
    {
      "cell_type": "code",
      "execution_count": null,
      "metadata": {
        "id": "o9ZhICO7guEQ"
      },
      "outputs": [],
      "source": [
        "# learner.load(\"book-classifier-stage-0\")"
      ]
    },
    {
      "cell_type": "markdown",
      "metadata": {
        "id": "o6ZSpwDJg6c2"
      },
      "source": [
        "# Stage - 1"
      ]
    },
    {
      "cell_type": "code",
      "execution_count": null,
      "metadata": {
        "id": "hD-m555Gg4Qe"
      },
      "outputs": [],
      "source": [
        "learner.unfreeze()"
      ]
    },
    {
      "cell_type": "code",
      "execution_count": null,
      "metadata": {
        "colab": {
          "base_uri": "https://localhost:8080/",
          "height": 471
        },
        "id": "46q0JcK_g98f",
        "outputId": "58d983a1-e7eb-4dc0-fec7-4179bc5a090c"
      },
      "outputs": [
        {
          "data": {
            "text/html": [
              "\n",
              "<style>\n",
              "    /* Turns off some styling */\n",
              "    progress {\n",
              "        /* gets rid of default border in Firefox and Opera. */\n",
              "        border: none;\n",
              "        /* Needs to be in here for Safari polyfill so background images work as expected. */\n",
              "        background-size: auto;\n",
              "    }\n",
              "    progress:not([value]), progress:not([value])::-webkit-progress-bar {\n",
              "        background: repeating-linear-gradient(45deg, #7e7e7e, #7e7e7e 10px, #5c5c5c 10px, #5c5c5c 20px);\n",
              "    }\n",
              "    .progress-bar-interrupted, .progress-bar-interrupted::-webkit-progress-bar {\n",
              "        background: #F44336;\n",
              "    }\n",
              "</style>\n"
            ],
            "text/plain": [
              "<IPython.core.display.HTML object>"
            ]
          },
          "metadata": {},
          "output_type": "display_data"
        },
        {
          "data": {
            "text/html": [],
            "text/plain": [
              "<IPython.core.display.HTML object>"
            ]
          },
          "metadata": {},
          "output_type": "display_data"
        },
        {
          "data": {
            "text/plain": [
              "SuggestedLRs(slide=0.00019054606673307717, valley=0.00013182566908653826)"
            ]
          },
          "execution_count": 40,
          "metadata": {},
          "output_type": "execute_result"
        },
        {
          "data": {
            "image/png": "[encoded data removed]",
            "text/plain": [
              "<Figure size 640x480 with 1 Axes>"
            ]
          },
          "metadata": {},
          "output_type": "display_data"
        }
      ],
      "source": [
        "learner.lr_find(suggest_funcs=[slide, valley])"
      ]
    },
    {
      "cell_type": "code",
      "execution_count": null,
      "metadata": {
        "colab": {
          "base_uri": "https://localhost:8080/",
          "height": 143
        },
        "id": "bdMY2SDDhFI-",
        "outputId": "5c875f37-040e-4783-e3f6-9bc4da2628a1"
      },
      "outputs": [
        {
          "data": {
            "text/html": [
              "\n",
              "<style>\n",
              "    /* Turns off some styling */\n",
              "    progress {\n",
              "        /* gets rid of default border in Firefox and Opera. */\n",
              "        border: none;\n",
              "        /* Needs to be in here for Safari polyfill so background images work as expected. */\n",
              "        background-size: auto;\n",
              "    }\n",
              "    progress:not([value]), progress:not([value])::-webkit-progress-bar {\n",
              "        background: repeating-linear-gradient(45deg, #7e7e7e, #7e7e7e 10px, #5c5c5c 10px, #5c5c5c 20px);\n",
              "    }\n",
              "    .progress-bar-interrupted, .progress-bar-interrupted::-webkit-progress-bar {\n",
              "        background: #F44336;\n",
              "    }\n",
              "</style>\n"
            ],
            "text/plain": [
              "<IPython.core.display.HTML object>"
            ]
          },
          "metadata": {},
          "output_type": "display_data"
        },
        {
          "data": {
            "text/html": [
              "<table border=\"1\" class=\"dataframe\">\n",
              "  <thead>\n",
              "    <tr style=\"text-align: left;\">\n",
              "      <th>epoch</th>\n",
              "      <th>train_loss</th>\n",
              "      <th>valid_loss</th>\n",
              "      <th>accuracy_multi</th>\n",
              "      <th>time</th>\n",
              "    </tr>\n",
              "  </thead>\n",
              "  <tbody>\n",
              "    <tr>\n",
              "      <td>0</td>\n",
              "      <td>0.067873</td>\n",
              "      <td>0.064205</td>\n",
              "      <td>0.977634</td>\n",
              "      <td>02:19</td>\n",
              "    </tr>\n",
              "    <tr>\n",
              "      <td>1</td>\n",
              "      <td>0.058867</td>\n",
              "      <td>0.056936</td>\n",
              "      <td>0.978636</td>\n",
              "      <td>02:14</td>\n",
              "    </tr>\n",
              "    <tr>\n",
              "      <td>2</td>\n",
              "      <td>0.051786</td>\n",
              "      <td>0.054069</td>\n",
              "      <td>0.978298</td>\n",
              "      <td>02:15</td>\n",
              "    </tr>\n",
              "  </tbody>\n",
              "</table>"
            ],
            "text/plain": [
              "<IPython.core.display.HTML object>"
            ]
          },
          "metadata": {},
          "output_type": "display_data"
        }
      ],
      "source": [
        "learner.fit_one_cycle(3,slice(0.00013182566908653826, 0.00019054606673307717))"
      ]
    },
    {
      "cell_type": "code",
      "execution_count": null,
      "metadata": {
        "colab": {
          "base_uri": "https://localhost:8080/"
        },
        "id": "BSjwdSlkhpeY",
        "outputId": "9e97087e-a740-4682-cb53-9d03ee43d074"
      },
      "outputs": [
        {
          "data": {
            "text/plain": [
              "Path('models/book-classifier-stage-1.pth')"
            ]
          },
          "execution_count": 42,
          "metadata": {},
          "output_type": "execute_result"
        }
      ],
      "source": [
        "learner.save(\"book-classifier-stage-1\")"
      ]
    },
    {
      "cell_type": "code",
      "execution_count": null,
      "metadata": {
        "id": "oQCNwSFKhuZ4"
      },
      "outputs": [],
      "source": [
        "learner.export(\"models/book-classifier-stage-1.pkl\")"
      ]
    },
    {
      "cell_type": "code",
      "execution_count": null,
      "metadata": {
        "id": "E9K2RHR3j3q8"
      },
      "outputs": [],
      "source": []
    }
  ],
  "metadata": {
    "colab": {
      "provenance": []
    },
    "kernelspec": {
      "display_name": "Python 3",
      "name": "python3"
    },
    "language_info": {
      "name": "python"
    },
    "widgets": {
      "application/vnd.jupyter.widget-state+json": {
        "09722761db91464fb286ef819925a79c": {
          "model_module": "@jupyter-widgets/controls",
          "model_module_version": "1.5.0",
          "model_name": "HTMLModel",
          "state": {
            "_dom_classes": [],
            "_model_module": "@jupyter-widgets/controls",
            "_model_module_version": "1.5.0",
            "_model_name": "HTMLModel",
            "_view_count": null,
            "_view_module": "@jupyter-widgets/controls",
            "_view_module_version": "1.5.0",
            "_view_name": "HTMLView",
            "description": "",
            "description_tooltip": null,
            "layout": "IPY_MODEL_fdd809cacecd4bd091ad133853d99a9d",
            "placeholder": "​",
            "style": "IPY_MODEL_6f4ceb59d12647e2a9a25d71b8a691f3",
            "value": " 456k/456k [00:00&lt;00:00, 7.03MB/s]"
          }
        },
        "13dee956d83f49c18ab40cf4f62dfeb5": {
          "model_module": "@jupyter-widgets/base",
          "model_module_version": "1.2.0",
          "model_name": "LayoutModel",
          "state": {
            "_model_module": "@jupyter-widgets/base",
            "_model_module_version": "1.2.0",
            "_model_name": "LayoutModel",
            "_view_count": null,
            "_view_module": "@jupyter-widgets/base",
            "_view_module_version": "1.2.0",
            "_view_name": "LayoutView",
            "align_content": null,
            "align_items": null,
            "align_self": null,
            "border": null,
            "bottom": null,
            "display": null,
            "flex": null,
            "flex_flow": null,
            "grid_area": null,
            "grid_auto_columns": null,
            "grid_auto_flow": null,
            "grid_auto_rows": null,
            "grid_column": null,
            "grid_gap": null,
            "grid_row": null,
            "grid_template_areas": null,
            "grid_template_columns": null,
            "grid_template_rows": null,
            "height": null,
            "justify_content": null,
            "justify_items": null,
            "left": null,
            "margin": null,
            "max_height": null,
            "max_width": null,
            "min_height": null,
            "min_width": null,
            "object_fit": null,
            "object_position": null,
            "order": null,
            "overflow": null,
            "overflow_x": null,
            "overflow_y": null,
            "padding": null,
            "right": null,
            "top": null,
            "visibility": null,
            "width": null
          }
        },
        "17b9191bee4645749d17791140f8cccc": {
          "model_module": "@jupyter-widgets/controls",
          "model_module_version": "1.5.0",
          "model_name": "DescriptionStyleModel",
          "state": {
            "_model_module": "@jupyter-widgets/controls",
            "_model_module_version": "1.5.0",
            "_model_name": "DescriptionStyleModel",
            "_view_count": null,
            "_view_module": "@jupyter-widgets/base",
            "_view_module_version": "1.2.0",
            "_view_name": "StyleView",
            "description_width": ""
          }
        },
        "17c4f9066a474c0bb2a135fc55b7a8b1": {
          "model_module": "@jupyter-widgets/controls",
          "model_module_version": "1.5.0",
          "model_name": "DescriptionStyleModel",
          "state": {
            "_model_module": "@jupyter-widgets/controls",
            "_model_module_version": "1.5.0",
            "_model_name": "DescriptionStyleModel",
            "_view_count": null,
            "_view_module": "@jupyter-widgets/base",
            "_view_module_version": "1.2.0",
            "_view_name": "StyleView",
            "description_width": ""
          }
        },
        "1ad10e20059a4a29b81189c4608871c8": {
          "model_module": "@jupyter-widgets/controls",
          "model_module_version": "1.5.0",
          "model_name": "DescriptionStyleModel",
          "state": {
            "_model_module": "@jupyter-widgets/controls",
            "_model_module_version": "1.5.0",
            "_model_name": "DescriptionStyleModel",
            "_view_count": null,
            "_view_module": "@jupyter-widgets/base",
            "_view_module_version": "1.2.0",
            "_view_name": "StyleView",
            "description_width": ""
          }
        },
        "1f32d7f318494c45910186490eec96d6": {
          "model_module": "@jupyter-widgets/controls",
          "model_module_version": "1.5.0",
          "model_name": "FloatProgressModel",
          "state": {
            "_dom_classes": [],
            "_model_module": "@jupyter-widgets/controls",
            "_model_module_version": "1.5.0",
            "_model_name": "FloatProgressModel",
            "_view_count": null,
            "_view_module": "@jupyter-widgets/controls",
            "_view_module_version": "1.5.0",
            "_view_name": "ProgressView",
            "bar_style": "success",
            "description": "",
            "description_tooltip": null,
            "layout": "IPY_MODEL_feb52ce311554617bb440da20f4f4787",
            "max": 898823,
            "min": 0,
            "orientation": "horizontal",
            "style": "IPY_MODEL_53d1e90af6f04de8a4e4c453896d3be4",
            "value": 898823
          }
        },
        "20898f1a83714dd8923bba61e64a5b7d": {
          "model_module": "@jupyter-widgets/controls",
          "model_module_version": "1.5.0",
          "model_name": "HTMLModel",
          "state": {
            "_dom_classes": [],
            "_model_module": "@jupyter-widgets/controls",
            "_model_module_version": "1.5.0",
            "_model_name": "HTMLModel",
            "_view_count": null,
            "_view_module": "@jupyter-widgets/controls",
            "_view_module_version": "1.5.0",
            "_view_name": "HTMLView",
            "description": "",
            "description_tooltip": null,
            "layout": "IPY_MODEL_9086e397095243a2aef4f373fd3f48a6",
            "placeholder": "​",
            "style": "IPY_MODEL_a2c3216c14094d41ba17be47bf22159e",
            "value": " 4.50k/? [00:00&lt;00:00, 170kB/s]"
          }
        },
        "220fb8595dca4f11a95c6f192970104c": {
          "model_module": "@jupyter-widgets/base",
          "model_module_version": "1.2.0",
          "model_name": "LayoutModel",
          "state": {
            "_model_module": "@jupyter-widgets/base",
            "_model_module_version": "1.2.0",
            "_model_name": "LayoutModel",
            "_view_count": null,
            "_view_module": "@jupyter-widgets/base",
            "_view_module_version": "1.2.0",
            "_view_name": "LayoutView",
            "align_content": null,
            "align_items": null,
            "align_self": null,
            "border": null,
            "bottom": null,
            "display": null,
            "flex": null,
            "flex_flow": null,
            "grid_area": null,
            "grid_auto_columns": null,
            "grid_auto_flow": null,
            "grid_auto_rows": null,
            "grid_column": null,
            "grid_gap": null,
            "grid_row": null,
            "grid_template_areas": null,
            "grid_template_columns": null,
            "grid_template_rows": null,
            "height": null,
            "justify_content": null,
            "justify_items": null,
            "left": null,
            "margin": null,
            "max_height": null,
            "max_width": null,
            "min_height": null,
            "min_width": null,
            "object_fit": null,
            "object_position": null,
            "order": null,
            "overflow": null,
            "overflow_x": null,
            "overflow_y": null,
            "padding": null,
            "right": null,
            "top": null,
            "visibility": null,
            "width": null
          }
        },
        "2481acd9c7334231b87b5de0ba3cdcfd": {
          "model_module": "@jupyter-widgets/controls",
          "model_module_version": "1.5.0",
          "model_name": "HBoxModel",
          "state": {
            "_dom_classes": [],
            "_model_module": "@jupyter-widgets/controls",
            "_model_module_version": "1.5.0",
            "_model_name": "HBoxModel",
            "_view_count": null,
            "_view_module": "@jupyter-widgets/controls",
            "_view_module_version": "1.5.0",
            "_view_name": "HBoxView",
            "box_style": "",
            "children": [
              "IPY_MODEL_c46bf647a13b4f418e522924a69bce02",
              "IPY_MODEL_f51bbe848a3849afbb9ef5cacf3299db",
              "IPY_MODEL_09722761db91464fb286ef819925a79c"
            ],
            "layout": "IPY_MODEL_e6466b6bab324b9080ccc587e2611565"
          }
        },
        "29dc3807768147219fe07a47b990ed26": {
          "model_module": "@jupyter-widgets/base",
          "model_module_version": "1.2.0",
          "model_name": "LayoutModel",
          "state": {
            "_model_module": "@jupyter-widgets/base",
            "_model_module_version": "1.2.0",
            "_model_name": "LayoutModel",
            "_view_count": null,
            "_view_module": "@jupyter-widgets/base",
            "_view_module_version": "1.2.0",
            "_view_name": "LayoutView",
            "align_content": null,
            "align_items": null,
            "align_self": null,
            "border": null,
            "bottom": null,
            "display": null,
            "flex": null,
            "flex_flow": null,
            "grid_area": null,
            "grid_auto_columns": null,
            "grid_auto_flow": null,
            "grid_auto_rows": null,
            "grid_column": null,
            "grid_gap": null,
            "grid_row": null,
            "grid_template_areas": null,
            "grid_template_columns": null,
            "grid_template_rows": null,
            "height": null,
            "justify_content": null,
            "justify_items": null,
            "left": null,
            "margin": null,
            "max_height": null,
            "max_width": null,
            "min_height": null,
            "min_width": null,
            "object_fit": null,
            "object_position": null,
            "order": null,
            "overflow": null,
            "overflow_x": null,
            "overflow_y": null,
            "padding": null,
            "right": null,
            "top": null,
            "visibility": null,
            "width": null
          }
        },
        "326790f1ced044bfb7f0998759f4283e": {
          "model_module": "@jupyter-widgets/controls",
          "model_module_version": "1.5.0",
          "model_name": "HBoxModel",
          "state": {
            "_dom_classes": [],
            "_model_module": "@jupyter-widgets/controls",
            "_model_module_version": "1.5.0",
            "_model_name": "HBoxModel",
            "_view_count": null,
            "_view_module": "@jupyter-widgets/controls",
            "_view_module_version": "1.5.0",
            "_view_name": "HBoxView",
            "box_style": "",
            "children": [
              "IPY_MODEL_38fd443b257a443aa7a458bc6834231b",
              "IPY_MODEL_45da02f1b5f14c5f82295733f89b7edd",
              "IPY_MODEL_7acedfc8d53e4066b512a960996a0c52"
            ],
            "layout": "IPY_MODEL_a5a449fab3dd4027ada6449e10203cf7"
          }
        },
        "38fd443b257a443aa7a458bc6834231b": {
          "model_module": "@jupyter-widgets/controls",
          "model_module_version": "1.5.0",
          "model_name": "HTMLModel",
          "state": {
            "_dom_classes": [],
            "_model_module": "@jupyter-widgets/controls",
            "_model_module_version": "1.5.0",
            "_model_name": "HTMLModel",
            "_view_count": null,
            "_view_module": "@jupyter-widgets/controls",
            "_view_module_version": "1.5.0",
            "_view_name": "HTMLView",
            "description": "",
            "description_tooltip": null,
            "layout": "IPY_MODEL_6d69eee9ae764683a64af1a7c9c3b359",
            "placeholder": "​",
            "style": "IPY_MODEL_17b9191bee4645749d17791140f8cccc",
            "value": "Downloading extra modules: "
          }
        },
        "3e34edf1d6af47f082c87843cfc3fca0": {
          "model_module": "@jupyter-widgets/base",
          "model_module_version": "1.2.0",
          "model_name": "LayoutModel",
          "state": {
            "_model_module": "@jupyter-widgets/base",
            "_model_module_version": "1.2.0",
            "_model_name": "LayoutModel",
            "_view_count": null,
            "_view_module": "@jupyter-widgets/base",
            "_view_module_version": "1.2.0",
            "_view_name": "LayoutView",
            "align_content": null,
            "align_items": null,
            "align_self": null,
            "border": null,
            "bottom": null,
            "display": null,
            "flex": null,
            "flex_flow": null,
            "grid_area": null,
            "grid_auto_columns": null,
            "grid_auto_flow": null,
            "grid_auto_rows": null,
            "grid_column": null,
            "grid_gap": null,
            "grid_row": null,
            "grid_template_areas": null,
            "grid_template_columns": null,
            "grid_template_rows": null,
            "height": null,
            "justify_content": null,
            "justify_items": null,
            "left": null,
            "margin": null,
            "max_height": null,
            "max_width": null,
            "min_height": null,
            "min_width": null,
            "object_fit": null,
            "object_position": null,
            "order": null,
            "overflow": null,
            "overflow_x": null,
            "overflow_y": null,
            "padding": null,
            "right": null,
            "top": null,
            "visibility": null,
            "width": null
          }
        },
        "42c12c43f29d463fb8b8a69e98372b5a": {
          "model_module": "@jupyter-widgets/controls",
          "model_module_version": "1.5.0",
          "model_name": "FloatProgressModel",
          "state": {
            "_dom_classes": [],
            "_model_module": "@jupyter-widgets/controls",
            "_model_module_version": "1.5.0",
            "_model_name": "FloatProgressModel",
            "_view_count": null,
            "_view_module": "@jupyter-widgets/controls",
            "_view_module_version": "1.5.0",
            "_view_name": "ProgressView",
            "bar_style": "success",
            "description": "",
            "description_tooltip": null,
            "layout": "IPY_MODEL_8d069d75b9124b88b1f6633b9f15077c",
            "max": 1355863,
            "min": 0,
            "orientation": "horizontal",
            "style": "IPY_MODEL_a5ce99ebd6364c838f919177d68575a5",
            "value": 1355863
          }
        },
        "45da02f1b5f14c5f82295733f89b7edd": {
          "model_module": "@jupyter-widgets/controls",
          "model_module_version": "1.5.0",
          "model_name": "FloatProgressModel",
          "state": {
            "_dom_classes": [],
            "_model_module": "@jupyter-widgets/controls",
            "_model_module_version": "1.5.0",
            "_model_name": "FloatProgressModel",
            "_view_count": null,
            "_view_module": "@jupyter-widgets/controls",
            "_view_module_version": "1.5.0",
            "_view_name": "ProgressView",
            "bar_style": "success",
            "description": "",
            "description_tooltip": null,
            "layout": "IPY_MODEL_7e4639e77b5c4ad898629c70fbde87d2",
            "max": 1109,
            "min": 0,
            "orientation": "horizontal",
            "style": "IPY_MODEL_72c73ea9b3a743e280db2dc3ca6847f6",
            "value": 1109
          }
        },
        "4b7617be9c1044de9e62af2ead7a35ef": {
          "model_module": "@jupyter-widgets/base",
          "model_module_version": "1.2.0",
          "model_name": "LayoutModel",
          "state": {
            "_model_module": "@jupyter-widgets/base",
            "_model_module_version": "1.2.0",
            "_model_name": "LayoutModel",
            "_view_count": null,
            "_view_module": "@jupyter-widgets/base",
            "_view_module_version": "1.2.0",
            "_view_name": "LayoutView",
            "align_content": null,
            "align_items": null,
            "align_self": null,
            "border": null,
            "bottom": null,
            "display": null,
            "flex": null,
            "flex_flow": null,
            "grid_area": null,
            "grid_auto_columns": null,
            "grid_auto_flow": null,
            "grid_auto_rows": null,
            "grid_column": null,
            "grid_gap": null,
            "grid_row": null,
            "grid_template_areas": null,
            "grid_template_columns": null,
            "grid_template_rows": null,
            "height": null,
            "justify_content": null,
            "justify_items": null,
            "left": null,
            "margin": null,
            "max_height": null,
            "max_width": null,
            "min_height": null,
            "min_width": null,
            "object_fit": null,
            "object_position": null,
            "order": null,
            "overflow": null,
            "overflow_x": null,
            "overflow_y": null,
            "padding": null,
            "right": null,
            "top": null,
            "visibility": null,
            "width": null
          }
        },
        "4e8d5fa9dbb74b05bd839819bdd2874c": {
          "model_module": "@jupyter-widgets/controls",
          "model_module_version": "1.5.0",
          "model_name": "HTMLModel",
          "state": {
            "_dom_classes": [],
            "_model_module": "@jupyter-widgets/controls",
            "_model_module_version": "1.5.0",
            "_model_name": "HTMLModel",
            "_view_count": null,
            "_view_module": "@jupyter-widgets/controls",
            "_view_module_version": "1.5.0",
            "_view_name": "HTMLView",
            "description": "",
            "description_tooltip": null,
            "layout": "IPY_MODEL_4b7617be9c1044de9e62af2ead7a35ef",
            "placeholder": "​",
            "style": "IPY_MODEL_51333f1af6444cf99c45e1ef53843dd3",
            "value": "Downloading builder script: "
          }
        },
        "51333f1af6444cf99c45e1ef53843dd3": {
          "model_module": "@jupyter-widgets/controls",
          "model_module_version": "1.5.0",
          "model_name": "DescriptionStyleModel",
          "state": {
            "_model_module": "@jupyter-widgets/controls",
            "_model_module_version": "1.5.0",
            "_model_name": "DescriptionStyleModel",
            "_view_count": null,
            "_view_module": "@jupyter-widgets/base",
            "_view_module_version": "1.2.0",
            "_view_name": "StyleView",
            "description_width": ""
          }
        },
        "53d1e90af6f04de8a4e4c453896d3be4": {
          "model_module": "@jupyter-widgets/controls",
          "model_module_version": "1.5.0",
          "model_name": "ProgressStyleModel",
          "state": {
            "_model_module": "@jupyter-widgets/controls",
            "_model_module_version": "1.5.0",
            "_model_name": "ProgressStyleModel",
            "_view_count": null,
            "_view_module": "@jupyter-widgets/base",
            "_view_module_version": "1.2.0",
            "_view_name": "StyleView",
            "bar_color": null,
            "description_width": ""
          }
        },
        "56e751f536574c5f813a1628d4670678": {
          "model_module": "@jupyter-widgets/controls",
          "model_module_version": "1.5.0",
          "model_name": "DescriptionStyleModel",
          "state": {
            "_model_module": "@jupyter-widgets/controls",
            "_model_module_version": "1.5.0",
            "_model_name": "DescriptionStyleModel",
            "_view_count": null,
            "_view_module": "@jupyter-widgets/base",
            "_view_module_version": "1.2.0",
            "_view_name": "StyleView",
            "description_width": ""
          }
        },
        "581201147aca488aa718d0f962ce1016": {
          "model_module": "@jupyter-widgets/controls",
          "model_module_version": "1.5.0",
          "model_name": "HTMLModel",
          "state": {
            "_dom_classes": [],
            "_model_module": "@jupyter-widgets/controls",
            "_model_module_version": "1.5.0",
            "_model_name": "HTMLModel",
            "_view_count": null,
            "_view_module": "@jupyter-widgets/controls",
            "_view_module_version": "1.5.0",
            "_view_name": "HTMLView",
            "description": "",
            "description_tooltip": null,
            "layout": "IPY_MODEL_a66db801fd024f2f9cc84ae4df832a6c",
            "placeholder": "​",
            "style": "IPY_MODEL_56e751f536574c5f813a1628d4670678",
            "value": " 331M/331M [00:05&lt;00:00, 42.2MB/s]"
          }
        },
        "5a0fa3e473fa4c03ba03aedd60a0e200": {
          "model_module": "@jupyter-widgets/base",
          "model_module_version": "1.2.0",
          "model_name": "LayoutModel",
          "state": {
            "_model_module": "@jupyter-widgets/base",
            "_model_module_version": "1.2.0",
            "_model_name": "LayoutModel",
            "_view_count": null,
            "_view_module": "@jupyter-widgets/base",
            "_view_module_version": "1.2.0",
            "_view_name": "LayoutView",
            "align_content": null,
            "align_items": null,
            "align_self": null,
            "border": null,
            "bottom": null,
            "display": null,
            "flex": null,
            "flex_flow": null,
            "grid_area": null,
            "grid_auto_columns": null,
            "grid_auto_flow": null,
            "grid_auto_rows": null,
            "grid_column": null,
            "grid_gap": null,
            "grid_row": null,
            "grid_template_areas": null,
            "grid_template_columns": null,
            "grid_template_rows": null,
            "height": null,
            "justify_content": null,
            "justify_items": null,
            "left": null,
            "margin": null,
            "max_height": null,
            "max_width": null,
            "min_height": null,
            "min_width": null,
            "object_fit": null,
            "object_position": null,
            "order": null,
            "overflow": null,
            "overflow_x": null,
            "overflow_y": null,
            "padding": null,
            "right": null,
            "top": null,
            "visibility": null,
            "width": null
          }
        },
        "5be4730d9eca4638b7de6ebd853ee874": {
          "model_module": "@jupyter-widgets/controls",
          "model_module_version": "1.5.0",
          "model_name": "ProgressStyleModel",
          "state": {
            "_model_module": "@jupyter-widgets/controls",
            "_model_module_version": "1.5.0",
            "_model_name": "ProgressStyleModel",
            "_view_count": null,
            "_view_module": "@jupyter-widgets/base",
            "_view_module_version": "1.2.0",
            "_view_name": "StyleView",
            "bar_color": null,
            "description_width": ""
          }
        },
        "683293b87c4a45d5992374ad321941d4": {
          "model_module": "@jupyter-widgets/base",
          "model_module_version": "1.2.0",
          "model_name": "LayoutModel",
          "state": {
            "_model_module": "@jupyter-widgets/base",
            "_model_module_version": "1.2.0",
            "_model_name": "LayoutModel",
            "_view_count": null,
            "_view_module": "@jupyter-widgets/base",
            "_view_module_version": "1.2.0",
            "_view_name": "LayoutView",
            "align_content": null,
            "align_items": null,
            "align_self": null,
            "border": null,
            "bottom": null,
            "display": null,
            "flex": null,
            "flex_flow": null,
            "grid_area": null,
            "grid_auto_columns": null,
            "grid_auto_flow": null,
            "grid_auto_rows": null,
            "grid_column": null,
            "grid_gap": null,
            "grid_row": null,
            "grid_template_areas": null,
            "grid_template_columns": null,
            "grid_template_rows": null,
            "height": null,
            "justify_content": null,
            "justify_items": null,
            "left": null,
            "margin": null,
            "max_height": null,
            "max_width": null,
            "min_height": null,
            "min_width": null,
            "object_fit": null,
            "object_position": null,
            "order": null,
            "overflow": null,
            "overflow_x": null,
            "overflow_y": null,
            "padding": null,
            "right": null,
            "top": null,
            "visibility": null,
            "width": null
          }
        },
        "6d69eee9ae764683a64af1a7c9c3b359": {
          "model_module": "@jupyter-widgets/base",
          "model_module_version": "1.2.0",
          "model_name": "LayoutModel",
          "state": {
            "_model_module": "@jupyter-widgets/base",
            "_model_module_version": "1.2.0",
            "_model_name": "LayoutModel",
            "_view_count": null,
            "_view_module": "@jupyter-widgets/base",
            "_view_module_version": "1.2.0",
            "_view_name": "LayoutView",
            "align_content": null,
            "align_items": null,
            "align_self": null,
            "border": null,
            "bottom": null,
            "display": null,
            "flex": null,
            "flex_flow": null,
            "grid_area": null,
            "grid_auto_columns": null,
            "grid_auto_flow": null,
            "grid_auto_rows": null,
            "grid_column": null,
            "grid_gap": null,
            "grid_row": null,
            "grid_template_areas": null,
            "grid_template_columns": null,
            "grid_template_rows": null,
            "height": null,
            "justify_content": null,
            "justify_items": null,
            "left": null,
            "margin": null,
            "max_height": null,
            "max_width": null,
            "min_height": null,
            "min_width": null,
            "object_fit": null,
            "object_position": null,
            "order": null,
            "overflow": null,
            "overflow_x": null,
            "overflow_y": null,
            "padding": null,
            "right": null,
            "top": null,
            "visibility": null,
            "width": null
          }
        },
        "6f4ceb59d12647e2a9a25d71b8a691f3": {
          "model_module": "@jupyter-widgets/controls",
          "model_module_version": "1.5.0",
          "model_name": "DescriptionStyleModel",
          "state": {
            "_model_module": "@jupyter-widgets/controls",
            "_model_module_version": "1.5.0",
            "_model_name": "DescriptionStyleModel",
            "_view_count": null,
            "_view_module": "@jupyter-widgets/base",
            "_view_module_version": "1.2.0",
            "_view_name": "StyleView",
            "description_width": ""
          }
        },
        "6fd9453f02684800bf2162b7f4398784": {
          "model_module": "@jupyter-widgets/controls",
          "model_module_version": "1.5.0",
          "model_name": "HTMLModel",
          "state": {
            "_dom_classes": [],
            "_model_module": "@jupyter-widgets/controls",
            "_model_module_version": "1.5.0",
            "_model_name": "HTMLModel",
            "_view_count": null,
            "_view_module": "@jupyter-widgets/controls",
            "_view_module_version": "1.5.0",
            "_view_name": "HTMLView",
            "description": "",
            "description_tooltip": null,
            "layout": "IPY_MODEL_3e34edf1d6af47f082c87843cfc3fca0",
            "placeholder": "​",
            "style": "IPY_MODEL_9c5aebc6488a46539cd1664d5aa9fb44",
            "value": "tokenizer.json: 100%"
          }
        },
        "71001ce70f2a498db663f9f467d1ae43": {
          "model_module": "@jupyter-widgets/base",
          "model_module_version": "1.2.0",
          "model_name": "LayoutModel",
          "state": {
            "_model_module": "@jupyter-widgets/base",
            "_model_module_version": "1.2.0",
            "_model_name": "LayoutModel",
            "_view_count": null,
            "_view_module": "@jupyter-widgets/base",
            "_view_module_version": "1.2.0",
            "_view_name": "LayoutView",
            "align_content": null,
            "align_items": null,
            "align_self": null,
            "border": null,
            "bottom": null,
            "display": null,
            "flex": null,
            "flex_flow": null,
            "grid_area": null,
            "grid_auto_columns": null,
            "grid_auto_flow": null,
            "grid_auto_rows": null,
            "grid_column": null,
            "grid_gap": null,
            "grid_row": null,
            "grid_template_areas": null,
            "grid_template_columns": null,
            "grid_template_rows": null,
            "height": null,
            "justify_content": null,
            "justify_items": null,
            "left": null,
            "margin": null,
            "max_height": null,
            "max_width": null,
            "min_height": null,
            "min_width": null,
            "object_fit": null,
            "object_position": null,
            "order": null,
            "overflow": null,
            "overflow_x": null,
            "overflow_y": null,
            "padding": null,
            "right": null,
            "top": null,
            "visibility": null,
            "width": null
          }
        },
        "72c73ea9b3a743e280db2dc3ca6847f6": {
          "model_module": "@jupyter-widgets/controls",
          "model_module_version": "1.5.0",
          "model_name": "ProgressStyleModel",
          "state": {
            "_model_module": "@jupyter-widgets/controls",
            "_model_module_version": "1.5.0",
            "_model_name": "ProgressStyleModel",
            "_view_count": null,
            "_view_module": "@jupyter-widgets/base",
            "_view_module_version": "1.2.0",
            "_view_name": "StyleView",
            "bar_color": null,
            "description_width": ""
          }
        },
        "7960c59c144045af8936f6ad59375d41": {
          "model_module": "@jupyter-widgets/controls",
          "model_module_version": "1.5.0",
          "model_name": "ProgressStyleModel",
          "state": {
            "_model_module": "@jupyter-widgets/controls",
            "_model_module_version": "1.5.0",
            "_model_name": "ProgressStyleModel",
            "_view_count": null,
            "_view_module": "@jupyter-widgets/base",
            "_view_module_version": "1.2.0",
            "_view_name": "StyleView",
            "bar_color": null,
            "description_width": ""
          }
        },
        "7acedfc8d53e4066b512a960996a0c52": {
          "model_module": "@jupyter-widgets/controls",
          "model_module_version": "1.5.0",
          "model_name": "HTMLModel",
          "state": {
            "_dom_classes": [],
            "_model_module": "@jupyter-widgets/controls",
            "_model_module_version": "1.5.0",
            "_model_name": "HTMLModel",
            "_view_count": null,
            "_view_module": "@jupyter-widgets/controls",
            "_view_module_version": "1.5.0",
            "_view_name": "HTMLView",
            "description": "",
            "description_tooltip": null,
            "layout": "IPY_MODEL_ec50b4c2371c4e9097b417f313c352de",
            "placeholder": "​",
            "style": "IPY_MODEL_1ad10e20059a4a29b81189c4608871c8",
            "value": " 3.30k/? [00:00&lt;00:00, 103kB/s]"
          }
        },
        "7e4639e77b5c4ad898629c70fbde87d2": {
          "model_module": "@jupyter-widgets/base",
          "model_module_version": "1.2.0",
          "model_name": "LayoutModel",
          "state": {
            "_model_module": "@jupyter-widgets/base",
            "_model_module_version": "1.2.0",
            "_model_name": "LayoutModel",
            "_view_count": null,
            "_view_module": "@jupyter-widgets/base",
            "_view_module_version": "1.2.0",
            "_view_name": "LayoutView",
            "align_content": null,
            "align_items": null,
            "align_self": null,
            "border": null,
            "bottom": null,
            "display": null,
            "flex": null,
            "flex_flow": null,
            "grid_area": null,
            "grid_auto_columns": null,
            "grid_auto_flow": null,
            "grid_auto_rows": null,
            "grid_column": null,
            "grid_gap": null,
            "grid_row": null,
            "grid_template_areas": null,
            "grid_template_columns": null,
            "grid_template_rows": null,
            "height": null,
            "justify_content": null,
            "justify_items": null,
            "left": null,
            "margin": null,
            "max_height": null,
            "max_width": null,
            "min_height": null,
            "min_width": null,
            "object_fit": null,
            "object_position": null,
            "order": null,
            "overflow": null,
            "overflow_x": null,
            "overflow_y": null,
            "padding": null,
            "right": null,
            "top": null,
            "visibility": null,
            "width": null
          }
        },
        "8b8ae76488fb458789d84ecf4f62b5ba": {
          "model_module": "@jupyter-widgets/controls",
          "model_module_version": "1.5.0",
          "model_name": "HBoxModel",
          "state": {
            "_dom_classes": [],
            "_model_module": "@jupyter-widgets/controls",
            "_model_module_version": "1.5.0",
            "_model_name": "HBoxModel",
            "_view_count": null,
            "_view_module": "@jupyter-widgets/controls",
            "_view_module_version": "1.5.0",
            "_view_name": "HBoxView",
            "box_style": "",
            "children": [
              "IPY_MODEL_aff72987b167491d819d64a25d363b0e",
              "IPY_MODEL_bd9f7ce8a66145f08d0638d87fb3dba0",
              "IPY_MODEL_581201147aca488aa718d0f962ce1016"
            ],
            "layout": "IPY_MODEL_71001ce70f2a498db663f9f467d1ae43"
          }
        },
        "8d069d75b9124b88b1f6633b9f15077c": {
          "model_module": "@jupyter-widgets/base",
          "model_module_version": "1.2.0",
          "model_name": "LayoutModel",
          "state": {
            "_model_module": "@jupyter-widgets/base",
            "_model_module_version": "1.2.0",
            "_model_name": "LayoutModel",
            "_view_count": null,
            "_view_module": "@jupyter-widgets/base",
            "_view_module_version": "1.2.0",
            "_view_name": "LayoutView",
            "align_content": null,
            "align_items": null,
            "align_self": null,
            "border": null,
            "bottom": null,
            "display": null,
            "flex": null,
            "flex_flow": null,
            "grid_area": null,
            "grid_auto_columns": null,
            "grid_auto_flow": null,
            "grid_auto_rows": null,
            "grid_column": null,
            "grid_gap": null,
            "grid_row": null,
            "grid_template_areas": null,
            "grid_template_columns": null,
            "grid_template_rows": null,
            "height": null,
            "justify_content": null,
            "justify_items": null,
            "left": null,
            "margin": null,
            "max_height": null,
            "max_width": null,
            "min_height": null,
            "min_width": null,
            "object_fit": null,
            "object_position": null,
            "order": null,
            "overflow": null,
            "overflow_x": null,
            "overflow_y": null,
            "padding": null,
            "right": null,
            "top": null,
            "visibility": null,
            "width": null
          }
        },
        "8f54629a88ca4f10b4ab40ca9a639208": {
          "model_module": "@jupyter-widgets/controls",
          "model_module_version": "1.5.0",
          "model_name": "HTMLModel",
          "state": {
            "_dom_classes": [],
            "_model_module": "@jupyter-widgets/controls",
            "_model_module_version": "1.5.0",
            "_model_name": "HTMLModel",
            "_view_count": null,
            "_view_module": "@jupyter-widgets/controls",
            "_view_module_version": "1.5.0",
            "_view_name": "HTMLView",
            "description": "",
            "description_tooltip": null,
            "layout": "IPY_MODEL_e9f93ea3594445e1a83b6706197f2be0",
            "placeholder": "​",
            "style": "IPY_MODEL_c697037b3b9f429cbb0d087253c17e6a",
            "value": "vocab.json: 100%"
          }
        },
        "8f88ef10aae34460a608a134dfb144af": {
          "model_module": "@jupyter-widgets/controls",
          "model_module_version": "1.5.0",
          "model_name": "ProgressStyleModel",
          "state": {
            "_model_module": "@jupyter-widgets/controls",
            "_model_module_version": "1.5.0",
            "_model_name": "ProgressStyleModel",
            "_view_count": null,
            "_view_module": "@jupyter-widgets/base",
            "_view_module_version": "1.2.0",
            "_view_name": "StyleView",
            "bar_color": null,
            "description_width": ""
          }
        },
        "9086e397095243a2aef4f373fd3f48a6": {
          "model_module": "@jupyter-widgets/base",
          "model_module_version": "1.2.0",
          "model_name": "LayoutModel",
          "state": {
            "_model_module": "@jupyter-widgets/base",
            "_model_module_version": "1.2.0",
            "_model_name": "LayoutModel",
            "_view_count": null,
            "_view_module": "@jupyter-widgets/base",
            "_view_module_version": "1.2.0",
            "_view_name": "LayoutView",
            "align_content": null,
            "align_items": null,
            "align_self": null,
            "border": null,
            "bottom": null,
            "display": null,
            "flex": null,
            "flex_flow": null,
            "grid_area": null,
            "grid_auto_columns": null,
            "grid_auto_flow": null,
            "grid_auto_rows": null,
            "grid_column": null,
            "grid_gap": null,
            "grid_row": null,
            "grid_template_areas": null,
            "grid_template_columns": null,
            "grid_template_rows": null,
            "height": null,
            "justify_content": null,
            "justify_items": null,
            "left": null,
            "margin": null,
            "max_height": null,
            "max_width": null,
            "min_height": null,
            "min_width": null,
            "object_fit": null,
            "object_position": null,
            "order": null,
            "overflow": null,
            "overflow_x": null,
            "overflow_y": null,
            "padding": null,
            "right": null,
            "top": null,
            "visibility": null,
            "width": null
          }
        },
        "94637c0204cc43c290abfe1e42cc2ff5": {
          "model_module": "@jupyter-widgets/controls",
          "model_module_version": "1.5.0",
          "model_name": "DescriptionStyleModel",
          "state": {
            "_model_module": "@jupyter-widgets/controls",
            "_model_module_version": "1.5.0",
            "_model_name": "DescriptionStyleModel",
            "_view_count": null,
            "_view_module": "@jupyter-widgets/base",
            "_view_module_version": "1.2.0",
            "_view_name": "StyleView",
            "description_width": ""
          }
        },
        "9c5aebc6488a46539cd1664d5aa9fb44": {
          "model_module": "@jupyter-widgets/controls",
          "model_module_version": "1.5.0",
          "model_name": "DescriptionStyleModel",
          "state": {
            "_model_module": "@jupyter-widgets/controls",
            "_model_module_version": "1.5.0",
            "_model_name": "DescriptionStyleModel",
            "_view_count": null,
            "_view_module": "@jupyter-widgets/base",
            "_view_module_version": "1.2.0",
            "_view_name": "StyleView",
            "description_width": ""
          }
        },
        "a2c3216c14094d41ba17be47bf22159e": {
          "model_module": "@jupyter-widgets/controls",
          "model_module_version": "1.5.0",
          "model_name": "DescriptionStyleModel",
          "state": {
            "_model_module": "@jupyter-widgets/controls",
            "_model_module_version": "1.5.0",
            "_model_name": "DescriptionStyleModel",
            "_view_count": null,
            "_view_module": "@jupyter-widgets/base",
            "_view_module_version": "1.2.0",
            "_view_name": "StyleView",
            "description_width": ""
          }
        },
        "a2f156bdd26b4c02b4760f27aa9effca": {
          "model_module": "@jupyter-widgets/base",
          "model_module_version": "1.2.0",
          "model_name": "LayoutModel",
          "state": {
            "_model_module": "@jupyter-widgets/base",
            "_model_module_version": "1.2.0",
            "_model_name": "LayoutModel",
            "_view_count": null,
            "_view_module": "@jupyter-widgets/base",
            "_view_module_version": "1.2.0",
            "_view_name": "LayoutView",
            "align_content": null,
            "align_items": null,
            "align_self": null,
            "border": null,
            "bottom": null,
            "display": null,
            "flex": null,
            "flex_flow": null,
            "grid_area": null,
            "grid_auto_columns": null,
            "grid_auto_flow": null,
            "grid_auto_rows": null,
            "grid_column": null,
            "grid_gap": null,
            "grid_row": null,
            "grid_template_areas": null,
            "grid_template_columns": null,
            "grid_template_rows": null,
            "height": null,
            "justify_content": null,
            "justify_items": null,
            "left": null,
            "margin": null,
            "max_height": null,
            "max_width": null,
            "min_height": null,
            "min_width": null,
            "object_fit": null,
            "object_position": null,
            "order": null,
            "overflow": null,
            "overflow_x": null,
            "overflow_y": null,
            "padding": null,
            "right": null,
            "top": null,
            "visibility": null,
            "width": null
          }
        },
        "a31bdc70653848f4ae7bffb3ff961950": {
          "model_module": "@jupyter-widgets/controls",
          "model_module_version": "1.5.0",
          "model_name": "HBoxModel",
          "state": {
            "_dom_classes": [],
            "_model_module": "@jupyter-widgets/controls",
            "_model_module_version": "1.5.0",
            "_model_name": "HBoxModel",
            "_view_count": null,
            "_view_module": "@jupyter-widgets/controls",
            "_view_module_version": "1.5.0",
            "_view_name": "HBoxView",
            "box_style": "",
            "children": [
              "IPY_MODEL_8f54629a88ca4f10b4ab40ca9a639208",
              "IPY_MODEL_1f32d7f318494c45910186490eec96d6",
              "IPY_MODEL_a4c433d080c44e8d846dbf88180f092f"
            ],
            "layout": "IPY_MODEL_b4238a3f4a8546499d450f5be1b35fbb"
          }
        },
        "a4077287635c49cabdf7fd21ac3c6c44": {
          "model_module": "@jupyter-widgets/controls",
          "model_module_version": "1.5.0",
          "model_name": "DescriptionStyleModel",
          "state": {
            "_model_module": "@jupyter-widgets/controls",
            "_model_module_version": "1.5.0",
            "_model_name": "DescriptionStyleModel",
            "_view_count": null,
            "_view_module": "@jupyter-widgets/base",
            "_view_module_version": "1.2.0",
            "_view_name": "StyleView",
            "description_width": ""
          }
        },
        "a4c433d080c44e8d846dbf88180f092f": {
          "model_module": "@jupyter-widgets/controls",
          "model_module_version": "1.5.0",
          "model_name": "HTMLModel",
          "state": {
            "_dom_classes": [],
            "_model_module": "@jupyter-widgets/controls",
            "_model_module_version": "1.5.0",
            "_model_name": "HTMLModel",
            "_view_count": null,
            "_view_module": "@jupyter-widgets/controls",
            "_view_module_version": "1.5.0",
            "_view_name": "HTMLView",
            "description": "",
            "description_tooltip": null,
            "layout": "IPY_MODEL_f136e07c36914bd7bfee002eab2557b5",
            "placeholder": "​",
            "style": "IPY_MODEL_c6d041cc2f21429086e32148ade56e41",
            "value": " 899k/899k [00:00&lt;00:00, 12.2MB/s]"
          }
        },
        "a5a449fab3dd4027ada6449e10203cf7": {
          "model_module": "@jupyter-widgets/base",
          "model_module_version": "1.2.0",
          "model_name": "LayoutModel",
          "state": {
            "_model_module": "@jupyter-widgets/base",
            "_model_module_version": "1.2.0",
            "_model_name": "LayoutModel",
            "_view_count": null,
            "_view_module": "@jupyter-widgets/base",
            "_view_module_version": "1.2.0",
            "_view_name": "LayoutView",
            "align_content": null,
            "align_items": null,
            "align_self": null,
            "border": null,
            "bottom": null,
            "display": null,
            "flex": null,
            "flex_flow": null,
            "grid_area": null,
            "grid_auto_columns": null,
            "grid_auto_flow": null,
            "grid_auto_rows": null,
            "grid_column": null,
            "grid_gap": null,
            "grid_row": null,
            "grid_template_areas": null,
            "grid_template_columns": null,
            "grid_template_rows": null,
            "height": null,
            "justify_content": null,
            "justify_items": null,
            "left": null,
            "margin": null,
            "max_height": null,
            "max_width": null,
            "min_height": null,
            "min_width": null,
            "object_fit": null,
            "object_position": null,
            "order": null,
            "overflow": null,
            "overflow_x": null,
            "overflow_y": null,
            "padding": null,
            "right": null,
            "top": null,
            "visibility": null,
            "width": null
          }
        },
        "a5ce99ebd6364c838f919177d68575a5": {
          "model_module": "@jupyter-widgets/controls",
          "model_module_version": "1.5.0",
          "model_name": "ProgressStyleModel",
          "state": {
            "_model_module": "@jupyter-widgets/controls",
            "_model_module_version": "1.5.0",
            "_model_name": "ProgressStyleModel",
            "_view_count": null,
            "_view_module": "@jupyter-widgets/base",
            "_view_module_version": "1.2.0",
            "_view_name": "StyleView",
            "bar_color": null,
            "description_width": ""
          }
        },
        "a66db801fd024f2f9cc84ae4df832a6c": {
          "model_module": "@jupyter-widgets/base",
          "model_module_version": "1.2.0",
          "model_name": "LayoutModel",
          "state": {
            "_model_module": "@jupyter-widgets/base",
            "_model_module_version": "1.2.0",
            "_model_name": "LayoutModel",
            "_view_count": null,
            "_view_module": "@jupyter-widgets/base",
            "_view_module_version": "1.2.0",
            "_view_name": "LayoutView",
            "align_content": null,
            "align_items": null,
            "align_self": null,
            "border": null,
            "bottom": null,
            "display": null,
            "flex": null,
            "flex_flow": null,
            "grid_area": null,
            "grid_auto_columns": null,
            "grid_auto_flow": null,
            "grid_auto_rows": null,
            "grid_column": null,
            "grid_gap": null,
            "grid_row": null,
            "grid_template_areas": null,
            "grid_template_columns": null,
            "grid_template_rows": null,
            "height": null,
            "justify_content": null,
            "justify_items": null,
            "left": null,
            "margin": null,
            "max_height": null,
            "max_width": null,
            "min_height": null,
            "min_width": null,
            "object_fit": null,
            "object_position": null,
            "order": null,
            "overflow": null,
            "overflow_x": null,
            "overflow_y": null,
            "padding": null,
            "right": null,
            "top": null,
            "visibility": null,
            "width": null
          }
        },
        "ab1e411f37af427c94f391b8f8e22928": {
          "model_module": "@jupyter-widgets/controls",
          "model_module_version": "1.5.0",
          "model_name": "HTMLModel",
          "state": {
            "_dom_classes": [],
            "_model_module": "@jupyter-widgets/controls",
            "_model_module_version": "1.5.0",
            "_model_name": "HTMLModel",
            "_view_count": null,
            "_view_module": "@jupyter-widgets/controls",
            "_view_module_version": "1.5.0",
            "_view_name": "HTMLView",
            "description": "",
            "description_tooltip": null,
            "layout": "IPY_MODEL_f1952b29e87949a99c76d06663b74037",
            "placeholder": "​",
            "style": "IPY_MODEL_e400732b0a3240858c97989b8a8a6ea9",
            "value": " 480/480 [00:00&lt;00:00, 26.5kB/s]"
          }
        },
        "aff72987b167491d819d64a25d363b0e": {
          "model_module": "@jupyter-widgets/controls",
          "model_module_version": "1.5.0",
          "model_name": "HTMLModel",
          "state": {
            "_dom_classes": [],
            "_model_module": "@jupyter-widgets/controls",
            "_model_module_version": "1.5.0",
            "_model_name": "HTMLModel",
            "_view_count": null,
            "_view_module": "@jupyter-widgets/controls",
            "_view_module_version": "1.5.0",
            "_view_name": "HTMLView",
            "description": "",
            "description_tooltip": null,
            "layout": "IPY_MODEL_683293b87c4a45d5992374ad321941d4",
            "placeholder": "​",
            "style": "IPY_MODEL_94637c0204cc43c290abfe1e42cc2ff5",
            "value": "model.safetensors: 100%"
          }
        },
        "b4238a3f4a8546499d450f5be1b35fbb": {
          "model_module": "@jupyter-widgets/base",
          "model_module_version": "1.2.0",
          "model_name": "LayoutModel",
          "state": {
            "_model_module": "@jupyter-widgets/base",
            "_model_module_version": "1.2.0",
            "_model_name": "LayoutModel",
            "_view_count": null,
            "_view_module": "@jupyter-widgets/base",
            "_view_module_version": "1.2.0",
            "_view_name": "LayoutView",
            "align_content": null,
            "align_items": null,
            "align_self": null,
            "border": null,
            "bottom": null,
            "display": null,
            "flex": null,
            "flex_flow": null,
            "grid_area": null,
            "grid_auto_columns": null,
            "grid_auto_flow": null,
            "grid_auto_rows": null,
            "grid_column": null,
            "grid_gap": null,
            "grid_row": null,
            "grid_template_areas": null,
            "grid_template_columns": null,
            "grid_template_rows": null,
            "height": null,
            "justify_content": null,
            "justify_items": null,
            "left": null,
            "margin": null,
            "max_height": null,
            "max_width": null,
            "min_height": null,
            "min_width": null,
            "object_fit": null,
            "object_position": null,
            "order": null,
            "overflow": null,
            "overflow_x": null,
            "overflow_y": null,
            "padding": null,
            "right": null,
            "top": null,
            "visibility": null,
            "width": null
          }
        },
        "bd9f7ce8a66145f08d0638d87fb3dba0": {
          "model_module": "@jupyter-widgets/controls",
          "model_module_version": "1.5.0",
          "model_name": "FloatProgressModel",
          "state": {
            "_dom_classes": [],
            "_model_module": "@jupyter-widgets/controls",
            "_model_module_version": "1.5.0",
            "_model_name": "FloatProgressModel",
            "_view_count": null,
            "_view_module": "@jupyter-widgets/controls",
            "_view_module_version": "1.5.0",
            "_view_name": "ProgressView",
            "bar_style": "success",
            "description": "",
            "description_tooltip": null,
            "layout": "IPY_MODEL_220fb8595dca4f11a95c6f192970104c",
            "max": 331055963,
            "min": 0,
            "orientation": "horizontal",
            "style": "IPY_MODEL_5be4730d9eca4638b7de6ebd853ee874",
            "value": 331055963
          }
        },
        "c46bf647a13b4f418e522924a69bce02": {
          "model_module": "@jupyter-widgets/controls",
          "model_module_version": "1.5.0",
          "model_name": "HTMLModel",
          "state": {
            "_dom_classes": [],
            "_model_module": "@jupyter-widgets/controls",
            "_model_module_version": "1.5.0",
            "_model_name": "HTMLModel",
            "_view_count": null,
            "_view_module": "@jupyter-widgets/controls",
            "_view_module_version": "1.5.0",
            "_view_name": "HTMLView",
            "description": "",
            "description_tooltip": null,
            "layout": "IPY_MODEL_daa987618b134fb683824ba39b6f09a3",
            "placeholder": "​",
            "style": "IPY_MODEL_17c4f9066a474c0bb2a135fc55b7a8b1",
            "value": "merges.txt: 100%"
          }
        },
        "c697037b3b9f429cbb0d087253c17e6a": {
          "model_module": "@jupyter-widgets/controls",
          "model_module_version": "1.5.0",
          "model_name": "DescriptionStyleModel",
          "state": {
            "_model_module": "@jupyter-widgets/controls",
            "_model_module_version": "1.5.0",
            "_model_name": "DescriptionStyleModel",
            "_view_count": null,
            "_view_module": "@jupyter-widgets/base",
            "_view_module_version": "1.2.0",
            "_view_name": "StyleView",
            "description_width": ""
          }
        },
        "c6d041cc2f21429086e32148ade56e41": {
          "model_module": "@jupyter-widgets/controls",
          "model_module_version": "1.5.0",
          "model_name": "DescriptionStyleModel",
          "state": {
            "_model_module": "@jupyter-widgets/controls",
            "_model_module_version": "1.5.0",
            "_model_name": "DescriptionStyleModel",
            "_view_count": null,
            "_view_module": "@jupyter-widgets/base",
            "_view_module_version": "1.2.0",
            "_view_name": "StyleView",
            "description_width": ""
          }
        },
        "ca39c5ff4eb9462995c1b1006e294b2a": {
          "model_module": "@jupyter-widgets/controls",
          "model_module_version": "1.5.0",
          "model_name": "HBoxModel",
          "state": {
            "_dom_classes": [],
            "_model_module": "@jupyter-widgets/controls",
            "_model_module_version": "1.5.0",
            "_model_name": "HBoxModel",
            "_view_count": null,
            "_view_module": "@jupyter-widgets/controls",
            "_view_module_version": "1.5.0",
            "_view_name": "HBoxView",
            "box_style": "",
            "children": [
              "IPY_MODEL_e17e0529c0d44f95a98dd48b507e8bac",
              "IPY_MODEL_e4aed5f388404080870ac3c845e995a4",
              "IPY_MODEL_ab1e411f37af427c94f391b8f8e22928"
            ],
            "layout": "IPY_MODEL_5a0fa3e473fa4c03ba03aedd60a0e200"
          }
        },
        "cac2ce2a1753427c9620eeddad36045d": {
          "model_module": "@jupyter-widgets/base",
          "model_module_version": "1.2.0",
          "model_name": "LayoutModel",
          "state": {
            "_model_module": "@jupyter-widgets/base",
            "_model_module_version": "1.2.0",
            "_model_name": "LayoutModel",
            "_view_count": null,
            "_view_module": "@jupyter-widgets/base",
            "_view_module_version": "1.2.0",
            "_view_name": "LayoutView",
            "align_content": null,
            "align_items": null,
            "align_self": null,
            "border": null,
            "bottom": null,
            "display": null,
            "flex": null,
            "flex_flow": null,
            "grid_area": null,
            "grid_auto_columns": null,
            "grid_auto_flow": null,
            "grid_auto_rows": null,
            "grid_column": null,
            "grid_gap": null,
            "grid_row": null,
            "grid_template_areas": null,
            "grid_template_columns": null,
            "grid_template_rows": null,
            "height": null,
            "justify_content": null,
            "justify_items": null,
            "left": null,
            "margin": null,
            "max_height": null,
            "max_width": null,
            "min_height": null,
            "min_width": null,
            "object_fit": null,
            "object_position": null,
            "order": null,
            "overflow": null,
            "overflow_x": null,
            "overflow_y": null,
            "padding": null,
            "right": null,
            "top": null,
            "visibility": null,
            "width": null
          }
        },
        "d08c1ed01a9841c19140e4c6184fa5e7": {
          "model_module": "@jupyter-widgets/controls",
          "model_module_version": "1.5.0",
          "model_name": "HBoxModel",
          "state": {
            "_dom_classes": [],
            "_model_module": "@jupyter-widgets/controls",
            "_model_module_version": "1.5.0",
            "_model_name": "HBoxModel",
            "_view_count": null,
            "_view_module": "@jupyter-widgets/controls",
            "_view_module_version": "1.5.0",
            "_view_name": "HBoxView",
            "box_style": "",
            "children": [
              "IPY_MODEL_6fd9453f02684800bf2162b7f4398784",
              "IPY_MODEL_42c12c43f29d463fb8b8a69e98372b5a",
              "IPY_MODEL_fe78c81ed7234704bd766fedb2451a98"
            ],
            "layout": "IPY_MODEL_cac2ce2a1753427c9620eeddad36045d"
          }
        },
        "d4585cd2497a4e988e934f03e8621f9e": {
          "model_module": "@jupyter-widgets/controls",
          "model_module_version": "1.5.0",
          "model_name": "HBoxModel",
          "state": {
            "_dom_classes": [],
            "_model_module": "@jupyter-widgets/controls",
            "_model_module_version": "1.5.0",
            "_model_name": "HBoxModel",
            "_view_count": null,
            "_view_module": "@jupyter-widgets/controls",
            "_view_module_version": "1.5.0",
            "_view_name": "HBoxView",
            "box_style": "",
            "children": [
              "IPY_MODEL_4e8d5fa9dbb74b05bd839819bdd2874c",
              "IPY_MODEL_d78d8c87474e4573a38eeb8b4ee1a8b2",
              "IPY_MODEL_20898f1a83714dd8923bba61e64a5b7d"
            ],
            "layout": "IPY_MODEL_e41447c0c51f46ea8dc9288af51e1b04"
          }
        },
        "d73037f05bf948d78a2f50c0789291ae": {
          "model_module": "@jupyter-widgets/controls",
          "model_module_version": "1.5.0",
          "model_name": "ProgressStyleModel",
          "state": {
            "_model_module": "@jupyter-widgets/controls",
            "_model_module_version": "1.5.0",
            "_model_name": "ProgressStyleModel",
            "_view_count": null,
            "_view_module": "@jupyter-widgets/base",
            "_view_module_version": "1.2.0",
            "_view_name": "StyleView",
            "bar_color": null,
            "description_width": ""
          }
        },
        "d78d8c87474e4573a38eeb8b4ee1a8b2": {
          "model_module": "@jupyter-widgets/controls",
          "model_module_version": "1.5.0",
          "model_name": "FloatProgressModel",
          "state": {
            "_dom_classes": [],
            "_model_module": "@jupyter-widgets/controls",
            "_model_module_version": "1.5.0",
            "_model_name": "FloatProgressModel",
            "_view_count": null,
            "_view_module": "@jupyter-widgets/controls",
            "_view_module_version": "1.5.0",
            "_view_name": "ProgressView",
            "bar_style": "success",
            "description": "",
            "description_tooltip": null,
            "layout": "IPY_MODEL_13dee956d83f49c18ab40cf4f62dfeb5",
            "max": 1715,
            "min": 0,
            "orientation": "horizontal",
            "style": "IPY_MODEL_7960c59c144045af8936f6ad59375d41",
            "value": 1715
          }
        },
        "d7abf54046814370b37347ff8e95b7f6": {
          "model_module": "@jupyter-widgets/base",
          "model_module_version": "1.2.0",
          "model_name": "LayoutModel",
          "state": {
            "_model_module": "@jupyter-widgets/base",
            "_model_module_version": "1.2.0",
            "_model_name": "LayoutModel",
            "_view_count": null,
            "_view_module": "@jupyter-widgets/base",
            "_view_module_version": "1.2.0",
            "_view_name": "LayoutView",
            "align_content": null,
            "align_items": null,
            "align_self": null,
            "border": null,
            "bottom": null,
            "display": null,
            "flex": null,
            "flex_flow": null,
            "grid_area": null,
            "grid_auto_columns": null,
            "grid_auto_flow": null,
            "grid_auto_rows": null,
            "grid_column": null,
            "grid_gap": null,
            "grid_row": null,
            "grid_template_areas": null,
            "grid_template_columns": null,
            "grid_template_rows": null,
            "height": null,
            "justify_content": null,
            "justify_items": null,
            "left": null,
            "margin": null,
            "max_height": null,
            "max_width": null,
            "min_height": null,
            "min_width": null,
            "object_fit": null,
            "object_position": null,
            "order": null,
            "overflow": null,
            "overflow_x": null,
            "overflow_y": null,
            "padding": null,
            "right": null,
            "top": null,
            "visibility": null,
            "width": null
          }
        },
        "daa987618b134fb683824ba39b6f09a3": {
          "model_module": "@jupyter-widgets/base",
          "model_module_version": "1.2.0",
          "model_name": "LayoutModel",
          "state": {
            "_model_module": "@jupyter-widgets/base",
            "_model_module_version": "1.2.0",
            "_model_name": "LayoutModel",
            "_view_count": null,
            "_view_module": "@jupyter-widgets/base",
            "_view_module_version": "1.2.0",
            "_view_name": "LayoutView",
            "align_content": null,
            "align_items": null,
            "align_self": null,
            "border": null,
            "bottom": null,
            "display": null,
            "flex": null,
            "flex_flow": null,
            "grid_area": null,
            "grid_auto_columns": null,
            "grid_auto_flow": null,
            "grid_auto_rows": null,
            "grid_column": null,
            "grid_gap": null,
            "grid_row": null,
            "grid_template_areas": null,
            "grid_template_columns": null,
            "grid_template_rows": null,
            "height": null,
            "justify_content": null,
            "justify_items": null,
            "left": null,
            "margin": null,
            "max_height": null,
            "max_width": null,
            "min_height": null,
            "min_width": null,
            "object_fit": null,
            "object_position": null,
            "order": null,
            "overflow": null,
            "overflow_x": null,
            "overflow_y": null,
            "padding": null,
            "right": null,
            "top": null,
            "visibility": null,
            "width": null
          }
        },
        "de79b5b1816f436ea56a8ea510f5441e": {
          "model_module": "@jupyter-widgets/controls",
          "model_module_version": "1.5.0",
          "model_name": "DescriptionStyleModel",
          "state": {
            "_model_module": "@jupyter-widgets/controls",
            "_model_module_version": "1.5.0",
            "_model_name": "DescriptionStyleModel",
            "_view_count": null,
            "_view_module": "@jupyter-widgets/base",
            "_view_module_version": "1.2.0",
            "_view_name": "StyleView",
            "description_width": ""
          }
        },
        "e012d1fdcfe84051973ab30a333eeaae": {
          "model_module": "@jupyter-widgets/base",
          "model_module_version": "1.2.0",
          "model_name": "LayoutModel",
          "state": {
            "_model_module": "@jupyter-widgets/base",
            "_model_module_version": "1.2.0",
            "_model_name": "LayoutModel",
            "_view_count": null,
            "_view_module": "@jupyter-widgets/base",
            "_view_module_version": "1.2.0",
            "_view_name": "LayoutView",
            "align_content": null,
            "align_items": null,
            "align_self": null,
            "border": null,
            "bottom": null,
            "display": null,
            "flex": null,
            "flex_flow": null,
            "grid_area": null,
            "grid_auto_columns": null,
            "grid_auto_flow": null,
            "grid_auto_rows": null,
            "grid_column": null,
            "grid_gap": null,
            "grid_row": null,
            "grid_template_areas": null,
            "grid_template_columns": null,
            "grid_template_rows": null,
            "height": null,
            "justify_content": null,
            "justify_items": null,
            "left": null,
            "margin": null,
            "max_height": null,
            "max_width": null,
            "min_height": null,
            "min_width": null,
            "object_fit": null,
            "object_position": null,
            "order": null,
            "overflow": null,
            "overflow_x": null,
            "overflow_y": null,
            "padding": null,
            "right": null,
            "top": null,
            "visibility": null,
            "width": null
          }
        },
        "e17e0529c0d44f95a98dd48b507e8bac": {
          "model_module": "@jupyter-widgets/controls",
          "model_module_version": "1.5.0",
          "model_name": "HTMLModel",
          "state": {
            "_dom_classes": [],
            "_model_module": "@jupyter-widgets/controls",
            "_model_module_version": "1.5.0",
            "_model_name": "HTMLModel",
            "_view_count": null,
            "_view_module": "@jupyter-widgets/controls",
            "_view_module_version": "1.5.0",
            "_view_name": "HTMLView",
            "description": "",
            "description_tooltip": null,
            "layout": "IPY_MODEL_a2f156bdd26b4c02b4760f27aa9effca",
            "placeholder": "​",
            "style": "IPY_MODEL_de79b5b1816f436ea56a8ea510f5441e",
            "value": "config.json: 100%"
          }
        },
        "e400732b0a3240858c97989b8a8a6ea9": {
          "model_module": "@jupyter-widgets/controls",
          "model_module_version": "1.5.0",
          "model_name": "DescriptionStyleModel",
          "state": {
            "_model_module": "@jupyter-widgets/controls",
            "_model_module_version": "1.5.0",
            "_model_name": "DescriptionStyleModel",
            "_view_count": null,
            "_view_module": "@jupyter-widgets/base",
            "_view_module_version": "1.2.0",
            "_view_name": "StyleView",
            "description_width": ""
          }
        },
        "e41447c0c51f46ea8dc9288af51e1b04": {
          "model_module": "@jupyter-widgets/base",
          "model_module_version": "1.2.0",
          "model_name": "LayoutModel",
          "state": {
            "_model_module": "@jupyter-widgets/base",
            "_model_module_version": "1.2.0",
            "_model_name": "LayoutModel",
            "_view_count": null,
            "_view_module": "@jupyter-widgets/base",
            "_view_module_version": "1.2.0",
            "_view_name": "LayoutView",
            "align_content": null,
            "align_items": null,
            "align_self": null,
            "border": null,
            "bottom": null,
            "display": null,
            "flex": null,
            "flex_flow": null,
            "grid_area": null,
            "grid_auto_columns": null,
            "grid_auto_flow": null,
            "grid_auto_rows": null,
            "grid_column": null,
            "grid_gap": null,
            "grid_row": null,
            "grid_template_areas": null,
            "grid_template_columns": null,
            "grid_template_rows": null,
            "height": null,
            "justify_content": null,
            "justify_items": null,
            "left": null,
            "margin": null,
            "max_height": null,
            "max_width": null,
            "min_height": null,
            "min_width": null,
            "object_fit": null,
            "object_position": null,
            "order": null,
            "overflow": null,
            "overflow_x": null,
            "overflow_y": null,
            "padding": null,
            "right": null,
            "top": null,
            "visibility": null,
            "width": null
          }
        },
        "e4aed5f388404080870ac3c845e995a4": {
          "model_module": "@jupyter-widgets/controls",
          "model_module_version": "1.5.0",
          "model_name": "FloatProgressModel",
          "state": {
            "_dom_classes": [],
            "_model_module": "@jupyter-widgets/controls",
            "_model_module_version": "1.5.0",
            "_model_name": "FloatProgressModel",
            "_view_count": null,
            "_view_module": "@jupyter-widgets/controls",
            "_view_module_version": "1.5.0",
            "_view_name": "ProgressView",
            "bar_style": "success",
            "description": "",
            "description_tooltip": null,
            "layout": "IPY_MODEL_e012d1fdcfe84051973ab30a333eeaae",
            "max": 480,
            "min": 0,
            "orientation": "horizontal",
            "style": "IPY_MODEL_d73037f05bf948d78a2f50c0789291ae",
            "value": 480
          }
        },
        "e6466b6bab324b9080ccc587e2611565": {
          "model_module": "@jupyter-widgets/base",
          "model_module_version": "1.2.0",
          "model_name": "LayoutModel",
          "state": {
            "_model_module": "@jupyter-widgets/base",
            "_model_module_version": "1.2.0",
            "_model_name": "LayoutModel",
            "_view_count": null,
            "_view_module": "@jupyter-widgets/base",
            "_view_module_version": "1.2.0",
            "_view_name": "LayoutView",
            "align_content": null,
            "align_items": null,
            "align_self": null,
            "border": null,
            "bottom": null,
            "display": null,
            "flex": null,
            "flex_flow": null,
            "grid_area": null,
            "grid_auto_columns": null,
            "grid_auto_flow": null,
            "grid_auto_rows": null,
            "grid_column": null,
            "grid_gap": null,
            "grid_row": null,
            "grid_template_areas": null,
            "grid_template_columns": null,
            "grid_template_rows": null,
            "height": null,
            "justify_content": null,
            "justify_items": null,
            "left": null,
            "margin": null,
            "max_height": null,
            "max_width": null,
            "min_height": null,
            "min_width": null,
            "object_fit": null,
            "object_position": null,
            "order": null,
            "overflow": null,
            "overflow_x": null,
            "overflow_y": null,
            "padding": null,
            "right": null,
            "top": null,
            "visibility": null,
            "width": null
          }
        },
        "e9f93ea3594445e1a83b6706197f2be0": {
          "model_module": "@jupyter-widgets/base",
          "model_module_version": "1.2.0",
          "model_name": "LayoutModel",
          "state": {
            "_model_module": "@jupyter-widgets/base",
            "_model_module_version": "1.2.0",
            "_model_name": "LayoutModel",
            "_view_count": null,
            "_view_module": "@jupyter-widgets/base",
            "_view_module_version": "1.2.0",
            "_view_name": "LayoutView",
            "align_content": null,
            "align_items": null,
            "align_self": null,
            "border": null,
            "bottom": null,
            "display": null,
            "flex": null,
            "flex_flow": null,
            "grid_area": null,
            "grid_auto_columns": null,
            "grid_auto_flow": null,
            "grid_auto_rows": null,
            "grid_column": null,
            "grid_gap": null,
            "grid_row": null,
            "grid_template_areas": null,
            "grid_template_columns": null,
            "grid_template_rows": null,
            "height": null,
            "justify_content": null,
            "justify_items": null,
            "left": null,
            "margin": null,
            "max_height": null,
            "max_width": null,
            "min_height": null,
            "min_width": null,
            "object_fit": null,
            "object_position": null,
            "order": null,
            "overflow": null,
            "overflow_x": null,
            "overflow_y": null,
            "padding": null,
            "right": null,
            "top": null,
            "visibility": null,
            "width": null
          }
        },
        "ec50b4c2371c4e9097b417f313c352de": {
          "model_module": "@jupyter-widgets/base",
          "model_module_version": "1.2.0",
          "model_name": "LayoutModel",
          "state": {
            "_model_module": "@jupyter-widgets/base",
            "_model_module_version": "1.2.0",
            "_model_name": "LayoutModel",
            "_view_count": null,
            "_view_module": "@jupyter-widgets/base",
            "_view_module_version": "1.2.0",
            "_view_name": "LayoutView",
            "align_content": null,
            "align_items": null,
            "align_self": null,
            "border": null,
            "bottom": null,
            "display": null,
            "flex": null,
            "flex_flow": null,
            "grid_area": null,
            "grid_auto_columns": null,
            "grid_auto_flow": null,
            "grid_auto_rows": null,
            "grid_column": null,
            "grid_gap": null,
            "grid_row": null,
            "grid_template_areas": null,
            "grid_template_columns": null,
            "grid_template_rows": null,
            "height": null,
            "justify_content": null,
            "justify_items": null,
            "left": null,
            "margin": null,
            "max_height": null,
            "max_width": null,
            "min_height": null,
            "min_width": null,
            "object_fit": null,
            "object_position": null,
            "order": null,
            "overflow": null,
            "overflow_x": null,
            "overflow_y": null,
            "padding": null,
            "right": null,
            "top": null,
            "visibility": null,
            "width": null
          }
        },
        "f136e07c36914bd7bfee002eab2557b5": {
          "model_module": "@jupyter-widgets/base",
          "model_module_version": "1.2.0",
          "model_name": "LayoutModel",
          "state": {
            "_model_module": "@jupyter-widgets/base",
            "_model_module_version": "1.2.0",
            "_model_name": "LayoutModel",
            "_view_count": null,
            "_view_module": "@jupyter-widgets/base",
            "_view_module_version": "1.2.0",
            "_view_name": "LayoutView",
            "align_content": null,
            "align_items": null,
            "align_self": null,
            "border": null,
            "bottom": null,
            "display": null,
            "flex": null,
            "flex_flow": null,
            "grid_area": null,
            "grid_auto_columns": null,
            "grid_auto_flow": null,
            "grid_auto_rows": null,
            "grid_column": null,
            "grid_gap": null,
            "grid_row": null,
            "grid_template_areas": null,
            "grid_template_columns": null,
            "grid_template_rows": null,
            "height": null,
            "justify_content": null,
            "justify_items": null,
            "left": null,
            "margin": null,
            "max_height": null,
            "max_width": null,
            "min_height": null,
            "min_width": null,
            "object_fit": null,
            "object_position": null,
            "order": null,
            "overflow": null,
            "overflow_x": null,
            "overflow_y": null,
            "padding": null,
            "right": null,
            "top": null,
            "visibility": null,
            "width": null
          }
        },
        "f1952b29e87949a99c76d06663b74037": {
          "model_module": "@jupyter-widgets/base",
          "model_module_version": "1.2.0",
          "model_name": "LayoutModel",
          "state": {
            "_model_module": "@jupyter-widgets/base",
            "_model_module_version": "1.2.0",
            "_model_name": "LayoutModel",
            "_view_count": null,
            "_view_module": "@jupyter-widgets/base",
            "_view_module_version": "1.2.0",
            "_view_name": "LayoutView",
            "align_content": null,
            "align_items": null,
            "align_self": null,
            "border": null,
            "bottom": null,
            "display": null,
            "flex": null,
            "flex_flow": null,
            "grid_area": null,
            "grid_auto_columns": null,
            "grid_auto_flow": null,
            "grid_auto_rows": null,
            "grid_column": null,
            "grid_gap": null,
            "grid_row": null,
            "grid_template_areas": null,
            "grid_template_columns": null,
            "grid_template_rows": null,
            "height": null,
            "justify_content": null,
            "justify_items": null,
            "left": null,
            "margin": null,
            "max_height": null,
            "max_width": null,
            "min_height": null,
            "min_width": null,
            "object_fit": null,
            "object_position": null,
            "order": null,
            "overflow": null,
            "overflow_x": null,
            "overflow_y": null,
            "padding": null,
            "right": null,
            "top": null,
            "visibility": null,
            "width": null
          }
        },
        "f51bbe848a3849afbb9ef5cacf3299db": {
          "model_module": "@jupyter-widgets/controls",
          "model_module_version": "1.5.0",
          "model_name": "FloatProgressModel",
          "state": {
            "_dom_classes": [],
            "_model_module": "@jupyter-widgets/controls",
            "_model_module_version": "1.5.0",
            "_model_name": "FloatProgressModel",
            "_view_count": null,
            "_view_module": "@jupyter-widgets/controls",
            "_view_module_version": "1.5.0",
            "_view_name": "ProgressView",
            "bar_style": "success",
            "description": "",
            "description_tooltip": null,
            "layout": "IPY_MODEL_d7abf54046814370b37347ff8e95b7f6",
            "max": 456318,
            "min": 0,
            "orientation": "horizontal",
            "style": "IPY_MODEL_8f88ef10aae34460a608a134dfb144af",
            "value": 456318
          }
        },
        "fdd809cacecd4bd091ad133853d99a9d": {
          "model_module": "@jupyter-widgets/base",
          "model_module_version": "1.2.0",
          "model_name": "LayoutModel",
          "state": {
            "_model_module": "@jupyter-widgets/base",
            "_model_module_version": "1.2.0",
            "_model_name": "LayoutModel",
            "_view_count": null,
            "_view_module": "@jupyter-widgets/base",
            "_view_module_version": "1.2.0",
            "_view_name": "LayoutView",
            "align_content": null,
            "align_items": null,
            "align_self": null,
            "border": null,
            "bottom": null,
            "display": null,
            "flex": null,
            "flex_flow": null,
            "grid_area": null,
            "grid_auto_columns": null,
            "grid_auto_flow": null,
            "grid_auto_rows": null,
            "grid_column": null,
            "grid_gap": null,
            "grid_row": null,
            "grid_template_areas": null,
            "grid_template_columns": null,
            "grid_template_rows": null,
            "height": null,
            "justify_content": null,
            "justify_items": null,
            "left": null,
            "margin": null,
            "max_height": null,
            "max_width": null,
            "min_height": null,
            "min_width": null,
            "object_fit": null,
            "object_position": null,
            "order": null,
            "overflow": null,
            "overflow_x": null,
            "overflow_y": null,
            "padding": null,
            "right": null,
            "top": null,
            "visibility": null,
            "width": null
          }
        },
        "fe78c81ed7234704bd766fedb2451a98": {
          "model_module": "@jupyter-widgets/controls",
          "model_module_version": "1.5.0",
          "model_name": "HTMLModel",
          "state": {
            "_dom_classes": [],
            "_model_module": "@jupyter-widgets/controls",
            "_model_module_version": "1.5.0",
            "_model_name": "HTMLModel",
            "_view_count": null,
            "_view_module": "@jupyter-widgets/controls",
            "_view_module_version": "1.5.0",
            "_view_name": "HTMLView",
            "description": "",
            "description_tooltip": null,
            "layout": "IPY_MODEL_29dc3807768147219fe07a47b990ed26",
            "placeholder": "​",
            "style": "IPY_MODEL_a4077287635c49cabdf7fd21ac3c6c44",
            "value": " 1.36M/1.36M [00:00&lt;00:00, 15.8MB/s]"
          }
        },
        "feb52ce311554617bb440da20f4f4787": {
          "model_module": "@jupyter-widgets/base",
          "model_module_version": "1.2.0",
          "model_name": "LayoutModel",
          "state": {
            "_model_module": "@jupyter-widgets/base",
            "_model_module_version": "1.2.0",
            "_model_name": "LayoutModel",
            "_view_count": null,
            "_view_module": "@jupyter-widgets/base",
            "_view_module_version": "1.2.0",
            "_view_name": "LayoutView",
            "align_content": null,
            "align_items": null,
            "align_self": null,
            "border": null,
            "bottom": null,
            "display": null,
            "flex": null,
            "flex_flow": null,
            "grid_area": null,
            "grid_auto_columns": null,
            "grid_auto_flow": null,
            "grid_auto_rows": null,
            "grid_column": null,
            "grid_gap": null,
            "grid_row": null,
            "grid_template_areas": null,
            "grid_template_columns": null,
            "grid_template_rows": null,
            "height": null,
            "justify_content": null,
            "justify_items": null,
            "left": null,
            "margin": null,
            "max_height": null,
            "max_width": null,
            "min_height": null,
            "min_width": null,
            "object_fit": null,
            "object_position": null,
            "order": null,
            "overflow": null,
            "overflow_x": null,
            "overflow_y": null,
            "padding": null,
            "right": null,
            "top": null,
            "visibility": null,
            "width": null
          }
        }
      }
    }
  },
  "nbformat": 4,
  "nbformat_minor": 0
}
